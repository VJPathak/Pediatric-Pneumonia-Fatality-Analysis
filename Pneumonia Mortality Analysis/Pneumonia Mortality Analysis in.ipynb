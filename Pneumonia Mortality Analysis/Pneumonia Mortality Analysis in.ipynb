{
 "cells": [
  {
   "attachments": {},
   "cell_type": "markdown",
   "id": "01a69eae",
   "metadata": {
    "execution": {
     "iopub.execute_input": "2023-05-21T08:59:05.728823Z",
     "iopub.status.busy": "2023-05-21T08:59:05.728442Z",
     "iopub.status.idle": "2023-05-21T08:59:05.741417Z",
     "shell.execute_reply": "2023-05-21T08:59:05.739969Z",
     "shell.execute_reply.started": "2023-05-21T08:59:05.728792Z"
    },
    "papermill": {
     "duration": 0.017523,
     "end_time": "2023-05-22T14:06:13.307445",
     "exception": false,
     "start_time": "2023-05-22T14:06:13.289922",
     "status": "completed"
    },
    "tags": []
   },
   "source": [
    "<b>1) Information About the Data.</b>\n",
    "\n",
    "Deaths in children due to Pneumonia<br>\n",
    "Pneumonia is an infection that inflames the air sacs in one or both lungs. With pneumonia, pus and fluid fill the alveoli in one or both lungs, and this interferes with oxygen absorption, making breathing difficult.\n",
    "\n",
    "Symptoms of pneumonia: Signs of pneumonia are a combination of respiratory symptoms, including 'cough and fast or difficult breathing due to a chest-related problem'.\n",
    "\n",
    "Pneumonia stands to be the **biggest** reason for infant and child mortality around the world. \n",
    "- Infant mortality rate can be defined as the number of children less than 1 year old who die in any given year per 1000 live births.\n",
    "- Child mortality rate is the probability of dying between exact age one and age five, expressed as the number of deaths of children from exact age one to less than age five during a given period per 1,000 children surviving to age 12 months at the beginning of the period.\n"
   ]
  },
  {
   "cell_type": "markdown",
   "id": "240842dd",
   "metadata": {},
   "source": [
    "<center>For Importing Dataset follow the following procedure :<br>\n",
    "Ex :\n",
    "    For <b>data1=pd.read_csv(\"C:/Users/91728/OneDrive/Desktop/data1.csv\") : </b> change to ===><br>\n",
    "    <b>data1=pd.read_csv(\"your_system_path/dataset/data1.csv\")</b><br>\n",
    "    Follow same for data2 variable</center>\n",
    "\n"
   ]
  },
  {
   "attachments": {},
   "cell_type": "markdown",
   "id": "d472e0d4",
   "metadata": {},
   "source": [
    "<b>2) What Libaries are used?</b>"
   ]
  },
  {
   "cell_type": "code",
   "execution_count": 1,
   "id": "8061aef4",
   "metadata": {
    "_kg_hide-input": true,
    "execution": {
     "iopub.execute_input": "2023-05-22T14:06:11.091618Z",
     "iopub.status.busy": "2023-05-22T14:06:11.091189Z",
     "iopub.status.idle": "2023-05-22T14:06:13.268963Z",
     "shell.execute_reply": "2023-05-22T14:06:13.267744Z"
    },
    "papermill": {
     "duration": 2.202624,
     "end_time": "2023-05-22T14:06:13.271832",
     "exception": false,
     "start_time": "2023-05-22T14:06:11.069208",
     "status": "completed"
    },
    "tags": []
   },
   "outputs": [],
   "source": [
    "#importing libraries\n",
    "import numpy as np # linear algebra\n",
    "import pandas as pd # data processing, CSV file I/O (e.g. pd.read_csv)\n",
    "import plotly.express as px\n",
    "import seaborn as sns\n",
    "import matplotlib.pyplot as plt\n",
    "import warnings\n",
    "warnings.filterwarnings(\"ignore\")"
   ]
  },
  {
   "attachments": {},
   "cell_type": "markdown",
   "id": "c9655300",
   "metadata": {
    "papermill": {
     "duration": 0.017875,
     "end_time": "2023-05-22T14:06:13.343083",
     "exception": false,
     "start_time": "2023-05-22T14:06:13.325208",
     "status": "completed"
    },
    "tags": []
   },
   "source": [
    "<b>3) What is Reason for death in Children around the globe?</b>"
   ]
  },
  {
   "cell_type": "code",
   "execution_count": 2,
   "id": "5d172873",
   "metadata": {
    "_kg_hide-input": true,
    "execution": {
     "iopub.execute_input": "2023-05-22T14:06:13.380767Z",
     "iopub.status.busy": "2023-05-22T14:06:13.380112Z",
     "iopub.status.idle": "2023-05-22T14:06:13.472044Z",
     "shell.execute_reply": "2023-05-22T14:06:13.470925Z"
    },
    "papermill": {
     "duration": 0.114168,
     "end_time": "2023-05-22T14:06:13.474936",
     "exception": false,
     "start_time": "2023-05-22T14:06:13.360768",
     "status": "completed"
    },
    "tags": []
   },
   "outputs": [
    {
     "data": {
      "text/html": [
       "<div>\n",
       "<style scoped>\n",
       "    .dataframe tbody tr th:only-of-type {\n",
       "        vertical-align: middle;\n",
       "    }\n",
       "\n",
       "    .dataframe tbody tr th {\n",
       "        vertical-align: top;\n",
       "    }\n",
       "\n",
       "    .dataframe thead th {\n",
       "        text-align: right;\n",
       "    }\n",
       "</style>\n",
       "<table border=\"1\" class=\"dataframe\">\n",
       "  <thead>\n",
       "    <tr style=\"text-align: right;\">\n",
       "      <th></th>\n",
       "      <th>Country</th>\n",
       "      <th>Code</th>\n",
       "      <th>Year</th>\n",
       "      <th>Malaria</th>\n",
       "      <th>HIV/AIDS</th>\n",
       "      <th>Meningitis</th>\n",
       "      <th>Nutritional Deficiencies</th>\n",
       "      <th>Other neonatal disorders</th>\n",
       "      <th>Whooping Cough</th>\n",
       "      <th>Lower respiratory infections</th>\n",
       "      <th>Congenital birth</th>\n",
       "      <th>Measles</th>\n",
       "      <th>Neonatal sepsis and other neonatal infections</th>\n",
       "      <th>eonatal encephalopathy due to birth asphyxia and trauma</th>\n",
       "      <th>Drowning</th>\n",
       "      <th>Tuberculosis</th>\n",
       "      <th>Neonatal preterm birth</th>\n",
       "      <th>Diarrheal diseases</th>\n",
       "      <th>Neoplasms</th>\n",
       "      <th>Syphilis</th>\n",
       "    </tr>\n",
       "  </thead>\n",
       "  <tbody>\n",
       "    <tr>\n",
       "      <th>0</th>\n",
       "      <td>Afghanistan</td>\n",
       "      <td>AFG</td>\n",
       "      <td>1990</td>\n",
       "      <td>21</td>\n",
       "      <td>10</td>\n",
       "      <td>1709</td>\n",
       "      <td>1779</td>\n",
       "      <td>7112</td>\n",
       "      <td>2455</td>\n",
       "      <td>20224</td>\n",
       "      <td>12850</td>\n",
       "      <td>8649</td>\n",
       "      <td>420</td>\n",
       "      <td>1599</td>\n",
       "      <td>776</td>\n",
       "      <td>808</td>\n",
       "      <td>6088</td>\n",
       "      <td>3968</td>\n",
       "      <td>431</td>\n",
       "      <td>123</td>\n",
       "    </tr>\n",
       "    <tr>\n",
       "      <th>1</th>\n",
       "      <td>Afghanistan</td>\n",
       "      <td>AFG</td>\n",
       "      <td>1991</td>\n",
       "      <td>41</td>\n",
       "      <td>12</td>\n",
       "      <td>1743</td>\n",
       "      <td>1822</td>\n",
       "      <td>7574</td>\n",
       "      <td>2385</td>\n",
       "      <td>20879</td>\n",
       "      <td>13701</td>\n",
       "      <td>8669</td>\n",
       "      <td>520</td>\n",
       "      <td>1804</td>\n",
       "      <td>748</td>\n",
       "      <td>800</td>\n",
       "      <td>6791</td>\n",
       "      <td>4650</td>\n",
       "      <td>439</td>\n",
       "      <td>132</td>\n",
       "    </tr>\n",
       "    <tr>\n",
       "      <th>2</th>\n",
       "      <td>Afghanistan</td>\n",
       "      <td>AFG</td>\n",
       "      <td>1992</td>\n",
       "      <td>51</td>\n",
       "      <td>13</td>\n",
       "      <td>1954</td>\n",
       "      <td>2069</td>\n",
       "      <td>8614</td>\n",
       "      <td>2370</td>\n",
       "      <td>23585</td>\n",
       "      <td>15812</td>\n",
       "      <td>8539</td>\n",
       "      <td>662</td>\n",
       "      <td>2160</td>\n",
       "      <td>777</td>\n",
       "      <td>863</td>\n",
       "      <td>8098</td>\n",
       "      <td>5833</td>\n",
       "      <td>486</td>\n",
       "      <td>180</td>\n",
       "    </tr>\n",
       "    <tr>\n",
       "      <th>3</th>\n",
       "      <td>Afghanistan</td>\n",
       "      <td>AFG</td>\n",
       "      <td>1993</td>\n",
       "      <td>24</td>\n",
       "      <td>16</td>\n",
       "      <td>2252</td>\n",
       "      <td>2427</td>\n",
       "      <td>9458</td>\n",
       "      <td>2659</td>\n",
       "      <td>27116</td>\n",
       "      <td>17855</td>\n",
       "      <td>8949</td>\n",
       "      <td>723</td>\n",
       "      <td>2414</td>\n",
       "      <td>872</td>\n",
       "      <td>979</td>\n",
       "      <td>9142</td>\n",
       "      <td>7800</td>\n",
       "      <td>549</td>\n",
       "      <td>239</td>\n",
       "    </tr>\n",
       "    <tr>\n",
       "      <th>4</th>\n",
       "      <td>Afghanistan</td>\n",
       "      <td>AFG</td>\n",
       "      <td>1994</td>\n",
       "      <td>52</td>\n",
       "      <td>19</td>\n",
       "      <td>2446</td>\n",
       "      <td>2649</td>\n",
       "      <td>9823</td>\n",
       "      <td>3187</td>\n",
       "      <td>29271</td>\n",
       "      <td>18835</td>\n",
       "      <td>10642</td>\n",
       "      <td>736</td>\n",
       "      <td>2519</td>\n",
       "      <td>961</td>\n",
       "      <td>1064</td>\n",
       "      <td>9575</td>\n",
       "      <td>7894</td>\n",
       "      <td>589</td>\n",
       "      <td>259</td>\n",
       "    </tr>\n",
       "  </tbody>\n",
       "</table>\n",
       "</div>"
      ],
      "text/plain": [
       "       Country Code  Year  Malaria  HIV/AIDS  Meningitis  \\\n",
       "0  Afghanistan  AFG  1990       21        10        1709   \n",
       "1  Afghanistan  AFG  1991       41        12        1743   \n",
       "2  Afghanistan  AFG  1992       51        13        1954   \n",
       "3  Afghanistan  AFG  1993       24        16        2252   \n",
       "4  Afghanistan  AFG  1994       52        19        2446   \n",
       "\n",
       "   Nutritional Deficiencies  Other neonatal disorders  Whooping Cough  \\\n",
       "0                      1779                      7112            2455   \n",
       "1                      1822                      7574            2385   \n",
       "2                      2069                      8614            2370   \n",
       "3                      2427                      9458            2659   \n",
       "4                      2649                      9823            3187   \n",
       "\n",
       "   Lower respiratory infections  Congenital birth  Measles  \\\n",
       "0                         20224             12850     8649   \n",
       "1                         20879             13701     8669   \n",
       "2                         23585             15812     8539   \n",
       "3                         27116             17855     8949   \n",
       "4                         29271             18835    10642   \n",
       "\n",
       "   Neonatal sepsis and other neonatal infections  \\\n",
       "0                                            420   \n",
       "1                                            520   \n",
       "2                                            662   \n",
       "3                                            723   \n",
       "4                                            736   \n",
       "\n",
       "   eonatal encephalopathy due to birth asphyxia and trauma  Drowning  \\\n",
       "0                                               1599             776   \n",
       "1                                               1804             748   \n",
       "2                                               2160             777   \n",
       "3                                               2414             872   \n",
       "4                                               2519             961   \n",
       "\n",
       "   Tuberculosis  Neonatal preterm birth  Diarrheal diseases  Neoplasms  \\\n",
       "0           808                    6088                3968        431   \n",
       "1           800                    6791                4650        439   \n",
       "2           863                    8098                5833        486   \n",
       "3           979                    9142                7800        549   \n",
       "4          1064                    9575                7894        589   \n",
       "\n",
       "   Syphilis  \n",
       "0       123  \n",
       "1       132  \n",
       "2       180  \n",
       "3       239  \n",
       "4       259  "
      ]
     },
     "execution_count": 2,
     "metadata": {},
     "output_type": "execute_result"
    }
   ],
   "source": [
    "data1=pd.read_csv(\"C:/Users/91728/OneDrive/Desktop/data1.csv\")\n",
    "data1.columns=[\"Country\",\"Code\",\"Year\",\"Malaria\",\"HIV/AIDS\",\"Meningitis\",\"Nutritional Deficiencies\",\"Other neonatal disorders\",\"Whooping Cough\",\"Lower respiratory infections\",\"Congenital birth\",\"Measles\",\"Neonatal sepsis and other neonatal infections\",\"eonatal encephalopathy due to birth asphyxia and trauma\",\"Drowning\",\"Tuberculosis\",\"Neonatal preterm birth\",\"Diarrheal diseases\",\"Neoplasms\",\"Syphilis\"]\n",
    "data1.head()"
   ]
  },
  {
   "cell_type": "code",
   "execution_count": 3,
   "id": "f666890b",
   "metadata": {
    "execution": {
     "iopub.execute_input": "2023-05-22T14:06:13.513525Z",
     "iopub.status.busy": "2023-05-22T14:06:13.513145Z",
     "iopub.status.idle": "2023-05-22T14:06:13.525088Z",
     "shell.execute_reply": "2023-05-22T14:06:13.523864Z"
    },
    "papermill": {
     "duration": 0.034211,
     "end_time": "2023-05-22T14:06:13.527593",
     "exception": false,
     "start_time": "2023-05-22T14:06:13.493382",
     "status": "completed"
    },
    "tags": []
   },
   "outputs": [],
   "source": [
    "data1_reasons=data1[(data1[\"Country\"]==\"World\")]"
   ]
  },
  {
   "cell_type": "code",
   "execution_count": 4,
   "id": "b730301f",
   "metadata": {
    "execution": {
     "iopub.execute_input": "2023-05-22T14:06:13.566287Z",
     "iopub.status.busy": "2023-05-22T14:06:13.565904Z",
     "iopub.status.idle": "2023-05-22T14:06:13.586176Z",
     "shell.execute_reply": "2023-05-22T14:06:13.585129Z"
    },
    "papermill": {
     "duration": 0.042489,
     "end_time": "2023-05-22T14:06:13.588608",
     "exception": false,
     "start_time": "2023-05-22T14:06:13.546119",
     "status": "completed"
    },
    "tags": []
   },
   "outputs": [
    {
     "data": {
      "text/html": [
       "<div>\n",
       "<style scoped>\n",
       "    .dataframe tbody tr th:only-of-type {\n",
       "        vertical-align: middle;\n",
       "    }\n",
       "\n",
       "    .dataframe tbody tr th {\n",
       "        vertical-align: top;\n",
       "    }\n",
       "\n",
       "    .dataframe thead th {\n",
       "        text-align: right;\n",
       "    }\n",
       "</style>\n",
       "<table border=\"1\" class=\"dataframe\">\n",
       "  <thead>\n",
       "    <tr style=\"text-align: right;\">\n",
       "      <th></th>\n",
       "      <th>Country</th>\n",
       "      <th>Code</th>\n",
       "      <th>Year</th>\n",
       "      <th>Malaria</th>\n",
       "      <th>HIV/AIDS</th>\n",
       "      <th>Meningitis</th>\n",
       "      <th>Nutritional Deficiencies</th>\n",
       "      <th>Other neonatal disorders</th>\n",
       "      <th>Whooping Cough</th>\n",
       "      <th>Lower respiratory infections</th>\n",
       "      <th>Congenital birth</th>\n",
       "      <th>Measles</th>\n",
       "      <th>Neonatal sepsis and other neonatal infections</th>\n",
       "      <th>eonatal encephalopathy due to birth asphyxia and trauma</th>\n",
       "      <th>Drowning</th>\n",
       "      <th>Tuberculosis</th>\n",
       "      <th>Neonatal preterm birth</th>\n",
       "      <th>Diarrheal diseases</th>\n",
       "      <th>Neoplasms</th>\n",
       "      <th>Syphilis</th>\n",
       "    </tr>\n",
       "  </thead>\n",
       "  <tbody>\n",
       "    <tr>\n",
       "      <th>6600</th>\n",
       "      <td>World</td>\n",
       "      <td>OWID_WRL</td>\n",
       "      <td>1990</td>\n",
       "      <td>553826</td>\n",
       "      <td>73413</td>\n",
       "      <td>284149</td>\n",
       "      <td>524103</td>\n",
       "      <td>539952</td>\n",
       "      <td>240021</td>\n",
       "      <td>2209128</td>\n",
       "      <td>834417</td>\n",
       "      <td>704288</td>\n",
       "      <td>260150</td>\n",
       "      <td>808681</td>\n",
       "      <td>184096</td>\n",
       "      <td>209562</td>\n",
       "      <td>1269043</td>\n",
       "      <td>1649581</td>\n",
       "      <td>85197</td>\n",
       "      <td>97389</td>\n",
       "    </tr>\n",
       "    <tr>\n",
       "      <th>6601</th>\n",
       "      <td>World</td>\n",
       "      <td>OWID_WRL</td>\n",
       "      <td>1991</td>\n",
       "      <td>560819</td>\n",
       "      <td>90819</td>\n",
       "      <td>278453</td>\n",
       "      <td>498575</td>\n",
       "      <td>532524</td>\n",
       "      <td>226966</td>\n",
       "      <td>2152647</td>\n",
       "      <td>818021</td>\n",
       "      <td>694354</td>\n",
       "      <td>260686</td>\n",
       "      <td>805412</td>\n",
       "      <td>177485</td>\n",
       "      <td>203871</td>\n",
       "      <td>1252407</td>\n",
       "      <td>1629821</td>\n",
       "      <td>84005</td>\n",
       "      <td>98220</td>\n",
       "    </tr>\n",
       "    <tr>\n",
       "      <th>6602</th>\n",
       "      <td>World</td>\n",
       "      <td>OWID_WRL</td>\n",
       "      <td>1992</td>\n",
       "      <td>560273</td>\n",
       "      <td>109445</td>\n",
       "      <td>274398</td>\n",
       "      <td>473637</td>\n",
       "      <td>528402</td>\n",
       "      <td>218039</td>\n",
       "      <td>2099333</td>\n",
       "      <td>801910</td>\n",
       "      <td>685081</td>\n",
       "      <td>261075</td>\n",
       "      <td>803584</td>\n",
       "      <td>169463</td>\n",
       "      <td>198851</td>\n",
       "      <td>1235742</td>\n",
       "      <td>1574388</td>\n",
       "      <td>82272</td>\n",
       "      <td>98675</td>\n",
       "    </tr>\n",
       "    <tr>\n",
       "      <th>6603</th>\n",
       "      <td>World</td>\n",
       "      <td>OWID_WRL</td>\n",
       "      <td>1993</td>\n",
       "      <td>564021</td>\n",
       "      <td>128770</td>\n",
       "      <td>268742</td>\n",
       "      <td>452037</td>\n",
       "      <td>524859</td>\n",
       "      <td>209460</td>\n",
       "      <td>2033025</td>\n",
       "      <td>786223</td>\n",
       "      <td>665170</td>\n",
       "      <td>262503</td>\n",
       "      <td>802184</td>\n",
       "      <td>163469</td>\n",
       "      <td>191046</td>\n",
       "      <td>1216180</td>\n",
       "      <td>1529776</td>\n",
       "      <td>80413</td>\n",
       "      <td>98943</td>\n",
       "    </tr>\n",
       "    <tr>\n",
       "      <th>6604</th>\n",
       "      <td>World</td>\n",
       "      <td>OWID_WRL</td>\n",
       "      <td>1994</td>\n",
       "      <td>563652</td>\n",
       "      <td>147553</td>\n",
       "      <td>262125</td>\n",
       "      <td>433745</td>\n",
       "      <td>521545</td>\n",
       "      <td>202834</td>\n",
       "      <td>1969416</td>\n",
       "      <td>770145</td>\n",
       "      <td>650795</td>\n",
       "      <td>264335</td>\n",
       "      <td>800594</td>\n",
       "      <td>156368</td>\n",
       "      <td>184346</td>\n",
       "      <td>1193991</td>\n",
       "      <td>1497210</td>\n",
       "      <td>78307</td>\n",
       "      <td>99154</td>\n",
       "    </tr>\n",
       "  </tbody>\n",
       "</table>\n",
       "</div>"
      ],
      "text/plain": [
       "     Country      Code  Year  Malaria  HIV/AIDS  Meningitis  \\\n",
       "6600   World  OWID_WRL  1990   553826     73413      284149   \n",
       "6601   World  OWID_WRL  1991   560819     90819      278453   \n",
       "6602   World  OWID_WRL  1992   560273    109445      274398   \n",
       "6603   World  OWID_WRL  1993   564021    128770      268742   \n",
       "6604   World  OWID_WRL  1994   563652    147553      262125   \n",
       "\n",
       "      Nutritional Deficiencies  Other neonatal disorders  Whooping Cough  \\\n",
       "6600                    524103                    539952          240021   \n",
       "6601                    498575                    532524          226966   \n",
       "6602                    473637                    528402          218039   \n",
       "6603                    452037                    524859          209460   \n",
       "6604                    433745                    521545          202834   \n",
       "\n",
       "      Lower respiratory infections  Congenital birth  Measles  \\\n",
       "6600                       2209128            834417   704288   \n",
       "6601                       2152647            818021   694354   \n",
       "6602                       2099333            801910   685081   \n",
       "6603                       2033025            786223   665170   \n",
       "6604                       1969416            770145   650795   \n",
       "\n",
       "      Neonatal sepsis and other neonatal infections  \\\n",
       "6600                                         260150   \n",
       "6601                                         260686   \n",
       "6602                                         261075   \n",
       "6603                                         262503   \n",
       "6604                                         264335   \n",
       "\n",
       "      eonatal encephalopathy due to birth asphyxia and trauma  Drowning  \\\n",
       "6600                                             808681          184096   \n",
       "6601                                             805412          177485   \n",
       "6602                                             803584          169463   \n",
       "6603                                             802184          163469   \n",
       "6604                                             800594          156368   \n",
       "\n",
       "      Tuberculosis  Neonatal preterm birth  Diarrheal diseases  Neoplasms  \\\n",
       "6600        209562                 1269043             1649581      85197   \n",
       "6601        203871                 1252407             1629821      84005   \n",
       "6602        198851                 1235742             1574388      82272   \n",
       "6603        191046                 1216180             1529776      80413   \n",
       "6604        184346                 1193991             1497210      78307   \n",
       "\n",
       "      Syphilis  \n",
       "6600     97389  \n",
       "6601     98220  \n",
       "6602     98675  \n",
       "6603     98943  \n",
       "6604     99154  "
      ]
     },
     "execution_count": 4,
     "metadata": {},
     "output_type": "execute_result"
    }
   ],
   "source": [
    "columns=[\"Malaria\",\"HIV/AIDS\",\"Meningitis\",\"Nutritional Deficiencies\",\"Other neonatal disorders\",\"Whooping Cough\",\"Lower respiratory infections\",\"Congenital birth\",\"Measles\",\"Neonatal sepsis and other neonatal infections\",\"eonatal encephalopathy due to birth asphyxia and trauma\",\"Drowning\",\"Tuberculosis\",\"Neonatal preterm birth\",\"Diarrheal diseases\",\"Neoplasms\",\"Syphilis\"]\n",
    "data1_reasons.head()"
   ]
  },
  {
   "cell_type": "code",
   "execution_count": 5,
   "id": "23452d6a",
   "metadata": {
    "execution": {
     "iopub.execute_input": "2023-05-22T14:06:13.628337Z",
     "iopub.status.busy": "2023-05-22T14:06:13.627921Z",
     "iopub.status.idle": "2023-05-22T14:06:15.623535Z",
     "shell.execute_reply": "2023-05-22T14:06:15.622376Z"
    },
    "papermill": {
     "duration": 2.018492,
     "end_time": "2023-05-22T14:06:15.626132",
     "exception": false,
     "start_time": "2023-05-22T14:06:13.607640",
     "status": "completed"
    },
    "tags": []
   },
   "outputs": [
    {
     "data": {
      "application/vnd.plotly.v1+json": {
       "config": {
        "plotlyServerURL": "https://plot.ly"
       },
       "data": [
        {
         "hovertemplate": "variable=Malaria<br>Year=%{x}<br>value=%{y}<extra></extra>",
         "legendgroup": "Malaria",
         "line": {
          "color": "#636efa",
          "dash": "solid"
         },
         "marker": {
          "symbol": "circle"
         },
         "mode": "lines",
         "name": "Malaria",
         "orientation": "v",
         "showlegend": true,
         "type": "scatter",
         "x": [
          1990,
          1991,
          1992,
          1993,
          1994,
          1995,
          1996,
          1997,
          1998,
          1999,
          2000,
          2001,
          2002,
          2003,
          2004,
          2005,
          2006,
          2007,
          2008,
          2009,
          2010,
          2011,
          2012,
          2013,
          2014,
          2015,
          2016,
          2017,
          2018,
          2019
         ],
         "xaxis": "x",
         "y": [
          553826,
          560819,
          560273,
          564021,
          563652,
          569305,
          575238,
          582361,
          585408,
          582200,
          586988,
          607563,
          616620,
          631523,
          631294,
          614166,
          612700,
          604752,
          595788,
          586385,
          571023,
          542289,
          509195,
          481600,
          453088,
          432893,
          397614,
          366276,
          356262,
          356363
         ],
         "yaxis": "y"
        },
        {
         "hovertemplate": "variable=HIV/AIDS<br>Year=%{x}<br>value=%{y}<extra></extra>",
         "legendgroup": "HIV/AIDS",
         "line": {
          "color": "#EF553B",
          "dash": "solid"
         },
         "marker": {
          "symbol": "circle"
         },
         "mode": "lines",
         "name": "HIV/AIDS",
         "orientation": "v",
         "showlegend": true,
         "type": "scatter",
         "x": [
          1990,
          1991,
          1992,
          1993,
          1994,
          1995,
          1996,
          1997,
          1998,
          1999,
          2000,
          2001,
          2002,
          2003,
          2004,
          2005,
          2006,
          2007,
          2008,
          2009,
          2010,
          2011,
          2012,
          2013,
          2014,
          2015,
          2016,
          2017,
          2018,
          2019
         ],
         "xaxis": "x",
         "y": [
          73413,
          90819,
          109445,
          128770,
          147553,
          165293,
          180613,
          193410,
          205780,
          215227,
          220496,
          223424,
          223680,
          221375,
          217039,
          208432,
          193999,
          178023,
          162534,
          146741,
          131560,
          116834,
          103719,
          92770,
          83621,
          74396,
          66214,
          59535,
          53155,
          48928
         ],
         "yaxis": "y"
        },
        {
         "hovertemplate": "variable=Meningitis<br>Year=%{x}<br>value=%{y}<extra></extra>",
         "legendgroup": "Meningitis",
         "line": {
          "color": "#00cc96",
          "dash": "solid"
         },
         "marker": {
          "symbol": "circle"
         },
         "mode": "lines",
         "name": "Meningitis",
         "orientation": "v",
         "showlegend": true,
         "type": "scatter",
         "x": [
          1990,
          1991,
          1992,
          1993,
          1994,
          1995,
          1996,
          1997,
          1998,
          1999,
          2000,
          2001,
          2002,
          2003,
          2004,
          2005,
          2006,
          2007,
          2008,
          2009,
          2010,
          2011,
          2012,
          2013,
          2014,
          2015,
          2016,
          2017,
          2018,
          2019
         ],
         "xaxis": "x",
         "y": [
          284149,
          278453,
          274398,
          268742,
          262125,
          257813,
          261581,
          246764,
          239096,
          235382,
          230774,
          226331,
          222303,
          220884,
          216630,
          214662,
          212983,
          208548,
          202273,
          198434,
          190193,
          178704,
          168633,
          159556,
          152141,
          141606,
          135968,
          125920,
          117601,
          112205
         ],
         "yaxis": "y"
        },
        {
         "hovertemplate": "variable=Nutritional Deficiencies<br>Year=%{x}<br>value=%{y}<extra></extra>",
         "legendgroup": "Nutritional Deficiencies",
         "line": {
          "color": "#ab63fa",
          "dash": "solid"
         },
         "marker": {
          "symbol": "circle"
         },
         "mode": "lines",
         "name": "Nutritional Deficiencies",
         "orientation": "v",
         "showlegend": true,
         "type": "scatter",
         "x": [
          1990,
          1991,
          1992,
          1993,
          1994,
          1995,
          1996,
          1997,
          1998,
          1999,
          2000,
          2001,
          2002,
          2003,
          2004,
          2005,
          2006,
          2007,
          2008,
          2009,
          2010,
          2011,
          2012,
          2013,
          2014,
          2015,
          2016,
          2017,
          2018,
          2019
         ],
         "xaxis": "x",
         "y": [
          524103,
          498575,
          473637,
          452037,
          433745,
          440460,
          433921,
          413517,
          391914,
          371472,
          328575,
          307138,
          288292,
          253557,
          236203,
          222129,
          210075,
          197640,
          186406,
          175068,
          172996,
          164589,
          149267,
          142362,
          134779,
          127585,
          120794,
          113888,
          104455,
          97303
         ],
         "yaxis": "y"
        },
        {
         "hovertemplate": "variable=Other neonatal disorders<br>Year=%{x}<br>value=%{y}<extra></extra>",
         "legendgroup": "Other neonatal disorders",
         "line": {
          "color": "#FFA15A",
          "dash": "solid"
         },
         "marker": {
          "symbol": "circle"
         },
         "mode": "lines",
         "name": "Other neonatal disorders",
         "orientation": "v",
         "showlegend": true,
         "type": "scatter",
         "x": [
          1990,
          1991,
          1992,
          1993,
          1994,
          1995,
          1996,
          1997,
          1998,
          1999,
          2000,
          2001,
          2002,
          2003,
          2004,
          2005,
          2006,
          2007,
          2008,
          2009,
          2010,
          2011,
          2012,
          2013,
          2014,
          2015,
          2016,
          2017,
          2018,
          2019
         ],
         "xaxis": "x",
         "y": [
          539952,
          532524,
          528402,
          524859,
          521545,
          520552,
          516457,
          515786,
          515694,
          514517,
          512241,
          507869,
          507478,
          507257,
          506958,
          503848,
          499781,
          496198,
          492491,
          484272,
          475556,
          465676,
          456885,
          451091,
          440566,
          431780,
          413695,
          398181,
          384635,
          372684
         ],
         "yaxis": "y"
        },
        {
         "hovertemplate": "variable=Whooping Cough<br>Year=%{x}<br>value=%{y}<extra></extra>",
         "legendgroup": "Whooping Cough",
         "line": {
          "color": "#19d3f3",
          "dash": "solid"
         },
         "marker": {
          "symbol": "circle"
         },
         "mode": "lines",
         "name": "Whooping Cough",
         "orientation": "v",
         "showlegend": true,
         "type": "scatter",
         "x": [
          1990,
          1991,
          1992,
          1993,
          1994,
          1995,
          1996,
          1997,
          1998,
          1999,
          2000,
          2001,
          2002,
          2003,
          2004,
          2005,
          2006,
          2007,
          2008,
          2009,
          2010,
          2011,
          2012,
          2013,
          2014,
          2015,
          2016,
          2017,
          2018,
          2019
         ],
         "xaxis": "x",
         "y": [
          240021,
          226966,
          218039,
          209460,
          202834,
          195316,
          189035,
          184998,
          182670,
          181205,
          182862,
          181530,
          175744,
          171889,
          165387,
          162311,
          157325,
          156146,
          151287,
          147533,
          140586,
          136718,
          133864,
          130800,
          129602,
          126874,
          123928,
          117804,
          112958,
          107836
         ],
         "yaxis": "y"
        },
        {
         "hovertemplate": "variable=Lower respiratory infections<br>Year=%{x}<br>value=%{y}<extra></extra>",
         "legendgroup": "Lower respiratory infections",
         "line": {
          "color": "#FF6692",
          "dash": "solid"
         },
         "marker": {
          "symbol": "circle"
         },
         "mode": "lines",
         "name": "Lower respiratory infections",
         "orientation": "v",
         "showlegend": true,
         "type": "scatter",
         "x": [
          1990,
          1991,
          1992,
          1993,
          1994,
          1995,
          1996,
          1997,
          1998,
          1999,
          2000,
          2001,
          2002,
          2003,
          2004,
          2005,
          2006,
          2007,
          2008,
          2009,
          2010,
          2011,
          2012,
          2013,
          2014,
          2015,
          2016,
          2017,
          2018,
          2019
         ],
         "xaxis": "x",
         "y": [
          2209128,
          2152647,
          2099333,
          2033025,
          1969416,
          1908865,
          1833638,
          1765777,
          1698704,
          1636678,
          1570943,
          1498974,
          1439764,
          1384504,
          1332256,
          1282132,
          1236847,
          1189966,
          1144956,
          1097597,
          1048514,
          1002827,
          968168,
          939922,
          902402,
          864821,
          814076,
          756578,
          709340,
          671928
         ],
         "yaxis": "y"
        },
        {
         "hovertemplate": "variable=Congenital birth<br>Year=%{x}<br>value=%{y}<extra></extra>",
         "legendgroup": "Congenital birth",
         "line": {
          "color": "#B6E880",
          "dash": "solid"
         },
         "marker": {
          "symbol": "circle"
         },
         "mode": "lines",
         "name": "Congenital birth",
         "orientation": "v",
         "showlegend": true,
         "type": "scatter",
         "x": [
          1990,
          1991,
          1992,
          1993,
          1994,
          1995,
          1996,
          1997,
          1998,
          1999,
          2000,
          2001,
          2002,
          2003,
          2004,
          2005,
          2006,
          2007,
          2008,
          2009,
          2010,
          2011,
          2012,
          2013,
          2014,
          2015,
          2016,
          2017,
          2018,
          2019
         ],
         "xaxis": "x",
         "y": [
          834417,
          818021,
          801910,
          786223,
          770145,
          754347,
          737718,
          724194,
          708552,
          694171,
          680665,
          669294,
          660344,
          652358,
          645610,
          638891,
          631547,
          622741,
          613562,
          603283,
          590726,
          580892,
          573740,
          565815,
          552582,
          543031,
          526350,
          506068,
          488052,
          473635
         ],
         "yaxis": "y"
        },
        {
         "hovertemplate": "variable=Measles<br>Year=%{x}<br>value=%{y}<extra></extra>",
         "legendgroup": "Measles",
         "line": {
          "color": "#FF97FF",
          "dash": "solid"
         },
         "marker": {
          "symbol": "circle"
         },
         "mode": "lines",
         "name": "Measles",
         "orientation": "v",
         "showlegend": true,
         "type": "scatter",
         "x": [
          1990,
          1991,
          1992,
          1993,
          1994,
          1995,
          1996,
          1997,
          1998,
          1999,
          2000,
          2001,
          2002,
          2003,
          2004,
          2005,
          2006,
          2007,
          2008,
          2009,
          2010,
          2011,
          2012,
          2013,
          2014,
          2015,
          2016,
          2017,
          2018,
          2019
         ],
         "xaxis": "x",
         "y": [
          704288,
          694354,
          685081,
          665170,
          650795,
          639200,
          621941,
          600996,
          579599,
          552526,
          522918,
          489021,
          450290,
          413246,
          377155,
          332547,
          266729,
          228097,
          202287,
          183551,
          182268,
          188285,
          169554,
          147318,
          127987,
          109894,
          92058,
          85691,
          78173,
          69854
         ],
         "yaxis": "y"
        },
        {
         "hovertemplate": "variable=Neonatal sepsis and other neonatal infections<br>Year=%{x}<br>value=%{y}<extra></extra>",
         "legendgroup": "Neonatal sepsis and other neonatal infections",
         "line": {
          "color": "#FECB52",
          "dash": "solid"
         },
         "marker": {
          "symbol": "circle"
         },
         "mode": "lines",
         "name": "Neonatal sepsis and other neonatal infections",
         "orientation": "v",
         "showlegend": true,
         "type": "scatter",
         "x": [
          1990,
          1991,
          1992,
          1993,
          1994,
          1995,
          1996,
          1997,
          1998,
          1999,
          2000,
          2001,
          2002,
          2003,
          2004,
          2005,
          2006,
          2007,
          2008,
          2009,
          2010,
          2011,
          2012,
          2013,
          2014,
          2015,
          2016,
          2017,
          2018,
          2019
         ],
         "xaxis": "x",
         "y": [
          260150,
          260686,
          261075,
          262503,
          264335,
          266180,
          267744,
          269338,
          270524,
          271319,
          271614,
          271712,
          272499,
          273213,
          273731,
          274612,
          271415,
          268900,
          265134,
          262531,
          259077,
          256181,
          252878,
          249975,
          246218,
          241578,
          236469,
          232340,
          228288,
          226517
         ],
         "yaxis": "y"
        },
        {
         "hovertemplate": "variable=eonatal encephalopathy due to birth asphyxia and trauma<br>Year=%{x}<br>value=%{y}<extra></extra>",
         "legendgroup": "eonatal encephalopathy due to birth asphyxia and trauma",
         "line": {
          "color": "#636efa",
          "dash": "solid"
         },
         "marker": {
          "symbol": "circle"
         },
         "mode": "lines",
         "name": "eonatal encephalopathy due to birth asphyxia and trauma",
         "orientation": "v",
         "showlegend": true,
         "type": "scatter",
         "x": [
          1990,
          1991,
          1992,
          1993,
          1994,
          1995,
          1996,
          1997,
          1998,
          1999,
          2000,
          2001,
          2002,
          2003,
          2004,
          2005,
          2006,
          2007,
          2008,
          2009,
          2010,
          2011,
          2012,
          2013,
          2014,
          2015,
          2016,
          2017,
          2018,
          2019
         ],
         "xaxis": "x",
         "y": [
          808681,
          805412,
          803584,
          802184,
          800594,
          801445,
          801032,
          801705,
          801680,
          801377,
          800955,
          799068,
          798388,
          796620,
          792816,
          787810,
          778097,
          762908,
          751335,
          737551,
          722461,
          707863,
          693032,
          681207,
          664172,
          647752,
          627954,
          605246,
          584192,
          566976
         ],
         "yaxis": "y"
        },
        {
         "hovertemplate": "variable=Drowning<br>Year=%{x}<br>value=%{y}<extra></extra>",
         "legendgroup": "Drowning",
         "line": {
          "color": "#EF553B",
          "dash": "solid"
         },
         "marker": {
          "symbol": "circle"
         },
         "mode": "lines",
         "name": "Drowning",
         "orientation": "v",
         "showlegend": true,
         "type": "scatter",
         "x": [
          1990,
          1991,
          1992,
          1993,
          1994,
          1995,
          1996,
          1997,
          1998,
          1999,
          2000,
          2001,
          2002,
          2003,
          2004,
          2005,
          2006,
          2007,
          2008,
          2009,
          2010,
          2011,
          2012,
          2013,
          2014,
          2015,
          2016,
          2017,
          2018,
          2019
         ],
         "xaxis": "x",
         "y": [
          184096,
          177485,
          169463,
          163469,
          156368,
          149039,
          140555,
          133573,
          126799,
          118803,
          110605,
          103339,
          96992,
          91043,
          85888,
          81472,
          77409,
          74275,
          70470,
          66910,
          63452,
          60177,
          57681,
          54908,
          51263,
          48430,
          45183,
          41613,
          38974,
          36507
         ],
         "yaxis": "y"
        },
        {
         "hovertemplate": "variable=Tuberculosis<br>Year=%{x}<br>value=%{y}<extra></extra>",
         "legendgroup": "Tuberculosis",
         "line": {
          "color": "#00cc96",
          "dash": "solid"
         },
         "marker": {
          "symbol": "circle"
         },
         "mode": "lines",
         "name": "Tuberculosis",
         "orientation": "v",
         "showlegend": true,
         "type": "scatter",
         "x": [
          1990,
          1991,
          1992,
          1993,
          1994,
          1995,
          1996,
          1997,
          1998,
          1999,
          2000,
          2001,
          2002,
          2003,
          2004,
          2005,
          2006,
          2007,
          2008,
          2009,
          2010,
          2011,
          2012,
          2013,
          2014,
          2015,
          2016,
          2017,
          2018,
          2019
         ],
         "xaxis": "x",
         "y": [
          209562,
          203871,
          198851,
          191046,
          184346,
          178689,
          170953,
          164320,
          158282,
          153022,
          147750,
          141253,
          135172,
          128994,
          122773,
          116978,
          112580,
          107571,
          102851,
          97378,
          91351,
          86205,
          82489,
          79144,
          75419,
          71205,
          65758,
          59558,
          54323,
          50163
         ],
         "yaxis": "y"
        },
        {
         "hovertemplate": "variable=Neonatal preterm birth<br>Year=%{x}<br>value=%{y}<extra></extra>",
         "legendgroup": "Neonatal preterm birth",
         "line": {
          "color": "#ab63fa",
          "dash": "solid"
         },
         "marker": {
          "symbol": "circle"
         },
         "mode": "lines",
         "name": "Neonatal preterm birth",
         "orientation": "v",
         "showlegend": true,
         "type": "scatter",
         "x": [
          1990,
          1991,
          1992,
          1993,
          1994,
          1995,
          1996,
          1997,
          1998,
          1999,
          2000,
          2001,
          2002,
          2003,
          2004,
          2005,
          2006,
          2007,
          2008,
          2009,
          2010,
          2011,
          2012,
          2013,
          2014,
          2015,
          2016,
          2017,
          2018,
          2019
         ],
         "xaxis": "x",
         "y": [
          1269043,
          1252407,
          1235742,
          1216180,
          1193991,
          1171518,
          1144886,
          1122281,
          1100060,
          1075770,
          1052896,
          1031611,
          1014359,
          997371,
          979529,
          962456,
          947605,
          933170,
          920659,
          907110,
          890582,
          875233,
          860525,
          843166,
          816188,
          795050,
          758611,
          721097,
          690743,
          663520
         ],
         "yaxis": "y"
        },
        {
         "hovertemplate": "variable=Diarrheal diseases<br>Year=%{x}<br>value=%{y}<extra></extra>",
         "legendgroup": "Diarrheal diseases",
         "line": {
          "color": "#FFA15A",
          "dash": "solid"
         },
         "marker": {
          "symbol": "circle"
         },
         "mode": "lines",
         "name": "Diarrheal diseases",
         "orientation": "v",
         "showlegend": true,
         "type": "scatter",
         "x": [
          1990,
          1991,
          1992,
          1993,
          1994,
          1995,
          1996,
          1997,
          1998,
          1999,
          2000,
          2001,
          2002,
          2003,
          2004,
          2005,
          2006,
          2007,
          2008,
          2009,
          2010,
          2011,
          2012,
          2013,
          2014,
          2015,
          2016,
          2017,
          2018,
          2019
         ],
         "xaxis": "x",
         "y": [
          1649581,
          1629821,
          1574388,
          1529776,
          1497210,
          1453201,
          1411053,
          1369601,
          1332708,
          1288660,
          1238823,
          1192066,
          1148444,
          1103145,
          1060425,
          1024524,
          1000612,
          964351,
          927145,
          889357,
          845183,
          804545,
          757720,
          715681,
          672213,
          630905,
          599402,
          581234,
          534628,
          500664
         ],
         "yaxis": "y"
        },
        {
         "hovertemplate": "variable=Neoplasms<br>Year=%{x}<br>value=%{y}<extra></extra>",
         "legendgroup": "Neoplasms",
         "line": {
          "color": "#19d3f3",
          "dash": "solid"
         },
         "marker": {
          "symbol": "circle"
         },
         "mode": "lines",
         "name": "Neoplasms",
         "orientation": "v",
         "showlegend": true,
         "type": "scatter",
         "x": [
          1990,
          1991,
          1992,
          1993,
          1994,
          1995,
          1996,
          1997,
          1998,
          1999,
          2000,
          2001,
          2002,
          2003,
          2004,
          2005,
          2006,
          2007,
          2008,
          2009,
          2010,
          2011,
          2012,
          2013,
          2014,
          2015,
          2016,
          2017,
          2018,
          2019
         ],
         "xaxis": "x",
         "y": [
          85197,
          84005,
          82272,
          80413,
          78307,
          75976,
          73325,
          70998,
          68525,
          66285,
          63846,
          61206,
          59131,
          57320,
          55976,
          55310,
          54694,
          53786,
          53286,
          52513,
          51493,
          50967,
          50975,
          50812,
          50286,
          49534,
          48474,
          46953,
          45656,
          44452
         ],
         "yaxis": "y"
        },
        {
         "hovertemplate": "variable=Syphilis<br>Year=%{x}<br>value=%{y}<extra></extra>",
         "legendgroup": "Syphilis",
         "line": {
          "color": "#FF6692",
          "dash": "solid"
         },
         "marker": {
          "symbol": "circle"
         },
         "mode": "lines",
         "name": "Syphilis",
         "orientation": "v",
         "showlegend": true,
         "type": "scatter",
         "x": [
          1990,
          1991,
          1992,
          1993,
          1994,
          1995,
          1996,
          1997,
          1998,
          1999,
          2000,
          2001,
          2002,
          2003,
          2004,
          2005,
          2006,
          2007,
          2008,
          2009,
          2010,
          2011,
          2012,
          2013,
          2014,
          2015,
          2016,
          2017,
          2018,
          2019
         ],
         "xaxis": "x",
         "y": [
          97389,
          98220,
          98675,
          98943,
          99154,
          99248,
          99178,
          99147,
          99033,
          98588,
          97998,
          97472,
          97077,
          96433,
          95870,
          95717,
          94794,
          91864,
          87924,
          84363,
          82547,
          82460,
          82783,
          82976,
          82556,
          82410,
          81827,
          80160,
          79973,
          81428
         ],
         "yaxis": "y"
        }
       ],
       "layout": {
        "legend": {
         "title": {
          "text": "variable"
         },
         "tracegroupgap": 0
        },
        "template": {
         "data": {
          "bar": [
           {
            "error_x": {
             "color": "#2a3f5f"
            },
            "error_y": {
             "color": "#2a3f5f"
            },
            "marker": {
             "line": {
              "color": "#E5ECF6",
              "width": 0.5
             },
             "pattern": {
              "fillmode": "overlay",
              "size": 10,
              "solidity": 0.2
             }
            },
            "type": "bar"
           }
          ],
          "barpolar": [
           {
            "marker": {
             "line": {
              "color": "#E5ECF6",
              "width": 0.5
             },
             "pattern": {
              "fillmode": "overlay",
              "size": 10,
              "solidity": 0.2
             }
            },
            "type": "barpolar"
           }
          ],
          "carpet": [
           {
            "aaxis": {
             "endlinecolor": "#2a3f5f",
             "gridcolor": "white",
             "linecolor": "white",
             "minorgridcolor": "white",
             "startlinecolor": "#2a3f5f"
            },
            "baxis": {
             "endlinecolor": "#2a3f5f",
             "gridcolor": "white",
             "linecolor": "white",
             "minorgridcolor": "white",
             "startlinecolor": "#2a3f5f"
            },
            "type": "carpet"
           }
          ],
          "choropleth": [
           {
            "colorbar": {
             "outlinewidth": 0,
             "ticks": ""
            },
            "type": "choropleth"
           }
          ],
          "contour": [
           {
            "colorbar": {
             "outlinewidth": 0,
             "ticks": ""
            },
            "colorscale": [
             [
              0,
              "#0d0887"
             ],
             [
              0.1111111111111111,
              "#46039f"
             ],
             [
              0.2222222222222222,
              "#7201a8"
             ],
             [
              0.3333333333333333,
              "#9c179e"
             ],
             [
              0.4444444444444444,
              "#bd3786"
             ],
             [
              0.5555555555555556,
              "#d8576b"
             ],
             [
              0.6666666666666666,
              "#ed7953"
             ],
             [
              0.7777777777777778,
              "#fb9f3a"
             ],
             [
              0.8888888888888888,
              "#fdca26"
             ],
             [
              1,
              "#f0f921"
             ]
            ],
            "type": "contour"
           }
          ],
          "contourcarpet": [
           {
            "colorbar": {
             "outlinewidth": 0,
             "ticks": ""
            },
            "type": "contourcarpet"
           }
          ],
          "heatmap": [
           {
            "colorbar": {
             "outlinewidth": 0,
             "ticks": ""
            },
            "colorscale": [
             [
              0,
              "#0d0887"
             ],
             [
              0.1111111111111111,
              "#46039f"
             ],
             [
              0.2222222222222222,
              "#7201a8"
             ],
             [
              0.3333333333333333,
              "#9c179e"
             ],
             [
              0.4444444444444444,
              "#bd3786"
             ],
             [
              0.5555555555555556,
              "#d8576b"
             ],
             [
              0.6666666666666666,
              "#ed7953"
             ],
             [
              0.7777777777777778,
              "#fb9f3a"
             ],
             [
              0.8888888888888888,
              "#fdca26"
             ],
             [
              1,
              "#f0f921"
             ]
            ],
            "type": "heatmap"
           }
          ],
          "heatmapgl": [
           {
            "colorbar": {
             "outlinewidth": 0,
             "ticks": ""
            },
            "colorscale": [
             [
              0,
              "#0d0887"
             ],
             [
              0.1111111111111111,
              "#46039f"
             ],
             [
              0.2222222222222222,
              "#7201a8"
             ],
             [
              0.3333333333333333,
              "#9c179e"
             ],
             [
              0.4444444444444444,
              "#bd3786"
             ],
             [
              0.5555555555555556,
              "#d8576b"
             ],
             [
              0.6666666666666666,
              "#ed7953"
             ],
             [
              0.7777777777777778,
              "#fb9f3a"
             ],
             [
              0.8888888888888888,
              "#fdca26"
             ],
             [
              1,
              "#f0f921"
             ]
            ],
            "type": "heatmapgl"
           }
          ],
          "histogram": [
           {
            "marker": {
             "pattern": {
              "fillmode": "overlay",
              "size": 10,
              "solidity": 0.2
             }
            },
            "type": "histogram"
           }
          ],
          "histogram2d": [
           {
            "colorbar": {
             "outlinewidth": 0,
             "ticks": ""
            },
            "colorscale": [
             [
              0,
              "#0d0887"
             ],
             [
              0.1111111111111111,
              "#46039f"
             ],
             [
              0.2222222222222222,
              "#7201a8"
             ],
             [
              0.3333333333333333,
              "#9c179e"
             ],
             [
              0.4444444444444444,
              "#bd3786"
             ],
             [
              0.5555555555555556,
              "#d8576b"
             ],
             [
              0.6666666666666666,
              "#ed7953"
             ],
             [
              0.7777777777777778,
              "#fb9f3a"
             ],
             [
              0.8888888888888888,
              "#fdca26"
             ],
             [
              1,
              "#f0f921"
             ]
            ],
            "type": "histogram2d"
           }
          ],
          "histogram2dcontour": [
           {
            "colorbar": {
             "outlinewidth": 0,
             "ticks": ""
            },
            "colorscale": [
             [
              0,
              "#0d0887"
             ],
             [
              0.1111111111111111,
              "#46039f"
             ],
             [
              0.2222222222222222,
              "#7201a8"
             ],
             [
              0.3333333333333333,
              "#9c179e"
             ],
             [
              0.4444444444444444,
              "#bd3786"
             ],
             [
              0.5555555555555556,
              "#d8576b"
             ],
             [
              0.6666666666666666,
              "#ed7953"
             ],
             [
              0.7777777777777778,
              "#fb9f3a"
             ],
             [
              0.8888888888888888,
              "#fdca26"
             ],
             [
              1,
              "#f0f921"
             ]
            ],
            "type": "histogram2dcontour"
           }
          ],
          "mesh3d": [
           {
            "colorbar": {
             "outlinewidth": 0,
             "ticks": ""
            },
            "type": "mesh3d"
           }
          ],
          "parcoords": [
           {
            "line": {
             "colorbar": {
              "outlinewidth": 0,
              "ticks": ""
             }
            },
            "type": "parcoords"
           }
          ],
          "pie": [
           {
            "automargin": true,
            "type": "pie"
           }
          ],
          "scatter": [
           {
            "fillpattern": {
             "fillmode": "overlay",
             "size": 10,
             "solidity": 0.2
            },
            "type": "scatter"
           }
          ],
          "scatter3d": [
           {
            "line": {
             "colorbar": {
              "outlinewidth": 0,
              "ticks": ""
             }
            },
            "marker": {
             "colorbar": {
              "outlinewidth": 0,
              "ticks": ""
             }
            },
            "type": "scatter3d"
           }
          ],
          "scattercarpet": [
           {
            "marker": {
             "colorbar": {
              "outlinewidth": 0,
              "ticks": ""
             }
            },
            "type": "scattercarpet"
           }
          ],
          "scattergeo": [
           {
            "marker": {
             "colorbar": {
              "outlinewidth": 0,
              "ticks": ""
             }
            },
            "type": "scattergeo"
           }
          ],
          "scattergl": [
           {
            "marker": {
             "colorbar": {
              "outlinewidth": 0,
              "ticks": ""
             }
            },
            "type": "scattergl"
           }
          ],
          "scattermapbox": [
           {
            "marker": {
             "colorbar": {
              "outlinewidth": 0,
              "ticks": ""
             }
            },
            "type": "scattermapbox"
           }
          ],
          "scatterpolar": [
           {
            "marker": {
             "colorbar": {
              "outlinewidth": 0,
              "ticks": ""
             }
            },
            "type": "scatterpolar"
           }
          ],
          "scatterpolargl": [
           {
            "marker": {
             "colorbar": {
              "outlinewidth": 0,
              "ticks": ""
             }
            },
            "type": "scatterpolargl"
           }
          ],
          "scatterternary": [
           {
            "marker": {
             "colorbar": {
              "outlinewidth": 0,
              "ticks": ""
             }
            },
            "type": "scatterternary"
           }
          ],
          "surface": [
           {
            "colorbar": {
             "outlinewidth": 0,
             "ticks": ""
            },
            "colorscale": [
             [
              0,
              "#0d0887"
             ],
             [
              0.1111111111111111,
              "#46039f"
             ],
             [
              0.2222222222222222,
              "#7201a8"
             ],
             [
              0.3333333333333333,
              "#9c179e"
             ],
             [
              0.4444444444444444,
              "#bd3786"
             ],
             [
              0.5555555555555556,
              "#d8576b"
             ],
             [
              0.6666666666666666,
              "#ed7953"
             ],
             [
              0.7777777777777778,
              "#fb9f3a"
             ],
             [
              0.8888888888888888,
              "#fdca26"
             ],
             [
              1,
              "#f0f921"
             ]
            ],
            "type": "surface"
           }
          ],
          "table": [
           {
            "cells": {
             "fill": {
              "color": "#EBF0F8"
             },
             "line": {
              "color": "white"
             }
            },
            "header": {
             "fill": {
              "color": "#C8D4E3"
             },
             "line": {
              "color": "white"
             }
            },
            "type": "table"
           }
          ]
         },
         "layout": {
          "annotationdefaults": {
           "arrowcolor": "#2a3f5f",
           "arrowhead": 0,
           "arrowwidth": 1
          },
          "autotypenumbers": "strict",
          "coloraxis": {
           "colorbar": {
            "outlinewidth": 0,
            "ticks": ""
           }
          },
          "colorscale": {
           "diverging": [
            [
             0,
             "#8e0152"
            ],
            [
             0.1,
             "#c51b7d"
            ],
            [
             0.2,
             "#de77ae"
            ],
            [
             0.3,
             "#f1b6da"
            ],
            [
             0.4,
             "#fde0ef"
            ],
            [
             0.5,
             "#f7f7f7"
            ],
            [
             0.6,
             "#e6f5d0"
            ],
            [
             0.7,
             "#b8e186"
            ],
            [
             0.8,
             "#7fbc41"
            ],
            [
             0.9,
             "#4d9221"
            ],
            [
             1,
             "#276419"
            ]
           ],
           "sequential": [
            [
             0,
             "#0d0887"
            ],
            [
             0.1111111111111111,
             "#46039f"
            ],
            [
             0.2222222222222222,
             "#7201a8"
            ],
            [
             0.3333333333333333,
             "#9c179e"
            ],
            [
             0.4444444444444444,
             "#bd3786"
            ],
            [
             0.5555555555555556,
             "#d8576b"
            ],
            [
             0.6666666666666666,
             "#ed7953"
            ],
            [
             0.7777777777777778,
             "#fb9f3a"
            ],
            [
             0.8888888888888888,
             "#fdca26"
            ],
            [
             1,
             "#f0f921"
            ]
           ],
           "sequentialminus": [
            [
             0,
             "#0d0887"
            ],
            [
             0.1111111111111111,
             "#46039f"
            ],
            [
             0.2222222222222222,
             "#7201a8"
            ],
            [
             0.3333333333333333,
             "#9c179e"
            ],
            [
             0.4444444444444444,
             "#bd3786"
            ],
            [
             0.5555555555555556,
             "#d8576b"
            ],
            [
             0.6666666666666666,
             "#ed7953"
            ],
            [
             0.7777777777777778,
             "#fb9f3a"
            ],
            [
             0.8888888888888888,
             "#fdca26"
            ],
            [
             1,
             "#f0f921"
            ]
           ]
          },
          "colorway": [
           "#636efa",
           "#EF553B",
           "#00cc96",
           "#ab63fa",
           "#FFA15A",
           "#19d3f3",
           "#FF6692",
           "#B6E880",
           "#FF97FF",
           "#FECB52"
          ],
          "font": {
           "color": "#2a3f5f"
          },
          "geo": {
           "bgcolor": "white",
           "lakecolor": "white",
           "landcolor": "#E5ECF6",
           "showlakes": true,
           "showland": true,
           "subunitcolor": "white"
          },
          "hoverlabel": {
           "align": "left"
          },
          "hovermode": "closest",
          "mapbox": {
           "style": "light"
          },
          "paper_bgcolor": "white",
          "plot_bgcolor": "#E5ECF6",
          "polar": {
           "angularaxis": {
            "gridcolor": "white",
            "linecolor": "white",
            "ticks": ""
           },
           "bgcolor": "#E5ECF6",
           "radialaxis": {
            "gridcolor": "white",
            "linecolor": "white",
            "ticks": ""
           }
          },
          "scene": {
           "xaxis": {
            "backgroundcolor": "#E5ECF6",
            "gridcolor": "white",
            "gridwidth": 2,
            "linecolor": "white",
            "showbackground": true,
            "ticks": "",
            "zerolinecolor": "white"
           },
           "yaxis": {
            "backgroundcolor": "#E5ECF6",
            "gridcolor": "white",
            "gridwidth": 2,
            "linecolor": "white",
            "showbackground": true,
            "ticks": "",
            "zerolinecolor": "white"
           },
           "zaxis": {
            "backgroundcolor": "#E5ECF6",
            "gridcolor": "white",
            "gridwidth": 2,
            "linecolor": "white",
            "showbackground": true,
            "ticks": "",
            "zerolinecolor": "white"
           }
          },
          "shapedefaults": {
           "line": {
            "color": "#2a3f5f"
           }
          },
          "ternary": {
           "aaxis": {
            "gridcolor": "white",
            "linecolor": "white",
            "ticks": ""
           },
           "baxis": {
            "gridcolor": "white",
            "linecolor": "white",
            "ticks": ""
           },
           "bgcolor": "#E5ECF6",
           "caxis": {
            "gridcolor": "white",
            "linecolor": "white",
            "ticks": ""
           }
          },
          "title": {
           "x": 0.05
          },
          "xaxis": {
           "automargin": true,
           "gridcolor": "white",
           "linecolor": "white",
           "ticks": "",
           "title": {
            "standoff": 15
           },
           "zerolinecolor": "white",
           "zerolinewidth": 2
          },
          "yaxis": {
           "automargin": true,
           "gridcolor": "white",
           "linecolor": "white",
           "ticks": "",
           "title": {
            "standoff": 15
           },
           "zerolinecolor": "white",
           "zerolinewidth": 2
          }
         }
        },
        "title": {
         "text": "Infant deaths due to diseases"
        },
        "xaxis": {
         "anchor": "y",
         "domain": [
          0,
          1
         ],
         "title": {
          "text": "Year"
         }
        },
        "yaxis": {
         "anchor": "x",
         "domain": [
          0,
          1
         ],
         "title": {
          "text": "value"
         }
        }
       }
      }
     },
     "metadata": {},
     "output_type": "display_data"
    }
   ],
   "source": [
    "fig = px.line(data1_reasons, x=data1_reasons[\"Year\"], y=columns, title='Infant deaths due to diseases')\n",
    "fig.show()"
   ]
  },
  {
   "cell_type": "code",
   "execution_count": 6,
   "id": "fba26cca",
   "metadata": {
    "_kg_hide-input": true,
    "execution": {
     "iopub.execute_input": "2023-05-22T14:06:15.666476Z",
     "iopub.status.busy": "2023-05-22T14:06:15.666044Z",
     "iopub.status.idle": "2023-05-22T14:06:15.748957Z",
     "shell.execute_reply": "2023-05-22T14:06:15.747872Z"
    },
    "papermill": {
     "duration": 0.10575,
     "end_time": "2023-05-22T14:06:15.751361",
     "exception": false,
     "start_time": "2023-05-22T14:06:15.645611",
     "status": "completed"
    },
    "tags": []
   },
   "outputs": [
    {
     "data": {
      "text/html": [
       "<div>\n",
       "<style scoped>\n",
       "    .dataframe tbody tr th:only-of-type {\n",
       "        vertical-align: middle;\n",
       "    }\n",
       "\n",
       "    .dataframe tbody tr th {\n",
       "        vertical-align: top;\n",
       "    }\n",
       "\n",
       "    .dataframe thead th {\n",
       "        text-align: right;\n",
       "    }\n",
       "</style>\n",
       "<table border=\"1\" class=\"dataframe\">\n",
       "  <thead>\n",
       "    <tr style=\"text-align: right;\">\n",
       "      <th></th>\n",
       "      <th>Country</th>\n",
       "      <th>Code</th>\n",
       "      <th>Year</th>\n",
       "      <th>Malaria</th>\n",
       "      <th>HIV/AIDS</th>\n",
       "      <th>Meningitis</th>\n",
       "      <th>Nutritional Deficiencies</th>\n",
       "      <th>Other neonatal disorders</th>\n",
       "      <th>Whooping Cough</th>\n",
       "      <th>Lower respiratory infections</th>\n",
       "      <th>Congenital birth</th>\n",
       "      <th>Measles</th>\n",
       "      <th>Neonatal sepsis and other neonatal infections</th>\n",
       "      <th>eonatal encephalopathy due to birth asphyxia and trauma</th>\n",
       "      <th>Drowning</th>\n",
       "      <th>Tuberculosis</th>\n",
       "      <th>Neonatal preterm birth</th>\n",
       "      <th>Diarrheal diseases</th>\n",
       "      <th>Neoplasms</th>\n",
       "      <th>Syphilis</th>\n",
       "    </tr>\n",
       "  </thead>\n",
       "  <tbody>\n",
       "    <tr>\n",
       "      <th>0</th>\n",
       "      <td>Afghanistan</td>\n",
       "      <td>AFG</td>\n",
       "      <td>1990</td>\n",
       "      <td>21</td>\n",
       "      <td>10</td>\n",
       "      <td>1709</td>\n",
       "      <td>1779</td>\n",
       "      <td>7112</td>\n",
       "      <td>2455</td>\n",
       "      <td>20224</td>\n",
       "      <td>12850</td>\n",
       "      <td>8649</td>\n",
       "      <td>420</td>\n",
       "      <td>1599</td>\n",
       "      <td>776</td>\n",
       "      <td>808</td>\n",
       "      <td>6088</td>\n",
       "      <td>3968</td>\n",
       "      <td>431</td>\n",
       "      <td>123</td>\n",
       "    </tr>\n",
       "    <tr>\n",
       "      <th>1</th>\n",
       "      <td>Afghanistan</td>\n",
       "      <td>AFG</td>\n",
       "      <td>1991</td>\n",
       "      <td>41</td>\n",
       "      <td>12</td>\n",
       "      <td>1743</td>\n",
       "      <td>1822</td>\n",
       "      <td>7574</td>\n",
       "      <td>2385</td>\n",
       "      <td>20879</td>\n",
       "      <td>13701</td>\n",
       "      <td>8669</td>\n",
       "      <td>520</td>\n",
       "      <td>1804</td>\n",
       "      <td>748</td>\n",
       "      <td>800</td>\n",
       "      <td>6791</td>\n",
       "      <td>4650</td>\n",
       "      <td>439</td>\n",
       "      <td>132</td>\n",
       "    </tr>\n",
       "    <tr>\n",
       "      <th>2</th>\n",
       "      <td>Afghanistan</td>\n",
       "      <td>AFG</td>\n",
       "      <td>1992</td>\n",
       "      <td>51</td>\n",
       "      <td>13</td>\n",
       "      <td>1954</td>\n",
       "      <td>2069</td>\n",
       "      <td>8614</td>\n",
       "      <td>2370</td>\n",
       "      <td>23585</td>\n",
       "      <td>15812</td>\n",
       "      <td>8539</td>\n",
       "      <td>662</td>\n",
       "      <td>2160</td>\n",
       "      <td>777</td>\n",
       "      <td>863</td>\n",
       "      <td>8098</td>\n",
       "      <td>5833</td>\n",
       "      <td>486</td>\n",
       "      <td>180</td>\n",
       "    </tr>\n",
       "    <tr>\n",
       "      <th>3</th>\n",
       "      <td>Afghanistan</td>\n",
       "      <td>AFG</td>\n",
       "      <td>1993</td>\n",
       "      <td>24</td>\n",
       "      <td>16</td>\n",
       "      <td>2252</td>\n",
       "      <td>2427</td>\n",
       "      <td>9458</td>\n",
       "      <td>2659</td>\n",
       "      <td>27116</td>\n",
       "      <td>17855</td>\n",
       "      <td>8949</td>\n",
       "      <td>723</td>\n",
       "      <td>2414</td>\n",
       "      <td>872</td>\n",
       "      <td>979</td>\n",
       "      <td>9142</td>\n",
       "      <td>7800</td>\n",
       "      <td>549</td>\n",
       "      <td>239</td>\n",
       "    </tr>\n",
       "    <tr>\n",
       "      <th>4</th>\n",
       "      <td>Afghanistan</td>\n",
       "      <td>AFG</td>\n",
       "      <td>1994</td>\n",
       "      <td>52</td>\n",
       "      <td>19</td>\n",
       "      <td>2446</td>\n",
       "      <td>2649</td>\n",
       "      <td>9823</td>\n",
       "      <td>3187</td>\n",
       "      <td>29271</td>\n",
       "      <td>18835</td>\n",
       "      <td>10642</td>\n",
       "      <td>736</td>\n",
       "      <td>2519</td>\n",
       "      <td>961</td>\n",
       "      <td>1064</td>\n",
       "      <td>9575</td>\n",
       "      <td>7894</td>\n",
       "      <td>589</td>\n",
       "      <td>259</td>\n",
       "    </tr>\n",
       "  </tbody>\n",
       "</table>\n",
       "</div>"
      ],
      "text/plain": [
       "       Country Code  Year  Malaria  HIV/AIDS  Meningitis  \\\n",
       "0  Afghanistan  AFG  1990       21        10        1709   \n",
       "1  Afghanistan  AFG  1991       41        12        1743   \n",
       "2  Afghanistan  AFG  1992       51        13        1954   \n",
       "3  Afghanistan  AFG  1993       24        16        2252   \n",
       "4  Afghanistan  AFG  1994       52        19        2446   \n",
       "\n",
       "   Nutritional Deficiencies  Other neonatal disorders  Whooping Cough  \\\n",
       "0                      1779                      7112            2455   \n",
       "1                      1822                      7574            2385   \n",
       "2                      2069                      8614            2370   \n",
       "3                      2427                      9458            2659   \n",
       "4                      2649                      9823            3187   \n",
       "\n",
       "   Lower respiratory infections  Congenital birth  Measles  \\\n",
       "0                         20224             12850     8649   \n",
       "1                         20879             13701     8669   \n",
       "2                         23585             15812     8539   \n",
       "3                         27116             17855     8949   \n",
       "4                         29271             18835    10642   \n",
       "\n",
       "   Neonatal sepsis and other neonatal infections  \\\n",
       "0                                            420   \n",
       "1                                            520   \n",
       "2                                            662   \n",
       "3                                            723   \n",
       "4                                            736   \n",
       "\n",
       "   eonatal encephalopathy due to birth asphyxia and trauma  Drowning  \\\n",
       "0                                               1599             776   \n",
       "1                                               1804             748   \n",
       "2                                               2160             777   \n",
       "3                                               2414             872   \n",
       "4                                               2519             961   \n",
       "\n",
       "   Tuberculosis  Neonatal preterm birth  Diarrheal diseases  Neoplasms  \\\n",
       "0           808                    6088                3968        431   \n",
       "1           800                    6791                4650        439   \n",
       "2           863                    8098                5833        486   \n",
       "3           979                    9142                7800        549   \n",
       "4          1064                    9575                7894        589   \n",
       "\n",
       "   Syphilis  \n",
       "0       123  \n",
       "1       132  \n",
       "2       180  \n",
       "3       239  \n",
       "4       259  "
      ]
     },
     "execution_count": 6,
     "metadata": {},
     "output_type": "execute_result"
    }
   ],
   "source": [
    "rows_drop=[\"World\",\"Western Pacific Region\",\"African Region (WHO)\",\"OECD Countries\",\"East Asia and Pacific (WB)\",\"Eastern Mediterranean region (WHO)\",\"Europe & Central Asia (WB)\", \"European Region (WHO)\",\"G20\",\"Latin America & Caribbean\",\"World Bank Lower Middle Income\",\"World Bank Upper Middle Income\",\"World Bank High Income\",\"World Bank Low Income\",\"Western Pacific Region (WHO)\",\"East Asia & Pacific (WB)\",\"Middle East & North Africa (WB)\",\"North America (WB)\",\"Region of the Americas (WHO)\",\"South Asia (WB)\",\"South-East Asia Region (WHO)\",\"Sub-Saharan Africa (WB)\",\"Eastern Mediterranean Region (WHO)\",\"Latin America & Caribbean (WB)\"]\n",
    "for i in rows_drop:\n",
    "    data1.drop(data1[(data1.Country==i)].index,inplace=True)\n",
    "data1.head()"
   ]
  },
  {
   "cell_type": "code",
   "execution_count": 7,
   "id": "a4940550",
   "metadata": {
    "_kg_hide-input": true,
    "execution": {
     "iopub.execute_input": "2023-05-22T14:06:15.793336Z",
     "iopub.status.busy": "2023-05-22T14:06:15.792619Z",
     "iopub.status.idle": "2023-05-22T14:06:15.797900Z",
     "shell.execute_reply": "2023-05-22T14:06:15.796830Z"
    },
    "papermill": {
     "duration": 0.029162,
     "end_time": "2023-05-22T14:06:15.800328",
     "exception": false,
     "start_time": "2023-05-22T14:06:15.771166",
     "status": "completed"
    },
    "tags": []
   },
   "outputs": [],
   "source": [
    "pd.reset_option('display.max_rows',200)\n",
    "#data1.Country.unique()"
   ]
  },
  {
   "cell_type": "code",
   "execution_count": 8,
   "id": "0e46a78c",
   "metadata": {
    "_kg_hide-input": true,
    "_kg_hide-output": true,
    "execution": {
     "iopub.execute_input": "2023-05-22T14:06:15.841993Z",
     "iopub.status.busy": "2023-05-22T14:06:15.841566Z",
     "iopub.status.idle": "2023-05-22T14:06:15.861645Z",
     "shell.execute_reply": "2023-05-22T14:06:15.860208Z"
    },
    "papermill": {
     "duration": 0.04393,
     "end_time": "2023-05-22T14:06:15.864089",
     "exception": false,
     "start_time": "2023-05-22T14:06:15.820159",
     "status": "completed"
    },
    "tags": []
   },
   "outputs": [
    {
     "data": {
      "text/html": [
       "<div>\n",
       "<style scoped>\n",
       "    .dataframe tbody tr th:only-of-type {\n",
       "        vertical-align: middle;\n",
       "    }\n",
       "\n",
       "    .dataframe tbody tr th {\n",
       "        vertical-align: top;\n",
       "    }\n",
       "\n",
       "    .dataframe thead th {\n",
       "        text-align: right;\n",
       "    }\n",
       "</style>\n",
       "<table border=\"1\" class=\"dataframe\">\n",
       "  <thead>\n",
       "    <tr style=\"text-align: right;\">\n",
       "      <th></th>\n",
       "      <th>Country</th>\n",
       "      <th>Code</th>\n",
       "      <th>Year</th>\n",
       "      <th>Malaria</th>\n",
       "      <th>HIV/AIDS</th>\n",
       "      <th>Meningitis</th>\n",
       "      <th>Nutritional Deficiencies</th>\n",
       "      <th>Other neonatal disorders</th>\n",
       "      <th>Whooping Cough</th>\n",
       "      <th>Lower respiratory infections</th>\n",
       "      <th>Congenital birth</th>\n",
       "      <th>Measles</th>\n",
       "      <th>Neonatal sepsis and other neonatal infections</th>\n",
       "      <th>eonatal encephalopathy due to birth asphyxia and trauma</th>\n",
       "      <th>Drowning</th>\n",
       "      <th>Tuberculosis</th>\n",
       "      <th>Neonatal preterm birth</th>\n",
       "      <th>Diarrheal diseases</th>\n",
       "      <th>Neoplasms</th>\n",
       "      <th>Syphilis</th>\n",
       "    </tr>\n",
       "  </thead>\n",
       "  <tbody>\n",
       "    <tr>\n",
       "      <th>29</th>\n",
       "      <td>Afghanistan</td>\n",
       "      <td>AFG</td>\n",
       "      <td>2019</td>\n",
       "      <td>92</td>\n",
       "      <td>98</td>\n",
       "      <td>953</td>\n",
       "      <td>925</td>\n",
       "      <td>10986</td>\n",
       "      <td>3104</td>\n",
       "      <td>13770</td>\n",
       "      <td>16589</td>\n",
       "      <td>1061</td>\n",
       "      <td>1243</td>\n",
       "      <td>2394</td>\n",
       "      <td>552</td>\n",
       "      <td>344</td>\n",
       "      <td>8516</td>\n",
       "      <td>4109</td>\n",
       "      <td>620</td>\n",
       "      <td>370</td>\n",
       "    </tr>\n",
       "    <tr>\n",
       "      <th>89</th>\n",
       "      <td>Albania</td>\n",
       "      <td>ALB</td>\n",
       "      <td>2019</td>\n",
       "      <td>0</td>\n",
       "      <td>0</td>\n",
       "      <td>3</td>\n",
       "      <td>2</td>\n",
       "      <td>88</td>\n",
       "      <td>3</td>\n",
       "      <td>65</td>\n",
       "      <td>98</td>\n",
       "      <td>1</td>\n",
       "      <td>1</td>\n",
       "      <td>17</td>\n",
       "      <td>5</td>\n",
       "      <td>0</td>\n",
       "      <td>53</td>\n",
       "      <td>1</td>\n",
       "      <td>17</td>\n",
       "      <td>2</td>\n",
       "    </tr>\n",
       "    <tr>\n",
       "      <th>119</th>\n",
       "      <td>Algeria</td>\n",
       "      <td>DZA</td>\n",
       "      <td>2019</td>\n",
       "      <td>0</td>\n",
       "      <td>19</td>\n",
       "      <td>64</td>\n",
       "      <td>27</td>\n",
       "      <td>1954</td>\n",
       "      <td>244</td>\n",
       "      <td>766</td>\n",
       "      <td>4936</td>\n",
       "      <td>75</td>\n",
       "      <td>363</td>\n",
       "      <td>860</td>\n",
       "      <td>83</td>\n",
       "      <td>9</td>\n",
       "      <td>5499</td>\n",
       "      <td>254</td>\n",
       "      <td>125</td>\n",
       "      <td>81</td>\n",
       "    </tr>\n",
       "    <tr>\n",
       "      <th>149</th>\n",
       "      <td>American Samoa</td>\n",
       "      <td>ASM</td>\n",
       "      <td>2019</td>\n",
       "      <td>0</td>\n",
       "      <td>0</td>\n",
       "      <td>0</td>\n",
       "      <td>0</td>\n",
       "      <td>1</td>\n",
       "      <td>0</td>\n",
       "      <td>1</td>\n",
       "      <td>1</td>\n",
       "      <td>1</td>\n",
       "      <td>0</td>\n",
       "      <td>1</td>\n",
       "      <td>0</td>\n",
       "      <td>0</td>\n",
       "      <td>2</td>\n",
       "      <td>0</td>\n",
       "      <td>0</td>\n",
       "      <td>1</td>\n",
       "    </tr>\n",
       "    <tr>\n",
       "      <th>179</th>\n",
       "      <td>Andorra</td>\n",
       "      <td>AND</td>\n",
       "      <td>2019</td>\n",
       "      <td>0</td>\n",
       "      <td>0</td>\n",
       "      <td>0</td>\n",
       "      <td>0</td>\n",
       "      <td>0</td>\n",
       "      <td>0</td>\n",
       "      <td>0</td>\n",
       "      <td>0</td>\n",
       "      <td>0</td>\n",
       "      <td>0</td>\n",
       "      <td>0</td>\n",
       "      <td>0</td>\n",
       "      <td>0</td>\n",
       "      <td>0</td>\n",
       "      <td>0</td>\n",
       "      <td>0</td>\n",
       "      <td>0</td>\n",
       "    </tr>\n",
       "  </tbody>\n",
       "</table>\n",
       "</div>"
      ],
      "text/plain": [
       "            Country Code  Year  Malaria  HIV/AIDS  Meningitis  \\\n",
       "29      Afghanistan  AFG  2019       92        98         953   \n",
       "89          Albania  ALB  2019        0         0           3   \n",
       "119         Algeria  DZA  2019        0        19          64   \n",
       "149  American Samoa  ASM  2019        0         0           0   \n",
       "179         Andorra  AND  2019        0         0           0   \n",
       "\n",
       "     Nutritional Deficiencies  Other neonatal disorders  Whooping Cough  \\\n",
       "29                        925                     10986            3104   \n",
       "89                          2                        88               3   \n",
       "119                        27                      1954             244   \n",
       "149                         0                         1               0   \n",
       "179                         0                         0               0   \n",
       "\n",
       "     Lower respiratory infections  Congenital birth  Measles  \\\n",
       "29                          13770             16589     1061   \n",
       "89                             65                98        1   \n",
       "119                           766              4936       75   \n",
       "149                             1                 1        1   \n",
       "179                             0                 0        0   \n",
       "\n",
       "     Neonatal sepsis and other neonatal infections  \\\n",
       "29                                            1243   \n",
       "89                                               1   \n",
       "119                                            363   \n",
       "149                                              0   \n",
       "179                                              0   \n",
       "\n",
       "     eonatal encephalopathy due to birth asphyxia and trauma  Drowning  \\\n",
       "29                                                2394             552   \n",
       "89                                                  17               5   \n",
       "119                                                860              83   \n",
       "149                                                  1               0   \n",
       "179                                                  0               0   \n",
       "\n",
       "     Tuberculosis  Neonatal preterm birth  Diarrheal diseases  Neoplasms  \\\n",
       "29            344                    8516                4109        620   \n",
       "89              0                      53                   1         17   \n",
       "119             9                    5499                 254        125   \n",
       "149             0                       2                   0          0   \n",
       "179             0                       0                   0          0   \n",
       "\n",
       "     Syphilis  \n",
       "29        370  \n",
       "89          2  \n",
       "119        81  \n",
       "149         1  \n",
       "179         0  "
      ]
     },
     "execution_count": 8,
     "metadata": {},
     "output_type": "execute_result"
    }
   ],
   "source": [
    "data1_2019=data1[(data1['Year'] == 2019)]\n",
    "data1_2019.head()"
   ]
  },
  {
   "cell_type": "code",
   "execution_count": 9,
   "id": "20db8adb",
   "metadata": {
    "execution": {
     "iopub.execute_input": "2023-05-22T14:06:15.906043Z",
     "iopub.status.busy": "2023-05-22T14:06:15.905595Z",
     "iopub.status.idle": "2023-05-22T14:06:15.913331Z",
     "shell.execute_reply": "2023-05-22T14:06:15.912357Z"
    },
    "papermill": {
     "duration": 0.031467,
     "end_time": "2023-05-22T14:06:15.915614",
     "exception": false,
     "start_time": "2023-05-22T14:06:15.884147",
     "status": "completed"
    },
    "tags": []
   },
   "outputs": [],
   "source": [
    "data1_2019=data1_2019.drop([\"Year\",\"Country\"],axis=1).sum(axis=0)\n",
    "#data_2019=pd.DataFrame(data1_2019,index_col=[\"Object\",\"sum\"])"
   ]
  },
  {
   "cell_type": "code",
   "execution_count": 10,
   "id": "3d387829",
   "metadata": {
    "execution": {
     "iopub.execute_input": "2023-05-22T14:06:15.958668Z",
     "iopub.status.busy": "2023-05-22T14:06:15.958072Z",
     "iopub.status.idle": "2023-05-22T14:06:15.962562Z",
     "shell.execute_reply": "2023-05-22T14:06:15.961820Z"
    },
    "papermill": {
     "duration": 0.028349,
     "end_time": "2023-05-22T14:06:15.964651",
     "exception": false,
     "start_time": "2023-05-22T14:06:15.936302",
     "status": "completed"
    },
    "tags": []
   },
   "outputs": [],
   "source": [
    "Sum=[]\n",
    "for column_name, column_sum in data1_2019.items():\n",
    "    Sum.append(column_sum)\n",
    "#Sum"
   ]
  },
  {
   "cell_type": "code",
   "execution_count": 11,
   "id": "33d166e3",
   "metadata": {
    "execution": {
     "iopub.execute_input": "2023-05-22T14:06:16.008260Z",
     "iopub.status.busy": "2023-05-22T14:06:16.007300Z",
     "iopub.status.idle": "2023-05-22T14:06:16.103345Z",
     "shell.execute_reply": "2023-05-22T14:06:16.102224Z"
    },
    "papermill": {
     "duration": 0.120361,
     "end_time": "2023-05-22T14:06:16.105975",
     "exception": false,
     "start_time": "2023-05-22T14:06:15.985614",
     "status": "completed"
    },
    "tags": []
   },
   "outputs": [
    {
     "data": {
      "application/vnd.plotly.v1+json": {
       "config": {
        "plotlyServerURL": "https://plot.ly"
       },
       "data": [
        {
         "alignmentgroup": "True",
         "hovertemplate": "index=%{x}<br>y=%{y}<extra></extra>",
         "legendgroup": "",
         "marker": {
          "color": "#636efa",
          "pattern": {
           "shape": ""
          }
         },
         "name": "",
         "offsetgroup": "",
         "orientation": "v",
         "showlegend": false,
         "textposition": "auto",
         "type": "bar",
         "x": [
          "Malaria",
          "HIV/AIDS",
          "Meningitis",
          "Nutritional Deficiencies",
          "Other neonatal disorders",
          "Whooping Cough",
          "Lower respiratory infections",
          "Congenital birth",
          "Measles",
          "Neonatal sepsis and other neonatal infections",
          "eonatal encephalopathy due to birth asphyxia and trauma",
          "Drowning",
          "Tuberculosis",
          "Neonatal preterm birth",
          "Diarrheal diseases",
          "Neoplasms",
          "Syphilis"
         ],
         "xaxis": "x",
         "y": [
          356284,
          48883,
          112164,
          97237,
          372574,
          107737,
          671497,
          474093,
          69798,
          226410,
          566916,
          36480,
          50135,
          664206,
          500368,
          44515,
          81352
         ],
         "yaxis": "y"
        }
       ],
       "layout": {
        "barmode": "relative",
        "legend": {
         "tracegroupgap": 0
        },
        "template": {
         "data": {
          "bar": [
           {
            "error_x": {
             "color": "#2a3f5f"
            },
            "error_y": {
             "color": "#2a3f5f"
            },
            "marker": {
             "line": {
              "color": "#E5ECF6",
              "width": 0.5
             },
             "pattern": {
              "fillmode": "overlay",
              "size": 10,
              "solidity": 0.2
             }
            },
            "type": "bar"
           }
          ],
          "barpolar": [
           {
            "marker": {
             "line": {
              "color": "#E5ECF6",
              "width": 0.5
             },
             "pattern": {
              "fillmode": "overlay",
              "size": 10,
              "solidity": 0.2
             }
            },
            "type": "barpolar"
           }
          ],
          "carpet": [
           {
            "aaxis": {
             "endlinecolor": "#2a3f5f",
             "gridcolor": "white",
             "linecolor": "white",
             "minorgridcolor": "white",
             "startlinecolor": "#2a3f5f"
            },
            "baxis": {
             "endlinecolor": "#2a3f5f",
             "gridcolor": "white",
             "linecolor": "white",
             "minorgridcolor": "white",
             "startlinecolor": "#2a3f5f"
            },
            "type": "carpet"
           }
          ],
          "choropleth": [
           {
            "colorbar": {
             "outlinewidth": 0,
             "ticks": ""
            },
            "type": "choropleth"
           }
          ],
          "contour": [
           {
            "colorbar": {
             "outlinewidth": 0,
             "ticks": ""
            },
            "colorscale": [
             [
              0,
              "#0d0887"
             ],
             [
              0.1111111111111111,
              "#46039f"
             ],
             [
              0.2222222222222222,
              "#7201a8"
             ],
             [
              0.3333333333333333,
              "#9c179e"
             ],
             [
              0.4444444444444444,
              "#bd3786"
             ],
             [
              0.5555555555555556,
              "#d8576b"
             ],
             [
              0.6666666666666666,
              "#ed7953"
             ],
             [
              0.7777777777777778,
              "#fb9f3a"
             ],
             [
              0.8888888888888888,
              "#fdca26"
             ],
             [
              1,
              "#f0f921"
             ]
            ],
            "type": "contour"
           }
          ],
          "contourcarpet": [
           {
            "colorbar": {
             "outlinewidth": 0,
             "ticks": ""
            },
            "type": "contourcarpet"
           }
          ],
          "heatmap": [
           {
            "colorbar": {
             "outlinewidth": 0,
             "ticks": ""
            },
            "colorscale": [
             [
              0,
              "#0d0887"
             ],
             [
              0.1111111111111111,
              "#46039f"
             ],
             [
              0.2222222222222222,
              "#7201a8"
             ],
             [
              0.3333333333333333,
              "#9c179e"
             ],
             [
              0.4444444444444444,
              "#bd3786"
             ],
             [
              0.5555555555555556,
              "#d8576b"
             ],
             [
              0.6666666666666666,
              "#ed7953"
             ],
             [
              0.7777777777777778,
              "#fb9f3a"
             ],
             [
              0.8888888888888888,
              "#fdca26"
             ],
             [
              1,
              "#f0f921"
             ]
            ],
            "type": "heatmap"
           }
          ],
          "heatmapgl": [
           {
            "colorbar": {
             "outlinewidth": 0,
             "ticks": ""
            },
            "colorscale": [
             [
              0,
              "#0d0887"
             ],
             [
              0.1111111111111111,
              "#46039f"
             ],
             [
              0.2222222222222222,
              "#7201a8"
             ],
             [
              0.3333333333333333,
              "#9c179e"
             ],
             [
              0.4444444444444444,
              "#bd3786"
             ],
             [
              0.5555555555555556,
              "#d8576b"
             ],
             [
              0.6666666666666666,
              "#ed7953"
             ],
             [
              0.7777777777777778,
              "#fb9f3a"
             ],
             [
              0.8888888888888888,
              "#fdca26"
             ],
             [
              1,
              "#f0f921"
             ]
            ],
            "type": "heatmapgl"
           }
          ],
          "histogram": [
           {
            "marker": {
             "pattern": {
              "fillmode": "overlay",
              "size": 10,
              "solidity": 0.2
             }
            },
            "type": "histogram"
           }
          ],
          "histogram2d": [
           {
            "colorbar": {
             "outlinewidth": 0,
             "ticks": ""
            },
            "colorscale": [
             [
              0,
              "#0d0887"
             ],
             [
              0.1111111111111111,
              "#46039f"
             ],
             [
              0.2222222222222222,
              "#7201a8"
             ],
             [
              0.3333333333333333,
              "#9c179e"
             ],
             [
              0.4444444444444444,
              "#bd3786"
             ],
             [
              0.5555555555555556,
              "#d8576b"
             ],
             [
              0.6666666666666666,
              "#ed7953"
             ],
             [
              0.7777777777777778,
              "#fb9f3a"
             ],
             [
              0.8888888888888888,
              "#fdca26"
             ],
             [
              1,
              "#f0f921"
             ]
            ],
            "type": "histogram2d"
           }
          ],
          "histogram2dcontour": [
           {
            "colorbar": {
             "outlinewidth": 0,
             "ticks": ""
            },
            "colorscale": [
             [
              0,
              "#0d0887"
             ],
             [
              0.1111111111111111,
              "#46039f"
             ],
             [
              0.2222222222222222,
              "#7201a8"
             ],
             [
              0.3333333333333333,
              "#9c179e"
             ],
             [
              0.4444444444444444,
              "#bd3786"
             ],
             [
              0.5555555555555556,
              "#d8576b"
             ],
             [
              0.6666666666666666,
              "#ed7953"
             ],
             [
              0.7777777777777778,
              "#fb9f3a"
             ],
             [
              0.8888888888888888,
              "#fdca26"
             ],
             [
              1,
              "#f0f921"
             ]
            ],
            "type": "histogram2dcontour"
           }
          ],
          "mesh3d": [
           {
            "colorbar": {
             "outlinewidth": 0,
             "ticks": ""
            },
            "type": "mesh3d"
           }
          ],
          "parcoords": [
           {
            "line": {
             "colorbar": {
              "outlinewidth": 0,
              "ticks": ""
             }
            },
            "type": "parcoords"
           }
          ],
          "pie": [
           {
            "automargin": true,
            "type": "pie"
           }
          ],
          "scatter": [
           {
            "fillpattern": {
             "fillmode": "overlay",
             "size": 10,
             "solidity": 0.2
            },
            "type": "scatter"
           }
          ],
          "scatter3d": [
           {
            "line": {
             "colorbar": {
              "outlinewidth": 0,
              "ticks": ""
             }
            },
            "marker": {
             "colorbar": {
              "outlinewidth": 0,
              "ticks": ""
             }
            },
            "type": "scatter3d"
           }
          ],
          "scattercarpet": [
           {
            "marker": {
             "colorbar": {
              "outlinewidth": 0,
              "ticks": ""
             }
            },
            "type": "scattercarpet"
           }
          ],
          "scattergeo": [
           {
            "marker": {
             "colorbar": {
              "outlinewidth": 0,
              "ticks": ""
             }
            },
            "type": "scattergeo"
           }
          ],
          "scattergl": [
           {
            "marker": {
             "colorbar": {
              "outlinewidth": 0,
              "ticks": ""
             }
            },
            "type": "scattergl"
           }
          ],
          "scattermapbox": [
           {
            "marker": {
             "colorbar": {
              "outlinewidth": 0,
              "ticks": ""
             }
            },
            "type": "scattermapbox"
           }
          ],
          "scatterpolar": [
           {
            "marker": {
             "colorbar": {
              "outlinewidth": 0,
              "ticks": ""
             }
            },
            "type": "scatterpolar"
           }
          ],
          "scatterpolargl": [
           {
            "marker": {
             "colorbar": {
              "outlinewidth": 0,
              "ticks": ""
             }
            },
            "type": "scatterpolargl"
           }
          ],
          "scatterternary": [
           {
            "marker": {
             "colorbar": {
              "outlinewidth": 0,
              "ticks": ""
             }
            },
            "type": "scatterternary"
           }
          ],
          "surface": [
           {
            "colorbar": {
             "outlinewidth": 0,
             "ticks": ""
            },
            "colorscale": [
             [
              0,
              "#0d0887"
             ],
             [
              0.1111111111111111,
              "#46039f"
             ],
             [
              0.2222222222222222,
              "#7201a8"
             ],
             [
              0.3333333333333333,
              "#9c179e"
             ],
             [
              0.4444444444444444,
              "#bd3786"
             ],
             [
              0.5555555555555556,
              "#d8576b"
             ],
             [
              0.6666666666666666,
              "#ed7953"
             ],
             [
              0.7777777777777778,
              "#fb9f3a"
             ],
             [
              0.8888888888888888,
              "#fdca26"
             ],
             [
              1,
              "#f0f921"
             ]
            ],
            "type": "surface"
           }
          ],
          "table": [
           {
            "cells": {
             "fill": {
              "color": "#EBF0F8"
             },
             "line": {
              "color": "white"
             }
            },
            "header": {
             "fill": {
              "color": "#C8D4E3"
             },
             "line": {
              "color": "white"
             }
            },
            "type": "table"
           }
          ]
         },
         "layout": {
          "annotationdefaults": {
           "arrowcolor": "#2a3f5f",
           "arrowhead": 0,
           "arrowwidth": 1
          },
          "autotypenumbers": "strict",
          "coloraxis": {
           "colorbar": {
            "outlinewidth": 0,
            "ticks": ""
           }
          },
          "colorscale": {
           "diverging": [
            [
             0,
             "#8e0152"
            ],
            [
             0.1,
             "#c51b7d"
            ],
            [
             0.2,
             "#de77ae"
            ],
            [
             0.3,
             "#f1b6da"
            ],
            [
             0.4,
             "#fde0ef"
            ],
            [
             0.5,
             "#f7f7f7"
            ],
            [
             0.6,
             "#e6f5d0"
            ],
            [
             0.7,
             "#b8e186"
            ],
            [
             0.8,
             "#7fbc41"
            ],
            [
             0.9,
             "#4d9221"
            ],
            [
             1,
             "#276419"
            ]
           ],
           "sequential": [
            [
             0,
             "#0d0887"
            ],
            [
             0.1111111111111111,
             "#46039f"
            ],
            [
             0.2222222222222222,
             "#7201a8"
            ],
            [
             0.3333333333333333,
             "#9c179e"
            ],
            [
             0.4444444444444444,
             "#bd3786"
            ],
            [
             0.5555555555555556,
             "#d8576b"
            ],
            [
             0.6666666666666666,
             "#ed7953"
            ],
            [
             0.7777777777777778,
             "#fb9f3a"
            ],
            [
             0.8888888888888888,
             "#fdca26"
            ],
            [
             1,
             "#f0f921"
            ]
           ],
           "sequentialminus": [
            [
             0,
             "#0d0887"
            ],
            [
             0.1111111111111111,
             "#46039f"
            ],
            [
             0.2222222222222222,
             "#7201a8"
            ],
            [
             0.3333333333333333,
             "#9c179e"
            ],
            [
             0.4444444444444444,
             "#bd3786"
            ],
            [
             0.5555555555555556,
             "#d8576b"
            ],
            [
             0.6666666666666666,
             "#ed7953"
            ],
            [
             0.7777777777777778,
             "#fb9f3a"
            ],
            [
             0.8888888888888888,
             "#fdca26"
            ],
            [
             1,
             "#f0f921"
            ]
           ]
          },
          "colorway": [
           "#636efa",
           "#EF553B",
           "#00cc96",
           "#ab63fa",
           "#FFA15A",
           "#19d3f3",
           "#FF6692",
           "#B6E880",
           "#FF97FF",
           "#FECB52"
          ],
          "font": {
           "color": "#2a3f5f"
          },
          "geo": {
           "bgcolor": "white",
           "lakecolor": "white",
           "landcolor": "#E5ECF6",
           "showlakes": true,
           "showland": true,
           "subunitcolor": "white"
          },
          "hoverlabel": {
           "align": "left"
          },
          "hovermode": "closest",
          "mapbox": {
           "style": "light"
          },
          "paper_bgcolor": "white",
          "plot_bgcolor": "#E5ECF6",
          "polar": {
           "angularaxis": {
            "gridcolor": "white",
            "linecolor": "white",
            "ticks": ""
           },
           "bgcolor": "#E5ECF6",
           "radialaxis": {
            "gridcolor": "white",
            "linecolor": "white",
            "ticks": ""
           }
          },
          "scene": {
           "xaxis": {
            "backgroundcolor": "#E5ECF6",
            "gridcolor": "white",
            "gridwidth": 2,
            "linecolor": "white",
            "showbackground": true,
            "ticks": "",
            "zerolinecolor": "white"
           },
           "yaxis": {
            "backgroundcolor": "#E5ECF6",
            "gridcolor": "white",
            "gridwidth": 2,
            "linecolor": "white",
            "showbackground": true,
            "ticks": "",
            "zerolinecolor": "white"
           },
           "zaxis": {
            "backgroundcolor": "#E5ECF6",
            "gridcolor": "white",
            "gridwidth": 2,
            "linecolor": "white",
            "showbackground": true,
            "ticks": "",
            "zerolinecolor": "white"
           }
          },
          "shapedefaults": {
           "line": {
            "color": "#2a3f5f"
           }
          },
          "ternary": {
           "aaxis": {
            "gridcolor": "white",
            "linecolor": "white",
            "ticks": ""
           },
           "baxis": {
            "gridcolor": "white",
            "linecolor": "white",
            "ticks": ""
           },
           "bgcolor": "#E5ECF6",
           "caxis": {
            "gridcolor": "white",
            "linecolor": "white",
            "ticks": ""
           }
          },
          "title": {
           "x": 0.05
          },
          "xaxis": {
           "automargin": true,
           "gridcolor": "white",
           "linecolor": "white",
           "ticks": "",
           "title": {
            "standoff": 15
           },
           "zerolinecolor": "white",
           "zerolinewidth": 2
          },
          "yaxis": {
           "automargin": true,
           "gridcolor": "white",
           "linecolor": "white",
           "ticks": "",
           "title": {
            "standoff": 15
           },
           "zerolinecolor": "white",
           "zerolinewidth": 2
          }
         }
        },
        "title": {
         "text": "Reasons for deaths in children"
        },
        "xaxis": {
         "anchor": "y",
         "domain": [
          0,
          1
         ],
         "title": {
          "text": "Diseases"
         }
        },
        "yaxis": {
         "anchor": "x",
         "domain": [
          0,
          1
         ],
         "title": {
          "text": "Deaths"
         }
        }
       }
      }
     },
     "metadata": {},
     "output_type": "display_data"
    }
   ],
   "source": [
    "fig = px.bar(data1_2019, x=data1_2019.keys(), y=Sum, title=\"Reasons for deaths in children\")\n",
    "fig.update_layout(\n",
    "    xaxis_title=\"Diseases\",\n",
    "    yaxis_title=\"Deaths\"\n",
    ")\n",
    "\n",
    "fig.show()"
   ]
  },
  {
   "attachments": {},
   "cell_type": "markdown",
   "id": "1c470a36",
   "metadata": {
    "papermill": {
     "duration": 0.020635,
     "end_time": "2023-05-22T14:06:16.146915",
     "exception": false,
     "start_time": "2023-05-22T14:06:16.126280",
     "status": "completed"
    },
    "tags": []
   },
   "source": [
    "<b>4) Whats my Observation?</b>\n",
    "- Highest deaths in children in the year 2019 was due to Lower Respiratory diseases followed by Neonatal Preterm birth\n",
    "- Lower respiratory diseases make up 15% of the total deaths in 2019\n",
    "- Lower respiratory disease include: Bronchitis, Bronchiolitis and Pneumonia.\n",
    "- Preterm is defined as babies born alive before 37 weeks of pregnancy are completed."
   ]
  },
  {
   "attachments": {},
   "cell_type": "markdown",
   "id": "02005251",
   "metadata": {
    "papermill": {
     "duration": 0.019826,
     "end_time": "2023-05-22T14:06:16.187551",
     "exception": false,
     "start_time": "2023-05-22T14:06:16.167725",
     "status": "completed"
    },
    "tags": []
   },
   "source": [
    "<b>5) What is Region-wise deaths in children due to pneumonia?</b>"
   ]
  },
  {
   "cell_type": "code",
   "execution_count": 12,
   "id": "0215cc08",
   "metadata": {
    "execution": {
     "iopub.execute_input": "2023-05-22T14:06:16.230162Z",
     "iopub.status.busy": "2023-05-22T14:06:16.229504Z",
     "iopub.status.idle": "2023-05-22T14:06:16.261553Z",
     "shell.execute_reply": "2023-05-22T14:06:16.260045Z"
    },
    "papermill": {
     "duration": 0.056844,
     "end_time": "2023-05-22T14:06:16.264541",
     "exception": false,
     "start_time": "2023-05-22T14:06:16.207697",
     "status": "completed"
    },
    "tags": []
   },
   "outputs": [],
   "source": [
    "data2 = pd.read_csv(\"C:/Users/91728/OneDrive/Desktop/data1.csv\")\n",
    "data2.columns=[\"Country\",\"Code\",\"Year\",\"Malaria\",\"HIV/AIDS\",\"Meningitis\",\"Nutritional Deficiencies\",\"Other neonatal disorders\",\"Whooping Cough\",\"Lower respiratory infections\",\"Congenital birth\",\"Measles\",\"Neonatal sepsis and other neonatal infections\",\"eonatal encephalopathy due to birth asphyxia and trauma\",\"Drowning\",\"Tuberculosis\",\"Neonatal preterm birth\",\"Diarrheal diseases\",\"Neoplasms\",\"Syphilis\"]\n",
    "data2=data2.loc[data2['Country'].isin(rows_drop)]"
   ]
  },
  {
   "cell_type": "code",
   "execution_count": 13,
   "id": "a17f600f",
   "metadata": {
    "execution": {
     "iopub.execute_input": "2023-05-22T14:06:16.307678Z",
     "iopub.status.busy": "2023-05-22T14:06:16.307266Z",
     "iopub.status.idle": "2023-05-22T14:06:16.325250Z",
     "shell.execute_reply": "2023-05-22T14:06:16.324169Z"
    },
    "papermill": {
     "duration": 0.042311,
     "end_time": "2023-05-22T14:06:16.327615",
     "exception": false,
     "start_time": "2023-05-22T14:06:16.285304",
     "status": "completed"
    },
    "tags": []
   },
   "outputs": [
    {
     "data": {
      "text/html": [
       "<div>\n",
       "<style scoped>\n",
       "    .dataframe tbody tr th:only-of-type {\n",
       "        vertical-align: middle;\n",
       "    }\n",
       "\n",
       "    .dataframe tbody tr th {\n",
       "        vertical-align: top;\n",
       "    }\n",
       "\n",
       "    .dataframe thead th {\n",
       "        text-align: right;\n",
       "    }\n",
       "</style>\n",
       "<table border=\"1\" class=\"dataframe\">\n",
       "  <thead>\n",
       "    <tr style=\"text-align: right;\">\n",
       "      <th></th>\n",
       "      <th>Country</th>\n",
       "      <th>Code</th>\n",
       "      <th>Year</th>\n",
       "      <th>Malaria</th>\n",
       "      <th>HIV/AIDS</th>\n",
       "      <th>Meningitis</th>\n",
       "      <th>Nutritional Deficiencies</th>\n",
       "      <th>Other neonatal disorders</th>\n",
       "      <th>Whooping Cough</th>\n",
       "      <th>Lower respiratory infections</th>\n",
       "      <th>Congenital birth</th>\n",
       "      <th>Measles</th>\n",
       "      <th>Neonatal sepsis and other neonatal infections</th>\n",
       "      <th>eonatal encephalopathy due to birth asphyxia and trauma</th>\n",
       "      <th>Drowning</th>\n",
       "      <th>Tuberculosis</th>\n",
       "      <th>Neonatal preterm birth</th>\n",
       "      <th>Diarrheal diseases</th>\n",
       "      <th>Neoplasms</th>\n",
       "      <th>Syphilis</th>\n",
       "    </tr>\n",
       "  </thead>\n",
       "  <tbody>\n",
       "    <tr>\n",
       "      <th>30</th>\n",
       "      <td>African Region (WHO)</td>\n",
       "      <td>NaN</td>\n",
       "      <td>1990</td>\n",
       "      <td>447410</td>\n",
       "      <td>67976</td>\n",
       "      <td>120537</td>\n",
       "      <td>170136</td>\n",
       "      <td>100379</td>\n",
       "      <td>71931</td>\n",
       "      <td>574550</td>\n",
       "      <td>159172</td>\n",
       "      <td>311413</td>\n",
       "      <td>88481</td>\n",
       "      <td>223733</td>\n",
       "      <td>16651</td>\n",
       "      <td>78180</td>\n",
       "      <td>211210</td>\n",
       "      <td>686390</td>\n",
       "      <td>17987</td>\n",
       "      <td>54547</td>\n",
       "    </tr>\n",
       "    <tr>\n",
       "      <th>31</th>\n",
       "      <td>African Region (WHO)</td>\n",
       "      <td>NaN</td>\n",
       "      <td>1991</td>\n",
       "      <td>459072</td>\n",
       "      <td>84564</td>\n",
       "      <td>121337</td>\n",
       "      <td>169808</td>\n",
       "      <td>100935</td>\n",
       "      <td>70355</td>\n",
       "      <td>576609</td>\n",
       "      <td>160003</td>\n",
       "      <td>309440</td>\n",
       "      <td>89984</td>\n",
       "      <td>227655</td>\n",
       "      <td>16622</td>\n",
       "      <td>78410</td>\n",
       "      <td>213601</td>\n",
       "      <td>703042</td>\n",
       "      <td>18000</td>\n",
       "      <td>55060</td>\n",
       "    </tr>\n",
       "    <tr>\n",
       "      <th>32</th>\n",
       "      <td>African Region (WHO)</td>\n",
       "      <td>NaN</td>\n",
       "      <td>1992</td>\n",
       "      <td>465937</td>\n",
       "      <td>102261</td>\n",
       "      <td>123685</td>\n",
       "      <td>170327</td>\n",
       "      <td>101819</td>\n",
       "      <td>69821</td>\n",
       "      <td>580524</td>\n",
       "      <td>161215</td>\n",
       "      <td>307431</td>\n",
       "      <td>91607</td>\n",
       "      <td>231948</td>\n",
       "      <td>16488</td>\n",
       "      <td>78935</td>\n",
       "      <td>216558</td>\n",
       "      <td>690549</td>\n",
       "      <td>18095</td>\n",
       "      <td>55206</td>\n",
       "    </tr>\n",
       "    <tr>\n",
       "      <th>33</th>\n",
       "      <td>African Region (WHO)</td>\n",
       "      <td>NaN</td>\n",
       "      <td>1993</td>\n",
       "      <td>476788</td>\n",
       "      <td>120528</td>\n",
       "      <td>123999</td>\n",
       "      <td>169274</td>\n",
       "      <td>102990</td>\n",
       "      <td>70355</td>\n",
       "      <td>582585</td>\n",
       "      <td>161973</td>\n",
       "      <td>304795</td>\n",
       "      <td>93629</td>\n",
       "      <td>236904</td>\n",
       "      <td>16379</td>\n",
       "      <td>79244</td>\n",
       "      <td>219819</td>\n",
       "      <td>684423</td>\n",
       "      <td>17998</td>\n",
       "      <td>55245</td>\n",
       "    </tr>\n",
       "    <tr>\n",
       "      <th>34</th>\n",
       "      <td>African Region (WHO)</td>\n",
       "      <td>NaN</td>\n",
       "      <td>1994</td>\n",
       "      <td>483003</td>\n",
       "      <td>138184</td>\n",
       "      <td>122849</td>\n",
       "      <td>167430</td>\n",
       "      <td>104380</td>\n",
       "      <td>69827</td>\n",
       "      <td>585053</td>\n",
       "      <td>162259</td>\n",
       "      <td>303322</td>\n",
       "      <td>95797</td>\n",
       "      <td>241927</td>\n",
       "      <td>16133</td>\n",
       "      <td>79716</td>\n",
       "      <td>223217</td>\n",
       "      <td>689508</td>\n",
       "      <td>17793</td>\n",
       "      <td>55415</td>\n",
       "    </tr>\n",
       "  </tbody>\n",
       "</table>\n",
       "</div>"
      ],
      "text/plain": [
       "                 Country Code  Year  Malaria  HIV/AIDS  Meningitis  \\\n",
       "30  African Region (WHO)  NaN  1990   447410     67976      120537   \n",
       "31  African Region (WHO)  NaN  1991   459072     84564      121337   \n",
       "32  African Region (WHO)  NaN  1992   465937    102261      123685   \n",
       "33  African Region (WHO)  NaN  1993   476788    120528      123999   \n",
       "34  African Region (WHO)  NaN  1994   483003    138184      122849   \n",
       "\n",
       "    Nutritional Deficiencies  Other neonatal disorders  Whooping Cough  \\\n",
       "30                    170136                    100379           71931   \n",
       "31                    169808                    100935           70355   \n",
       "32                    170327                    101819           69821   \n",
       "33                    169274                    102990           70355   \n",
       "34                    167430                    104380           69827   \n",
       "\n",
       "    Lower respiratory infections  Congenital birth  Measles  \\\n",
       "30                        574550            159172   311413   \n",
       "31                        576609            160003   309440   \n",
       "32                        580524            161215   307431   \n",
       "33                        582585            161973   304795   \n",
       "34                        585053            162259   303322   \n",
       "\n",
       "    Neonatal sepsis and other neonatal infections  \\\n",
       "30                                          88481   \n",
       "31                                          89984   \n",
       "32                                          91607   \n",
       "33                                          93629   \n",
       "34                                          95797   \n",
       "\n",
       "    eonatal encephalopathy due to birth asphyxia and trauma  Drowning  \\\n",
       "30                                             223733           16651   \n",
       "31                                             227655           16622   \n",
       "32                                             231948           16488   \n",
       "33                                             236904           16379   \n",
       "34                                             241927           16133   \n",
       "\n",
       "    Tuberculosis  Neonatal preterm birth  Diarrheal diseases  Neoplasms  \\\n",
       "30         78180                  211210              686390      17987   \n",
       "31         78410                  213601              703042      18000   \n",
       "32         78935                  216558              690549      18095   \n",
       "33         79244                  219819              684423      17998   \n",
       "34         79716                  223217              689508      17793   \n",
       "\n",
       "    Syphilis  \n",
       "30     54547  \n",
       "31     55060  \n",
       "32     55206  \n",
       "33     55245  \n",
       "34     55415  "
      ]
     },
     "execution_count": 13,
     "metadata": {},
     "output_type": "execute_result"
    }
   ],
   "source": [
    "data2.head()"
   ]
  },
  {
   "cell_type": "code",
   "execution_count": 14,
   "id": "c6fcf5dd",
   "metadata": {
    "execution": {
     "iopub.execute_input": "2023-05-22T14:06:16.372572Z",
     "iopub.status.busy": "2023-05-22T14:06:16.371897Z",
     "iopub.status.idle": "2023-05-22T14:06:16.529674Z",
     "shell.execute_reply": "2023-05-22T14:06:16.528633Z"
    },
    "papermill": {
     "duration": 0.183669,
     "end_time": "2023-05-22T14:06:16.532239",
     "exception": false,
     "start_time": "2023-05-22T14:06:16.348570",
     "status": "completed"
    },
    "tags": []
   },
   "outputs": [
    {
     "data": {
      "application/vnd.plotly.v1+json": {
       "config": {
        "plotlyServerURL": "https://plot.ly"
       },
       "data": [
        {
         "hovertemplate": "Country=African Region (WHO)<br>Year=%{x}<br>Lower respiratory infections=%{y}<extra></extra>",
         "legendgroup": "African Region (WHO)",
         "line": {
          "color": "#636efa",
          "dash": "solid"
         },
         "marker": {
          "symbol": "circle"
         },
         "mode": "lines",
         "name": "African Region (WHO)",
         "orientation": "v",
         "showlegend": true,
         "type": "scatter",
         "x": [
          1990,
          1991,
          1992,
          1993,
          1994,
          1995,
          1996,
          1997,
          1998,
          1999,
          2000,
          2001,
          2002,
          2003,
          2004,
          2005,
          2006,
          2007,
          2008,
          2009,
          2010,
          2011,
          2012,
          2013,
          2014,
          2015,
          2016,
          2017,
          2018,
          2019
         ],
         "xaxis": "x",
         "y": [
          574550,
          576609,
          580524,
          582585,
          585053,
          587630,
          584975,
          581897,
          578780,
          577367,
          575097,
          567422,
          561299,
          550057,
          538459,
          527585,
          522927,
          512704,
          495310,
          480983,
          465196,
          449834,
          440197,
          433458,
          427640,
          418145,
          406428,
          384316,
          364205,
          347237
         ],
         "yaxis": "y"
        },
        {
         "hovertemplate": "Country=East Asia & Pacific (WB)<br>Year=%{x}<br>Lower respiratory infections=%{y}<extra></extra>",
         "legendgroup": "East Asia & Pacific (WB)",
         "line": {
          "color": "#EF553B",
          "dash": "solid"
         },
         "marker": {
          "symbol": "circle"
         },
         "mode": "lines",
         "name": "East Asia & Pacific (WB)",
         "orientation": "v",
         "showlegend": true,
         "type": "scatter",
         "x": [
          1990,
          1991,
          1992,
          1993,
          1994,
          1995,
          1996,
          1997,
          1998,
          1999,
          2000,
          2001,
          2002,
          2003,
          2004,
          2005,
          2006,
          2007,
          2008,
          2009,
          2010,
          2011,
          2012,
          2013,
          2014,
          2015,
          2016,
          2017,
          2018,
          2019
         ],
         "xaxis": "x",
         "y": [
          593354,
          570420,
          540290,
          504587,
          467975,
          430549,
          394069,
          359150,
          327580,
          297789,
          267586,
          238989,
          213535,
          190899,
          172205,
          157803,
          143748,
          131037,
          121959,
          112618,
          102755,
          95269,
          89892,
          83847,
          77715,
          74136,
          70851,
          65021,
          58792,
          54067
         ],
         "yaxis": "y"
        },
        {
         "hovertemplate": "Country=Eastern Mediterranean Region (WHO)<br>Year=%{x}<br>Lower respiratory infections=%{y}<extra></extra>",
         "legendgroup": "Eastern Mediterranean Region (WHO)",
         "line": {
          "color": "#00cc96",
          "dash": "solid"
         },
         "marker": {
          "symbol": "circle"
         },
         "mode": "lines",
         "name": "Eastern Mediterranean Region (WHO)",
         "orientation": "v",
         "showlegend": true,
         "type": "scatter",
         "x": [
          1990,
          1991,
          1992,
          1993,
          1994,
          1995,
          1996,
          1997,
          1998,
          1999,
          2000,
          2001,
          2002,
          2003,
          2004,
          2005,
          2006,
          2007,
          2008,
          2009,
          2010,
          2011,
          2012,
          2013,
          2014,
          2015,
          2016,
          2017,
          2018,
          2019
         ],
         "xaxis": "x",
         "y": [
          203494,
          198947,
          197082,
          196356,
          194683,
          191080,
          184683,
          181164,
          176412,
          172405,
          167069,
          161501,
          156995,
          155490,
          151582,
          145893,
          141231,
          136205,
          136066,
          133361,
          129138,
          125016,
          121180,
          118524,
          114999,
          111698,
          107377,
          101438,
          93967,
          90290
         ],
         "yaxis": "y"
        },
        {
         "hovertemplate": "Country=Europe & Central Asia (WB)<br>Year=%{x}<br>Lower respiratory infections=%{y}<extra></extra>",
         "legendgroup": "Europe & Central Asia (WB)",
         "line": {
          "color": "#ab63fa",
          "dash": "solid"
         },
         "marker": {
          "symbol": "circle"
         },
         "mode": "lines",
         "name": "Europe & Central Asia (WB)",
         "orientation": "v",
         "showlegend": true,
         "type": "scatter",
         "x": [
          1990,
          1991,
          1992,
          1993,
          1994,
          1995,
          1996,
          1997,
          1998,
          1999,
          2000,
          2001,
          2002,
          2003,
          2004,
          2005,
          2006,
          2007,
          2008,
          2009,
          2010,
          2011,
          2012,
          2013,
          2014,
          2015,
          2016,
          2017,
          2018,
          2019
         ],
         "xaxis": "x",
         "y": [
          88286,
          82126,
          77605,
          74217,
          71388,
          67640,
          63406,
          59414,
          55161,
          50878,
          46456,
          42489,
          38768,
          35618,
          33081,
          30833,
          29102,
          27508,
          26029,
          24769,
          23446,
          22514,
          21899,
          20975,
          20002,
          18889,
          17720,
          16376,
          15475,
          14581
         ],
         "yaxis": "y"
        },
        {
         "hovertemplate": "Country=European Region (WHO)<br>Year=%{x}<br>Lower respiratory infections=%{y}<extra></extra>",
         "legendgroup": "European Region (WHO)",
         "line": {
          "color": "#FFA15A",
          "dash": "solid"
         },
         "marker": {
          "symbol": "circle"
         },
         "mode": "lines",
         "name": "European Region (WHO)",
         "orientation": "v",
         "showlegend": true,
         "type": "scatter",
         "x": [
          1990,
          1991,
          1992,
          1993,
          1994,
          1995,
          1996,
          1997,
          1998,
          1999,
          2000,
          2001,
          2002,
          2003,
          2004,
          2005,
          2006,
          2007,
          2008,
          2009,
          2010,
          2011,
          2012,
          2013,
          2014,
          2015,
          2016,
          2017,
          2018,
          2019
         ],
         "xaxis": "x",
         "y": [
          88524,
          82325,
          77791,
          74360,
          71518,
          67750,
          63492,
          59488,
          55233,
          50940,
          46510,
          42536,
          38812,
          35663,
          33122,
          30870,
          29140,
          27543,
          26063,
          24805,
          23477,
          22545,
          21932,
          21007,
          20033,
          18919,
          17755,
          16405,
          15502,
          14605
         ],
         "yaxis": "y"
        },
        {
         "hovertemplate": "Country=G20<br>Year=%{x}<br>Lower respiratory infections=%{y}<extra></extra>",
         "legendgroup": "G20",
         "line": {
          "color": "#19d3f3",
          "dash": "solid"
         },
         "marker": {
          "symbol": "circle"
         },
         "mode": "lines",
         "name": "G20",
         "orientation": "v",
         "showlegend": true,
         "type": "scatter",
         "x": [
          1990,
          1991,
          1992,
          1993,
          1994,
          1995,
          1996,
          1997,
          1998,
          1999,
          2000,
          2001,
          2002,
          2003,
          2004,
          2005,
          2006,
          2007,
          2008,
          2009,
          2010,
          2011,
          2012,
          2013,
          2014,
          2015,
          2016,
          2017,
          2018,
          2019
         ],
         "xaxis": "x",
         "y": [
          1090480,
          1047431,
          1004008,
          948128,
          895503,
          847767,
          793562,
          744609,
          697978,
          652578,
          607297,
          561740,
          525107,
          493872,
          469032,
          444154,
          418501,
          395531,
          376306,
          354372,
          333757,
          314910,
          300770,
          287923,
          265533,
          246019,
          216642,
          193243,
          179653,
          167540
         ],
         "yaxis": "y"
        },
        {
         "hovertemplate": "Country=Latin America & Caribbean (WB)<br>Year=%{x}<br>Lower respiratory infections=%{y}<extra></extra>",
         "legendgroup": "Latin America & Caribbean (WB)",
         "line": {
          "color": "#FF6692",
          "dash": "solid"
         },
         "marker": {
          "symbol": "circle"
         },
         "mode": "lines",
         "name": "Latin America & Caribbean (WB)",
         "orientation": "v",
         "showlegend": true,
         "type": "scatter",
         "x": [
          1990,
          1991,
          1992,
          1993,
          1994,
          1995,
          1996,
          1997,
          1998,
          1999,
          2000,
          2001,
          2002,
          2003,
          2004,
          2005,
          2006,
          2007,
          2008,
          2009,
          2010,
          2011,
          2012,
          2013,
          2014,
          2015,
          2016,
          2017,
          2018,
          2019
         ],
         "xaxis": "x",
         "y": [
          103617,
          96771,
          91281,
          86071,
          80947,
          76450,
          72137,
          67744,
          63404,
          59581,
          55933,
          52579,
          49869,
          47747,
          45449,
          43146,
          41193,
          39257,
          37457,
          35807,
          34024,
          32406,
          30668,
          29144,
          27406,
          25626,
          24119,
          22547,
          21262,
          20140
         ],
         "yaxis": "y"
        },
        {
         "hovertemplate": "Country=Middle East & North Africa (WB)<br>Year=%{x}<br>Lower respiratory infections=%{y}<extra></extra>",
         "legendgroup": "Middle East & North Africa (WB)",
         "line": {
          "color": "#B6E880",
          "dash": "solid"
         },
         "marker": {
          "symbol": "circle"
         },
         "mode": "lines",
         "name": "Middle East & North Africa (WB)",
         "orientation": "v",
         "showlegend": true,
         "type": "scatter",
         "x": [
          1990,
          1991,
          1992,
          1993,
          1994,
          1995,
          1996,
          1997,
          1998,
          1999,
          2000,
          2001,
          2002,
          2003,
          2004,
          2005,
          2006,
          2007,
          2008,
          2009,
          2010,
          2011,
          2012,
          2013,
          2014,
          2015,
          2016,
          2017,
          2018,
          2019
         ],
         "xaxis": "x",
         "y": [
          94450,
          88880,
          83572,
          78032,
          72420,
          67597,
          61467,
          57405,
          53968,
          51199,
          47982,
          44965,
          42536,
          40779,
          38820,
          36825,
          35020,
          33941,
          32508,
          31056,
          28879,
          27475,
          25597,
          24219,
          22158,
          21451,
          18542,
          16618,
          14941,
          13625
         ],
         "yaxis": "y"
        },
        {
         "hovertemplate": "Country=North America (WB)<br>Year=%{x}<br>Lower respiratory infections=%{y}<extra></extra>",
         "legendgroup": "North America (WB)",
         "line": {
          "color": "#FF97FF",
          "dash": "solid"
         },
         "marker": {
          "symbol": "circle"
         },
         "mode": "lines",
         "name": "North America (WB)",
         "orientation": "v",
         "showlegend": true,
         "type": "scatter",
         "x": [
          1990,
          1991,
          1992,
          1993,
          1994,
          1995,
          1996,
          1997,
          1998,
          1999,
          2000,
          2001,
          2002,
          2003,
          2004,
          2005,
          2006,
          2007,
          2008,
          2009,
          2010,
          2011,
          2012,
          2013,
          2014,
          2015,
          2016,
          2017,
          2018,
          2019
         ],
         "xaxis": "x",
         "y": [
          1476,
          1418,
          1332,
          1279,
          1211,
          1125,
          1068,
          1030,
          1000,
          947,
          905,
          881,
          873,
          878,
          855,
          853,
          850,
          844,
          809,
          762,
          699,
          675,
          654,
          648,
          643,
          644,
          637,
          613,
          585,
          568
         ],
         "yaxis": "y"
        },
        {
         "hovertemplate": "Country=OECD Countries<br>Year=%{x}<br>Lower respiratory infections=%{y}<extra></extra>",
         "legendgroup": "OECD Countries",
         "line": {
          "color": "#FECB52",
          "dash": "solid"
         },
         "marker": {
          "symbol": "circle"
         },
         "mode": "lines",
         "name": "OECD Countries",
         "orientation": "v",
         "showlegend": true,
         "type": "scatter",
         "x": [
          1990,
          1991,
          1992,
          1993,
          1994,
          1995,
          1996,
          1997,
          1998,
          1999,
          2000,
          2001,
          2002,
          2003,
          2004,
          2005,
          2006,
          2007,
          2008,
          2009,
          2010,
          2011,
          2012,
          2013,
          2014,
          2015,
          2016,
          2017,
          2018,
          2019
         ],
         "xaxis": "x",
         "y": [
          51162,
          46740,
          43276,
          40128,
          37781,
          35417,
          32709,
          29952,
          27019,
          24265,
          21542,
          19069,
          16889,
          14642,
          12890,
          11504,
          10451,
          9599,
          8875,
          8352,
          7820,
          7345,
          6871,
          6505,
          6151,
          5779,
          5424,
          5046,
          4793,
          4533
         ],
         "yaxis": "y"
        },
        {
         "hovertemplate": "Country=Region of the Americas (WHO)<br>Year=%{x}<br>Lower respiratory infections=%{y}<extra></extra>",
         "legendgroup": "Region of the Americas (WHO)",
         "line": {
          "color": "#636efa",
          "dash": "solid"
         },
         "marker": {
          "symbol": "circle"
         },
         "mode": "lines",
         "name": "Region of the Americas (WHO)",
         "orientation": "v",
         "showlegend": true,
         "type": "scatter",
         "x": [
          1990,
          1991,
          1992,
          1993,
          1994,
          1995,
          1996,
          1997,
          1998,
          1999,
          2000,
          2001,
          2002,
          2003,
          2004,
          2005,
          2006,
          2007,
          2008,
          2009,
          2010,
          2011,
          2012,
          2013,
          2014,
          2015,
          2016,
          2017,
          2018,
          2019
         ],
         "xaxis": "x",
         "y": [
          105031,
          98131,
          92555,
          87292,
          82103,
          77517,
          73153,
          68721,
          64356,
          60481,
          56797,
          53423,
          50707,
          48593,
          46276,
          43971,
          42017,
          40077,
          38244,
          36549,
          34705,
          33063,
          31304,
          29778,
          28037,
          26259,
          24745,
          23150,
          21838,
          20699
         ],
         "yaxis": "y"
        },
        {
         "hovertemplate": "Country=South Asia (WB)<br>Year=%{x}<br>Lower respiratory infections=%{y}<extra></extra>",
         "legendgroup": "South Asia (WB)",
         "line": {
          "color": "#EF553B",
          "dash": "solid"
         },
         "marker": {
          "symbol": "circle"
         },
         "mode": "lines",
         "name": "South Asia (WB)",
         "orientation": "v",
         "showlegend": true,
         "type": "scatter",
         "x": [
          1990,
          1991,
          1992,
          1993,
          1994,
          1995,
          1996,
          1997,
          1998,
          1999,
          2000,
          2001,
          2002,
          2003,
          2004,
          2005,
          2006,
          2007,
          2008,
          2009,
          2010,
          2011,
          2012,
          2013,
          2014,
          2015,
          2016,
          2017,
          2018,
          2019
         ],
         "xaxis": "x",
         "y": [
          730906,
          714282,
          702312,
          683319,
          667010,
          654232,
          632869,
          615529,
          595320,
          575625,
          553805,
          528865,
          510460,
          496757,
          482116,
          463743,
          442650,
          422970,
          408576,
          389489,
          371805,
          353642,
          338775,
          327958,
          307769,
          287791,
          257931,
          234078,
          217220,
          204855
         ],
         "yaxis": "y"
        },
        {
         "hovertemplate": "Country=South-East Asia Region (WHO)<br>Year=%{x}<br>Lower respiratory infections=%{y}<extra></extra>",
         "legendgroup": "South-East Asia Region (WHO)",
         "line": {
          "color": "#00cc96",
          "dash": "solid"
         },
         "marker": {
          "symbol": "circle"
         },
         "mode": "lines",
         "name": "South-East Asia Region (WHO)",
         "orientation": "v",
         "showlegend": true,
         "type": "scatter",
         "x": [
          1990,
          1991,
          1992,
          1993,
          1994,
          1995,
          1996,
          1997,
          1998,
          1999,
          2000,
          2001,
          2002,
          2003,
          2004,
          2005,
          2006,
          2007,
          2008,
          2009,
          2010,
          2011,
          2012,
          2013,
          2014,
          2015,
          2016,
          2017,
          2018,
          2019
         ],
         "xaxis": "x",
         "y": [
          769780,
          745560,
          724182,
          695380,
          670022,
          650507,
          624052,
          601607,
          579757,
          557178,
          532416,
          505296,
          484394,
          465920,
          448911,
          430200,
          407815,
          388395,
          370328,
          348822,
          329017,
          309642,
          293449,
          280840,
          259290,
          238870,
          207999,
          185472,
          172601,
          161221
         ],
         "yaxis": "y"
        },
        {
         "hovertemplate": "Country=Sub-Saharan Africa (WB)<br>Year=%{x}<br>Lower respiratory infections=%{y}<extra></extra>",
         "legendgroup": "Sub-Saharan Africa (WB)",
         "line": {
          "color": "#ab63fa",
          "dash": "solid"
         },
         "marker": {
          "symbol": "circle"
         },
         "mode": "lines",
         "name": "Sub-Saharan Africa (WB)",
         "orientation": "v",
         "showlegend": true,
         "type": "scatter",
         "x": [
          1990,
          1991,
          1992,
          1993,
          1994,
          1995,
          1996,
          1997,
          1998,
          1999,
          2000,
          2001,
          2002,
          2003,
          2004,
          2005,
          2006,
          2007,
          2008,
          2009,
          2010,
          2011,
          2012,
          2013,
          2014,
          2015,
          2016,
          2017,
          2018,
          2019
         ],
         "xaxis": "x",
         "y": [
          595767,
          597535,
          601758,
          604401,
          607383,
          610232,
          607630,
          604542,
          601320,
          599729,
          597370,
          589324,
          582861,
          570975,
          558891,
          548096,
          543459,
          533603,
          516833,
          502335,
          486170,
          470131,
          459985,
          452451,
          446050,
          435650,
          423658,
          400738,
          380505,
          363551
         ],
         "yaxis": "y"
        },
        {
         "hovertemplate": "Country=Western Pacific Region (WHO)<br>Year=%{x}<br>Lower respiratory infections=%{y}<extra></extra>",
         "legendgroup": "Western Pacific Region (WHO)",
         "line": {
          "color": "#FFA15A",
          "dash": "solid"
         },
         "marker": {
          "symbol": "circle"
         },
         "mode": "lines",
         "name": "Western Pacific Region (WHO)",
         "orientation": "v",
         "showlegend": true,
         "type": "scatter",
         "x": [
          1990,
          1991,
          1992,
          1993,
          1994,
          1995,
          1996,
          1997,
          1998,
          1999,
          2000,
          2001,
          2002,
          2003,
          2004,
          2005,
          2006,
          2007,
          2008,
          2009,
          2010,
          2011,
          2012,
          2013,
          2014,
          2015,
          2016,
          2017,
          2018,
          2019
         ],
         "xaxis": "x",
         "y": [
          466312,
          449669,
          425828,
          395713,
          364737,
          333108,
          302046,
          271681,
          242974,
          217138,
          191917,
          167688,
          146472,
          127717,
          112857,
          102562,
          92685,
          84038,
          77970,
          72144,
          66087,
          61871,
          59283,
          55529,
          51649,
          50209,
          49080,
          45141,
          40601,
          37273
         ],
         "yaxis": "y"
        },
        {
         "hovertemplate": "Country=World<br>Year=%{x}<br>Lower respiratory infections=%{y}<extra></extra>",
         "legendgroup": "World",
         "line": {
          "color": "#19d3f3",
          "dash": "solid"
         },
         "marker": {
          "symbol": "circle"
         },
         "mode": "lines",
         "name": "World",
         "orientation": "v",
         "showlegend": true,
         "type": "scatter",
         "x": [
          1990,
          1991,
          1992,
          1993,
          1994,
          1995,
          1996,
          1997,
          1998,
          1999,
          2000,
          2001,
          2002,
          2003,
          2004,
          2005,
          2006,
          2007,
          2008,
          2009,
          2010,
          2011,
          2012,
          2013,
          2014,
          2015,
          2016,
          2017,
          2018,
          2019
         ],
         "xaxis": "x",
         "y": [
          2209128,
          2152647,
          2099333,
          2033025,
          1969416,
          1908865,
          1833638,
          1765777,
          1698704,
          1636678,
          1570943,
          1498974,
          1439764,
          1384504,
          1332256,
          1282132,
          1236847,
          1189966,
          1144956,
          1097597,
          1048514,
          1002827,
          968168,
          939922,
          902402,
          864821,
          814076,
          756578,
          709340,
          671928
         ],
         "yaxis": "y"
        },
        {
         "hovertemplate": "Country=World Bank High Income<br>Year=%{x}<br>Lower respiratory infections=%{y}<extra></extra>",
         "legendgroup": "World Bank High Income",
         "line": {
          "color": "#FF6692",
          "dash": "solid"
         },
         "marker": {
          "symbol": "circle"
         },
         "mode": "lines",
         "name": "World Bank High Income",
         "orientation": "v",
         "showlegend": true,
         "type": "scatter",
         "x": [
          1990,
          1991,
          1992,
          1993,
          1994,
          1995,
          1996,
          1997,
          1998,
          1999,
          2000,
          2001,
          2002,
          2003,
          2004,
          2005,
          2006,
          2007,
          2008,
          2009,
          2010,
          2011,
          2012,
          2013,
          2014,
          2015,
          2016,
          2017,
          2018,
          2019
         ],
         "xaxis": "x",
         "y": [
          7482,
          6854,
          6315,
          5761,
          5366,
          4938,
          4566,
          4232,
          3980,
          3677,
          3403,
          3170,
          3006,
          2895,
          2751,
          2642,
          2544,
          2489,
          2406,
          2292,
          2134,
          2047,
          1954,
          1875,
          1821,
          1781,
          1731,
          1619,
          1527,
          1453
         ],
         "yaxis": "y"
        },
        {
         "hovertemplate": "Country=World Bank Low Income<br>Year=%{x}<br>Lower respiratory infections=%{y}<extra></extra>",
         "legendgroup": "World Bank Low Income",
         "line": {
          "color": "#B6E880",
          "dash": "solid"
         },
         "marker": {
          "symbol": "circle"
         },
         "mode": "lines",
         "name": "World Bank Low Income",
         "orientation": "v",
         "showlegend": true,
         "type": "scatter",
         "x": [
          1990,
          1991,
          1992,
          1993,
          1994,
          1995,
          1996,
          1997,
          1998,
          1999,
          2000,
          2001,
          2002,
          2003,
          2004,
          2005,
          2006,
          2007,
          2008,
          2009,
          2010,
          2011,
          2012,
          2013,
          2014,
          2015,
          2016,
          2017,
          2018,
          2019
         ],
         "xaxis": "x",
         "y": [
          414027,
          411484,
          412664,
          412814,
          411318,
          408097,
          402010,
          396754,
          389577,
          383462,
          375943,
          366680,
          358165,
          349693,
          339333,
          332664,
          325238,
          317421,
          307267,
          297212,
          287364,
          278831,
          271232,
          265211,
          259382,
          251635,
          243030,
          230555,
          219630,
          210141
         ],
         "yaxis": "y"
        },
        {
         "hovertemplate": "Country=World Bank Lower Middle Income<br>Year=%{x}<br>Lower respiratory infections=%{y}<extra></extra>",
         "legendgroup": "World Bank Lower Middle Income",
         "line": {
          "color": "#FF97FF",
          "dash": "solid"
         },
         "marker": {
          "symbol": "circle"
         },
         "mode": "lines",
         "name": "World Bank Lower Middle Income",
         "orientation": "v",
         "showlegend": true,
         "type": "scatter",
         "x": [
          1990,
          1991,
          1992,
          1993,
          1994,
          1995,
          1996,
          1997,
          1998,
          1999,
          2000,
          2001,
          2002,
          2003,
          2004,
          2005,
          2006,
          2007,
          2008,
          2009,
          2010,
          2011,
          2012,
          2013,
          2014,
          2015,
          2016,
          2017,
          2018,
          2019
         ],
         "xaxis": "x",
         "y": [
          1219879,
          1193713,
          1171480,
          1142318,
          1117304,
          1097935,
          1065846,
          1039012,
          1013170,
          989656,
          961751,
          927753,
          901789,
          875898,
          850351,
          820831,
          794973,
          766582,
          740326,
          710867,
          679678,
          648220,
          625208,
          607834,
          581489,
          555225,
          515739,
          475950,
          444305,
          420181
         ],
         "yaxis": "y"
        },
        {
         "hovertemplate": "Country=World Bank Upper Middle Income<br>Year=%{x}<br>Lower respiratory infections=%{y}<extra></extra>",
         "legendgroup": "World Bank Upper Middle Income",
         "line": {
          "color": "#FECB52",
          "dash": "solid"
         },
         "marker": {
          "symbol": "circle"
         },
         "mode": "lines",
         "name": "World Bank Upper Middle Income",
         "orientation": "v",
         "showlegend": true,
         "type": "scatter",
         "x": [
          1990,
          1991,
          1992,
          1993,
          1994,
          1995,
          1996,
          1997,
          1998,
          1999,
          2000,
          2001,
          2002,
          2003,
          2004,
          2005,
          2006,
          2007,
          2008,
          2009,
          2010,
          2011,
          2012,
          2013,
          2014,
          2015,
          2016,
          2017,
          2018,
          2019
         ],
         "xaxis": "x",
         "y": [
          566663,
          539544,
          507844,
          471127,
          434452,
          396942,
          360284,
          324865,
          291072,
          258992,
          228974,
          200515,
          175964,
          155192,
          139003,
          125180,
          113286,
          102685,
          94188,
          86481,
          78617,
          73029,
          69091,
          64337,
          59066,
          55560,
          52977,
          47881,
          43328,
          39623
         ],
         "yaxis": "y"
        }
       ],
       "layout": {
        "legend": {
         "title": {
          "text": "Country"
         },
         "tracegroupgap": 0
        },
        "template": {
         "data": {
          "bar": [
           {
            "error_x": {
             "color": "#2a3f5f"
            },
            "error_y": {
             "color": "#2a3f5f"
            },
            "marker": {
             "line": {
              "color": "#E5ECF6",
              "width": 0.5
             },
             "pattern": {
              "fillmode": "overlay",
              "size": 10,
              "solidity": 0.2
             }
            },
            "type": "bar"
           }
          ],
          "barpolar": [
           {
            "marker": {
             "line": {
              "color": "#E5ECF6",
              "width": 0.5
             },
             "pattern": {
              "fillmode": "overlay",
              "size": 10,
              "solidity": 0.2
             }
            },
            "type": "barpolar"
           }
          ],
          "carpet": [
           {
            "aaxis": {
             "endlinecolor": "#2a3f5f",
             "gridcolor": "white",
             "linecolor": "white",
             "minorgridcolor": "white",
             "startlinecolor": "#2a3f5f"
            },
            "baxis": {
             "endlinecolor": "#2a3f5f",
             "gridcolor": "white",
             "linecolor": "white",
             "minorgridcolor": "white",
             "startlinecolor": "#2a3f5f"
            },
            "type": "carpet"
           }
          ],
          "choropleth": [
           {
            "colorbar": {
             "outlinewidth": 0,
             "ticks": ""
            },
            "type": "choropleth"
           }
          ],
          "contour": [
           {
            "colorbar": {
             "outlinewidth": 0,
             "ticks": ""
            },
            "colorscale": [
             [
              0,
              "#0d0887"
             ],
             [
              0.1111111111111111,
              "#46039f"
             ],
             [
              0.2222222222222222,
              "#7201a8"
             ],
             [
              0.3333333333333333,
              "#9c179e"
             ],
             [
              0.4444444444444444,
              "#bd3786"
             ],
             [
              0.5555555555555556,
              "#d8576b"
             ],
             [
              0.6666666666666666,
              "#ed7953"
             ],
             [
              0.7777777777777778,
              "#fb9f3a"
             ],
             [
              0.8888888888888888,
              "#fdca26"
             ],
             [
              1,
              "#f0f921"
             ]
            ],
            "type": "contour"
           }
          ],
          "contourcarpet": [
           {
            "colorbar": {
             "outlinewidth": 0,
             "ticks": ""
            },
            "type": "contourcarpet"
           }
          ],
          "heatmap": [
           {
            "colorbar": {
             "outlinewidth": 0,
             "ticks": ""
            },
            "colorscale": [
             [
              0,
              "#0d0887"
             ],
             [
              0.1111111111111111,
              "#46039f"
             ],
             [
              0.2222222222222222,
              "#7201a8"
             ],
             [
              0.3333333333333333,
              "#9c179e"
             ],
             [
              0.4444444444444444,
              "#bd3786"
             ],
             [
              0.5555555555555556,
              "#d8576b"
             ],
             [
              0.6666666666666666,
              "#ed7953"
             ],
             [
              0.7777777777777778,
              "#fb9f3a"
             ],
             [
              0.8888888888888888,
              "#fdca26"
             ],
             [
              1,
              "#f0f921"
             ]
            ],
            "type": "heatmap"
           }
          ],
          "heatmapgl": [
           {
            "colorbar": {
             "outlinewidth": 0,
             "ticks": ""
            },
            "colorscale": [
             [
              0,
              "#0d0887"
             ],
             [
              0.1111111111111111,
              "#46039f"
             ],
             [
              0.2222222222222222,
              "#7201a8"
             ],
             [
              0.3333333333333333,
              "#9c179e"
             ],
             [
              0.4444444444444444,
              "#bd3786"
             ],
             [
              0.5555555555555556,
              "#d8576b"
             ],
             [
              0.6666666666666666,
              "#ed7953"
             ],
             [
              0.7777777777777778,
              "#fb9f3a"
             ],
             [
              0.8888888888888888,
              "#fdca26"
             ],
             [
              1,
              "#f0f921"
             ]
            ],
            "type": "heatmapgl"
           }
          ],
          "histogram": [
           {
            "marker": {
             "pattern": {
              "fillmode": "overlay",
              "size": 10,
              "solidity": 0.2
             }
            },
            "type": "histogram"
           }
          ],
          "histogram2d": [
           {
            "colorbar": {
             "outlinewidth": 0,
             "ticks": ""
            },
            "colorscale": [
             [
              0,
              "#0d0887"
             ],
             [
              0.1111111111111111,
              "#46039f"
             ],
             [
              0.2222222222222222,
              "#7201a8"
             ],
             [
              0.3333333333333333,
              "#9c179e"
             ],
             [
              0.4444444444444444,
              "#bd3786"
             ],
             [
              0.5555555555555556,
              "#d8576b"
             ],
             [
              0.6666666666666666,
              "#ed7953"
             ],
             [
              0.7777777777777778,
              "#fb9f3a"
             ],
             [
              0.8888888888888888,
              "#fdca26"
             ],
             [
              1,
              "#f0f921"
             ]
            ],
            "type": "histogram2d"
           }
          ],
          "histogram2dcontour": [
           {
            "colorbar": {
             "outlinewidth": 0,
             "ticks": ""
            },
            "colorscale": [
             [
              0,
              "#0d0887"
             ],
             [
              0.1111111111111111,
              "#46039f"
             ],
             [
              0.2222222222222222,
              "#7201a8"
             ],
             [
              0.3333333333333333,
              "#9c179e"
             ],
             [
              0.4444444444444444,
              "#bd3786"
             ],
             [
              0.5555555555555556,
              "#d8576b"
             ],
             [
              0.6666666666666666,
              "#ed7953"
             ],
             [
              0.7777777777777778,
              "#fb9f3a"
             ],
             [
              0.8888888888888888,
              "#fdca26"
             ],
             [
              1,
              "#f0f921"
             ]
            ],
            "type": "histogram2dcontour"
           }
          ],
          "mesh3d": [
           {
            "colorbar": {
             "outlinewidth": 0,
             "ticks": ""
            },
            "type": "mesh3d"
           }
          ],
          "parcoords": [
           {
            "line": {
             "colorbar": {
              "outlinewidth": 0,
              "ticks": ""
             }
            },
            "type": "parcoords"
           }
          ],
          "pie": [
           {
            "automargin": true,
            "type": "pie"
           }
          ],
          "scatter": [
           {
            "fillpattern": {
             "fillmode": "overlay",
             "size": 10,
             "solidity": 0.2
            },
            "type": "scatter"
           }
          ],
          "scatter3d": [
           {
            "line": {
             "colorbar": {
              "outlinewidth": 0,
              "ticks": ""
             }
            },
            "marker": {
             "colorbar": {
              "outlinewidth": 0,
              "ticks": ""
             }
            },
            "type": "scatter3d"
           }
          ],
          "scattercarpet": [
           {
            "marker": {
             "colorbar": {
              "outlinewidth": 0,
              "ticks": ""
             }
            },
            "type": "scattercarpet"
           }
          ],
          "scattergeo": [
           {
            "marker": {
             "colorbar": {
              "outlinewidth": 0,
              "ticks": ""
             }
            },
            "type": "scattergeo"
           }
          ],
          "scattergl": [
           {
            "marker": {
             "colorbar": {
              "outlinewidth": 0,
              "ticks": ""
             }
            },
            "type": "scattergl"
           }
          ],
          "scattermapbox": [
           {
            "marker": {
             "colorbar": {
              "outlinewidth": 0,
              "ticks": ""
             }
            },
            "type": "scattermapbox"
           }
          ],
          "scatterpolar": [
           {
            "marker": {
             "colorbar": {
              "outlinewidth": 0,
              "ticks": ""
             }
            },
            "type": "scatterpolar"
           }
          ],
          "scatterpolargl": [
           {
            "marker": {
             "colorbar": {
              "outlinewidth": 0,
              "ticks": ""
             }
            },
            "type": "scatterpolargl"
           }
          ],
          "scatterternary": [
           {
            "marker": {
             "colorbar": {
              "outlinewidth": 0,
              "ticks": ""
             }
            },
            "type": "scatterternary"
           }
          ],
          "surface": [
           {
            "colorbar": {
             "outlinewidth": 0,
             "ticks": ""
            },
            "colorscale": [
             [
              0,
              "#0d0887"
             ],
             [
              0.1111111111111111,
              "#46039f"
             ],
             [
              0.2222222222222222,
              "#7201a8"
             ],
             [
              0.3333333333333333,
              "#9c179e"
             ],
             [
              0.4444444444444444,
              "#bd3786"
             ],
             [
              0.5555555555555556,
              "#d8576b"
             ],
             [
              0.6666666666666666,
              "#ed7953"
             ],
             [
              0.7777777777777778,
              "#fb9f3a"
             ],
             [
              0.8888888888888888,
              "#fdca26"
             ],
             [
              1,
              "#f0f921"
             ]
            ],
            "type": "surface"
           }
          ],
          "table": [
           {
            "cells": {
             "fill": {
              "color": "#EBF0F8"
             },
             "line": {
              "color": "white"
             }
            },
            "header": {
             "fill": {
              "color": "#C8D4E3"
             },
             "line": {
              "color": "white"
             }
            },
            "type": "table"
           }
          ]
         },
         "layout": {
          "annotationdefaults": {
           "arrowcolor": "#2a3f5f",
           "arrowhead": 0,
           "arrowwidth": 1
          },
          "autotypenumbers": "strict",
          "coloraxis": {
           "colorbar": {
            "outlinewidth": 0,
            "ticks": ""
           }
          },
          "colorscale": {
           "diverging": [
            [
             0,
             "#8e0152"
            ],
            [
             0.1,
             "#c51b7d"
            ],
            [
             0.2,
             "#de77ae"
            ],
            [
             0.3,
             "#f1b6da"
            ],
            [
             0.4,
             "#fde0ef"
            ],
            [
             0.5,
             "#f7f7f7"
            ],
            [
             0.6,
             "#e6f5d0"
            ],
            [
             0.7,
             "#b8e186"
            ],
            [
             0.8,
             "#7fbc41"
            ],
            [
             0.9,
             "#4d9221"
            ],
            [
             1,
             "#276419"
            ]
           ],
           "sequential": [
            [
             0,
             "#0d0887"
            ],
            [
             0.1111111111111111,
             "#46039f"
            ],
            [
             0.2222222222222222,
             "#7201a8"
            ],
            [
             0.3333333333333333,
             "#9c179e"
            ],
            [
             0.4444444444444444,
             "#bd3786"
            ],
            [
             0.5555555555555556,
             "#d8576b"
            ],
            [
             0.6666666666666666,
             "#ed7953"
            ],
            [
             0.7777777777777778,
             "#fb9f3a"
            ],
            [
             0.8888888888888888,
             "#fdca26"
            ],
            [
             1,
             "#f0f921"
            ]
           ],
           "sequentialminus": [
            [
             0,
             "#0d0887"
            ],
            [
             0.1111111111111111,
             "#46039f"
            ],
            [
             0.2222222222222222,
             "#7201a8"
            ],
            [
             0.3333333333333333,
             "#9c179e"
            ],
            [
             0.4444444444444444,
             "#bd3786"
            ],
            [
             0.5555555555555556,
             "#d8576b"
            ],
            [
             0.6666666666666666,
             "#ed7953"
            ],
            [
             0.7777777777777778,
             "#fb9f3a"
            ],
            [
             0.8888888888888888,
             "#fdca26"
            ],
            [
             1,
             "#f0f921"
            ]
           ]
          },
          "colorway": [
           "#636efa",
           "#EF553B",
           "#00cc96",
           "#ab63fa",
           "#FFA15A",
           "#19d3f3",
           "#FF6692",
           "#B6E880",
           "#FF97FF",
           "#FECB52"
          ],
          "font": {
           "color": "#2a3f5f"
          },
          "geo": {
           "bgcolor": "white",
           "lakecolor": "white",
           "landcolor": "#E5ECF6",
           "showlakes": true,
           "showland": true,
           "subunitcolor": "white"
          },
          "hoverlabel": {
           "align": "left"
          },
          "hovermode": "closest",
          "mapbox": {
           "style": "light"
          },
          "paper_bgcolor": "white",
          "plot_bgcolor": "#E5ECF6",
          "polar": {
           "angularaxis": {
            "gridcolor": "white",
            "linecolor": "white",
            "ticks": ""
           },
           "bgcolor": "#E5ECF6",
           "radialaxis": {
            "gridcolor": "white",
            "linecolor": "white",
            "ticks": ""
           }
          },
          "scene": {
           "xaxis": {
            "backgroundcolor": "#E5ECF6",
            "gridcolor": "white",
            "gridwidth": 2,
            "linecolor": "white",
            "showbackground": true,
            "ticks": "",
            "zerolinecolor": "white"
           },
           "yaxis": {
            "backgroundcolor": "#E5ECF6",
            "gridcolor": "white",
            "gridwidth": 2,
            "linecolor": "white",
            "showbackground": true,
            "ticks": "",
            "zerolinecolor": "white"
           },
           "zaxis": {
            "backgroundcolor": "#E5ECF6",
            "gridcolor": "white",
            "gridwidth": 2,
            "linecolor": "white",
            "showbackground": true,
            "ticks": "",
            "zerolinecolor": "white"
           }
          },
          "shapedefaults": {
           "line": {
            "color": "#2a3f5f"
           }
          },
          "ternary": {
           "aaxis": {
            "gridcolor": "white",
            "linecolor": "white",
            "ticks": ""
           },
           "baxis": {
            "gridcolor": "white",
            "linecolor": "white",
            "ticks": ""
           },
           "bgcolor": "#E5ECF6",
           "caxis": {
            "gridcolor": "white",
            "linecolor": "white",
            "ticks": ""
           }
          },
          "title": {
           "x": 0.05
          },
          "xaxis": {
           "automargin": true,
           "gridcolor": "white",
           "linecolor": "white",
           "ticks": "",
           "title": {
            "standoff": 15
           },
           "zerolinecolor": "white",
           "zerolinewidth": 2
          },
          "yaxis": {
           "automargin": true,
           "gridcolor": "white",
           "linecolor": "white",
           "ticks": "",
           "title": {
            "standoff": 15
           },
           "zerolinecolor": "white",
           "zerolinewidth": 2
          }
         }
        },
        "title": {
         "text": "Region wise deaths in children due to Lower respiratory diseases: Trend analysis"
        },
        "xaxis": {
         "anchor": "y",
         "domain": [
          0,
          1
         ],
         "title": {
          "text": "Year"
         }
        },
        "yaxis": {
         "anchor": "x",
         "domain": [
          0,
          1
         ],
         "title": {
          "text": "Lower respiratory infections"
         }
        }
       }
      }
     },
     "metadata": {},
     "output_type": "display_data"
    }
   ],
   "source": [
    "fig = px.line(data2, x=\"Year\", y=\"Lower respiratory infections\", color='Country',title=\"Region wise deaths in children due to Lower respiratory diseases: Trend analysis\")\n",
    "fig.show()"
   ]
  },
  {
   "cell_type": "code",
   "execution_count": 15,
   "id": "30ce96f6",
   "metadata": {
    "execution": {
     "iopub.execute_input": "2023-05-22T14:06:16.576854Z",
     "iopub.status.busy": "2023-05-22T14:06:16.576416Z",
     "iopub.status.idle": "2023-05-22T14:06:16.583491Z",
     "shell.execute_reply": "2023-05-22T14:06:16.582331Z"
    },
    "papermill": {
     "duration": 0.031982,
     "end_time": "2023-05-22T14:06:16.585795",
     "exception": false,
     "start_time": "2023-05-22T14:06:16.553813",
     "status": "completed"
    },
    "tags": []
   },
   "outputs": [
    {
     "data": {
      "text/plain": [
       "0.6253363455608338"
      ]
     },
     "execution_count": 15,
     "metadata": {},
     "output_type": "execute_result"
    }
   ],
   "source": [
    "420.181/671.928"
   ]
  },
  {
   "cell_type": "code",
   "execution_count": 16,
   "id": "87a52288",
   "metadata": {
    "execution": {
     "iopub.execute_input": "2023-05-22T14:06:16.631454Z",
     "iopub.status.busy": "2023-05-22T14:06:16.630756Z",
     "iopub.status.idle": "2023-05-22T14:06:16.636502Z",
     "shell.execute_reply": "2023-05-22T14:06:16.635696Z"
    },
    "papermill": {
     "duration": 0.030704,
     "end_time": "2023-05-22T14:06:16.638698",
     "exception": false,
     "start_time": "2023-05-22T14:06:16.607994",
     "status": "completed"
    },
    "tags": []
   },
   "outputs": [],
   "source": [
    "data2_region=data2[(data2['Year'] == 2019) & (data2[\"Country\"]!=\"World\")]"
   ]
  },
  {
   "cell_type": "code",
   "execution_count": 17,
   "id": "28f26d4f",
   "metadata": {
    "execution": {
     "iopub.execute_input": "2023-05-22T14:06:16.684082Z",
     "iopub.status.busy": "2023-05-22T14:06:16.683647Z",
     "iopub.status.idle": "2023-05-22T14:06:16.754228Z",
     "shell.execute_reply": "2023-05-22T14:06:16.753100Z"
    },
    "papermill": {
     "duration": 0.096545,
     "end_time": "2023-05-22T14:06:16.756675",
     "exception": false,
     "start_time": "2023-05-22T14:06:16.660130",
     "status": "completed"
    },
    "tags": []
   },
   "outputs": [
    {
     "data": {
      "application/vnd.plotly.v1+json": {
       "config": {
        "plotlyServerURL": "https://plot.ly"
       },
       "data": [
        {
         "alignmentgroup": "True",
         "hovertemplate": "Country=%{x}<br>Lower respiratory infections=%{y}<extra></extra>",
         "legendgroup": "",
         "marker": {
          "color": "#636efa",
          "pattern": {
           "shape": ""
          }
         },
         "name": "",
         "offsetgroup": "",
         "orientation": "v",
         "showlegend": false,
         "textposition": "auto",
         "type": "bar",
         "x": [
          "African Region (WHO)",
          "East Asia & Pacific (WB)",
          "Eastern Mediterranean Region (WHO)",
          "Europe & Central Asia (WB)",
          "European Region (WHO)",
          "G20",
          "Latin America & Caribbean (WB)",
          "Middle East & North Africa (WB)",
          "North America (WB)",
          "OECD Countries",
          "Region of the Americas (WHO)",
          "South Asia (WB)",
          "South-East Asia Region (WHO)",
          "Sub-Saharan Africa (WB)",
          "Western Pacific Region (WHO)",
          "World Bank High Income",
          "World Bank Low Income",
          "World Bank Lower Middle Income",
          "World Bank Upper Middle Income"
         ],
         "xaxis": "x",
         "y": [
          347237,
          54067,
          90290,
          14581,
          14605,
          167540,
          20140,
          13625,
          568,
          4533,
          20699,
          204855,
          161221,
          363551,
          37273,
          1453,
          210141,
          420181,
          39623
         ],
         "yaxis": "y"
        }
       ],
       "layout": {
        "barmode": "relative",
        "legend": {
         "tracegroupgap": 0
        },
        "template": {
         "data": {
          "bar": [
           {
            "error_x": {
             "color": "#2a3f5f"
            },
            "error_y": {
             "color": "#2a3f5f"
            },
            "marker": {
             "line": {
              "color": "#E5ECF6",
              "width": 0.5
             },
             "pattern": {
              "fillmode": "overlay",
              "size": 10,
              "solidity": 0.2
             }
            },
            "type": "bar"
           }
          ],
          "barpolar": [
           {
            "marker": {
             "line": {
              "color": "#E5ECF6",
              "width": 0.5
             },
             "pattern": {
              "fillmode": "overlay",
              "size": 10,
              "solidity": 0.2
             }
            },
            "type": "barpolar"
           }
          ],
          "carpet": [
           {
            "aaxis": {
             "endlinecolor": "#2a3f5f",
             "gridcolor": "white",
             "linecolor": "white",
             "minorgridcolor": "white",
             "startlinecolor": "#2a3f5f"
            },
            "baxis": {
             "endlinecolor": "#2a3f5f",
             "gridcolor": "white",
             "linecolor": "white",
             "minorgridcolor": "white",
             "startlinecolor": "#2a3f5f"
            },
            "type": "carpet"
           }
          ],
          "choropleth": [
           {
            "colorbar": {
             "outlinewidth": 0,
             "ticks": ""
            },
            "type": "choropleth"
           }
          ],
          "contour": [
           {
            "colorbar": {
             "outlinewidth": 0,
             "ticks": ""
            },
            "colorscale": [
             [
              0,
              "#0d0887"
             ],
             [
              0.1111111111111111,
              "#46039f"
             ],
             [
              0.2222222222222222,
              "#7201a8"
             ],
             [
              0.3333333333333333,
              "#9c179e"
             ],
             [
              0.4444444444444444,
              "#bd3786"
             ],
             [
              0.5555555555555556,
              "#d8576b"
             ],
             [
              0.6666666666666666,
              "#ed7953"
             ],
             [
              0.7777777777777778,
              "#fb9f3a"
             ],
             [
              0.8888888888888888,
              "#fdca26"
             ],
             [
              1,
              "#f0f921"
             ]
            ],
            "type": "contour"
           }
          ],
          "contourcarpet": [
           {
            "colorbar": {
             "outlinewidth": 0,
             "ticks": ""
            },
            "type": "contourcarpet"
           }
          ],
          "heatmap": [
           {
            "colorbar": {
             "outlinewidth": 0,
             "ticks": ""
            },
            "colorscale": [
             [
              0,
              "#0d0887"
             ],
             [
              0.1111111111111111,
              "#46039f"
             ],
             [
              0.2222222222222222,
              "#7201a8"
             ],
             [
              0.3333333333333333,
              "#9c179e"
             ],
             [
              0.4444444444444444,
              "#bd3786"
             ],
             [
              0.5555555555555556,
              "#d8576b"
             ],
             [
              0.6666666666666666,
              "#ed7953"
             ],
             [
              0.7777777777777778,
              "#fb9f3a"
             ],
             [
              0.8888888888888888,
              "#fdca26"
             ],
             [
              1,
              "#f0f921"
             ]
            ],
            "type": "heatmap"
           }
          ],
          "heatmapgl": [
           {
            "colorbar": {
             "outlinewidth": 0,
             "ticks": ""
            },
            "colorscale": [
             [
              0,
              "#0d0887"
             ],
             [
              0.1111111111111111,
              "#46039f"
             ],
             [
              0.2222222222222222,
              "#7201a8"
             ],
             [
              0.3333333333333333,
              "#9c179e"
             ],
             [
              0.4444444444444444,
              "#bd3786"
             ],
             [
              0.5555555555555556,
              "#d8576b"
             ],
             [
              0.6666666666666666,
              "#ed7953"
             ],
             [
              0.7777777777777778,
              "#fb9f3a"
             ],
             [
              0.8888888888888888,
              "#fdca26"
             ],
             [
              1,
              "#f0f921"
             ]
            ],
            "type": "heatmapgl"
           }
          ],
          "histogram": [
           {
            "marker": {
             "pattern": {
              "fillmode": "overlay",
              "size": 10,
              "solidity": 0.2
             }
            },
            "type": "histogram"
           }
          ],
          "histogram2d": [
           {
            "colorbar": {
             "outlinewidth": 0,
             "ticks": ""
            },
            "colorscale": [
             [
              0,
              "#0d0887"
             ],
             [
              0.1111111111111111,
              "#46039f"
             ],
             [
              0.2222222222222222,
              "#7201a8"
             ],
             [
              0.3333333333333333,
              "#9c179e"
             ],
             [
              0.4444444444444444,
              "#bd3786"
             ],
             [
              0.5555555555555556,
              "#d8576b"
             ],
             [
              0.6666666666666666,
              "#ed7953"
             ],
             [
              0.7777777777777778,
              "#fb9f3a"
             ],
             [
              0.8888888888888888,
              "#fdca26"
             ],
             [
              1,
              "#f0f921"
             ]
            ],
            "type": "histogram2d"
           }
          ],
          "histogram2dcontour": [
           {
            "colorbar": {
             "outlinewidth": 0,
             "ticks": ""
            },
            "colorscale": [
             [
              0,
              "#0d0887"
             ],
             [
              0.1111111111111111,
              "#46039f"
             ],
             [
              0.2222222222222222,
              "#7201a8"
             ],
             [
              0.3333333333333333,
              "#9c179e"
             ],
             [
              0.4444444444444444,
              "#bd3786"
             ],
             [
              0.5555555555555556,
              "#d8576b"
             ],
             [
              0.6666666666666666,
              "#ed7953"
             ],
             [
              0.7777777777777778,
              "#fb9f3a"
             ],
             [
              0.8888888888888888,
              "#fdca26"
             ],
             [
              1,
              "#f0f921"
             ]
            ],
            "type": "histogram2dcontour"
           }
          ],
          "mesh3d": [
           {
            "colorbar": {
             "outlinewidth": 0,
             "ticks": ""
            },
            "type": "mesh3d"
           }
          ],
          "parcoords": [
           {
            "line": {
             "colorbar": {
              "outlinewidth": 0,
              "ticks": ""
             }
            },
            "type": "parcoords"
           }
          ],
          "pie": [
           {
            "automargin": true,
            "type": "pie"
           }
          ],
          "scatter": [
           {
            "fillpattern": {
             "fillmode": "overlay",
             "size": 10,
             "solidity": 0.2
            },
            "type": "scatter"
           }
          ],
          "scatter3d": [
           {
            "line": {
             "colorbar": {
              "outlinewidth": 0,
              "ticks": ""
             }
            },
            "marker": {
             "colorbar": {
              "outlinewidth": 0,
              "ticks": ""
             }
            },
            "type": "scatter3d"
           }
          ],
          "scattercarpet": [
           {
            "marker": {
             "colorbar": {
              "outlinewidth": 0,
              "ticks": ""
             }
            },
            "type": "scattercarpet"
           }
          ],
          "scattergeo": [
           {
            "marker": {
             "colorbar": {
              "outlinewidth": 0,
              "ticks": ""
             }
            },
            "type": "scattergeo"
           }
          ],
          "scattergl": [
           {
            "marker": {
             "colorbar": {
              "outlinewidth": 0,
              "ticks": ""
             }
            },
            "type": "scattergl"
           }
          ],
          "scattermapbox": [
           {
            "marker": {
             "colorbar": {
              "outlinewidth": 0,
              "ticks": ""
             }
            },
            "type": "scattermapbox"
           }
          ],
          "scatterpolar": [
           {
            "marker": {
             "colorbar": {
              "outlinewidth": 0,
              "ticks": ""
             }
            },
            "type": "scatterpolar"
           }
          ],
          "scatterpolargl": [
           {
            "marker": {
             "colorbar": {
              "outlinewidth": 0,
              "ticks": ""
             }
            },
            "type": "scatterpolargl"
           }
          ],
          "scatterternary": [
           {
            "marker": {
             "colorbar": {
              "outlinewidth": 0,
              "ticks": ""
             }
            },
            "type": "scatterternary"
           }
          ],
          "surface": [
           {
            "colorbar": {
             "outlinewidth": 0,
             "ticks": ""
            },
            "colorscale": [
             [
              0,
              "#0d0887"
             ],
             [
              0.1111111111111111,
              "#46039f"
             ],
             [
              0.2222222222222222,
              "#7201a8"
             ],
             [
              0.3333333333333333,
              "#9c179e"
             ],
             [
              0.4444444444444444,
              "#bd3786"
             ],
             [
              0.5555555555555556,
              "#d8576b"
             ],
             [
              0.6666666666666666,
              "#ed7953"
             ],
             [
              0.7777777777777778,
              "#fb9f3a"
             ],
             [
              0.8888888888888888,
              "#fdca26"
             ],
             [
              1,
              "#f0f921"
             ]
            ],
            "type": "surface"
           }
          ],
          "table": [
           {
            "cells": {
             "fill": {
              "color": "#EBF0F8"
             },
             "line": {
              "color": "white"
             }
            },
            "header": {
             "fill": {
              "color": "#C8D4E3"
             },
             "line": {
              "color": "white"
             }
            },
            "type": "table"
           }
          ]
         },
         "layout": {
          "annotationdefaults": {
           "arrowcolor": "#2a3f5f",
           "arrowhead": 0,
           "arrowwidth": 1
          },
          "autotypenumbers": "strict",
          "coloraxis": {
           "colorbar": {
            "outlinewidth": 0,
            "ticks": ""
           }
          },
          "colorscale": {
           "diverging": [
            [
             0,
             "#8e0152"
            ],
            [
             0.1,
             "#c51b7d"
            ],
            [
             0.2,
             "#de77ae"
            ],
            [
             0.3,
             "#f1b6da"
            ],
            [
             0.4,
             "#fde0ef"
            ],
            [
             0.5,
             "#f7f7f7"
            ],
            [
             0.6,
             "#e6f5d0"
            ],
            [
             0.7,
             "#b8e186"
            ],
            [
             0.8,
             "#7fbc41"
            ],
            [
             0.9,
             "#4d9221"
            ],
            [
             1,
             "#276419"
            ]
           ],
           "sequential": [
            [
             0,
             "#0d0887"
            ],
            [
             0.1111111111111111,
             "#46039f"
            ],
            [
             0.2222222222222222,
             "#7201a8"
            ],
            [
             0.3333333333333333,
             "#9c179e"
            ],
            [
             0.4444444444444444,
             "#bd3786"
            ],
            [
             0.5555555555555556,
             "#d8576b"
            ],
            [
             0.6666666666666666,
             "#ed7953"
            ],
            [
             0.7777777777777778,
             "#fb9f3a"
            ],
            [
             0.8888888888888888,
             "#fdca26"
            ],
            [
             1,
             "#f0f921"
            ]
           ],
           "sequentialminus": [
            [
             0,
             "#0d0887"
            ],
            [
             0.1111111111111111,
             "#46039f"
            ],
            [
             0.2222222222222222,
             "#7201a8"
            ],
            [
             0.3333333333333333,
             "#9c179e"
            ],
            [
             0.4444444444444444,
             "#bd3786"
            ],
            [
             0.5555555555555556,
             "#d8576b"
            ],
            [
             0.6666666666666666,
             "#ed7953"
            ],
            [
             0.7777777777777778,
             "#fb9f3a"
            ],
            [
             0.8888888888888888,
             "#fdca26"
            ],
            [
             1,
             "#f0f921"
            ]
           ]
          },
          "colorway": [
           "#636efa",
           "#EF553B",
           "#00cc96",
           "#ab63fa",
           "#FFA15A",
           "#19d3f3",
           "#FF6692",
           "#B6E880",
           "#FF97FF",
           "#FECB52"
          ],
          "font": {
           "color": "#2a3f5f"
          },
          "geo": {
           "bgcolor": "white",
           "lakecolor": "white",
           "landcolor": "#E5ECF6",
           "showlakes": true,
           "showland": true,
           "subunitcolor": "white"
          },
          "hoverlabel": {
           "align": "left"
          },
          "hovermode": "closest",
          "mapbox": {
           "style": "light"
          },
          "paper_bgcolor": "white",
          "plot_bgcolor": "#E5ECF6",
          "polar": {
           "angularaxis": {
            "gridcolor": "white",
            "linecolor": "white",
            "ticks": ""
           },
           "bgcolor": "#E5ECF6",
           "radialaxis": {
            "gridcolor": "white",
            "linecolor": "white",
            "ticks": ""
           }
          },
          "scene": {
           "xaxis": {
            "backgroundcolor": "#E5ECF6",
            "gridcolor": "white",
            "gridwidth": 2,
            "linecolor": "white",
            "showbackground": true,
            "ticks": "",
            "zerolinecolor": "white"
           },
           "yaxis": {
            "backgroundcolor": "#E5ECF6",
            "gridcolor": "white",
            "gridwidth": 2,
            "linecolor": "white",
            "showbackground": true,
            "ticks": "",
            "zerolinecolor": "white"
           },
           "zaxis": {
            "backgroundcolor": "#E5ECF6",
            "gridcolor": "white",
            "gridwidth": 2,
            "linecolor": "white",
            "showbackground": true,
            "ticks": "",
            "zerolinecolor": "white"
           }
          },
          "shapedefaults": {
           "line": {
            "color": "#2a3f5f"
           }
          },
          "ternary": {
           "aaxis": {
            "gridcolor": "white",
            "linecolor": "white",
            "ticks": ""
           },
           "baxis": {
            "gridcolor": "white",
            "linecolor": "white",
            "ticks": ""
           },
           "bgcolor": "#E5ECF6",
           "caxis": {
            "gridcolor": "white",
            "linecolor": "white",
            "ticks": ""
           }
          },
          "title": {
           "x": 0.05
          },
          "xaxis": {
           "automargin": true,
           "gridcolor": "white",
           "linecolor": "white",
           "ticks": "",
           "title": {
            "standoff": 15
           },
           "zerolinecolor": "white",
           "zerolinewidth": 2
          },
          "yaxis": {
           "automargin": true,
           "gridcolor": "white",
           "linecolor": "white",
           "ticks": "",
           "title": {
            "standoff": 15
           },
           "zerolinecolor": "white",
           "zerolinewidth": 2
          }
         }
        },
        "title": {
         "text": "Region wise deaths due to pneumonia"
        },
        "xaxis": {
         "anchor": "y",
         "domain": [
          0,
          1
         ],
         "title": {
          "text": "Country"
         }
        },
        "yaxis": {
         "anchor": "x",
         "domain": [
          0,
          1
         ],
         "title": {
          "text": "Lower respiratory infections"
         }
        }
       }
      }
     },
     "metadata": {},
     "output_type": "display_data"
    }
   ],
   "source": [
    "fig = px.bar(data2_region, x=\"Country\", y=data2_region[\"Lower respiratory infections\"], title=\"Region wise deaths due to pneumonia\")\n",
    "fig.show()"
   ]
  },
  {
   "attachments": {},
   "cell_type": "markdown",
   "id": "ce0b1fdc",
   "metadata": {
    "papermill": {
     "duration": 0.021387,
     "end_time": "2023-05-22T14:06:16.799906",
     "exception": false,
     "start_time": "2023-05-22T14:06:16.778519",
     "status": "completed"
    },
    "tags": []
   },
   "source": [
    "<b>6) Whats my Observation?</b>\n",
    "- Region wise, World Bank Lower Middle Income countries like  those with a GNI per capita between \\\\$1,086 and \\\\$4,255; (South Asia countries etc.) have the highest number of deaths due to lower respiratory infections\n",
    "-World bank Lower Middle Income Countries although observe a steady decrease in deaths from 1990 to 2019 are still facing the highest number of deaths in chidren in 2019 with 420.181k deaths which is about 62% of the total around the world"
   ]
  },
  {
   "attachments": {},
   "cell_type": "markdown",
   "id": "1d85fabd",
   "metadata": {
    "papermill": {
     "duration": 0.021213,
     "end_time": "2023-05-22T14:06:16.842753",
     "exception": false,
     "start_time": "2023-05-22T14:06:16.821540",
     "status": "completed"
    },
    "tags": []
   },
   "source": [
    "<b>7) What is Country-wise deaths in children due to pneumonia?</b>"
   ]
  },
  {
   "cell_type": "code",
   "execution_count": 18,
   "id": "f928e0cb",
   "metadata": {
    "execution": {
     "iopub.execute_input": "2023-05-22T14:06:16.888529Z",
     "iopub.status.busy": "2023-05-22T14:06:16.887755Z",
     "iopub.status.idle": "2023-05-22T14:06:18.090528Z",
     "shell.execute_reply": "2023-05-22T14:06:18.089512Z"
    },
    "papermill": {
     "duration": 1.23006,
     "end_time": "2023-05-22T14:06:18.094486",
     "exception": false,
     "start_time": "2023-05-22T14:06:16.864426",
     "status": "completed"
    },
    "tags": []
   },
   "outputs": [
    {
     "data": {
      "application/vnd.plotly.v1+json": {
       "config": {
        "plotlyServerURL": "https://plot.ly"
       },
       "data": [
        {
         "hovertemplate": "Country=Afghanistan<br>Year=%{x}<br>Lower respiratory infections=%{y}<extra></extra>",
         "legendgroup": "Afghanistan",
         "line": {
          "color": "#636efa",
          "dash": "solid"
         },
         "marker": {
          "symbol": "circle"
         },
         "mode": "lines",
         "name": "Afghanistan",
         "showlegend": true,
         "type": "scattergl",
         "x": [
          1990,
          1991,
          1992,
          1993,
          1994,
          1995,
          1996,
          1997,
          1998,
          1999,
          2000,
          2001,
          2002,
          2003,
          2004,
          2005,
          2006,
          2007,
          2008,
          2009,
          2010,
          2011,
          2012,
          2013,
          2014,
          2015,
          2016,
          2017,
          2018,
          2019
         ],
         "xaxis": "x",
         "y": [
          20224,
          20879,
          23585,
          27116,
          29271,
          29826,
          30468,
          31109,
          30418,
          29143,
          27775,
          26875,
          25629,
          27408,
          27168,
          25854,
          24408,
          22718,
          20911,
          19508,
          18871,
          18068,
          17357,
          17410,
          16917,
          16188,
          15721,
          14956,
          14104,
          13770
         ],
         "yaxis": "y"
        },
        {
         "hovertemplate": "Country=Albania<br>Year=%{x}<br>Lower respiratory infections=%{y}<extra></extra>",
         "legendgroup": "Albania",
         "line": {
          "color": "#EF553B",
          "dash": "solid"
         },
         "marker": {
          "symbol": "circle"
         },
         "mode": "lines",
         "name": "Albania",
         "showlegend": true,
         "type": "scattergl",
         "x": [
          1990,
          1991,
          1992,
          1993,
          1994,
          1995,
          1996,
          1997,
          1998,
          1999,
          2000,
          2001,
          2002,
          2003,
          2004,
          2005,
          2006,
          2007,
          2008,
          2009,
          2010,
          2011,
          2012,
          2013,
          2014,
          2015,
          2016,
          2017,
          2018,
          2019
         ],
         "xaxis": "x",
         "y": [
          1429,
          1472,
          1416,
          1331,
          1207,
          1047,
          896,
          770,
          667,
          548,
          435,
          346,
          283,
          233,
          190,
          159,
          136,
          116,
          104,
          94,
          88,
          87,
          87,
          86,
          85,
          83,
          80,
          75,
          70,
          65
         ],
         "yaxis": "y"
        },
        {
         "hovertemplate": "Country=Algeria<br>Year=%{x}<br>Lower respiratory infections=%{y}<extra></extra>",
         "legendgroup": "Algeria",
         "line": {
          "color": "#00cc96",
          "dash": "solid"
         },
         "marker": {
          "symbol": "circle"
         },
         "mode": "lines",
         "name": "Algeria",
         "showlegend": true,
         "type": "scattergl",
         "x": [
          1990,
          1991,
          1992,
          1993,
          1994,
          1995,
          1996,
          1997,
          1998,
          1999,
          2000,
          2001,
          2002,
          2003,
          2004,
          2005,
          2006,
          2007,
          2008,
          2009,
          2010,
          2011,
          2012,
          2013,
          2014,
          2015,
          2016,
          2017,
          2018,
          2019
         ],
         "xaxis": "x",
         "y": [
          5070,
          4662,
          4321,
          4016,
          3689,
          3364,
          3075,
          2902,
          2714,
          2537,
          2373,
          2213,
          2065,
          1962,
          1880,
          1781,
          1678,
          1580,
          1489,
          1405,
          1339,
          1280,
          1223,
          1194,
          1168,
          1119,
          1017,
          916,
          834,
          766
         ],
         "yaxis": "y"
        },
        {
         "hovertemplate": "Country=American Samoa<br>Year=%{x}<br>Lower respiratory infections=%{y}<extra></extra>",
         "legendgroup": "American Samoa",
         "line": {
          "color": "#ab63fa",
          "dash": "solid"
         },
         "marker": {
          "symbol": "circle"
         },
         "mode": "lines",
         "name": "American Samoa",
         "showlegend": true,
         "type": "scattergl",
         "x": [
          1990,
          1991,
          1992,
          1993,
          1994,
          1995,
          1996,
          1997,
          1998,
          1999,
          2000,
          2001,
          2002,
          2003,
          2004,
          2005,
          2006,
          2007,
          2008,
          2009,
          2010,
          2011,
          2012,
          2013,
          2014,
          2015,
          2016,
          2017,
          2018,
          2019
         ],
         "xaxis": "x",
         "y": [
          3,
          3,
          3,
          3,
          3,
          3,
          3,
          3,
          3,
          3,
          3,
          2,
          2,
          2,
          2,
          2,
          2,
          2,
          2,
          2,
          2,
          1,
          1,
          1,
          1,
          1,
          1,
          1,
          1,
          1
         ],
         "yaxis": "y"
        },
        {
         "hovertemplate": "Country=Andorra<br>Year=%{x}<br>Lower respiratory infections=%{y}<extra></extra>",
         "legendgroup": "Andorra",
         "line": {
          "color": "#FFA15A",
          "dash": "solid"
         },
         "marker": {
          "symbol": "circle"
         },
         "mode": "lines",
         "name": "Andorra",
         "showlegend": true,
         "type": "scattergl",
         "x": [
          1990,
          1991,
          1992,
          1993,
          1994,
          1995,
          1996,
          1997,
          1998,
          1999,
          2000,
          2001,
          2002,
          2003,
          2004,
          2005,
          2006,
          2007,
          2008,
          2009,
          2010,
          2011,
          2012,
          2013,
          2014,
          2015,
          2016,
          2017,
          2018,
          2019
         ],
         "xaxis": "x",
         "y": [
          0,
          0,
          0,
          0,
          0,
          0,
          0,
          0,
          0,
          0,
          0,
          0,
          0,
          0,
          0,
          0,
          0,
          0,
          0,
          0,
          0,
          0,
          0,
          0,
          0,
          0,
          0,
          0,
          0,
          0
         ],
         "yaxis": "y"
        },
        {
         "hovertemplate": "Country=Angola<br>Year=%{x}<br>Lower respiratory infections=%{y}<extra></extra>",
         "legendgroup": "Angola",
         "line": {
          "color": "#19d3f3",
          "dash": "solid"
         },
         "marker": {
          "symbol": "circle"
         },
         "mode": "lines",
         "name": "Angola",
         "showlegend": true,
         "type": "scattergl",
         "x": [
          1990,
          1991,
          1992,
          1993,
          1994,
          1995,
          1996,
          1997,
          1998,
          1999,
          2000,
          2001,
          2002,
          2003,
          2004,
          2005,
          2006,
          2007,
          2008,
          2009,
          2010,
          2011,
          2012,
          2013,
          2014,
          2015,
          2016,
          2017,
          2018,
          2019
         ],
         "xaxis": "x",
         "y": [
          15912,
          16134,
          16390,
          16778,
          17064,
          17243,
          17300,
          17341,
          17474,
          17461,
          17398,
          17164,
          16701,
          16146,
          16242,
          15669,
          15026,
          14507,
          13743,
          12641,
          11921,
          10939,
          10141,
          9281,
          8542,
          7907,
          7162,
          6424,
          5877,
          5577
         ],
         "yaxis": "y"
        },
        {
         "hovertemplate": "Country=Antigua and Barbuda<br>Year=%{x}<br>Lower respiratory infections=%{y}<extra></extra>",
         "legendgroup": "Antigua and Barbuda",
         "line": {
          "color": "#FF6692",
          "dash": "solid"
         },
         "marker": {
          "symbol": "circle"
         },
         "mode": "lines",
         "name": "Antigua and Barbuda",
         "showlegend": true,
         "type": "scattergl",
         "x": [
          1990,
          1991,
          1992,
          1993,
          1994,
          1995,
          1996,
          1997,
          1998,
          1999,
          2000,
          2001,
          2002,
          2003,
          2004,
          2005,
          2006,
          2007,
          2008,
          2009,
          2010,
          2011,
          2012,
          2013,
          2014,
          2015,
          2016,
          2017,
          2018,
          2019
         ],
         "xaxis": "x",
         "y": [
          1,
          1,
          1,
          2,
          2,
          2,
          2,
          2,
          2,
          2,
          2,
          2,
          2,
          2,
          2,
          2,
          2,
          2,
          2,
          1,
          1,
          1,
          1,
          1,
          1,
          1,
          1,
          1,
          1,
          1
         ],
         "yaxis": "y"
        },
        {
         "hovertemplate": "Country=Argentina<br>Year=%{x}<br>Lower respiratory infections=%{y}<extra></extra>",
         "legendgroup": "Argentina",
         "line": {
          "color": "#B6E880",
          "dash": "solid"
         },
         "marker": {
          "symbol": "circle"
         },
         "mode": "lines",
         "name": "Argentina",
         "showlegend": true,
         "type": "scattergl",
         "x": [
          1990,
          1991,
          1992,
          1993,
          1994,
          1995,
          1996,
          1997,
          1998,
          1999,
          2000,
          2001,
          2002,
          2003,
          2004,
          2005,
          2006,
          2007,
          2008,
          2009,
          2010,
          2011,
          2012,
          2013,
          2014,
          2015,
          2016,
          2017,
          2018,
          2019
         ],
         "xaxis": "x",
         "y": [
          1388,
          1361,
          1281,
          1214,
          1173,
          1191,
          1181,
          1115,
          1108,
          1014,
          947,
          921,
          950,
          958,
          872,
          787,
          760,
          781,
          773,
          757,
          725,
          700,
          640,
          618,
          591,
          548,
          526,
          490,
          467,
          450
         ],
         "yaxis": "y"
        },
        {
         "hovertemplate": "Country=Armenia<br>Year=%{x}<br>Lower respiratory infections=%{y}<extra></extra>",
         "legendgroup": "Armenia",
         "line": {
          "color": "#FF97FF",
          "dash": "solid"
         },
         "marker": {
          "symbol": "circle"
         },
         "mode": "lines",
         "name": "Armenia",
         "showlegend": true,
         "type": "scattergl",
         "x": [
          1990,
          1991,
          1992,
          1993,
          1994,
          1995,
          1996,
          1997,
          1998,
          1999,
          2000,
          2001,
          2002,
          2003,
          2004,
          2005,
          2006,
          2007,
          2008,
          2009,
          2010,
          2011,
          2012,
          2013,
          2014,
          2015,
          2016,
          2017,
          2018,
          2019
         ],
         "xaxis": "x",
         "y": [
          938,
          824,
          746,
          667,
          588,
          507,
          443,
          382,
          337,
          309,
          281,
          256,
          231,
          214,
          207,
          198,
          184,
          181,
          174,
          173,
          169,
          166,
          159,
          152,
          143,
          136,
          134,
          119,
          108,
          97
         ],
         "yaxis": "y"
        },
        {
         "hovertemplate": "Country=Australia<br>Year=%{x}<br>Lower respiratory infections=%{y}<extra></extra>",
         "legendgroup": "Australia",
         "line": {
          "color": "#FECB52",
          "dash": "solid"
         },
         "marker": {
          "symbol": "circle"
         },
         "mode": "lines",
         "name": "Australia",
         "showlegend": true,
         "type": "scattergl",
         "x": [
          1990,
          1991,
          1992,
          1993,
          1994,
          1995,
          1996,
          1997,
          1998,
          1999,
          2000,
          2001,
          2002,
          2003,
          2004,
          2005,
          2006,
          2007,
          2008,
          2009,
          2010,
          2011,
          2012,
          2013,
          2014,
          2015,
          2016,
          2017,
          2018,
          2019
         ],
         "xaxis": "x",
         "y": [
          61,
          56,
          55,
          50,
          48,
          47,
          46,
          46,
          43,
          42,
          41,
          42,
          42,
          43,
          43,
          42,
          41,
          40,
          38,
          37,
          37,
          34,
          33,
          34,
          32,
          32,
          31,
          30,
          29,
          28
         ],
         "yaxis": "y"
        },
        {
         "hovertemplate": "Country=Austria<br>Year=%{x}<br>Lower respiratory infections=%{y}<extra></extra>",
         "legendgroup": "Austria",
         "line": {
          "color": "#636efa",
          "dash": "solid"
         },
         "marker": {
          "symbol": "circle"
         },
         "mode": "lines",
         "name": "Austria",
         "showlegend": true,
         "type": "scattergl",
         "x": [
          1990,
          1991,
          1992,
          1993,
          1994,
          1995,
          1996,
          1997,
          1998,
          1999,
          2000,
          2001,
          2002,
          2003,
          2004,
          2005,
          2006,
          2007,
          2008,
          2009,
          2010,
          2011,
          2012,
          2013,
          2014,
          2015,
          2016,
          2017,
          2018,
          2019
         ],
         "xaxis": "x",
         "y": [
          28,
          26,
          24,
          20,
          18,
          14,
          12,
          11,
          10,
          9,
          9,
          9,
          8,
          8,
          8,
          7,
          6,
          6,
          6,
          6,
          6,
          5,
          5,
          4,
          4,
          4,
          5,
          5,
          4,
          4
         ],
         "yaxis": "y"
        },
        {
         "hovertemplate": "Country=Azerbaijan<br>Year=%{x}<br>Lower respiratory infections=%{y}<extra></extra>",
         "legendgroup": "Azerbaijan",
         "line": {
          "color": "#EF553B",
          "dash": "solid"
         },
         "marker": {
          "symbol": "circle"
         },
         "mode": "lines",
         "name": "Azerbaijan",
         "showlegend": true,
         "type": "scattergl",
         "x": [
          1990,
          1991,
          1992,
          1993,
          1994,
          1995,
          1996,
          1997,
          1998,
          1999,
          2000,
          2001,
          2002,
          2003,
          2004,
          2005,
          2006,
          2007,
          2008,
          2009,
          2010,
          2011,
          2012,
          2013,
          2014,
          2015,
          2016,
          2017,
          2018,
          2019
         ],
         "xaxis": "x",
         "y": [
          7845,
          7603,
          7316,
          6936,
          6521,
          6049,
          5626,
          5244,
          4917,
          4552,
          4112,
          3660,
          3429,
          3293,
          3173,
          3025,
          2876,
          2676,
          2560,
          2449,
          2378,
          2284,
          2186,
          2065,
          1946,
          1836,
          1700,
          1552,
          1426,
          1316
         ],
         "yaxis": "y"
        },
        {
         "hovertemplate": "Country=Bahamas<br>Year=%{x}<br>Lower respiratory infections=%{y}<extra></extra>",
         "legendgroup": "Bahamas",
         "line": {
          "color": "#00cc96",
          "dash": "solid"
         },
         "marker": {
          "symbol": "circle"
         },
         "mode": "lines",
         "name": "Bahamas",
         "showlegend": true,
         "type": "scattergl",
         "x": [
          1990,
          1991,
          1992,
          1993,
          1994,
          1995,
          1996,
          1997,
          1998,
          1999,
          2000,
          2001,
          2002,
          2003,
          2004,
          2005,
          2006,
          2007,
          2008,
          2009,
          2010,
          2011,
          2012,
          2013,
          2014,
          2015,
          2016,
          2017,
          2018,
          2019
         ],
         "xaxis": "x",
         "y": [
          11,
          12,
          12,
          12,
          11,
          10,
          10,
          10,
          10,
          9,
          9,
          8,
          8,
          9,
          9,
          8,
          8,
          7,
          7,
          7,
          6,
          6,
          6,
          6,
          5,
          5,
          5,
          5,
          4,
          4
         ],
         "yaxis": "y"
        },
        {
         "hovertemplate": "Country=Bahrain<br>Year=%{x}<br>Lower respiratory infections=%{y}<extra></extra>",
         "legendgroup": "Bahrain",
         "line": {
          "color": "#ab63fa",
          "dash": "solid"
         },
         "marker": {
          "symbol": "circle"
         },
         "mode": "lines",
         "name": "Bahrain",
         "showlegend": true,
         "type": "scattergl",
         "x": [
          1990,
          1991,
          1992,
          1993,
          1994,
          1995,
          1996,
          1997,
          1998,
          1999,
          2000,
          2001,
          2002,
          2003,
          2004,
          2005,
          2006,
          2007,
          2008,
          2009,
          2010,
          2011,
          2012,
          2013,
          2014,
          2015,
          2016,
          2017,
          2018,
          2019
         ],
         "xaxis": "x",
         "y": [
          10,
          9,
          9,
          8,
          7,
          6,
          5,
          4,
          4,
          4,
          4,
          4,
          4,
          4,
          5,
          5,
          5,
          5,
          5,
          5,
          4,
          4,
          4,
          4,
          4,
          4,
          3,
          3,
          3,
          2
         ],
         "yaxis": "y"
        },
        {
         "hovertemplate": "Country=Bangladesh<br>Year=%{x}<br>Lower respiratory infections=%{y}<extra></extra>",
         "legendgroup": "Bangladesh",
         "line": {
          "color": "#FFA15A",
          "dash": "solid"
         },
         "marker": {
          "symbol": "circle"
         },
         "mode": "lines",
         "name": "Bangladesh",
         "showlegend": true,
         "type": "scattergl",
         "x": [
          1990,
          1991,
          1992,
          1993,
          1994,
          1995,
          1996,
          1997,
          1998,
          1999,
          2000,
          2001,
          2002,
          2003,
          2004,
          2005,
          2006,
          2007,
          2008,
          2009,
          2010,
          2011,
          2012,
          2013,
          2014,
          2015,
          2016,
          2017,
          2018,
          2019
         ],
         "xaxis": "x",
         "y": [
          94207,
          92909,
          89531,
          86456,
          83721,
          81051,
          78131,
          74925,
          71009,
          67233,
          63669,
          59783,
          56181,
          52180,
          48093,
          44040,
          40128,
          37863,
          34456,
          31137,
          28429,
          26234,
          23641,
          21591,
          19841,
          18174,
          16711,
          15048,
          13498,
          12316
         ],
         "yaxis": "y"
        },
        {
         "hovertemplate": "Country=Barbados<br>Year=%{x}<br>Lower respiratory infections=%{y}<extra></extra>",
         "legendgroup": "Barbados",
         "line": {
          "color": "#19d3f3",
          "dash": "solid"
         },
         "marker": {
          "symbol": "circle"
         },
         "mode": "lines",
         "name": "Barbados",
         "showlegend": true,
         "type": "scattergl",
         "x": [
          1990,
          1991,
          1992,
          1993,
          1994,
          1995,
          1996,
          1997,
          1998,
          1999,
          2000,
          2001,
          2002,
          2003,
          2004,
          2005,
          2006,
          2007,
          2008,
          2009,
          2010,
          2011,
          2012,
          2013,
          2014,
          2015,
          2016,
          2017,
          2018,
          2019
         ],
         "xaxis": "x",
         "y": [
          5,
          5,
          5,
          4,
          4,
          4,
          4,
          4,
          4,
          4,
          4,
          4,
          4,
          4,
          4,
          4,
          4,
          4,
          3,
          3,
          3,
          3,
          3,
          3,
          3,
          2,
          2,
          2,
          2,
          2
         ],
         "yaxis": "y"
        },
        {
         "hovertemplate": "Country=Belarus<br>Year=%{x}<br>Lower respiratory infections=%{y}<extra></extra>",
         "legendgroup": "Belarus",
         "line": {
          "color": "#FF6692",
          "dash": "solid"
         },
         "marker": {
          "symbol": "circle"
         },
         "mode": "lines",
         "name": "Belarus",
         "showlegend": true,
         "type": "scattergl",
         "x": [
          1990,
          1991,
          1992,
          1993,
          1994,
          1995,
          1996,
          1997,
          1998,
          1999,
          2000,
          2001,
          2002,
          2003,
          2004,
          2005,
          2006,
          2007,
          2008,
          2009,
          2010,
          2011,
          2012,
          2013,
          2014,
          2015,
          2016,
          2017,
          2018,
          2019
         ],
         "xaxis": "x",
         "y": [
          349,
          324,
          297,
          266,
          246,
          223,
          197,
          186,
          176,
          162,
          143,
          122,
          104,
          91,
          80,
          72,
          64,
          56,
          53,
          49,
          45,
          41,
          39,
          37,
          35,
          33,
          32,
          30,
          27,
          25
         ],
         "yaxis": "y"
        },
        {
         "hovertemplate": "Country=Belgium<br>Year=%{x}<br>Lower respiratory infections=%{y}<extra></extra>",
         "legendgroup": "Belgium",
         "line": {
          "color": "#B6E880",
          "dash": "solid"
         },
         "marker": {
          "symbol": "circle"
         },
         "mode": "lines",
         "name": "Belgium",
         "showlegend": true,
         "type": "scattergl",
         "x": [
          1990,
          1991,
          1992,
          1993,
          1994,
          1995,
          1996,
          1997,
          1998,
          1999,
          2000,
          2001,
          2002,
          2003,
          2004,
          2005,
          2006,
          2007,
          2008,
          2009,
          2010,
          2011,
          2012,
          2013,
          2014,
          2015,
          2016,
          2017,
          2018,
          2019
         ],
         "xaxis": "x",
         "y": [
          25,
          25,
          24,
          22,
          20,
          17,
          16,
          16,
          15,
          14,
          14,
          14,
          13,
          13,
          12,
          13,
          12,
          13,
          12,
          12,
          12,
          12,
          12,
          12,
          11,
          10,
          10,
          9,
          9,
          8
         ],
         "yaxis": "y"
        },
        {
         "hovertemplate": "Country=Belize<br>Year=%{x}<br>Lower respiratory infections=%{y}<extra></extra>",
         "legendgroup": "Belize",
         "line": {
          "color": "#FF97FF",
          "dash": "solid"
         },
         "marker": {
          "symbol": "circle"
         },
         "mode": "lines",
         "name": "Belize",
         "showlegend": true,
         "type": "scattergl",
         "x": [
          1990,
          1991,
          1992,
          1993,
          1994,
          1995,
          1996,
          1997,
          1998,
          1999,
          2000,
          2001,
          2002,
          2003,
          2004,
          2005,
          2006,
          2007,
          2008,
          2009,
          2010,
          2011,
          2012,
          2013,
          2014,
          2015,
          2016,
          2017,
          2018,
          2019
         ],
         "xaxis": "x",
         "y": [
          31,
          30,
          28,
          27,
          24,
          23,
          22,
          22,
          23,
          23,
          23,
          22,
          22,
          21,
          21,
          20,
          19,
          18,
          17,
          17,
          16,
          15,
          15,
          14,
          14,
          14,
          13,
          13,
          12,
          12
         ],
         "yaxis": "y"
        },
        {
         "hovertemplate": "Country=Benin<br>Year=%{x}<br>Lower respiratory infections=%{y}<extra></extra>",
         "legendgroup": "Benin",
         "line": {
          "color": "#FECB52",
          "dash": "solid"
         },
         "marker": {
          "symbol": "circle"
         },
         "mode": "lines",
         "name": "Benin",
         "showlegend": true,
         "type": "scattergl",
         "x": [
          1990,
          1991,
          1992,
          1993,
          1994,
          1995,
          1996,
          1997,
          1998,
          1999,
          2000,
          2001,
          2002,
          2003,
          2004,
          2005,
          2006,
          2007,
          2008,
          2009,
          2010,
          2011,
          2012,
          2013,
          2014,
          2015,
          2016,
          2017,
          2018,
          2019
         ],
         "xaxis": "x",
         "y": [
          6581,
          6559,
          6531,
          6464,
          6400,
          6291,
          6198,
          6129,
          6066,
          6009,
          5996,
          5845,
          6036,
          5957,
          6060,
          5956,
          5931,
          5876,
          5900,
          6003,
          6128,
          6101,
          6248,
          6213,
          6094,
          6286,
          6207,
          5983,
          5473,
          5196
         ],
         "yaxis": "y"
        },
        {
         "hovertemplate": "Country=Bermuda<br>Year=%{x}<br>Lower respiratory infections=%{y}<extra></extra>",
         "legendgroup": "Bermuda",
         "line": {
          "color": "#636efa",
          "dash": "solid"
         },
         "marker": {
          "symbol": "circle"
         },
         "mode": "lines",
         "name": "Bermuda",
         "showlegend": true,
         "type": "scattergl",
         "x": [
          1990,
          1991,
          1992,
          1993,
          1994,
          1995,
          1996,
          1997,
          1998,
          1999,
          2000,
          2001,
          2002,
          2003,
          2004,
          2005,
          2006,
          2007,
          2008,
          2009,
          2010,
          2011,
          2012,
          2013,
          2014,
          2015,
          2016,
          2017,
          2018,
          2019
         ],
         "xaxis": "x",
         "y": [
          1,
          0,
          0,
          0,
          0,
          0,
          0,
          0,
          0,
          0,
          0,
          0,
          0,
          0,
          0,
          0,
          0,
          0,
          0,
          0,
          0,
          0,
          0,
          0,
          0,
          0,
          0,
          0,
          0,
          0
         ],
         "yaxis": "y"
        },
        {
         "hovertemplate": "Country=Bhutan<br>Year=%{x}<br>Lower respiratory infections=%{y}<extra></extra>",
         "legendgroup": "Bhutan",
         "line": {
          "color": "#EF553B",
          "dash": "solid"
         },
         "marker": {
          "symbol": "circle"
         },
         "mode": "lines",
         "name": "Bhutan",
         "showlegend": true,
         "type": "scattergl",
         "x": [
          1990,
          1991,
          1992,
          1993,
          1994,
          1995,
          1996,
          1997,
          1998,
          1999,
          2000,
          2001,
          2002,
          2003,
          2004,
          2005,
          2006,
          2007,
          2008,
          2009,
          2010,
          2011,
          2012,
          2013,
          2014,
          2015,
          2016,
          2017,
          2018,
          2019
         ],
         "xaxis": "x",
         "y": [
          426,
          403,
          365,
          339,
          318,
          304,
          303,
          304,
          295,
          261,
          260,
          246,
          222,
          211,
          193,
          169,
          140,
          152,
          139,
          125,
          114,
          104,
          92,
          85,
          78,
          72,
          66,
          59,
          55,
          49
         ],
         "yaxis": "y"
        },
        {
         "hovertemplate": "Country=Bolivia<br>Year=%{x}<br>Lower respiratory infections=%{y}<extra></extra>",
         "legendgroup": "Bolivia",
         "line": {
          "color": "#00cc96",
          "dash": "solid"
         },
         "marker": {
          "symbol": "circle"
         },
         "mode": "lines",
         "name": "Bolivia",
         "showlegend": true,
         "type": "scattergl",
         "x": [
          1990,
          1991,
          1992,
          1993,
          1994,
          1995,
          1996,
          1997,
          1998,
          1999,
          2000,
          2001,
          2002,
          2003,
          2004,
          2005,
          2006,
          2007,
          2008,
          2009,
          2010,
          2011,
          2012,
          2013,
          2014,
          2015,
          2016,
          2017,
          2018,
          2019
         ],
         "xaxis": "x",
         "y": [
          7735,
          7394,
          7008,
          6655,
          6330,
          6027,
          5754,
          5408,
          5102,
          4848,
          4579,
          4319,
          4043,
          3787,
          3585,
          3403,
          3227,
          3074,
          2924,
          2770,
          2635,
          2514,
          2404,
          2311,
          2209,
          2075,
          1928,
          1837,
          1690,
          1581
         ],
         "yaxis": "y"
        },
        {
         "hovertemplate": "Country=Bosnia and Herzegovina<br>Year=%{x}<br>Lower respiratory infections=%{y}<extra></extra>",
         "legendgroup": "Bosnia and Herzegovina",
         "line": {
          "color": "#ab63fa",
          "dash": "solid"
         },
         "marker": {
          "symbol": "circle"
         },
         "mode": "lines",
         "name": "Bosnia and Herzegovina",
         "showlegend": true,
         "type": "scattergl",
         "x": [
          1990,
          1991,
          1992,
          1993,
          1994,
          1995,
          1996,
          1997,
          1998,
          1999,
          2000,
          2001,
          2002,
          2003,
          2004,
          2005,
          2006,
          2007,
          2008,
          2009,
          2010,
          2011,
          2012,
          2013,
          2014,
          2015,
          2016,
          2017,
          2018,
          2019
         ],
         "xaxis": "x",
         "y": [
          42,
          38,
          39,
          37,
          34,
          31,
          26,
          23,
          20,
          17,
          16,
          13,
          14,
          11,
          10,
          9,
          9,
          8,
          8,
          7,
          6,
          5,
          5,
          6,
          6,
          6,
          6,
          5,
          5,
          4
         ],
         "yaxis": "y"
        },
        {
         "hovertemplate": "Country=Botswana<br>Year=%{x}<br>Lower respiratory infections=%{y}<extra></extra>",
         "legendgroup": "Botswana",
         "line": {
          "color": "#FFA15A",
          "dash": "solid"
         },
         "marker": {
          "symbol": "circle"
         },
         "mode": "lines",
         "name": "Botswana",
         "showlegend": true,
         "type": "scattergl",
         "x": [
          1990,
          1991,
          1992,
          1993,
          1994,
          1995,
          1996,
          1997,
          1998,
          1999,
          2000,
          2001,
          2002,
          2003,
          2004,
          2005,
          2006,
          2007,
          2008,
          2009,
          2010,
          2011,
          2012,
          2013,
          2014,
          2015,
          2016,
          2017,
          2018,
          2019
         ],
         "xaxis": "x",
         "y": [
          244,
          236,
          229,
          216,
          206,
          199,
          194,
          194,
          215,
          228,
          242,
          259,
          275,
          283,
          291,
          305,
          324,
          328,
          329,
          333,
          343,
          338,
          334,
          327,
          324,
          317,
          306,
          302,
          295,
          288
         ],
         "yaxis": "y"
        },
        {
         "hovertemplate": "Country=Brazil<br>Year=%{x}<br>Lower respiratory infections=%{y}<extra></extra>",
         "legendgroup": "Brazil",
         "line": {
          "color": "#19d3f3",
          "dash": "solid"
         },
         "marker": {
          "symbol": "circle"
         },
         "mode": "lines",
         "name": "Brazil",
         "showlegend": true,
         "type": "scattergl",
         "x": [
          1990,
          1991,
          1992,
          1993,
          1994,
          1995,
          1996,
          1997,
          1998,
          1999,
          2000,
          2001,
          2002,
          2003,
          2004,
          2005,
          2006,
          2007,
          2008,
          2009,
          2010,
          2011,
          2012,
          2013,
          2014,
          2015,
          2016,
          2017,
          2018,
          2019
         ],
         "xaxis": "x",
         "y": [
          35532,
          32750,
          30418,
          28500,
          26482,
          24666,
          22747,
          21019,
          19516,
          18280,
          17113,
          16044,
          15109,
          14329,
          13588,
          12846,
          12171,
          11488,
          10841,
          10204,
          9567,
          9045,
          8393,
          7757,
          7031,
          6409,
          5948,
          5508,
          5189,
          4885
         ],
         "yaxis": "y"
        },
        {
         "hovertemplate": "Country=Brunei<br>Year=%{x}<br>Lower respiratory infections=%{y}<extra></extra>",
         "legendgroup": "Brunei",
         "line": {
          "color": "#FF6692",
          "dash": "solid"
         },
         "marker": {
          "symbol": "circle"
         },
         "mode": "lines",
         "name": "Brunei",
         "showlegend": true,
         "type": "scattergl",
         "x": [
          1990,
          1991,
          1992,
          1993,
          1994,
          1995,
          1996,
          1997,
          1998,
          1999,
          2000,
          2001,
          2002,
          2003,
          2004,
          2005,
          2006,
          2007,
          2008,
          2009,
          2010,
          2011,
          2012,
          2013,
          2014,
          2015,
          2016,
          2017,
          2018,
          2019
         ],
         "xaxis": "x",
         "y": [
          5,
          5,
          5,
          5,
          4,
          4,
          4,
          4,
          4,
          4,
          4,
          4,
          4,
          4,
          4,
          4,
          4,
          4,
          4,
          4,
          4,
          4,
          5,
          5,
          5,
          5,
          5,
          4,
          4,
          4
         ],
         "yaxis": "y"
        },
        {
         "hovertemplate": "Country=Bulgaria<br>Year=%{x}<br>Lower respiratory infections=%{y}<extra></extra>",
         "legendgroup": "Bulgaria",
         "line": {
          "color": "#B6E880",
          "dash": "solid"
         },
         "marker": {
          "symbol": "circle"
         },
         "mode": "lines",
         "name": "Bulgaria",
         "showlegend": true,
         "type": "scattergl",
         "x": [
          1990,
          1991,
          1992,
          1993,
          1994,
          1995,
          1996,
          1997,
          1998,
          1999,
          2000,
          2001,
          2002,
          2003,
          2004,
          2005,
          2006,
          2007,
          2008,
          2009,
          2010,
          2011,
          2012,
          2013,
          2014,
          2015,
          2016,
          2017,
          2018,
          2019
         ],
         "xaxis": "x",
         "y": [
          527,
          526,
          464,
          403,
          404,
          348,
          363,
          371,
          309,
          312,
          282,
          264,
          235,
          217,
          208,
          186,
          175,
          167,
          161,
          167,
          152,
          125,
          107,
          95,
          92,
          79,
          74,
          73,
          70,
          66
         ],
         "yaxis": "y"
        },
        {
         "hovertemplate": "Country=Burkina Faso<br>Year=%{x}<br>Lower respiratory infections=%{y}<extra></extra>",
         "legendgroup": "Burkina Faso",
         "line": {
          "color": "#FF97FF",
          "dash": "solid"
         },
         "marker": {
          "symbol": "circle"
         },
         "mode": "lines",
         "name": "Burkina Faso",
         "showlegend": true,
         "type": "scattergl",
         "x": [
          1990,
          1991,
          1992,
          1993,
          1994,
          1995,
          1996,
          1997,
          1998,
          1999,
          2000,
          2001,
          2002,
          2003,
          2004,
          2005,
          2006,
          2007,
          2008,
          2009,
          2010,
          2011,
          2012,
          2013,
          2014,
          2015,
          2016,
          2017,
          2018,
          2019
         ],
         "xaxis": "x",
         "y": [
          14223,
          14101,
          14033,
          14018,
          14010,
          13994,
          13919,
          13819,
          13720,
          13822,
          14414,
          14411,
          14858,
          14648,
          14505,
          14366,
          14170,
          13654,
          13708,
          13557,
          13775,
          14099,
          14552,
          15136,
          15515,
          16174,
          16658,
          16823,
          16827,
          16513
         ],
         "yaxis": "y"
        },
        {
         "hovertemplate": "Country=Burundi<br>Year=%{x}<br>Lower respiratory infections=%{y}<extra></extra>",
         "legendgroup": "Burundi",
         "line": {
          "color": "#FECB52",
          "dash": "solid"
         },
         "marker": {
          "symbol": "circle"
         },
         "mode": "lines",
         "name": "Burundi",
         "showlegend": true,
         "type": "scattergl",
         "x": [
          1990,
          1991,
          1992,
          1993,
          1994,
          1995,
          1996,
          1997,
          1998,
          1999,
          2000,
          2001,
          2002,
          2003,
          2004,
          2005,
          2006,
          2007,
          2008,
          2009,
          2010,
          2011,
          2012,
          2013,
          2014,
          2015,
          2016,
          2017,
          2018,
          2019
         ],
         "xaxis": "x",
         "y": [
          5601,
          5432,
          5119,
          5004,
          4850,
          4732,
          4450,
          4183,
          3972,
          3826,
          3706,
          3592,
          3734,
          3759,
          3777,
          3839,
          3808,
          3737,
          3563,
          3474,
          3556,
          3447,
          3431,
          3466,
          3353,
          3072,
          2697,
          2495,
          2604,
          2519
         ],
         "yaxis": "y"
        },
        {
         "hovertemplate": "Country=Cambodia<br>Year=%{x}<br>Lower respiratory infections=%{y}<extra></extra>",
         "legendgroup": "Cambodia",
         "line": {
          "color": "#636efa",
          "dash": "solid"
         },
         "marker": {
          "symbol": "circle"
         },
         "mode": "lines",
         "name": "Cambodia",
         "showlegend": true,
         "type": "scattergl",
         "x": [
          1990,
          1991,
          1992,
          1993,
          1994,
          1995,
          1996,
          1997,
          1998,
          1999,
          2000,
          2001,
          2002,
          2003,
          2004,
          2005,
          2006,
          2007,
          2008,
          2009,
          2010,
          2011,
          2012,
          2013,
          2014,
          2015,
          2016,
          2017,
          2018,
          2019
         ],
         "xaxis": "x",
         "y": [
          20058,
          19756,
          19414,
          18966,
          18452,
          17830,
          17020,
          16114,
          15182,
          14237,
          13194,
          12314,
          11619,
          10722,
          9826,
          8995,
          8177,
          7491,
          6885,
          6305,
          5891,
          5439,
          5189,
          4851,
          4674,
          4416,
          4143,
          3840,
          3586,
          3347
         ],
         "yaxis": "y"
        },
        {
         "hovertemplate": "Country=Cameroon<br>Year=%{x}<br>Lower respiratory infections=%{y}<extra></extra>",
         "legendgroup": "Cameroon",
         "line": {
          "color": "#EF553B",
          "dash": "solid"
         },
         "marker": {
          "symbol": "circle"
         },
         "mode": "lines",
         "name": "Cameroon",
         "showlegend": true,
         "type": "scattergl",
         "x": [
          1990,
          1991,
          1992,
          1993,
          1994,
          1995,
          1996,
          1997,
          1998,
          1999,
          2000,
          2001,
          2002,
          2003,
          2004,
          2005,
          2006,
          2007,
          2008,
          2009,
          2010,
          2011,
          2012,
          2013,
          2014,
          2015,
          2016,
          2017,
          2018,
          2019
         ],
         "xaxis": "x",
         "y": [
          7071,
          7246,
          7522,
          7830,
          8027,
          8184,
          8340,
          8462,
          8575,
          8751,
          9032,
          9141,
          10169,
          10244,
          10140,
          10115,
          10231,
          10188,
          10383,
          10767,
          11133,
          11025,
          10776,
          10638,
          10277,
          9397,
          9333,
          8709,
          8193,
          7792
         ],
         "yaxis": "y"
        },
        {
         "hovertemplate": "Country=Canada<br>Year=%{x}<br>Lower respiratory infections=%{y}<extra></extra>",
         "legendgroup": "Canada",
         "line": {
          "color": "#00cc96",
          "dash": "solid"
         },
         "marker": {
          "symbol": "circle"
         },
         "mode": "lines",
         "name": "Canada",
         "showlegend": true,
         "type": "scattergl",
         "x": [
          1990,
          1991,
          1992,
          1993,
          1994,
          1995,
          1996,
          1997,
          1998,
          1999,
          2000,
          2001,
          2002,
          2003,
          2004,
          2005,
          2006,
          2007,
          2008,
          2009,
          2010,
          2011,
          2012,
          2013,
          2014,
          2015,
          2016,
          2017,
          2018,
          2019
         ],
         "xaxis": "x",
         "y": [
          80,
          77,
          72,
          72,
          68,
          64,
          58,
          54,
          49,
          46,
          40,
          39,
          37,
          36,
          36,
          35,
          35,
          35,
          35,
          35,
          35,
          34,
          34,
          36,
          36,
          36,
          35,
          33,
          32,
          31
         ],
         "yaxis": "y"
        },
        {
         "hovertemplate": "Country=Cape Verde<br>Year=%{x}<br>Lower respiratory infections=%{y}<extra></extra>",
         "legendgroup": "Cape Verde",
         "line": {
          "color": "#ab63fa",
          "dash": "solid"
         },
         "marker": {
          "symbol": "circle"
         },
         "mode": "lines",
         "name": "Cape Verde",
         "showlegend": true,
         "type": "scattergl",
         "x": [
          1990,
          1991,
          1992,
          1993,
          1994,
          1995,
          1996,
          1997,
          1998,
          1999,
          2000,
          2001,
          2002,
          2003,
          2004,
          2005,
          2006,
          2007,
          2008,
          2009,
          2010,
          2011,
          2012,
          2013,
          2014,
          2015,
          2016,
          2017,
          2018,
          2019
         ],
         "xaxis": "x",
         "y": [
          82,
          79,
          80,
          86,
          92,
          98,
          104,
          105,
          100,
          100,
          90,
          82,
          76,
          68,
          61,
          54,
          50,
          45,
          39,
          34,
          31,
          27,
          27,
          25,
          25,
          23,
          21,
          19,
          17,
          15
         ],
         "yaxis": "y"
        },
        {
         "hovertemplate": "Country=Central African Republic<br>Year=%{x}<br>Lower respiratory infections=%{y}<extra></extra>",
         "legendgroup": "Central African Republic",
         "line": {
          "color": "#FFA15A",
          "dash": "solid"
         },
         "marker": {
          "symbol": "circle"
         },
         "mode": "lines",
         "name": "Central African Republic",
         "showlegend": true,
         "type": "scattergl",
         "x": [
          1990,
          1991,
          1992,
          1993,
          1994,
          1995,
          1996,
          1997,
          1998,
          1999,
          2000,
          2001,
          2002,
          2003,
          2004,
          2005,
          2006,
          2007,
          2008,
          2009,
          2010,
          2011,
          2012,
          2013,
          2014,
          2015,
          2016,
          2017,
          2018,
          2019
         ],
         "xaxis": "x",
         "y": [
          3495,
          3514,
          3615,
          3740,
          3834,
          3910,
          4001,
          4077,
          4153,
          4250,
          4271,
          4255,
          4228,
          4194,
          4176,
          4196,
          4369,
          4415,
          4421,
          4448,
          4422,
          4266,
          4110,
          4050,
          3936,
          3789,
          3645,
          3559,
          3406,
          3270
         ],
         "yaxis": "y"
        },
        {
         "hovertemplate": "Country=Chad<br>Year=%{x}<br>Lower respiratory infections=%{y}<extra></extra>",
         "legendgroup": "Chad",
         "line": {
          "color": "#19d3f3",
          "dash": "solid"
         },
         "marker": {
          "symbol": "circle"
         },
         "mode": "lines",
         "name": "Chad",
         "showlegend": true,
         "type": "scattergl",
         "x": [
          1990,
          1991,
          1992,
          1993,
          1994,
          1995,
          1996,
          1997,
          1998,
          1999,
          2000,
          2001,
          2002,
          2003,
          2004,
          2005,
          2006,
          2007,
          2008,
          2009,
          2010,
          2011,
          2012,
          2013,
          2014,
          2015,
          2016,
          2017,
          2018,
          2019
         ],
         "xaxis": "x",
         "y": [
          9513,
          9613,
          9805,
          10095,
          10402,
          10719,
          11109,
          11542,
          12037,
          12485,
          13058,
          13386,
          13742,
          13842,
          13680,
          13447,
          13738,
          14012,
          13997,
          13980,
          13886,
          13751,
          13636,
          13857,
          13727,
          13869,
          13797,
          13764,
          13743,
          13750
         ],
         "yaxis": "y"
        },
        {
         "hovertemplate": "Country=Chile<br>Year=%{x}<br>Lower respiratory infections=%{y}<extra></extra>",
         "legendgroup": "Chile",
         "line": {
          "color": "#FF6692",
          "dash": "solid"
         },
         "marker": {
          "symbol": "circle"
         },
         "mode": "lines",
         "name": "Chile",
         "showlegend": true,
         "type": "scattergl",
         "x": [
          1990,
          1991,
          1992,
          1993,
          1994,
          1995,
          1996,
          1997,
          1998,
          1999,
          2000,
          2001,
          2002,
          2003,
          2004,
          2005,
          2006,
          2007,
          2008,
          2009,
          2010,
          2011,
          2012,
          2013,
          2014,
          2015,
          2016,
          2017,
          2018,
          2019
         ],
         "xaxis": "x",
         "y": [
          852,
          738,
          691,
          616,
          546,
          505,
          474,
          410,
          392,
          336,
          271,
          241,
          189,
          166,
          157,
          135,
          122,
          119,
          113,
          114,
          98,
          91,
          82,
          78,
          79,
          73,
          68,
          63,
          60,
          58
         ],
         "yaxis": "y"
        },
        {
         "hovertemplate": "Country=China<br>Year=%{x}<br>Lower respiratory infections=%{y}<extra></extra>",
         "legendgroup": "China",
         "line": {
          "color": "#B6E880",
          "dash": "solid"
         },
         "marker": {
          "symbol": "circle"
         },
         "mode": "lines",
         "name": "China",
         "showlegend": true,
         "type": "scattergl",
         "x": [
          1990,
          1991,
          1992,
          1993,
          1994,
          1995,
          1996,
          1997,
          1998,
          1999,
          2000,
          2001,
          2002,
          2003,
          2004,
          2005,
          2006,
          2007,
          2008,
          2009,
          2010,
          2011,
          2012,
          2013,
          2014,
          2015,
          2016,
          2017,
          2018,
          2019
         ],
         "xaxis": "x",
         "y": [
          388448,
          374793,
          353668,
          326135,
          298248,
          269509,
          241562,
          213981,
          187749,
          162694,
          139715,
          117828,
          98763,
          82389,
          70640,
          60972,
          52804,
          45919,
          40974,
          36761,
          32542,
          29671,
          27884,
          25487,
          22779,
          22152,
          22220,
          19614,
          16823,
          14749
         ],
         "yaxis": "y"
        },
        {
         "hovertemplate": "Country=Colombia<br>Year=%{x}<br>Lower respiratory infections=%{y}<extra></extra>",
         "legendgroup": "Colombia",
         "line": {
          "color": "#FF97FF",
          "dash": "solid"
         },
         "marker": {
          "symbol": "circle"
         },
         "mode": "lines",
         "name": "Colombia",
         "showlegend": true,
         "type": "scattergl",
         "x": [
          1990,
          1991,
          1992,
          1993,
          1994,
          1995,
          1996,
          1997,
          1998,
          1999,
          2000,
          2001,
          2002,
          2003,
          2004,
          2005,
          2006,
          2007,
          2008,
          2009,
          2010,
          2011,
          2012,
          2013,
          2014,
          2015,
          2016,
          2017,
          2018,
          2019
         ],
         "xaxis": "x",
         "y": [
          4137,
          4044,
          3978,
          4007,
          3880,
          3655,
          3538,
          3309,
          3085,
          2994,
          2807,
          2605,
          2465,
          2356,
          2249,
          2145,
          2055,
          1926,
          1833,
          1763,
          1639,
          1531,
          1483,
          1412,
          1352,
          1269,
          1141,
          1092,
          1041,
          986
         ],
         "yaxis": "y"
        },
        {
         "hovertemplate": "Country=Comoros<br>Year=%{x}<br>Lower respiratory infections=%{y}<extra></extra>",
         "legendgroup": "Comoros",
         "line": {
          "color": "#FECB52",
          "dash": "solid"
         },
         "marker": {
          "symbol": "circle"
         },
         "mode": "lines",
         "name": "Comoros",
         "showlegend": true,
         "type": "scattergl",
         "x": [
          1990,
          1991,
          1992,
          1993,
          1994,
          1995,
          1996,
          1997,
          1998,
          1999,
          2000,
          2001,
          2002,
          2003,
          2004,
          2005,
          2006,
          2007,
          2008,
          2009,
          2010,
          2011,
          2012,
          2013,
          2014,
          2015,
          2016,
          2017,
          2018,
          2019
         ],
         "xaxis": "x",
         "y": [
          505,
          507,
          514,
          502,
          499,
          484,
          469,
          446,
          416,
          396,
          382,
          365,
          349,
          332,
          327,
          317,
          306,
          307,
          298,
          273,
          244,
          235,
          215,
          193,
          193,
          178,
          161,
          149,
          135,
          122
         ],
         "yaxis": "y"
        },
        {
         "hovertemplate": "Country=Congo<br>Year=%{x}<br>Lower respiratory infections=%{y}<extra></extra>",
         "legendgroup": "Congo",
         "line": {
          "color": "#636efa",
          "dash": "solid"
         },
         "marker": {
          "symbol": "circle"
         },
         "mode": "lines",
         "name": "Congo",
         "showlegend": true,
         "type": "scattergl",
         "x": [
          1990,
          1991,
          1992,
          1993,
          1994,
          1995,
          1996,
          1997,
          1998,
          1999,
          2000,
          2001,
          2002,
          2003,
          2004,
          2005,
          2006,
          2007,
          2008,
          2009,
          2010,
          2011,
          2012,
          2013,
          2014,
          2015,
          2016,
          2017,
          2018,
          2019
         ],
         "xaxis": "x",
         "y": [
          989,
          992,
          1012,
          1038,
          1064,
          1077,
          1087,
          1114,
          1113,
          1100,
          1069,
          1011,
          964,
          914,
          862,
          846,
          813,
          792,
          771,
          743,
          696,
          657,
          611,
          568,
          537,
          493,
          441,
          396,
          360,
          333
         ],
         "yaxis": "y"
        },
        {
         "hovertemplate": "Country=Cook Islands<br>Year=%{x}<br>Lower respiratory infections=%{y}<extra></extra>",
         "legendgroup": "Cook Islands",
         "line": {
          "color": "#EF553B",
          "dash": "solid"
         },
         "marker": {
          "symbol": "circle"
         },
         "mode": "lines",
         "name": "Cook Islands",
         "showlegend": true,
         "type": "scattergl",
         "x": [
          1990,
          1991,
          1992,
          1993,
          1994,
          1995,
          1996,
          1997,
          1998,
          1999,
          2000,
          2001,
          2002,
          2003,
          2004,
          2005,
          2006,
          2007,
          2008,
          2009,
          2010,
          2011,
          2012,
          2013,
          2014,
          2015,
          2016,
          2017,
          2018,
          2019
         ],
         "xaxis": "x",
         "y": [
          3,
          2,
          2,
          2,
          2,
          2,
          2,
          2,
          1,
          1,
          1,
          1,
          1,
          1,
          1,
          1,
          1,
          1,
          1,
          0,
          0,
          0,
          0,
          0,
          0,
          0,
          0,
          0,
          0,
          0
         ],
         "yaxis": "y"
        },
        {
         "hovertemplate": "Country=Costa Rica<br>Year=%{x}<br>Lower respiratory infections=%{y}<extra></extra>",
         "legendgroup": "Costa Rica",
         "line": {
          "color": "#00cc96",
          "dash": "solid"
         },
         "marker": {
          "symbol": "circle"
         },
         "mode": "lines",
         "name": "Costa Rica",
         "showlegend": true,
         "type": "scattergl",
         "x": [
          1990,
          1991,
          1992,
          1993,
          1994,
          1995,
          1996,
          1997,
          1998,
          1999,
          2000,
          2001,
          2002,
          2003,
          2004,
          2005,
          2006,
          2007,
          2008,
          2009,
          2010,
          2011,
          2012,
          2013,
          2014,
          2015,
          2016,
          2017,
          2018,
          2019
         ],
         "xaxis": "x",
         "y": [
          143,
          132,
          124,
          114,
          109,
          105,
          99,
          107,
          94,
          82,
          70,
          70,
          64,
          57,
          51,
          47,
          45,
          45,
          40,
          36,
          39,
          38,
          37,
          36,
          36,
          36,
          37,
          33,
          30,
          28
         ],
         "yaxis": "y"
        },
        {
         "hovertemplate": "Country=Cote d'Ivoire<br>Year=%{x}<br>Lower respiratory infections=%{y}<extra></extra>",
         "legendgroup": "Cote d'Ivoire",
         "line": {
          "color": "#ab63fa",
          "dash": "solid"
         },
         "marker": {
          "symbol": "circle"
         },
         "mode": "lines",
         "name": "Cote d'Ivoire",
         "showlegend": true,
         "type": "scattergl",
         "x": [
          1990,
          1991,
          1992,
          1993,
          1994,
          1995,
          1996,
          1997,
          1998,
          1999,
          2000,
          2001,
          2002,
          2003,
          2004,
          2005,
          2006,
          2007,
          2008,
          2009,
          2010,
          2011,
          2012,
          2013,
          2014,
          2015,
          2016,
          2017,
          2018,
          2019
         ],
         "xaxis": "x",
         "y": [
          12995,
          13242,
          13595,
          14026,
          14505,
          14810,
          14839,
          14916,
          14992,
          14883,
          14894,
          14867,
          14788,
          14608,
          14485,
          14232,
          14366,
          13990,
          13548,
          13197,
          12809,
          12228,
          12310,
          12549,
          12329,
          12170,
          11062,
          10162,
          9584,
          8922
         ],
         "yaxis": "y"
        },
        {
         "hovertemplate": "Country=Croatia<br>Year=%{x}<br>Lower respiratory infections=%{y}<extra></extra>",
         "legendgroup": "Croatia",
         "line": {
          "color": "#FFA15A",
          "dash": "solid"
         },
         "marker": {
          "symbol": "circle"
         },
         "mode": "lines",
         "name": "Croatia",
         "showlegend": true,
         "type": "scattergl",
         "x": [
          1990,
          1991,
          1992,
          1993,
          1994,
          1995,
          1996,
          1997,
          1998,
          1999,
          2000,
          2001,
          2002,
          2003,
          2004,
          2005,
          2006,
          2007,
          2008,
          2009,
          2010,
          2011,
          2012,
          2013,
          2014,
          2015,
          2016,
          2017,
          2018,
          2019
         ],
         "xaxis": "x",
         "y": [
          30,
          30,
          30,
          27,
          26,
          23,
          22,
          21,
          17,
          15,
          13,
          12,
          11,
          9,
          9,
          9,
          8,
          7,
          6,
          6,
          4,
          4,
          3,
          4,
          3,
          3,
          3,
          3,
          3,
          3
         ],
         "yaxis": "y"
        },
        {
         "hovertemplate": "Country=Cuba<br>Year=%{x}<br>Lower respiratory infections=%{y}<extra></extra>",
         "legendgroup": "Cuba",
         "line": {
          "color": "#19d3f3",
          "dash": "solid"
         },
         "marker": {
          "symbol": "circle"
         },
         "mode": "lines",
         "name": "Cuba",
         "showlegend": true,
         "type": "scattergl",
         "x": [
          1990,
          1991,
          1992,
          1993,
          1994,
          1995,
          1996,
          1997,
          1998,
          1999,
          2000,
          2001,
          2002,
          2003,
          2004,
          2005,
          2006,
          2007,
          2008,
          2009,
          2010,
          2011,
          2012,
          2013,
          2014,
          2015,
          2016,
          2017,
          2018,
          2019
         ],
         "xaxis": "x",
         "y": [
          227,
          211,
          188,
          173,
          177,
          171,
          140,
          136,
          134,
          125,
          124,
          109,
          110,
          107,
          94,
          89,
          77,
          74,
          76,
          79,
          75,
          79,
          76,
          73,
          71,
          72,
          65,
          61,
          52,
          48
         ],
         "yaxis": "y"
        },
        {
         "hovertemplate": "Country=Cyprus<br>Year=%{x}<br>Lower respiratory infections=%{y}<extra></extra>",
         "legendgroup": "Cyprus",
         "line": {
          "color": "#FF6692",
          "dash": "solid"
         },
         "marker": {
          "symbol": "circle"
         },
         "mode": "lines",
         "name": "Cyprus",
         "showlegend": true,
         "type": "scattergl",
         "x": [
          1990,
          1991,
          1992,
          1993,
          1994,
          1995,
          1996,
          1997,
          1998,
          1999,
          2000,
          2001,
          2002,
          2003,
          2004,
          2005,
          2006,
          2007,
          2008,
          2009,
          2010,
          2011,
          2012,
          2013,
          2014,
          2015,
          2016,
          2017,
          2018,
          2019
         ],
         "xaxis": "x",
         "y": [
          6,
          6,
          5,
          5,
          4,
          4,
          3,
          3,
          2,
          2,
          2,
          2,
          1,
          1,
          1,
          1,
          1,
          1,
          1,
          1,
          1,
          1,
          1,
          1,
          1,
          1,
          1,
          1,
          1,
          1
         ],
         "yaxis": "y"
        },
        {
         "hovertemplate": "Country=Czechia<br>Year=%{x}<br>Lower respiratory infections=%{y}<extra></extra>",
         "legendgroup": "Czechia",
         "line": {
          "color": "#B6E880",
          "dash": "solid"
         },
         "marker": {
          "symbol": "circle"
         },
         "mode": "lines",
         "name": "Czechia",
         "showlegend": true,
         "type": "scattergl",
         "x": [
          1990,
          1991,
          1992,
          1993,
          1994,
          1995,
          1996,
          1997,
          1998,
          1999,
          2000,
          2001,
          2002,
          2003,
          2004,
          2005,
          2006,
          2007,
          2008,
          2009,
          2010,
          2011,
          2012,
          2013,
          2014,
          2015,
          2016,
          2017,
          2018,
          2019
         ],
         "xaxis": "x",
         "y": [
          84,
          82,
          73,
          61,
          52,
          45,
          36,
          34,
          30,
          27,
          25,
          25,
          26,
          25,
          24,
          23,
          24,
          24,
          23,
          23,
          22,
          20,
          18,
          17,
          16,
          17,
          19,
          18,
          15,
          13
         ],
         "yaxis": "y"
        },
        {
         "hovertemplate": "Country=Democratic Republic of Congo<br>Year=%{x}<br>Lower respiratory infections=%{y}<extra></extra>",
         "legendgroup": "Democratic Republic of Congo",
         "line": {
          "color": "#FF97FF",
          "dash": "solid"
         },
         "marker": {
          "symbol": "circle"
         },
         "mode": "lines",
         "name": "Democratic Republic of Congo",
         "showlegend": true,
         "type": "scattergl",
         "x": [
          1990,
          1991,
          1992,
          1993,
          1994,
          1995,
          1996,
          1997,
          1998,
          1999,
          2000,
          2001,
          2002,
          2003,
          2004,
          2005,
          2006,
          2007,
          2008,
          2009,
          2010,
          2011,
          2012,
          2013,
          2014,
          2015,
          2016,
          2017,
          2018,
          2019
         ],
         "xaxis": "x",
         "y": [
          41525,
          41612,
          41720,
          42128,
          42489,
          42366,
          41917,
          41579,
          40823,
          40305,
          40469,
          40186,
          39426,
          38485,
          36926,
          35888,
          35296,
          34378,
          33135,
          32003,
          30555,
          28661,
          27441,
          26119,
          24410,
          22253,
          19557,
          17073,
          15814,
          14046
         ],
         "yaxis": "y"
        },
        {
         "hovertemplate": "Country=Denmark<br>Year=%{x}<br>Lower respiratory infections=%{y}<extra></extra>",
         "legendgroup": "Denmark",
         "line": {
          "color": "#FECB52",
          "dash": "solid"
         },
         "marker": {
          "symbol": "circle"
         },
         "mode": "lines",
         "name": "Denmark",
         "showlegend": true,
         "type": "scattergl",
         "x": [
          1990,
          1991,
          1992,
          1993,
          1994,
          1995,
          1996,
          1997,
          1998,
          1999,
          2000,
          2001,
          2002,
          2003,
          2004,
          2005,
          2006,
          2007,
          2008,
          2009,
          2010,
          2011,
          2012,
          2013,
          2014,
          2015,
          2016,
          2017,
          2018,
          2019
         ],
         "xaxis": "x",
         "y": [
          15,
          14,
          13,
          11,
          11,
          10,
          10,
          9,
          8,
          7,
          7,
          7,
          7,
          7,
          6,
          6,
          5,
          6,
          5,
          5,
          5,
          4,
          4,
          4,
          4,
          4,
          4,
          4,
          4,
          3
         ],
         "yaxis": "y"
        },
        {
         "hovertemplate": "Country=Djibouti<br>Year=%{x}<br>Lower respiratory infections=%{y}<extra></extra>",
         "legendgroup": "Djibouti",
         "line": {
          "color": "#636efa",
          "dash": "solid"
         },
         "marker": {
          "symbol": "circle"
         },
         "mode": "lines",
         "name": "Djibouti",
         "showlegend": true,
         "type": "scattergl",
         "x": [
          1990,
          1991,
          1992,
          1993,
          1994,
          1995,
          1996,
          1997,
          1998,
          1999,
          2000,
          2001,
          2002,
          2003,
          2004,
          2005,
          2006,
          2007,
          2008,
          2009,
          2010,
          2011,
          2012,
          2013,
          2014,
          2015,
          2016,
          2017,
          2018,
          2019
         ],
         "xaxis": "x",
         "y": [
          361,
          382,
          391,
          405,
          421,
          433,
          431,
          431,
          441,
          451,
          455,
          459,
          461,
          473,
          498,
          488,
          491,
          483,
          466,
          449,
          437,
          414,
          395,
          378,
          346,
          323,
          306,
          284,
          261,
          243
         ],
         "yaxis": "y"
        },
        {
         "hovertemplate": "Country=Dominica<br>Year=%{x}<br>Lower respiratory infections=%{y}<extra></extra>",
         "legendgroup": "Dominica",
         "line": {
          "color": "#EF553B",
          "dash": "solid"
         },
         "marker": {
          "symbol": "circle"
         },
         "mode": "lines",
         "name": "Dominica",
         "showlegend": true,
         "type": "scattergl",
         "x": [
          1990,
          1991,
          1992,
          1993,
          1994,
          1995,
          1996,
          1997,
          1998,
          1999,
          2000,
          2001,
          2002,
          2003,
          2004,
          2005,
          2006,
          2007,
          2008,
          2009,
          2010,
          2011,
          2012,
          2013,
          2014,
          2015,
          2016,
          2017,
          2018,
          2019
         ],
         "xaxis": "x",
         "y": [
          2,
          2,
          2,
          2,
          2,
          2,
          2,
          2,
          2,
          2,
          2,
          2,
          2,
          2,
          2,
          2,
          2,
          2,
          2,
          2,
          2,
          2,
          2,
          2,
          2,
          2,
          2,
          2,
          2,
          2
         ],
         "yaxis": "y"
        },
        {
         "hovertemplate": "Country=Dominican Republic<br>Year=%{x}<br>Lower respiratory infections=%{y}<extra></extra>",
         "legendgroup": "Dominican Republic",
         "line": {
          "color": "#00cc96",
          "dash": "solid"
         },
         "marker": {
          "symbol": "circle"
         },
         "mode": "lines",
         "name": "Dominican Republic",
         "showlegend": true,
         "type": "scattergl",
         "x": [
          1990,
          1991,
          1992,
          1993,
          1994,
          1995,
          1996,
          1997,
          1998,
          1999,
          2000,
          2001,
          2002,
          2003,
          2004,
          2005,
          2006,
          2007,
          2008,
          2009,
          2010,
          2011,
          2012,
          2013,
          2014,
          2015,
          2016,
          2017,
          2018,
          2019
         ],
         "xaxis": "x",
         "y": [
          1558,
          1505,
          1379,
          1270,
          1155,
          1063,
          967,
          909,
          843,
          805,
          794,
          776,
          734,
          749,
          787,
          758,
          704,
          653,
          575,
          541,
          516,
          518,
          520,
          511,
          441,
          405,
          368,
          334,
          303,
          277
         ],
         "yaxis": "y"
        },
        {
         "hovertemplate": "Country=Ecuador<br>Year=%{x}<br>Lower respiratory infections=%{y}<extra></extra>",
         "legendgroup": "Ecuador",
         "line": {
          "color": "#ab63fa",
          "dash": "solid"
         },
         "marker": {
          "symbol": "circle"
         },
         "mode": "lines",
         "name": "Ecuador",
         "showlegend": true,
         "type": "scattergl",
         "x": [
          1990,
          1991,
          1992,
          1993,
          1994,
          1995,
          1996,
          1997,
          1998,
          1999,
          2000,
          2001,
          2002,
          2003,
          2004,
          2005,
          2006,
          2007,
          2008,
          2009,
          2010,
          2011,
          2012,
          2013,
          2014,
          2015,
          2016,
          2017,
          2018,
          2019
         ],
         "xaxis": "x",
         "y": [
          2222,
          2184,
          2113,
          2043,
          2004,
          2036,
          2057,
          2015,
          1987,
          1956,
          1924,
          1871,
          1825,
          1743,
          1669,
          1572,
          1525,
          1485,
          1409,
          1309,
          1227,
          1063,
          966,
          907,
          833,
          789,
          745,
          732,
          666,
          634
         ],
         "yaxis": "y"
        },
        {
         "hovertemplate": "Country=Egypt<br>Year=%{x}<br>Lower respiratory infections=%{y}<extra></extra>",
         "legendgroup": "Egypt",
         "line": {
          "color": "#FFA15A",
          "dash": "solid"
         },
         "marker": {
          "symbol": "circle"
         },
         "mode": "lines",
         "name": "Egypt",
         "showlegend": true,
         "type": "scattergl",
         "x": [
          1990,
          1991,
          1992,
          1993,
          1994,
          1995,
          1996,
          1997,
          1998,
          1999,
          2000,
          2001,
          2002,
          2003,
          2004,
          2005,
          2006,
          2007,
          2008,
          2009,
          2010,
          2011,
          2012,
          2013,
          2014,
          2015,
          2016,
          2017,
          2018,
          2019
         ],
         "xaxis": "x",
         "y": [
          45352,
          42528,
          39782,
          36503,
          33020,
          30389,
          26308,
          24042,
          22556,
          21713,
          20527,
          19409,
          18227,
          17616,
          16736,
          15966,
          15319,
          15079,
          14405,
          13946,
          12877,
          12603,
          11815,
          11366,
          10228,
          10505,
          8693,
          7723,
          6901,
          6247
         ],
         "yaxis": "y"
        },
        {
         "hovertemplate": "Country=El Salvador<br>Year=%{x}<br>Lower respiratory infections=%{y}<extra></extra>",
         "legendgroup": "El Salvador",
         "line": {
          "color": "#19d3f3",
          "dash": "solid"
         },
         "marker": {
          "symbol": "circle"
         },
         "mode": "lines",
         "name": "El Salvador",
         "showlegend": true,
         "type": "scattergl",
         "x": [
          1990,
          1991,
          1992,
          1993,
          1994,
          1995,
          1996,
          1997,
          1998,
          1999,
          2000,
          2001,
          2002,
          2003,
          2004,
          2005,
          2006,
          2007,
          2008,
          2009,
          2010,
          2011,
          2012,
          2013,
          2014,
          2015,
          2016,
          2017,
          2018,
          2019
         ],
         "xaxis": "x",
         "y": [
          913,
          889,
          878,
          866,
          856,
          859,
          864,
          843,
          808,
          741,
          679,
          609,
          537,
          481,
          436,
          389,
          350,
          311,
          289,
          278,
          245,
          230,
          223,
          212,
          184,
          165,
          150,
          138,
          128,
          120
         ],
         "yaxis": "y"
        },
        {
         "hovertemplate": "Country=England<br>Year=%{x}<br>Lower respiratory infections=%{y}<extra></extra>",
         "legendgroup": "England",
         "line": {
          "color": "#FF6692",
          "dash": "solid"
         },
         "marker": {
          "symbol": "circle"
         },
         "mode": "lines",
         "name": "England",
         "showlegend": true,
         "type": "scattergl",
         "x": [
          1990,
          1991,
          1992,
          1993,
          1994,
          1995,
          1996,
          1997,
          1998,
          1999,
          2000,
          2001,
          2002,
          2003,
          2004,
          2005,
          2006,
          2007,
          2008,
          2009,
          2010,
          2011,
          2012,
          2013,
          2014,
          2015,
          2016,
          2017,
          2018,
          2019
         ],
         "xaxis": "x",
         "y": [
          264,
          238,
          206,
          198,
          190,
          184,
          186,
          181,
          177,
          171,
          156,
          139,
          129,
          130,
          124,
          124,
          126,
          125,
          125,
          120,
          115,
          114,
          108,
          101,
          98,
          99,
          98,
          94,
          91,
          88
         ],
         "yaxis": "y"
        },
        {
         "hovertemplate": "Country=Equatorial Guinea<br>Year=%{x}<br>Lower respiratory infections=%{y}<extra></extra>",
         "legendgroup": "Equatorial Guinea",
         "line": {
          "color": "#B6E880",
          "dash": "solid"
         },
         "marker": {
          "symbol": "circle"
         },
         "mode": "lines",
         "name": "Equatorial Guinea",
         "showlegend": true,
         "type": "scattergl",
         "x": [
          1990,
          1991,
          1992,
          1993,
          1994,
          1995,
          1996,
          1997,
          1998,
          1999,
          2000,
          2001,
          2002,
          2003,
          2004,
          2005,
          2006,
          2007,
          2008,
          2009,
          2010,
          2011,
          2012,
          2013,
          2014,
          2015,
          2016,
          2017,
          2018,
          2019
         ],
         "xaxis": "x",
         "y": [
          565,
          573,
          579,
          584,
          587,
          584,
          564,
          507,
          468,
          438,
          408,
          352,
          313,
          283,
          266,
          255,
          238,
          218,
          192,
          175,
          160,
          156,
          144,
          128,
          115,
          107,
          95,
          85,
          78,
          73
         ],
         "yaxis": "y"
        },
        {
         "hovertemplate": "Country=Eritrea<br>Year=%{x}<br>Lower respiratory infections=%{y}<extra></extra>",
         "legendgroup": "Eritrea",
         "line": {
          "color": "#FF97FF",
          "dash": "solid"
         },
         "marker": {
          "symbol": "circle"
         },
         "mode": "lines",
         "name": "Eritrea",
         "showlegend": true,
         "type": "scattergl",
         "x": [
          1990,
          1991,
          1992,
          1993,
          1994,
          1995,
          1996,
          1997,
          1998,
          1999,
          2000,
          2001,
          2002,
          2003,
          2004,
          2005,
          2006,
          2007,
          2008,
          2009,
          2010,
          2011,
          2012,
          2013,
          2014,
          2015,
          2016,
          2017,
          2018,
          2019
         ],
         "xaxis": "x",
         "y": [
          3928,
          3640,
          3411,
          3290,
          3173,
          3070,
          2995,
          2930,
          2860,
          2825,
          2781,
          2771,
          2794,
          2742,
          2828,
          2775,
          2688,
          2618,
          2515,
          2329,
          2262,
          2141,
          2015,
          1944,
          1851,
          1714,
          1638,
          1514,
          1418,
          1372
         ],
         "yaxis": "y"
        },
        {
         "hovertemplate": "Country=Estonia<br>Year=%{x}<br>Lower respiratory infections=%{y}<extra></extra>",
         "legendgroup": "Estonia",
         "line": {
          "color": "#FECB52",
          "dash": "solid"
         },
         "marker": {
          "symbol": "circle"
         },
         "mode": "lines",
         "name": "Estonia",
         "showlegend": true,
         "type": "scattergl",
         "x": [
          1990,
          1991,
          1992,
          1993,
          1994,
          1995,
          1996,
          1997,
          1998,
          1999,
          2000,
          2001,
          2002,
          2003,
          2004,
          2005,
          2006,
          2007,
          2008,
          2009,
          2010,
          2011,
          2012,
          2013,
          2014,
          2015,
          2016,
          2017,
          2018,
          2019
         ],
         "xaxis": "x",
         "y": [
          32,
          29,
          28,
          25,
          23,
          22,
          19,
          18,
          17,
          15,
          15,
          13,
          12,
          11,
          10,
          9,
          8,
          8,
          7,
          7,
          6,
          5,
          5,
          5,
          5,
          4,
          4,
          4,
          3,
          3
         ],
         "yaxis": "y"
        },
        {
         "hovertemplate": "Country=Eswatini<br>Year=%{x}<br>Lower respiratory infections=%{y}<extra></extra>",
         "legendgroup": "Eswatini",
         "line": {
          "color": "#636efa",
          "dash": "solid"
         },
         "marker": {
          "symbol": "circle"
         },
         "mode": "lines",
         "name": "Eswatini",
         "showlegend": true,
         "type": "scattergl",
         "x": [
          1990,
          1991,
          1992,
          1993,
          1994,
          1995,
          1996,
          1997,
          1998,
          1999,
          2000,
          2001,
          2002,
          2003,
          2004,
          2005,
          2006,
          2007,
          2008,
          2009,
          2010,
          2011,
          2012,
          2013,
          2014,
          2015,
          2016,
          2017,
          2018,
          2019
         ],
         "xaxis": "x",
         "y": [
          418,
          411,
          404,
          397,
          389,
          385,
          385,
          389,
          397,
          412,
          422,
          436,
          454,
          479,
          495,
          514,
          520,
          514,
          502,
          479,
          442,
          404,
          374,
          344,
          317,
          294,
          272,
          258,
          246,
          237
         ],
         "yaxis": "y"
        },
        {
         "hovertemplate": "Country=Ethiopia<br>Year=%{x}<br>Lower respiratory infections=%{y}<extra></extra>",
         "legendgroup": "Ethiopia",
         "line": {
          "color": "#EF553B",
          "dash": "solid"
         },
         "marker": {
          "symbol": "circle"
         },
         "mode": "lines",
         "name": "Ethiopia",
         "showlegend": true,
         "type": "scattergl",
         "x": [
          1990,
          1991,
          1992,
          1993,
          1994,
          1995,
          1996,
          1997,
          1998,
          1999,
          2000,
          2001,
          2002,
          2003,
          2004,
          2005,
          2006,
          2007,
          2008,
          2009,
          2010,
          2011,
          2012,
          2013,
          2014,
          2015,
          2016,
          2017,
          2018,
          2019
         ],
         "xaxis": "x",
         "y": [
          80910,
          81287,
          81561,
          79908,
          78728,
          77108,
          74685,
          72057,
          69294,
          67110,
          64351,
          61341,
          58693,
          55213,
          51326,
          50222,
          47471,
          45830,
          43551,
          40139,
          36508,
          34323,
          31404,
          28666,
          28364,
          25996,
          23908,
          23002,
          21404,
          19592
         ],
         "yaxis": "y"
        },
        {
         "hovertemplate": "Country=Fiji<br>Year=%{x}<br>Lower respiratory infections=%{y}<extra></extra>",
         "legendgroup": "Fiji",
         "line": {
          "color": "#00cc96",
          "dash": "solid"
         },
         "marker": {
          "symbol": "circle"
         },
         "mode": "lines",
         "name": "Fiji",
         "showlegend": true,
         "type": "scattergl",
         "x": [
          1990,
          1991,
          1992,
          1993,
          1994,
          1995,
          1996,
          1997,
          1998,
          1999,
          2000,
          2001,
          2002,
          2003,
          2004,
          2005,
          2006,
          2007,
          2008,
          2009,
          2010,
          2011,
          2012,
          2013,
          2014,
          2015,
          2016,
          2017,
          2018,
          2019
         ],
         "xaxis": "x",
         "y": [
          60,
          60,
          56,
          60,
          60,
          60,
          61,
          61,
          65,
          64,
          62,
          62,
          60,
          60,
          64,
          64,
          64,
          64,
          63,
          63,
          62,
          60,
          57,
          55,
          53,
          52,
          51,
          48,
          47,
          46
         ],
         "yaxis": "y"
        },
        {
         "hovertemplate": "Country=Finland<br>Year=%{x}<br>Lower respiratory infections=%{y}<extra></extra>",
         "legendgroup": "Finland",
         "line": {
          "color": "#ab63fa",
          "dash": "solid"
         },
         "marker": {
          "symbol": "circle"
         },
         "mode": "lines",
         "name": "Finland",
         "showlegend": true,
         "type": "scattergl",
         "x": [
          1990,
          1991,
          1992,
          1993,
          1994,
          1995,
          1996,
          1997,
          1998,
          1999,
          2000,
          2001,
          2002,
          2003,
          2004,
          2005,
          2006,
          2007,
          2008,
          2009,
          2010,
          2011,
          2012,
          2013,
          2014,
          2015,
          2016,
          2017,
          2018,
          2019
         ],
         "xaxis": "x",
         "y": [
          12,
          11,
          10,
          9,
          8,
          8,
          7,
          7,
          7,
          6,
          6,
          5,
          4,
          4,
          4,
          3,
          2,
          2,
          2,
          2,
          2,
          2,
          2,
          1,
          1,
          1,
          1,
          1,
          1,
          1
         ],
         "yaxis": "y"
        },
        {
         "hovertemplate": "Country=France<br>Year=%{x}<br>Lower respiratory infections=%{y}<extra></extra>",
         "legendgroup": "France",
         "line": {
          "color": "#FFA15A",
          "dash": "solid"
         },
         "marker": {
          "symbol": "circle"
         },
         "mode": "lines",
         "name": "France",
         "showlegend": true,
         "type": "scattergl",
         "x": [
          1990,
          1991,
          1992,
          1993,
          1994,
          1995,
          1996,
          1997,
          1998,
          1999,
          2000,
          2001,
          2002,
          2003,
          2004,
          2005,
          2006,
          2007,
          2008,
          2009,
          2010,
          2011,
          2012,
          2013,
          2014,
          2015,
          2016,
          2017,
          2018,
          2019
         ],
         "xaxis": "x",
         "y": [
          129,
          127,
          118,
          106,
          94,
          82,
          78,
          76,
          72,
          65,
          63,
          61,
          56,
          54,
          49,
          48,
          46,
          46,
          45,
          45,
          44,
          41,
          40,
          40,
          39,
          40,
          38,
          34,
          32,
          31
         ],
         "yaxis": "y"
        },
        {
         "hovertemplate": "Country=Gabon<br>Year=%{x}<br>Lower respiratory infections=%{y}<extra></extra>",
         "legendgroup": "Gabon",
         "line": {
          "color": "#19d3f3",
          "dash": "solid"
         },
         "marker": {
          "symbol": "circle"
         },
         "mode": "lines",
         "name": "Gabon",
         "showlegend": true,
         "type": "scattergl",
         "x": [
          1990,
          1991,
          1992,
          1993,
          1994,
          1995,
          1996,
          1997,
          1998,
          1999,
          2000,
          2001,
          2002,
          2003,
          2004,
          2005,
          2006,
          2007,
          2008,
          2009,
          2010,
          2011,
          2012,
          2013,
          2014,
          2015,
          2016,
          2017,
          2018,
          2019
         ],
         "xaxis": "x",
         "y": [
          364,
          352,
          347,
          342,
          334,
          320,
          305,
          293,
          284,
          277,
          270,
          257,
          250,
          246,
          245,
          251,
          246,
          236,
          223,
          207,
          185,
          165,
          142,
          126,
          115,
          107,
          99,
          91,
          84,
          78
         ],
         "yaxis": "y"
        },
        {
         "hovertemplate": "Country=Gambia<br>Year=%{x}<br>Lower respiratory infections=%{y}<extra></extra>",
         "legendgroup": "Gambia",
         "line": {
          "color": "#FF6692",
          "dash": "solid"
         },
         "marker": {
          "symbol": "circle"
         },
         "mode": "lines",
         "name": "Gambia",
         "showlegend": true,
         "type": "scattergl",
         "x": [
          1990,
          1991,
          1992,
          1993,
          1994,
          1995,
          1996,
          1997,
          1998,
          1999,
          2000,
          2001,
          2002,
          2003,
          2004,
          2005,
          2006,
          2007,
          2008,
          2009,
          2010,
          2011,
          2012,
          2013,
          2014,
          2015,
          2016,
          2017,
          2018,
          2019
         ],
         "xaxis": "x",
         "y": [
          801,
          809,
          820,
          786,
          753,
          784,
          706,
          683,
          674,
          666,
          604,
          569,
          553,
          551,
          636,
          626,
          589,
          572,
          535,
          504,
          475,
          408,
          397,
          380,
          385,
          348,
          339,
          341,
          311,
          289
         ],
         "yaxis": "y"
        },
        {
         "hovertemplate": "Country=Georgia<br>Year=%{x}<br>Lower respiratory infections=%{y}<extra></extra>",
         "legendgroup": "Georgia",
         "line": {
          "color": "#B6E880",
          "dash": "solid"
         },
         "marker": {
          "symbol": "circle"
         },
         "mode": "lines",
         "name": "Georgia",
         "showlegend": true,
         "type": "scattergl",
         "x": [
          1990,
          1991,
          1992,
          1993,
          1994,
          1995,
          1996,
          1997,
          1998,
          1999,
          2000,
          2001,
          2002,
          2003,
          2004,
          2005,
          2006,
          2007,
          2008,
          2009,
          2010,
          2011,
          2012,
          2013,
          2014,
          2015,
          2016,
          2017,
          2018,
          2019
         ],
         "xaxis": "x",
         "y": [
          1221,
          1095,
          992,
          892,
          774,
          687,
          626,
          558,
          511,
          462,
          416,
          348,
          274,
          213,
          159,
          135,
          125,
          106,
          99,
          88,
          80,
          72,
          65,
          54,
          47,
          47,
          45,
          43,
          40,
          37
         ],
         "yaxis": "y"
        },
        {
         "hovertemplate": "Country=Germany<br>Year=%{x}<br>Lower respiratory infections=%{y}<extra></extra>",
         "legendgroup": "Germany",
         "line": {
          "color": "#FF97FF",
          "dash": "solid"
         },
         "marker": {
          "symbol": "circle"
         },
         "mode": "lines",
         "name": "Germany",
         "showlegend": true,
         "type": "scattergl",
         "x": [
          1990,
          1991,
          1992,
          1993,
          1994,
          1995,
          1996,
          1997,
          1998,
          1999,
          2000,
          2001,
          2002,
          2003,
          2004,
          2005,
          2006,
          2007,
          2008,
          2009,
          2010,
          2011,
          2012,
          2013,
          2014,
          2015,
          2016,
          2017,
          2018,
          2019
         ],
         "xaxis": "x",
         "y": [
          154,
          131,
          111,
          96,
          87,
          79,
          74,
          72,
          69,
          68,
          65,
          65,
          62,
          61,
          59,
          56,
          52,
          53,
          50,
          48,
          45,
          45,
          40,
          39,
          39,
          41,
          43,
          38,
          36,
          34
         ],
         "yaxis": "y"
        },
        {
         "hovertemplate": "Country=Ghana<br>Year=%{x}<br>Lower respiratory infections=%{y}<extra></extra>",
         "legendgroup": "Ghana",
         "line": {
          "color": "#FECB52",
          "dash": "solid"
         },
         "marker": {
          "symbol": "circle"
         },
         "mode": "lines",
         "name": "Ghana",
         "showlegend": true,
         "type": "scattergl",
         "x": [
          1990,
          1991,
          1992,
          1993,
          1994,
          1995,
          1996,
          1997,
          1998,
          1999,
          2000,
          2001,
          2002,
          2003,
          2004,
          2005,
          2006,
          2007,
          2008,
          2009,
          2010,
          2011,
          2012,
          2013,
          2014,
          2015,
          2016,
          2017,
          2018,
          2019
         ],
         "xaxis": "x",
         "y": [
          6253,
          5951,
          5740,
          5569,
          5497,
          5479,
          5448,
          5444,
          5444,
          5520,
          5583,
          5538,
          5642,
          5993,
          6079,
          6048,
          6009,
          5908,
          5554,
          5380,
          5105,
          4886,
          4654,
          4608,
          4733,
          4836,
          4760,
          4566,
          3909,
          3601
         ],
         "yaxis": "y"
        },
        {
         "hovertemplate": "Country=Greece<br>Year=%{x}<br>Lower respiratory infections=%{y}<extra></extra>",
         "legendgroup": "Greece",
         "line": {
          "color": "#636efa",
          "dash": "solid"
         },
         "marker": {
          "symbol": "circle"
         },
         "mode": "lines",
         "name": "Greece",
         "showlegend": true,
         "type": "scattergl",
         "x": [
          1990,
          1991,
          1992,
          1993,
          1994,
          1995,
          1996,
          1997,
          1998,
          1999,
          2000,
          2001,
          2002,
          2003,
          2004,
          2005,
          2006,
          2007,
          2008,
          2009,
          2010,
          2011,
          2012,
          2013,
          2014,
          2015,
          2016,
          2017,
          2018,
          2019
         ],
         "xaxis": "x",
         "y": [
          24,
          21,
          19,
          19,
          20,
          22,
          22,
          23,
          25,
          25,
          25,
          24,
          24,
          23,
          24,
          23,
          22,
          20,
          19,
          19,
          19,
          17,
          15,
          16,
          17,
          17,
          18,
          15,
          14,
          12
         ],
         "yaxis": "y"
        },
        {
         "hovertemplate": "Country=Greenland<br>Year=%{x}<br>Lower respiratory infections=%{y}<extra></extra>",
         "legendgroup": "Greenland",
         "line": {
          "color": "#EF553B",
          "dash": "solid"
         },
         "marker": {
          "symbol": "circle"
         },
         "mode": "lines",
         "name": "Greenland",
         "showlegend": true,
         "type": "scattergl",
         "x": [
          1990,
          1991,
          1992,
          1993,
          1994,
          1995,
          1996,
          1997,
          1998,
          1999,
          2000,
          2001,
          2002,
          2003,
          2004,
          2005,
          2006,
          2007,
          2008,
          2009,
          2010,
          2011,
          2012,
          2013,
          2014,
          2015,
          2016,
          2017,
          2018,
          2019
         ],
         "xaxis": "x",
         "y": [
          2,
          2,
          2,
          2,
          2,
          2,
          1,
          1,
          1,
          1,
          1,
          1,
          1,
          1,
          1,
          1,
          1,
          0,
          0,
          0,
          0,
          0,
          0,
          0,
          0,
          0,
          0,
          0,
          0,
          0
         ],
         "yaxis": "y"
        },
        {
         "hovertemplate": "Country=Grenada<br>Year=%{x}<br>Lower respiratory infections=%{y}<extra></extra>",
         "legendgroup": "Grenada",
         "line": {
          "color": "#00cc96",
          "dash": "solid"
         },
         "marker": {
          "symbol": "circle"
         },
         "mode": "lines",
         "name": "Grenada",
         "showlegend": true,
         "type": "scattergl",
         "x": [
          1990,
          1991,
          1992,
          1993,
          1994,
          1995,
          1996,
          1997,
          1998,
          1999,
          2000,
          2001,
          2002,
          2003,
          2004,
          2005,
          2006,
          2007,
          2008,
          2009,
          2010,
          2011,
          2012,
          2013,
          2014,
          2015,
          2016,
          2017,
          2018,
          2019
         ],
         "xaxis": "x",
         "y": [
          7,
          6,
          6,
          5,
          5,
          5,
          5,
          5,
          5,
          5,
          5,
          5,
          5,
          5,
          4,
          4,
          4,
          4,
          4,
          3,
          3,
          3,
          3,
          3,
          3,
          3,
          3,
          2,
          2,
          2
         ],
         "yaxis": "y"
        },
        {
         "hovertemplate": "Country=Guam<br>Year=%{x}<br>Lower respiratory infections=%{y}<extra></extra>",
         "legendgroup": "Guam",
         "line": {
          "color": "#ab63fa",
          "dash": "solid"
         },
         "marker": {
          "symbol": "circle"
         },
         "mode": "lines",
         "name": "Guam",
         "showlegend": true,
         "type": "scattergl",
         "x": [
          1990,
          1991,
          1992,
          1993,
          1994,
          1995,
          1996,
          1997,
          1998,
          1999,
          2000,
          2001,
          2002,
          2003,
          2004,
          2005,
          2006,
          2007,
          2008,
          2009,
          2010,
          2011,
          2012,
          2013,
          2014,
          2015,
          2016,
          2017,
          2018,
          2019
         ],
         "xaxis": "x",
         "y": [
          5,
          5,
          5,
          5,
          5,
          5,
          5,
          5,
          5,
          5,
          5,
          4,
          4,
          4,
          4,
          5,
          5,
          5,
          5,
          5,
          5,
          5,
          5,
          5,
          4,
          5,
          5,
          5,
          4,
          4
         ],
         "yaxis": "y"
        },
        {
         "hovertemplate": "Country=Guatemala<br>Year=%{x}<br>Lower respiratory infections=%{y}<extra></extra>",
         "legendgroup": "Guatemala",
         "line": {
          "color": "#FFA15A",
          "dash": "solid"
         },
         "marker": {
          "symbol": "circle"
         },
         "mode": "lines",
         "name": "Guatemala",
         "showlegend": true,
         "type": "scattergl",
         "x": [
          1990,
          1991,
          1992,
          1993,
          1994,
          1995,
          1996,
          1997,
          1998,
          1999,
          2000,
          2001,
          2002,
          2003,
          2004,
          2005,
          2006,
          2007,
          2008,
          2009,
          2010,
          2011,
          2012,
          2013,
          2014,
          2015,
          2016,
          2017,
          2018,
          2019
         ],
         "xaxis": "x",
         "y": [
          5386,
          5376,
          5407,
          5336,
          5213,
          5122,
          5083,
          5068,
          5012,
          4888,
          4877,
          4776,
          4651,
          4507,
          4415,
          4301,
          4184,
          4007,
          3901,
          3791,
          3682,
          3548,
          3374,
          3205,
          3056,
          2923,
          2841,
          2662,
          2520,
          2401
         ],
         "yaxis": "y"
        },
        {
         "hovertemplate": "Country=Guinea<br>Year=%{x}<br>Lower respiratory infections=%{y}<extra></extra>",
         "legendgroup": "Guinea",
         "line": {
          "color": "#19d3f3",
          "dash": "solid"
         },
         "marker": {
          "symbol": "circle"
         },
         "mode": "lines",
         "name": "Guinea",
         "showlegend": true,
         "type": "scattergl",
         "x": [
          1990,
          1991,
          1992,
          1993,
          1994,
          1995,
          1996,
          1997,
          1998,
          1999,
          2000,
          2001,
          2002,
          2003,
          2004,
          2005,
          2006,
          2007,
          2008,
          2009,
          2010,
          2011,
          2012,
          2013,
          2014,
          2015,
          2016,
          2017,
          2018,
          2019
         ],
         "xaxis": "x",
         "y": [
          13405,
          13346,
          13285,
          13068,
          12916,
          12739,
          12399,
          12055,
          11784,
          11458,
          10922,
          10213,
          9690,
          9529,
          9818,
          9614,
          9427,
          9280,
          9064,
          8446,
          8532,
          8336,
          8101,
          8390,
          8450,
          8521,
          8481,
          8107,
          7795,
          7290
         ],
         "yaxis": "y"
        },
        {
         "hovertemplate": "Country=Guinea-Bissau<br>Year=%{x}<br>Lower respiratory infections=%{y}<extra></extra>",
         "legendgroup": "Guinea-Bissau",
         "line": {
          "color": "#FF6692",
          "dash": "solid"
         },
         "marker": {
          "symbol": "circle"
         },
         "mode": "lines",
         "name": "Guinea-Bissau",
         "showlegend": true,
         "type": "scattergl",
         "x": [
          1990,
          1991,
          1992,
          1993,
          1994,
          1995,
          1996,
          1997,
          1998,
          1999,
          2000,
          2001,
          2002,
          2003,
          2004,
          2005,
          2006,
          2007,
          2008,
          2009,
          2010,
          2011,
          2012,
          2013,
          2014,
          2015,
          2016,
          2017,
          2018,
          2019
         ],
         "xaxis": "x",
         "y": [
          1042,
          1027,
          1013,
          999,
          983,
          961,
          933,
          902,
          891,
          864,
          892,
          881,
          853,
          818,
          775,
          701,
          663,
          743,
          694,
          633,
          592,
          536,
          465,
          470,
          457,
          420,
          419,
          382,
          324,
          298
         ],
         "yaxis": "y"
        },
        {
         "hovertemplate": "Country=Guyana<br>Year=%{x}<br>Lower respiratory infections=%{y}<extra></extra>",
         "legendgroup": "Guyana",
         "line": {
          "color": "#B6E880",
          "dash": "solid"
         },
         "marker": {
          "symbol": "circle"
         },
         "mode": "lines",
         "name": "Guyana",
         "showlegend": true,
         "type": "scattergl",
         "x": [
          1990,
          1991,
          1992,
          1993,
          1994,
          1995,
          1996,
          1997,
          1998,
          1999,
          2000,
          2001,
          2002,
          2003,
          2004,
          2005,
          2006,
          2007,
          2008,
          2009,
          2010,
          2011,
          2012,
          2013,
          2014,
          2015,
          2016,
          2017,
          2018,
          2019
         ],
         "xaxis": "x",
         "y": [
          84,
          80,
          74,
          72,
          67,
          62,
          61,
          61,
          61,
          62,
          56,
          56,
          56,
          54,
          54,
          52,
          47,
          45,
          44,
          42,
          38,
          36,
          35,
          34,
          36,
          32,
          29,
          28,
          27,
          26
         ],
         "yaxis": "y"
        },
        {
         "hovertemplate": "Country=Haiti<br>Year=%{x}<br>Lower respiratory infections=%{y}<extra></extra>",
         "legendgroup": "Haiti",
         "line": {
          "color": "#FF97FF",
          "dash": "solid"
         },
         "marker": {
          "symbol": "circle"
         },
         "mode": "lines",
         "name": "Haiti",
         "showlegend": true,
         "type": "scattergl",
         "x": [
          1990,
          1991,
          1992,
          1993,
          1994,
          1995,
          1996,
          1997,
          1998,
          1999,
          2000,
          2001,
          2002,
          2003,
          2004,
          2005,
          2006,
          2007,
          2008,
          2009,
          2010,
          2011,
          2012,
          2013,
          2014,
          2015,
          2016,
          2017,
          2018,
          2019
         ],
         "xaxis": "x",
         "y": [
          6592,
          6251,
          5993,
          5717,
          5447,
          5286,
          5220,
          5209,
          4961,
          4836,
          4642,
          4515,
          4394,
          4286,
          4217,
          4153,
          4112,
          4068,
          4045,
          4003,
          3962,
          3932,
          3897,
          3850,
          3837,
          3751,
          3639,
          3425,
          3286,
          3183
         ],
         "yaxis": "y"
        },
        {
         "hovertemplate": "Country=Honduras<br>Year=%{x}<br>Lower respiratory infections=%{y}<extra></extra>",
         "legendgroup": "Honduras",
         "line": {
          "color": "#FECB52",
          "dash": "solid"
         },
         "marker": {
          "symbol": "circle"
         },
         "mode": "lines",
         "name": "Honduras",
         "showlegend": true,
         "type": "scattergl",
         "x": [
          1990,
          1991,
          1992,
          1993,
          1994,
          1995,
          1996,
          1997,
          1998,
          1999,
          2000,
          2001,
          2002,
          2003,
          2004,
          2005,
          2006,
          2007,
          2008,
          2009,
          2010,
          2011,
          2012,
          2013,
          2014,
          2015,
          2016,
          2017,
          2018,
          2019
         ],
         "xaxis": "x",
         "y": [
          1031,
          1004,
          951,
          906,
          857,
          808,
          761,
          720,
          683,
          641,
          587,
          550,
          511,
          486,
          465,
          446,
          431,
          416,
          392,
          380,
          370,
          354,
          326,
          319,
          307,
          294,
          280,
          264,
          251,
          239
         ],
         "yaxis": "y"
        },
        {
         "hovertemplate": "Country=Hungary<br>Year=%{x}<br>Lower respiratory infections=%{y}<extra></extra>",
         "legendgroup": "Hungary",
         "line": {
          "color": "#636efa",
          "dash": "solid"
         },
         "marker": {
          "symbol": "circle"
         },
         "mode": "lines",
         "name": "Hungary",
         "showlegend": true,
         "type": "scattergl",
         "x": [
          1990,
          1991,
          1992,
          1993,
          1994,
          1995,
          1996,
          1997,
          1998,
          1999,
          2000,
          2001,
          2002,
          2003,
          2004,
          2005,
          2006,
          2007,
          2008,
          2009,
          2010,
          2011,
          2012,
          2013,
          2014,
          2015,
          2016,
          2017,
          2018,
          2019
         ],
         "xaxis": "x",
         "y": [
          153,
          156,
          134,
          117,
          104,
          89,
          82,
          69,
          64,
          56,
          57,
          47,
          43,
          41,
          38,
          38,
          35,
          33,
          30,
          27,
          26,
          25,
          25,
          25,
          25,
          25,
          21,
          19,
          17,
          16
         ],
         "yaxis": "y"
        },
        {
         "hovertemplate": "Country=Iceland<br>Year=%{x}<br>Lower respiratory infections=%{y}<extra></extra>",
         "legendgroup": "Iceland",
         "line": {
          "color": "#EF553B",
          "dash": "solid"
         },
         "marker": {
          "symbol": "circle"
         },
         "mode": "lines",
         "name": "Iceland",
         "showlegend": true,
         "type": "scattergl",
         "x": [
          1990,
          1991,
          1992,
          1993,
          1994,
          1995,
          1996,
          1997,
          1998,
          1999,
          2000,
          2001,
          2002,
          2003,
          2004,
          2005,
          2006,
          2007,
          2008,
          2009,
          2010,
          2011,
          2012,
          2013,
          2014,
          2015,
          2016,
          2017,
          2018,
          2019
         ],
         "xaxis": "x",
         "y": [
          1,
          1,
          1,
          1,
          1,
          1,
          1,
          1,
          1,
          1,
          1,
          1,
          0,
          0,
          0,
          0,
          0,
          0,
          0,
          0,
          0,
          0,
          0,
          0,
          0,
          0,
          0,
          0,
          0,
          0
         ],
         "yaxis": "y"
        },
        {
         "hovertemplate": "Country=India<br>Year=%{x}<br>Lower respiratory infections=%{y}<extra></extra>",
         "legendgroup": "India",
         "line": {
          "color": "#00cc96",
          "dash": "solid"
         },
         "marker": {
          "symbol": "circle"
         },
         "mode": "lines",
         "name": "India",
         "showlegend": true,
         "type": "scattergl",
         "x": [
          1990,
          1991,
          1992,
          1993,
          1994,
          1995,
          1996,
          1997,
          1998,
          1999,
          2000,
          2001,
          2002,
          2003,
          2004,
          2005,
          2006,
          2007,
          2008,
          2009,
          2010,
          2011,
          2012,
          2013,
          2014,
          2015,
          2016,
          2017,
          2018,
          2019
         ],
         "xaxis": "x",
         "y": [
          522086,
          506768,
          496200,
          477187,
          461149,
          451021,
          433703,
          419953,
          405942,
          392171,
          376995,
          359093,
          346960,
          337202,
          328935,
          318240,
          304677,
          292414,
          281565,
          267693,
          255367,
          242426,
          232425,
          224500,
          207519,
          191418,
          164659,
          146165,
          137024,
          128512
         ],
         "yaxis": "y"
        },
        {
         "hovertemplate": "Country=Indonesia<br>Year=%{x}<br>Lower respiratory infections=%{y}<extra></extra>",
         "legendgroup": "Indonesia",
         "line": {
          "color": "#ab63fa",
          "dash": "solid"
         },
         "marker": {
          "symbol": "circle"
         },
         "mode": "lines",
         "name": "Indonesia",
         "showlegend": true,
         "type": "scattergl",
         "x": [
          1990,
          1991,
          1992,
          1993,
          1994,
          1995,
          1996,
          1997,
          1998,
          1999,
          2000,
          2001,
          2002,
          2003,
          2004,
          2005,
          2006,
          2007,
          2008,
          2009,
          2010,
          2011,
          2012,
          2013,
          2014,
          2015,
          2016,
          2017,
          2018,
          2019
         ],
         "xaxis": "x",
         "y": [
          68113,
          63503,
          59123,
          55639,
          52421,
          49005,
          45670,
          43106,
          41664,
          39506,
          36599,
          34565,
          32505,
          30522,
          28473,
          26492,
          24798,
          23253,
          22033,
          20473,
          18716,
          17129,
          15936,
          14881,
          13734,
          12699,
          11377,
          10476,
          9679,
          9016
         ],
         "yaxis": "y"
        },
        {
         "hovertemplate": "Country=Iran<br>Year=%{x}<br>Lower respiratory infections=%{y}<extra></extra>",
         "legendgroup": "Iran",
         "line": {
          "color": "#FFA15A",
          "dash": "solid"
         },
         "marker": {
          "symbol": "circle"
         },
         "mode": "lines",
         "name": "Iran",
         "showlegend": true,
         "type": "scattergl",
         "x": [
          1990,
          1991,
          1992,
          1993,
          1994,
          1995,
          1996,
          1997,
          1998,
          1999,
          2000,
          2001,
          2002,
          2003,
          2004,
          2005,
          2006,
          2007,
          2008,
          2009,
          2010,
          2011,
          2012,
          2013,
          2014,
          2015,
          2016,
          2017,
          2018,
          2019
         ],
         "xaxis": "x",
         "y": [
          11510,
          10283,
          9094,
          8058,
          7403,
          6789,
          6206,
          5782,
          5362,
          4973,
          4447,
          3959,
          3626,
          3387,
          3276,
          3104,
          2966,
          2826,
          2679,
          2523,
          2377,
          2232,
          2086,
          1898,
          1662,
          1367,
          994,
          802,
          674,
          579
         ],
         "yaxis": "y"
        },
        {
         "hovertemplate": "Country=Iraq<br>Year=%{x}<br>Lower respiratory infections=%{y}<extra></extra>",
         "legendgroup": "Iraq",
         "line": {
          "color": "#19d3f3",
          "dash": "solid"
         },
         "marker": {
          "symbol": "circle"
         },
         "mode": "lines",
         "name": "Iraq",
         "showlegend": true,
         "type": "scattergl",
         "x": [
          1990,
          1991,
          1992,
          1993,
          1994,
          1995,
          1996,
          1997,
          1998,
          1999,
          2000,
          2001,
          2002,
          2003,
          2004,
          2005,
          2006,
          2007,
          2008,
          2009,
          2010,
          2011,
          2012,
          2013,
          2014,
          2015,
          2016,
          2017,
          2018,
          2019
         ],
         "xaxis": "x",
         "y": [
          5730,
          5866,
          6093,
          6310,
          6260,
          6160,
          6164,
          5997,
          5754,
          5437,
          5084,
          4722,
          4452,
          4368,
          4075,
          3814,
          3488,
          3151,
          2842,
          2606,
          2356,
          2124,
          1930,
          1786,
          1653,
          1502,
          1367,
          1230,
          1110,
          1017
         ],
         "yaxis": "y"
        },
        {
         "hovertemplate": "Country=Ireland<br>Year=%{x}<br>Lower respiratory infections=%{y}<extra></extra>",
         "legendgroup": "Ireland",
         "line": {
          "color": "#FF6692",
          "dash": "solid"
         },
         "marker": {
          "symbol": "circle"
         },
         "mode": "lines",
         "name": "Ireland",
         "showlegend": true,
         "type": "scattergl",
         "x": [
          1990,
          1991,
          1992,
          1993,
          1994,
          1995,
          1996,
          1997,
          1998,
          1999,
          2000,
          2001,
          2002,
          2003,
          2004,
          2005,
          2006,
          2007,
          2008,
          2009,
          2010,
          2011,
          2012,
          2013,
          2014,
          2015,
          2016,
          2017,
          2018,
          2019
         ],
         "xaxis": "x",
         "y": [
          14,
          13,
          11,
          10,
          9,
          10,
          10,
          11,
          10,
          11,
          11,
          11,
          10,
          9,
          8,
          7,
          7,
          6,
          7,
          6,
          6,
          5,
          5,
          5,
          4,
          4,
          3,
          3,
          3,
          3
         ],
         "yaxis": "y"
        },
        {
         "hovertemplate": "Country=Israel<br>Year=%{x}<br>Lower respiratory infections=%{y}<extra></extra>",
         "legendgroup": "Israel",
         "line": {
          "color": "#B6E880",
          "dash": "solid"
         },
         "marker": {
          "symbol": "circle"
         },
         "mode": "lines",
         "name": "Israel",
         "showlegend": true,
         "type": "scattergl",
         "x": [
          1990,
          1991,
          1992,
          1993,
          1994,
          1995,
          1996,
          1997,
          1998,
          1999,
          2000,
          2001,
          2002,
          2003,
          2004,
          2005,
          2006,
          2007,
          2008,
          2009,
          2010,
          2011,
          2012,
          2013,
          2014,
          2015,
          2016,
          2017,
          2018,
          2019
         ],
         "xaxis": "x",
         "y": [
          42,
          37,
          35,
          29,
          25,
          24,
          25,
          25,
          24,
          23,
          21,
          20,
          21,
          20,
          20,
          19,
          18,
          18,
          18,
          18,
          17,
          17,
          17,
          16,
          15,
          15,
          16,
          15,
          14,
          13
         ],
         "yaxis": "y"
        },
        {
         "hovertemplate": "Country=Italy<br>Year=%{x}<br>Lower respiratory infections=%{y}<extra></extra>",
         "legendgroup": "Italy",
         "line": {
          "color": "#FF97FF",
          "dash": "solid"
         },
         "marker": {
          "symbol": "circle"
         },
         "mode": "lines",
         "name": "Italy",
         "showlegend": true,
         "type": "scattergl",
         "x": [
          1990,
          1991,
          1992,
          1993,
          1994,
          1995,
          1996,
          1997,
          1998,
          1999,
          2000,
          2001,
          2002,
          2003,
          2004,
          2005,
          2006,
          2007,
          2008,
          2009,
          2010,
          2011,
          2012,
          2013,
          2014,
          2015,
          2016,
          2017,
          2018,
          2019
         ],
         "xaxis": "x",
         "y": [
          229,
          210,
          190,
          163,
          140,
          124,
          112,
          103,
          90,
          83,
          74,
          69,
          65,
          55,
          52,
          51,
          48,
          46,
          46,
          44,
          42,
          41,
          39,
          36,
          33,
          32,
          29,
          27,
          25,
          23
         ],
         "yaxis": "y"
        },
        {
         "hovertemplate": "Country=Jamaica<br>Year=%{x}<br>Lower respiratory infections=%{y}<extra></extra>",
         "legendgroup": "Jamaica",
         "line": {
          "color": "#FECB52",
          "dash": "solid"
         },
         "marker": {
          "symbol": "circle"
         },
         "mode": "lines",
         "name": "Jamaica",
         "showlegend": true,
         "type": "scattergl",
         "x": [
          1990,
          1991,
          1992,
          1993,
          1994,
          1995,
          1996,
          1997,
          1998,
          1999,
          2000,
          2001,
          2002,
          2003,
          2004,
          2005,
          2006,
          2007,
          2008,
          2009,
          2010,
          2011,
          2012,
          2013,
          2014,
          2015,
          2016,
          2017,
          2018,
          2019
         ],
         "xaxis": "x",
         "y": [
          111,
          104,
          99,
          92,
          84,
          76,
          69,
          62,
          56,
          51,
          47,
          43,
          39,
          35,
          32,
          30,
          28,
          28,
          27,
          27,
          26,
          25,
          25,
          25,
          25,
          23,
          22,
          21,
          20,
          19
         ],
         "yaxis": "y"
        },
        {
         "hovertemplate": "Country=Japan<br>Year=%{x}<br>Lower respiratory infections=%{y}<extra></extra>",
         "legendgroup": "Japan",
         "line": {
          "color": "#636efa",
          "dash": "solid"
         },
         "marker": {
          "symbol": "circle"
         },
         "mode": "lines",
         "name": "Japan",
         "showlegend": true,
         "type": "scattergl",
         "x": [
          1990,
          1991,
          1992,
          1993,
          1994,
          1995,
          1996,
          1997,
          1998,
          1999,
          2000,
          2001,
          2002,
          2003,
          2004,
          2005,
          2006,
          2007,
          2008,
          2009,
          2010,
          2011,
          2012,
          2013,
          2014,
          2015,
          2016,
          2017,
          2018,
          2019
         ],
         "xaxis": "x",
         "y": [
          423,
          403,
          399,
          387,
          379,
          376,
          348,
          344,
          346,
          324,
          301,
          277,
          268,
          258,
          243,
          238,
          227,
          222,
          217,
          203,
          197,
          191,
          180,
          168,
          159,
          147,
          140,
          126,
          121,
          113
         ],
         "yaxis": "y"
        },
        {
         "hovertemplate": "Country=Jordan<br>Year=%{x}<br>Lower respiratory infections=%{y}<extra></extra>",
         "legendgroup": "Jordan",
         "line": {
          "color": "#EF553B",
          "dash": "solid"
         },
         "marker": {
          "symbol": "circle"
         },
         "mode": "lines",
         "name": "Jordan",
         "showlegend": true,
         "type": "scattergl",
         "x": [
          1990,
          1991,
          1992,
          1993,
          1994,
          1995,
          1996,
          1997,
          1998,
          1999,
          2000,
          2001,
          2002,
          2003,
          2004,
          2005,
          2006,
          2007,
          2008,
          2009,
          2010,
          2011,
          2012,
          2013,
          2014,
          2015,
          2016,
          2017,
          2018,
          2019
         ],
         "xaxis": "x",
         "y": [
          505,
          495,
          477,
          458,
          438,
          420,
          406,
          389,
          387,
          368,
          353,
          340,
          328,
          315,
          309,
          312,
          326,
          336,
          337,
          334,
          325,
          320,
          315,
          314,
          323,
          324,
          333,
          336,
          315,
          304
         ],
         "yaxis": "y"
        },
        {
         "hovertemplate": "Country=Kazakhstan<br>Year=%{x}<br>Lower respiratory infections=%{y}<extra></extra>",
         "legendgroup": "Kazakhstan",
         "line": {
          "color": "#00cc96",
          "dash": "solid"
         },
         "marker": {
          "symbol": "circle"
         },
         "mode": "lines",
         "name": "Kazakhstan",
         "showlegend": true,
         "type": "scattergl",
         "x": [
          1990,
          1991,
          1992,
          1993,
          1994,
          1995,
          1996,
          1997,
          1998,
          1999,
          2000,
          2001,
          2002,
          2003,
          2004,
          2005,
          2006,
          2007,
          2008,
          2009,
          2010,
          2011,
          2012,
          2013,
          2014,
          2015,
          2016,
          2017,
          2018,
          2019
         ],
         "xaxis": "x",
         "y": [
          4614,
          4201,
          3929,
          3700,
          3467,
          3226,
          2960,
          2717,
          2487,
          2319,
          2176,
          2039,
          1884,
          1731,
          1620,
          1521,
          1435,
          1381,
          1285,
          1195,
          1096,
          972,
          886,
          832,
          763,
          710,
          666,
          612,
          596,
          565
         ],
         "yaxis": "y"
        },
        {
         "hovertemplate": "Country=Kenya<br>Year=%{x}<br>Lower respiratory infections=%{y}<extra></extra>",
         "legendgroup": "Kenya",
         "line": {
          "color": "#ab63fa",
          "dash": "solid"
         },
         "marker": {
          "symbol": "circle"
         },
         "mode": "lines",
         "name": "Kenya",
         "showlegend": true,
         "type": "scattergl",
         "x": [
          1990,
          1991,
          1992,
          1993,
          1994,
          1995,
          1996,
          1997,
          1998,
          1999,
          2000,
          2001,
          2002,
          2003,
          2004,
          2005,
          2006,
          2007,
          2008,
          2009,
          2010,
          2011,
          2012,
          2013,
          2014,
          2015,
          2016,
          2017,
          2018,
          2019
         ],
         "xaxis": "x",
         "y": [
          15821,
          15066,
          14483,
          13949,
          13427,
          12927,
          12511,
          12184,
          11848,
          11501,
          11579,
          11075,
          10913,
          11009,
          10850,
          10895,
          10858,
          10835,
          10551,
          10450,
          10611,
          10384,
          9811,
          9389,
          8910,
          8232,
          7548,
          7107,
          6638,
          6307
         ],
         "yaxis": "y"
        },
        {
         "hovertemplate": "Country=Kiribati<br>Year=%{x}<br>Lower respiratory infections=%{y}<extra></extra>",
         "legendgroup": "Kiribati",
         "line": {
          "color": "#FFA15A",
          "dash": "solid"
         },
         "marker": {
          "symbol": "circle"
         },
         "mode": "lines",
         "name": "Kiribati",
         "showlegend": true,
         "type": "scattergl",
         "x": [
          1990,
          1991,
          1992,
          1993,
          1994,
          1995,
          1996,
          1997,
          1998,
          1999,
          2000,
          2001,
          2002,
          2003,
          2004,
          2005,
          2006,
          2007,
          2008,
          2009,
          2010,
          2011,
          2012,
          2013,
          2014,
          2015,
          2016,
          2017,
          2018,
          2019
         ],
         "xaxis": "x",
         "y": [
          20,
          20,
          20,
          19,
          18,
          18,
          17,
          17,
          16,
          17,
          16,
          16,
          15,
          15,
          14,
          14,
          13,
          13,
          13,
          12,
          12,
          11,
          10,
          10,
          9,
          9,
          8,
          8,
          7,
          7
         ],
         "yaxis": "y"
        },
        {
         "hovertemplate": "Country=Kuwait<br>Year=%{x}<br>Lower respiratory infections=%{y}<extra></extra>",
         "legendgroup": "Kuwait",
         "line": {
          "color": "#19d3f3",
          "dash": "solid"
         },
         "marker": {
          "symbol": "circle"
         },
         "mode": "lines",
         "name": "Kuwait",
         "showlegend": true,
         "type": "scattergl",
         "x": [
          1990,
          1991,
          1992,
          1993,
          1994,
          1995,
          1996,
          1997,
          1998,
          1999,
          2000,
          2001,
          2002,
          2003,
          2004,
          2005,
          2006,
          2007,
          2008,
          2009,
          2010,
          2011,
          2012,
          2013,
          2014,
          2015,
          2016,
          2017,
          2018,
          2019
         ],
         "xaxis": "x",
         "y": [
          71,
          45,
          50,
          40,
          46,
          40,
          35,
          39,
          31,
          31,
          30,
          24,
          28,
          28,
          28,
          28,
          29,
          31,
          34,
          41,
          37,
          36,
          36,
          36,
          37,
          40,
          35,
          33,
          32,
          31
         ],
         "yaxis": "y"
        },
        {
         "hovertemplate": "Country=Kyrgyzstan<br>Year=%{x}<br>Lower respiratory infections=%{y}<extra></extra>",
         "legendgroup": "Kyrgyzstan",
         "line": {
          "color": "#FF6692",
          "dash": "solid"
         },
         "marker": {
          "symbol": "circle"
         },
         "mode": "lines",
         "name": "Kyrgyzstan",
         "showlegend": true,
         "type": "scattergl",
         "x": [
          1990,
          1991,
          1992,
          1993,
          1994,
          1995,
          1996,
          1997,
          1998,
          1999,
          2000,
          2001,
          2002,
          2003,
          2004,
          2005,
          2006,
          2007,
          2008,
          2009,
          2010,
          2011,
          2012,
          2013,
          2014,
          2015,
          2016,
          2017,
          2018,
          2019
         ],
         "xaxis": "x",
         "y": [
          2827,
          2622,
          2474,
          2336,
          2182,
          2030,
          1928,
          1838,
          1727,
          1610,
          1464,
          1344,
          1247,
          1159,
          1082,
          1030,
          981,
          905,
          788,
          718,
          665,
          609,
          590,
          596,
          566,
          523,
          474,
          431,
          425,
          410
         ],
         "yaxis": "y"
        },
        {
         "hovertemplate": "Country=Laos<br>Year=%{x}<br>Lower respiratory infections=%{y}<extra></extra>",
         "legendgroup": "Laos",
         "line": {
          "color": "#B6E880",
          "dash": "solid"
         },
         "marker": {
          "symbol": "circle"
         },
         "mode": "lines",
         "name": "Laos",
         "showlegend": true,
         "type": "scattergl",
         "x": [
          1990,
          1991,
          1992,
          1993,
          1994,
          1995,
          1996,
          1997,
          1998,
          1999,
          2000,
          2001,
          2002,
          2003,
          2004,
          2005,
          2006,
          2007,
          2008,
          2009,
          2010,
          2011,
          2012,
          2013,
          2014,
          2015,
          2016,
          2017,
          2018,
          2019
         ],
         "xaxis": "x",
         "y": [
          8394,
          8212,
          8037,
          7864,
          7676,
          7506,
          7328,
          7145,
          6937,
          6710,
          6390,
          6078,
          5813,
          5452,
          5049,
          4669,
          4297,
          3914,
          3772,
          3465,
          3148,
          2868,
          2643,
          2422,
          2212,
          2060,
          1904,
          1731,
          1615,
          1516
         ],
         "yaxis": "y"
        },
        {
         "hovertemplate": "Country=Latvia<br>Year=%{x}<br>Lower respiratory infections=%{y}<extra></extra>",
         "legendgroup": "Latvia",
         "line": {
          "color": "#FF97FF",
          "dash": "solid"
         },
         "marker": {
          "symbol": "circle"
         },
         "mode": "lines",
         "name": "Latvia",
         "showlegend": true,
         "type": "scattergl",
         "x": [
          1990,
          1991,
          1992,
          1993,
          1994,
          1995,
          1996,
          1997,
          1998,
          1999,
          2000,
          2001,
          2002,
          2003,
          2004,
          2005,
          2006,
          2007,
          2008,
          2009,
          2010,
          2011,
          2012,
          2013,
          2014,
          2015,
          2016,
          2017,
          2018,
          2019
         ],
         "xaxis": "x",
         "y": [
          44,
          47,
          47,
          43,
          39,
          37,
          31,
          27,
          24,
          21,
          19,
          18,
          17,
          16,
          15,
          15,
          14,
          14,
          12,
          11,
          10,
          10,
          9,
          9,
          8,
          8,
          6,
          6,
          6,
          5
         ],
         "yaxis": "y"
        },
        {
         "hovertemplate": "Country=Lebanon<br>Year=%{x}<br>Lower respiratory infections=%{y}<extra></extra>",
         "legendgroup": "Lebanon",
         "line": {
          "color": "#FECB52",
          "dash": "solid"
         },
         "marker": {
          "symbol": "circle"
         },
         "mode": "lines",
         "name": "Lebanon",
         "showlegend": true,
         "type": "scattergl",
         "x": [
          1990,
          1991,
          1992,
          1993,
          1994,
          1995,
          1996,
          1997,
          1998,
          1999,
          2000,
          2001,
          2002,
          2003,
          2004,
          2005,
          2006,
          2007,
          2008,
          2009,
          2010,
          2011,
          2012,
          2013,
          2014,
          2015,
          2016,
          2017,
          2018,
          2019
         ],
         "xaxis": "x",
         "y": [
          227,
          213,
          197,
          185,
          172,
          161,
          150,
          139,
          130,
          124,
          116,
          112,
          105,
          98,
          92,
          87,
          80,
          75,
          71,
          69,
          66,
          64,
          63,
          62,
          61,
          57,
          52,
          48,
          44,
          40
         ],
         "yaxis": "y"
        },
        {
         "hovertemplate": "Country=Lesotho<br>Year=%{x}<br>Lower respiratory infections=%{y}<extra></extra>",
         "legendgroup": "Lesotho",
         "line": {
          "color": "#636efa",
          "dash": "solid"
         },
         "marker": {
          "symbol": "circle"
         },
         "mode": "lines",
         "name": "Lesotho",
         "showlegend": true,
         "type": "scattergl",
         "x": [
          1990,
          1991,
          1992,
          1993,
          1994,
          1995,
          1996,
          1997,
          1998,
          1999,
          2000,
          2001,
          2002,
          2003,
          2004,
          2005,
          2006,
          2007,
          2008,
          2009,
          2010,
          2011,
          2012,
          2013,
          2014,
          2015,
          2016,
          2017,
          2018,
          2019
         ],
         "xaxis": "x",
         "y": [
          872,
          865,
          847,
          828,
          800,
          765,
          739,
          730,
          724,
          726,
          741,
          760,
          764,
          768,
          779,
          790,
          799,
          808,
          811,
          781,
          755,
          748,
          707,
          652,
          615,
          588,
          550,
          535,
          532,
          528
         ],
         "yaxis": "y"
        },
        {
         "hovertemplate": "Country=Liberia<br>Year=%{x}<br>Lower respiratory infections=%{y}<extra></extra>",
         "legendgroup": "Liberia",
         "line": {
          "color": "#EF553B",
          "dash": "solid"
         },
         "marker": {
          "symbol": "circle"
         },
         "mode": "lines",
         "name": "Liberia",
         "showlegend": true,
         "type": "scattergl",
         "x": [
          1990,
          1991,
          1992,
          1993,
          1994,
          1995,
          1996,
          1997,
          1998,
          1999,
          2000,
          2001,
          2002,
          2003,
          2004,
          2005,
          2006,
          2007,
          2008,
          2009,
          2010,
          2011,
          2012,
          2013,
          2014,
          2015,
          2016,
          2017,
          2018,
          2019
         ],
         "xaxis": "x",
         "y": [
          3260,
          2988,
          2911,
          2758,
          2564,
          2460,
          2496,
          2450,
          2389,
          2259,
          2083,
          1868,
          1626,
          1435,
          1266,
          1224,
          1141,
          1065,
          1027,
          1032,
          1016,
          999,
          1010,
          955,
          869,
          810,
          741,
          646,
          588,
          563
         ],
         "yaxis": "y"
        },
        {
         "hovertemplate": "Country=Libya<br>Year=%{x}<br>Lower respiratory infections=%{y}<extra></extra>",
         "legendgroup": "Libya",
         "line": {
          "color": "#00cc96",
          "dash": "solid"
         },
         "marker": {
          "symbol": "circle"
         },
         "mode": "lines",
         "name": "Libya",
         "showlegend": true,
         "type": "scattergl",
         "x": [
          1990,
          1991,
          1992,
          1993,
          1994,
          1995,
          1996,
          1997,
          1998,
          1999,
          2000,
          2001,
          2002,
          2003,
          2004,
          2005,
          2006,
          2007,
          2008,
          2009,
          2010,
          2011,
          2012,
          2013,
          2014,
          2015,
          2016,
          2017,
          2018,
          2019
         ],
         "xaxis": "x",
         "y": [
          476,
          426,
          380,
          344,
          312,
          280,
          248,
          227,
          211,
          198,
          186,
          174,
          165,
          155,
          143,
          132,
          124,
          115,
          108,
          100,
          94,
          86,
          76,
          69,
          64,
          60,
          58,
          54,
          50,
          47
         ],
         "yaxis": "y"
        },
        {
         "hovertemplate": "Country=Lithuania<br>Year=%{x}<br>Lower respiratory infections=%{y}<extra></extra>",
         "legendgroup": "Lithuania",
         "line": {
          "color": "#ab63fa",
          "dash": "solid"
         },
         "marker": {
          "symbol": "circle"
         },
         "mode": "lines",
         "name": "Lithuania",
         "showlegend": true,
         "type": "scattergl",
         "x": [
          1990,
          1991,
          1992,
          1993,
          1994,
          1995,
          1996,
          1997,
          1998,
          1999,
          2000,
          2001,
          2002,
          2003,
          2004,
          2005,
          2006,
          2007,
          2008,
          2009,
          2010,
          2011,
          2012,
          2013,
          2014,
          2015,
          2016,
          2017,
          2018,
          2019
         ],
         "xaxis": "x",
         "y": [
          46,
          53,
          57,
          51,
          45,
          40,
          34,
          32,
          31,
          31,
          30,
          26,
          25,
          24,
          23,
          22,
          21,
          20,
          19,
          17,
          15,
          14,
          12,
          12,
          12,
          12,
          12,
          10,
          9,
          8
         ],
         "yaxis": "y"
        },
        {
         "hovertemplate": "Country=Luxembourg<br>Year=%{x}<br>Lower respiratory infections=%{y}<extra></extra>",
         "legendgroup": "Luxembourg",
         "line": {
          "color": "#FFA15A",
          "dash": "solid"
         },
         "marker": {
          "symbol": "circle"
         },
         "mode": "lines",
         "name": "Luxembourg",
         "showlegend": true,
         "type": "scattergl",
         "x": [
          1990,
          1991,
          1992,
          1993,
          1994,
          1995,
          1996,
          1997,
          1998,
          1999,
          2000,
          2001,
          2002,
          2003,
          2004,
          2005,
          2006,
          2007,
          2008,
          2009,
          2010,
          2011,
          2012,
          2013,
          2014,
          2015,
          2016,
          2017,
          2018,
          2019
         ],
         "xaxis": "x",
         "y": [
          1,
          1,
          1,
          1,
          1,
          1,
          1,
          1,
          1,
          1,
          1,
          1,
          1,
          1,
          1,
          0,
          0,
          0,
          0,
          0,
          0,
          0,
          0,
          0,
          0,
          0,
          0,
          0,
          0,
          0
         ],
         "yaxis": "y"
        },
        {
         "hovertemplate": "Country=Madagascar<br>Year=%{x}<br>Lower respiratory infections=%{y}<extra></extra>",
         "legendgroup": "Madagascar",
         "line": {
          "color": "#19d3f3",
          "dash": "solid"
         },
         "marker": {
          "symbol": "circle"
         },
         "mode": "lines",
         "name": "Madagascar",
         "showlegend": true,
         "type": "scattergl",
         "x": [
          1990,
          1991,
          1992,
          1993,
          1994,
          1995,
          1996,
          1997,
          1998,
          1999,
          2000,
          2001,
          2002,
          2003,
          2004,
          2005,
          2006,
          2007,
          2008,
          2009,
          2010,
          2011,
          2012,
          2013,
          2014,
          2015,
          2016,
          2017,
          2018,
          2019
         ],
         "xaxis": "x",
         "y": [
          12651,
          12756,
          12881,
          12963,
          12968,
          12948,
          12728,
          12432,
          12117,
          11849,
          11464,
          10892,
          10465,
          9981,
          9519,
          9515,
          9282,
          9179,
          9195,
          9070,
          8631,
          8463,
          8043,
          7598,
          7465,
          7161,
          6752,
          6407,
          6044,
          5732
         ],
         "yaxis": "y"
        },
        {
         "hovertemplate": "Country=Malawi<br>Year=%{x}<br>Lower respiratory infections=%{y}<extra></extra>",
         "legendgroup": "Malawi",
         "line": {
          "color": "#FF6692",
          "dash": "solid"
         },
         "marker": {
          "symbol": "circle"
         },
         "mode": "lines",
         "name": "Malawi",
         "showlegend": true,
         "type": "scattergl",
         "x": [
          1990,
          1991,
          1992,
          1993,
          1994,
          1995,
          1996,
          1997,
          1998,
          1999,
          2000,
          2001,
          2002,
          2003,
          2004,
          2005,
          2006,
          2007,
          2008,
          2009,
          2010,
          2011,
          2012,
          2013,
          2014,
          2015,
          2016,
          2017,
          2018,
          2019
         ],
         "xaxis": "x",
         "y": [
          11038,
          11256,
          11559,
          11707,
          11581,
          11251,
          10876,
          10603,
          10348,
          10822,
          10849,
          10422,
          9945,
          9517,
          8805,
          8117,
          7707,
          7129,
          6569,
          6487,
          6462,
          6497,
          6253,
          5932,
          5654,
          5414,
          5020,
          4540,
          4359,
          4104
         ],
         "yaxis": "y"
        },
        {
         "hovertemplate": "Country=Malaysia<br>Year=%{x}<br>Lower respiratory infections=%{y}<extra></extra>",
         "legendgroup": "Malaysia",
         "line": {
          "color": "#B6E880",
          "dash": "solid"
         },
         "marker": {
          "symbol": "circle"
         },
         "mode": "lines",
         "name": "Malaysia",
         "showlegend": true,
         "type": "scattergl",
         "x": [
          1990,
          1991,
          1992,
          1993,
          1994,
          1995,
          1996,
          1997,
          1998,
          1999,
          2000,
          2001,
          2002,
          2003,
          2004,
          2005,
          2006,
          2007,
          2008,
          2009,
          2010,
          2011,
          2012,
          2013,
          2014,
          2015,
          2016,
          2017,
          2018,
          2019
         ],
         "xaxis": "x",
         "y": [
          916,
          816,
          775,
          728,
          661,
          608,
          510,
          516,
          451,
          455,
          333,
          284,
          269,
          260,
          254,
          269,
          247,
          253,
          271,
          295,
          233,
          232,
          257,
          220,
          252,
          293,
          234,
          220,
          209,
          194
         ],
         "yaxis": "y"
        },
        {
         "hovertemplate": "Country=Maldives<br>Year=%{x}<br>Lower respiratory infections=%{y}<extra></extra>",
         "legendgroup": "Maldives",
         "line": {
          "color": "#FF97FF",
          "dash": "solid"
         },
         "marker": {
          "symbol": "circle"
         },
         "mode": "lines",
         "name": "Maldives",
         "showlegend": true,
         "type": "scattergl",
         "x": [
          1990,
          1991,
          1992,
          1993,
          1994,
          1995,
          1996,
          1997,
          1998,
          1999,
          2000,
          2001,
          2002,
          2003,
          2004,
          2005,
          2006,
          2007,
          2008,
          2009,
          2010,
          2011,
          2012,
          2013,
          2014,
          2015,
          2016,
          2017,
          2018,
          2019
         ],
         "xaxis": "x",
         "y": [
          26,
          23,
          21,
          19,
          16,
          14,
          13,
          12,
          11,
          10,
          8,
          7,
          6,
          6,
          5,
          5,
          6,
          6,
          5,
          5,
          5,
          5,
          5,
          5,
          5,
          5,
          5,
          5,
          4,
          4
         ],
         "yaxis": "y"
        },
        {
         "hovertemplate": "Country=Mali<br>Year=%{x}<br>Lower respiratory infections=%{y}<extra></extra>",
         "legendgroup": "Mali",
         "line": {
          "color": "#FECB52",
          "dash": "solid"
         },
         "marker": {
          "symbol": "circle"
         },
         "mode": "lines",
         "name": "Mali",
         "showlegend": true,
         "type": "scattergl",
         "x": [
          1990,
          1991,
          1992,
          1993,
          1994,
          1995,
          1996,
          1997,
          1998,
          1999,
          2000,
          2001,
          2002,
          2003,
          2004,
          2005,
          2006,
          2007,
          2008,
          2009,
          2010,
          2011,
          2012,
          2013,
          2014,
          2015,
          2016,
          2017,
          2018,
          2019
         ],
         "xaxis": "x",
         "y": [
          8281,
          8221,
          8176,
          8146,
          8213,
          8401,
          8794,
          9441,
          10118,
          10649,
          10827,
          10574,
          11096,
          10870,
          10542,
          10342,
          10352,
          10271,
          10813,
          11092,
          10991,
          10692,
          10766,
          10701,
          10753,
          11037,
          12162,
          12410,
          12054,
          11744
         ],
         "yaxis": "y"
        },
        {
         "hovertemplate": "Country=Malta<br>Year=%{x}<br>Lower respiratory infections=%{y}<extra></extra>",
         "legendgroup": "Malta",
         "line": {
          "color": "#636efa",
          "dash": "solid"
         },
         "marker": {
          "symbol": "circle"
         },
         "mode": "lines",
         "name": "Malta",
         "showlegend": true,
         "type": "scattergl",
         "x": [
          1990,
          1991,
          1992,
          1993,
          1994,
          1995,
          1996,
          1997,
          1998,
          1999,
          2000,
          2001,
          2002,
          2003,
          2004,
          2005,
          2006,
          2007,
          2008,
          2009,
          2010,
          2011,
          2012,
          2013,
          2014,
          2015,
          2016,
          2017,
          2018,
          2019
         ],
         "xaxis": "x",
         "y": [
          2,
          2,
          2,
          2,
          2,
          2,
          2,
          1,
          1,
          1,
          1,
          1,
          1,
          1,
          1,
          1,
          1,
          1,
          1,
          1,
          1,
          1,
          1,
          1,
          1,
          1,
          1,
          1,
          1,
          1
         ],
         "yaxis": "y"
        },
        {
         "hovertemplate": "Country=Marshall Islands<br>Year=%{x}<br>Lower respiratory infections=%{y}<extra></extra>",
         "legendgroup": "Marshall Islands",
         "line": {
          "color": "#EF553B",
          "dash": "solid"
         },
         "marker": {
          "symbol": "circle"
         },
         "mode": "lines",
         "name": "Marshall Islands",
         "showlegend": true,
         "type": "scattergl",
         "x": [
          1990,
          1991,
          1992,
          1993,
          1994,
          1995,
          1996,
          1997,
          1998,
          1999,
          2000,
          2001,
          2002,
          2003,
          2004,
          2005,
          2006,
          2007,
          2008,
          2009,
          2010,
          2011,
          2012,
          2013,
          2014,
          2015,
          2016,
          2017,
          2018,
          2019
         ],
         "xaxis": "x",
         "y": [
          9,
          9,
          9,
          9,
          9,
          9,
          10,
          10,
          10,
          11,
          11,
          11,
          11,
          11,
          11,
          11,
          10,
          9,
          9,
          8,
          8,
          7,
          6,
          6,
          5,
          5,
          5,
          4,
          4,
          4
         ],
         "yaxis": "y"
        },
        {
         "hovertemplate": "Country=Mauritania<br>Year=%{x}<br>Lower respiratory infections=%{y}<extra></extra>",
         "legendgroup": "Mauritania",
         "line": {
          "color": "#00cc96",
          "dash": "solid"
         },
         "marker": {
          "symbol": "circle"
         },
         "mode": "lines",
         "name": "Mauritania",
         "showlegend": true,
         "type": "scattergl",
         "x": [
          1990,
          1991,
          1992,
          1993,
          1994,
          1995,
          1996,
          1997,
          1998,
          1999,
          2000,
          2001,
          2002,
          2003,
          2004,
          2005,
          2006,
          2007,
          2008,
          2009,
          2010,
          2011,
          2012,
          2013,
          2014,
          2015,
          2016,
          2017,
          2018,
          2019
         ],
         "xaxis": "x",
         "y": [
          1248,
          1242,
          1239,
          1232,
          1188,
          1158,
          1204,
          1202,
          1220,
          1208,
          1232,
          1241,
          1239,
          1185,
          1149,
          1162,
          1143,
          1066,
          999,
          995,
          922,
          879,
          884,
          833,
          743,
          699,
          618,
          562,
          500,
          467
         ],
         "yaxis": "y"
        },
        {
         "hovertemplate": "Country=Mauritius<br>Year=%{x}<br>Lower respiratory infections=%{y}<extra></extra>",
         "legendgroup": "Mauritius",
         "line": {
          "color": "#ab63fa",
          "dash": "solid"
         },
         "marker": {
          "symbol": "circle"
         },
         "mode": "lines",
         "name": "Mauritius",
         "showlegend": true,
         "type": "scattergl",
         "x": [
          1990,
          1991,
          1992,
          1993,
          1994,
          1995,
          1996,
          1997,
          1998,
          1999,
          2000,
          2001,
          2002,
          2003,
          2004,
          2005,
          2006,
          2007,
          2008,
          2009,
          2010,
          2011,
          2012,
          2013,
          2014,
          2015,
          2016,
          2017,
          2018,
          2019
         ],
         "xaxis": "x",
         "y": [
          33,
          32,
          33,
          34,
          32,
          31,
          32,
          30,
          27,
          26,
          22,
          19,
          19,
          17,
          16,
          15,
          14,
          14,
          13,
          13,
          12,
          12,
          12,
          11,
          11,
          10,
          9,
          9,
          8,
          8
         ],
         "yaxis": "y"
        },
        {
         "hovertemplate": "Country=Mexico<br>Year=%{x}<br>Lower respiratory infections=%{y}<extra></extra>",
         "legendgroup": "Mexico",
         "line": {
          "color": "#FFA15A",
          "dash": "solid"
         },
         "marker": {
          "symbol": "circle"
         },
         "mode": "lines",
         "name": "Mexico",
         "showlegend": true,
         "type": "scattergl",
         "x": [
          1990,
          1991,
          1992,
          1993,
          1994,
          1995,
          1996,
          1997,
          1998,
          1999,
          2000,
          2001,
          2002,
          2003,
          2004,
          2005,
          2006,
          2007,
          2008,
          2009,
          2010,
          2011,
          2012,
          2013,
          2014,
          2015,
          2016,
          2017,
          2018,
          2019
         ],
         "xaxis": "x",
         "y": [
          19413,
          17771,
          16644,
          15635,
          14771,
          13894,
          13013,
          11975,
          10762,
          9755,
          8831,
          8090,
          7569,
          7092,
          6766,
          6369,
          6008,
          5626,
          5308,
          5079,
          4843,
          4631,
          4335,
          4066,
          3785,
          3496,
          3217,
          2996,
          2870,
          2716
         ],
         "yaxis": "y"
        },
        {
         "hovertemplate": "Country=Micronesia (country)<br>Year=%{x}<br>Lower respiratory infections=%{y}<extra></extra>",
         "legendgroup": "Micronesia (country)",
         "line": {
          "color": "#19d3f3",
          "dash": "solid"
         },
         "marker": {
          "symbol": "circle"
         },
         "mode": "lines",
         "name": "Micronesia (country)",
         "showlegend": true,
         "type": "scattergl",
         "x": [
          1990,
          1991,
          1992,
          1993,
          1994,
          1995,
          1996,
          1997,
          1998,
          1999,
          2000,
          2001,
          2002,
          2003,
          2004,
          2005,
          2006,
          2007,
          2008,
          2009,
          2010,
          2011,
          2012,
          2013,
          2014,
          2015,
          2016,
          2017,
          2018,
          2019
         ],
         "xaxis": "x",
         "y": [
          27,
          26,
          25,
          24,
          23,
          21,
          20,
          19,
          17,
          16,
          14,
          13,
          12,
          11,
          10,
          10,
          9,
          9,
          8,
          7,
          7,
          6,
          6,
          5,
          5,
          5,
          5,
          4,
          4,
          4
         ],
         "yaxis": "y"
        },
        {
         "hovertemplate": "Country=Moldova<br>Year=%{x}<br>Lower respiratory infections=%{y}<extra></extra>",
         "legendgroup": "Moldova",
         "line": {
          "color": "#FF6692",
          "dash": "solid"
         },
         "marker": {
          "symbol": "circle"
         },
         "mode": "lines",
         "name": "Moldova",
         "showlegend": true,
         "type": "scattergl",
         "x": [
          1990,
          1991,
          1992,
          1993,
          1994,
          1995,
          1996,
          1997,
          1998,
          1999,
          2000,
          2001,
          2002,
          2003,
          2004,
          2005,
          2006,
          2007,
          2008,
          2009,
          2010,
          2011,
          2012,
          2013,
          2014,
          2015,
          2016,
          2017,
          2018,
          2019
         ],
         "xaxis": "x",
         "y": [
          607,
          545,
          505,
          473,
          453,
          427,
          403,
          383,
          357,
          343,
          320,
          298,
          264,
          239,
          215,
          198,
          181,
          171,
          158,
          146,
          132,
          122,
          114,
          105,
          100,
          94,
          87,
          79,
          72,
          66
         ],
         "yaxis": "y"
        },
        {
         "hovertemplate": "Country=Monaco<br>Year=%{x}<br>Lower respiratory infections=%{y}<extra></extra>",
         "legendgroup": "Monaco",
         "line": {
          "color": "#B6E880",
          "dash": "solid"
         },
         "marker": {
          "symbol": "circle"
         },
         "mode": "lines",
         "name": "Monaco",
         "showlegend": true,
         "type": "scattergl",
         "x": [
          1990,
          1991,
          1992,
          1993,
          1994,
          1995,
          1996,
          1997,
          1998,
          1999,
          2000,
          2001,
          2002,
          2003,
          2004,
          2005,
          2006,
          2007,
          2008,
          2009,
          2010,
          2011,
          2012,
          2013,
          2014,
          2015,
          2016,
          2017,
          2018,
          2019
         ],
         "xaxis": "x",
         "y": [
          0,
          0,
          0,
          0,
          0,
          0,
          0,
          0,
          0,
          0,
          0,
          0,
          0,
          0,
          0,
          0,
          0,
          0,
          0,
          0,
          0,
          0,
          0,
          0,
          0,
          0,
          0,
          0,
          0,
          0
         ],
         "yaxis": "y"
        },
        {
         "hovertemplate": "Country=Mongolia<br>Year=%{x}<br>Lower respiratory infections=%{y}<extra></extra>",
         "legendgroup": "Mongolia",
         "line": {
          "color": "#FF97FF",
          "dash": "solid"
         },
         "marker": {
          "symbol": "circle"
         },
         "mode": "lines",
         "name": "Mongolia",
         "showlegend": true,
         "type": "scattergl",
         "x": [
          1990,
          1991,
          1992,
          1993,
          1994,
          1995,
          1996,
          1997,
          1998,
          1999,
          2000,
          2001,
          2002,
          2003,
          2004,
          2005,
          2006,
          2007,
          2008,
          2009,
          2010,
          2011,
          2012,
          2013,
          2014,
          2015,
          2016,
          2017,
          2018,
          2019
         ],
         "xaxis": "x",
         "y": [
          2785,
          2640,
          2518,
          2396,
          2241,
          2061,
          1891,
          1728,
          1563,
          1420,
          1294,
          1148,
          1036,
          941,
          854,
          765,
          701,
          653,
          611,
          580,
          551,
          528,
          508,
          486,
          450,
          369,
          333,
          335,
          311,
          286
         ],
         "yaxis": "y"
        },
        {
         "hovertemplate": "Country=Montenegro<br>Year=%{x}<br>Lower respiratory infections=%{y}<extra></extra>",
         "legendgroup": "Montenegro",
         "line": {
          "color": "#FECB52",
          "dash": "solid"
         },
         "marker": {
          "symbol": "circle"
         },
         "mode": "lines",
         "name": "Montenegro",
         "showlegend": true,
         "type": "scattergl",
         "x": [
          1990,
          1991,
          1992,
          1993,
          1994,
          1995,
          1996,
          1997,
          1998,
          1999,
          2000,
          2001,
          2002,
          2003,
          2004,
          2005,
          2006,
          2007,
          2008,
          2009,
          2010,
          2011,
          2012,
          2013,
          2014,
          2015,
          2016,
          2017,
          2018,
          2019
         ],
         "xaxis": "x",
         "y": [
          14,
          12,
          12,
          12,
          12,
          11,
          11,
          10,
          10,
          9,
          9,
          9,
          8,
          7,
          6,
          6,
          5,
          5,
          4,
          4,
          4,
          3,
          3,
          2,
          2,
          2,
          2,
          2,
          1,
          1
         ],
         "yaxis": "y"
        },
        {
         "hovertemplate": "Country=Morocco<br>Year=%{x}<br>Lower respiratory infections=%{y}<extra></extra>",
         "legendgroup": "Morocco",
         "line": {
          "color": "#636efa",
          "dash": "solid"
         },
         "marker": {
          "symbol": "circle"
         },
         "mode": "lines",
         "name": "Morocco",
         "showlegend": true,
         "type": "scattergl",
         "x": [
          1990,
          1991,
          1992,
          1993,
          1994,
          1995,
          1996,
          1997,
          1998,
          1999,
          2000,
          2001,
          2002,
          2003,
          2004,
          2005,
          2006,
          2007,
          2008,
          2009,
          2010,
          2011,
          2012,
          2013,
          2014,
          2015,
          2016,
          2017,
          2018,
          2019
         ],
         "xaxis": "x",
         "y": [
          9557,
          8930,
          8345,
          7846,
          7411,
          7089,
          6740,
          6411,
          6042,
          5683,
          5327,
          4995,
          4719,
          4418,
          4159,
          3890,
          3607,
          3316,
          3166,
          2957,
          2686,
          2398,
          2172,
          1947,
          1799,
          1608,
          1427,
          1250,
          1092,
          951
         ],
         "yaxis": "y"
        },
        {
         "hovertemplate": "Country=Mozambique<br>Year=%{x}<br>Lower respiratory infections=%{y}<extra></extra>",
         "legendgroup": "Mozambique",
         "line": {
          "color": "#EF553B",
          "dash": "solid"
         },
         "marker": {
          "symbol": "circle"
         },
         "mode": "lines",
         "name": "Mozambique",
         "showlegend": true,
         "type": "scattergl",
         "x": [
          1990,
          1991,
          1992,
          1993,
          1994,
          1995,
          1996,
          1997,
          1998,
          1999,
          2000,
          2001,
          2002,
          2003,
          2004,
          2005,
          2006,
          2007,
          2008,
          2009,
          2010,
          2011,
          2012,
          2013,
          2014,
          2015,
          2016,
          2017,
          2018,
          2019
         ],
         "xaxis": "x",
         "y": [
          16599,
          15962,
          15418,
          15215,
          15558,
          15978,
          15718,
          15169,
          14809,
          14570,
          14322,
          13687,
          13100,
          12466,
          12026,
          11561,
          12506,
          12385,
          12020,
          11304,
          10571,
          9772,
          9551,
          9027,
          8650,
          8240,
          7638,
          7154,
          7038,
          7372
         ],
         "yaxis": "y"
        },
        {
         "hovertemplate": "Country=Myanmar<br>Year=%{x}<br>Lower respiratory infections=%{y}<extra></extra>",
         "legendgroup": "Myanmar",
         "line": {
          "color": "#00cc96",
          "dash": "solid"
         },
         "marker": {
          "symbol": "circle"
         },
         "mode": "lines",
         "name": "Myanmar",
         "showlegend": true,
         "type": "scattergl",
         "x": [
          1990,
          1991,
          1992,
          1993,
          1994,
          1995,
          1996,
          1997,
          1998,
          1999,
          2000,
          2001,
          2002,
          2003,
          2004,
          2005,
          2006,
          2007,
          2008,
          2009,
          2010,
          2011,
          2012,
          2013,
          2014,
          2015,
          2016,
          2017,
          2018,
          2019
         ],
         "xaxis": "x",
         "y": [
          43924,
          43124,
          42084,
          40798,
          39306,
          37858,
          36673,
          35503,
          34684,
          33543,
          32121,
          30470,
          28885,
          27497,
          26222,
          24569,
          22535,
          20382,
          18786,
          17151,
          15415,
          13969,
          12541,
          11502,
          10522,
          9532,
          8791,
          7987,
          7228,
          6606
         ],
         "yaxis": "y"
        },
        {
         "hovertemplate": "Country=Namibia<br>Year=%{x}<br>Lower respiratory infections=%{y}<extra></extra>",
         "legendgroup": "Namibia",
         "line": {
          "color": "#ab63fa",
          "dash": "solid"
         },
         "marker": {
          "symbol": "circle"
         },
         "mode": "lines",
         "name": "Namibia",
         "showlegend": true,
         "type": "scattergl",
         "x": [
          1990,
          1991,
          1992,
          1993,
          1994,
          1995,
          1996,
          1997,
          1998,
          1999,
          2000,
          2001,
          2002,
          2003,
          2004,
          2005,
          2006,
          2007,
          2008,
          2009,
          2010,
          2011,
          2012,
          2013,
          2014,
          2015,
          2016,
          2017,
          2018,
          2019
         ],
         "xaxis": "x",
         "y": [
          469,
          457,
          439,
          420,
          398,
          369,
          343,
          327,
          344,
          343,
          343,
          343,
          351,
          354,
          364,
          385,
          385,
          396,
          393,
          382,
          384,
          368,
          341,
          347,
          324,
          311,
          300,
          289,
          279,
          262
         ],
         "yaxis": "y"
        },
        {
         "hovertemplate": "Country=Nauru<br>Year=%{x}<br>Lower respiratory infections=%{y}<extra></extra>",
         "legendgroup": "Nauru",
         "line": {
          "color": "#FFA15A",
          "dash": "solid"
         },
         "marker": {
          "symbol": "circle"
         },
         "mode": "lines",
         "name": "Nauru",
         "showlegend": true,
         "type": "scattergl",
         "x": [
          1990,
          1991,
          1992,
          1993,
          1994,
          1995,
          1996,
          1997,
          1998,
          1999,
          2000,
          2001,
          2002,
          2003,
          2004,
          2005,
          2006,
          2007,
          2008,
          2009,
          2010,
          2011,
          2012,
          2013,
          2014,
          2015,
          2016,
          2017,
          2018,
          2019
         ],
         "xaxis": "x",
         "y": [
          3,
          3,
          3,
          3,
          3,
          3,
          4,
          4,
          4,
          4,
          4,
          4,
          4,
          4,
          4,
          4,
          4,
          4,
          4,
          4,
          3,
          3,
          3,
          2,
          2,
          2,
          2,
          2,
          1,
          1
         ],
         "yaxis": "y"
        },
        {
         "hovertemplate": "Country=Nepal<br>Year=%{x}<br>Lower respiratory infections=%{y}<extra></extra>",
         "legendgroup": "Nepal",
         "line": {
          "color": "#19d3f3",
          "dash": "solid"
         },
         "marker": {
          "symbol": "circle"
         },
         "mode": "lines",
         "name": "Nepal",
         "showlegend": true,
         "type": "scattergl",
         "x": [
          1990,
          1991,
          1992,
          1993,
          1994,
          1995,
          1996,
          1997,
          1998,
          1999,
          2000,
          2001,
          2002,
          2003,
          2004,
          2005,
          2006,
          2007,
          2008,
          2009,
          2010,
          2011,
          2012,
          2013,
          2014,
          2015,
          2016,
          2017,
          2018,
          2019
         ],
         "xaxis": "x",
         "y": [
          25329,
          24156,
          23076,
          22115,
          21192,
          20330,
          19486,
          18560,
          17591,
          16571,
          15523,
          14577,
          13697,
          12870,
          12060,
          12020,
          11503,
          10720,
          9928,
          9128,
          8186,
          7247,
          6466,
          6140,
          5591,
          5114,
          4644,
          4185,
          3713,
          3441
         ],
         "yaxis": "y"
        },
        {
         "hovertemplate": "Country=Netherlands<br>Year=%{x}<br>Lower respiratory infections=%{y}<extra></extra>",
         "legendgroup": "Netherlands",
         "line": {
          "color": "#FF6692",
          "dash": "solid"
         },
         "marker": {
          "symbol": "circle"
         },
         "mode": "lines",
         "name": "Netherlands",
         "showlegend": true,
         "type": "scattergl",
         "x": [
          1990,
          1991,
          1992,
          1993,
          1994,
          1995,
          1996,
          1997,
          1998,
          1999,
          2000,
          2001,
          2002,
          2003,
          2004,
          2005,
          2006,
          2007,
          2008,
          2009,
          2010,
          2011,
          2012,
          2013,
          2014,
          2015,
          2016,
          2017,
          2018,
          2019
         ],
         "xaxis": "x",
         "y": [
          28,
          27,
          25,
          24,
          23,
          22,
          22,
          22,
          22,
          23,
          24,
          23,
          22,
          21,
          19,
          20,
          18,
          16,
          15,
          15,
          14,
          13,
          12,
          11,
          10,
          9,
          9,
          9,
          9,
          9
         ],
         "yaxis": "y"
        },
        {
         "hovertemplate": "Country=New Zealand<br>Year=%{x}<br>Lower respiratory infections=%{y}<extra></extra>",
         "legendgroup": "New Zealand",
         "line": {
          "color": "#B6E880",
          "dash": "solid"
         },
         "marker": {
          "symbol": "circle"
         },
         "mode": "lines",
         "name": "New Zealand",
         "showlegend": true,
         "type": "scattergl",
         "x": [
          1990,
          1991,
          1992,
          1993,
          1994,
          1995,
          1996,
          1997,
          1998,
          1999,
          2000,
          2001,
          2002,
          2003,
          2004,
          2005,
          2006,
          2007,
          2008,
          2009,
          2010,
          2011,
          2012,
          2013,
          2014,
          2015,
          2016,
          2017,
          2018,
          2019
         ],
         "xaxis": "x",
         "y": [
          39,
          34,
          30,
          29,
          27,
          22,
          21,
          18,
          14,
          13,
          12,
          11,
          11,
          10,
          11,
          10,
          11,
          12,
          12,
          12,
          12,
          12,
          11,
          10,
          11,
          9,
          8,
          8,
          8,
          8
         ],
         "yaxis": "y"
        },
        {
         "hovertemplate": "Country=Nicaragua<br>Year=%{x}<br>Lower respiratory infections=%{y}<extra></extra>",
         "legendgroup": "Nicaragua",
         "line": {
          "color": "#FF97FF",
          "dash": "solid"
         },
         "marker": {
          "symbol": "circle"
         },
         "mode": "lines",
         "name": "Nicaragua",
         "showlegend": true,
         "type": "scattergl",
         "x": [
          1990,
          1991,
          1992,
          1993,
          1994,
          1995,
          1996,
          1997,
          1998,
          1999,
          2000,
          2001,
          2002,
          2003,
          2004,
          2005,
          2006,
          2007,
          2008,
          2009,
          2010,
          2011,
          2012,
          2013,
          2014,
          2015,
          2016,
          2017,
          2018,
          2019
         ],
         "xaxis": "x",
         "y": [
          1625,
          1494,
          1377,
          1273,
          1174,
          1074,
          996,
          915,
          841,
          766,
          716,
          683,
          660,
          636,
          624,
          620,
          618,
          600,
          581,
          569,
          546,
          522,
          497,
          479,
          448,
          422,
          407,
          387,
          357,
          329
         ],
         "yaxis": "y"
        },
        {
         "hovertemplate": "Country=Niger<br>Year=%{x}<br>Lower respiratory infections=%{y}<extra></extra>",
         "legendgroup": "Niger",
         "line": {
          "color": "#FECB52",
          "dash": "solid"
         },
         "marker": {
          "symbol": "circle"
         },
         "mode": "lines",
         "name": "Niger",
         "showlegend": true,
         "type": "scattergl",
         "x": [
          1990,
          1991,
          1992,
          1993,
          1994,
          1995,
          1996,
          1997,
          1998,
          1999,
          2000,
          2001,
          2002,
          2003,
          2004,
          2005,
          2006,
          2007,
          2008,
          2009,
          2010,
          2011,
          2012,
          2013,
          2014,
          2015,
          2016,
          2017,
          2018,
          2019
         ],
         "xaxis": "x",
         "y": [
          22959,
          23248,
          23699,
          24018,
          23870,
          24093,
          23394,
          23384,
          23150,
          23298,
          23434,
          23273,
          22354,
          21642,
          19676,
          20563,
          19363,
          18767,
          16637,
          16290,
          15772,
          16347,
          16717,
          17605,
          18189,
          18522,
          18946,
          18838,
          17834,
          17390
         ],
         "yaxis": "y"
        },
        {
         "hovertemplate": "Country=Nigeria<br>Year=%{x}<br>Lower respiratory infections=%{y}<extra></extra>",
         "legendgroup": "Nigeria",
         "line": {
          "color": "#636efa",
          "dash": "solid"
         },
         "marker": {
          "symbol": "circle"
         },
         "mode": "lines",
         "name": "Nigeria",
         "showlegend": true,
         "type": "scattergl",
         "x": [
          1990,
          1991,
          1992,
          1993,
          1994,
          1995,
          1996,
          1997,
          1998,
          1999,
          2000,
          2001,
          2002,
          2003,
          2004,
          2005,
          2006,
          2007,
          2008,
          2009,
          2010,
          2011,
          2012,
          2013,
          2014,
          2015,
          2016,
          2017,
          2018,
          2019
         ],
         "xaxis": "x",
         "y": [
          140956,
          145431,
          150154,
          155104,
          160760,
          167075,
          171399,
          174168,
          176666,
          179625,
          181974,
          182388,
          182175,
          180296,
          177605,
          172387,
          173927,
          171405,
          165047,
          161503,
          156343,
          150582,
          149362,
          149915,
          150943,
          150483,
          149927,
          141943,
          134919,
          129444
         ],
         "yaxis": "y"
        },
        {
         "hovertemplate": "Country=Niue<br>Year=%{x}<br>Lower respiratory infections=%{y}<extra></extra>",
         "legendgroup": "Niue",
         "line": {
          "color": "#EF553B",
          "dash": "solid"
         },
         "marker": {
          "symbol": "circle"
         },
         "mode": "lines",
         "name": "Niue",
         "showlegend": true,
         "type": "scattergl",
         "x": [
          1990,
          1991,
          1992,
          1993,
          1994,
          1995,
          1996,
          1997,
          1998,
          1999,
          2000,
          2001,
          2002,
          2003,
          2004,
          2005,
          2006,
          2007,
          2008,
          2009,
          2010,
          2011,
          2012,
          2013,
          2014,
          2015,
          2016,
          2017,
          2018,
          2019
         ],
         "xaxis": "x",
         "y": [
          0,
          0,
          0,
          0,
          0,
          0,
          0,
          0,
          0,
          0,
          0,
          0,
          0,
          0,
          0,
          0,
          0,
          0,
          0,
          0,
          0,
          0,
          0,
          0,
          0,
          0,
          0,
          0,
          0,
          0
         ],
         "yaxis": "y"
        },
        {
         "hovertemplate": "Country=North Korea<br>Year=%{x}<br>Lower respiratory infections=%{y}<extra></extra>",
         "legendgroup": "North Korea",
         "line": {
          "color": "#00cc96",
          "dash": "solid"
         },
         "marker": {
          "symbol": "circle"
         },
         "mode": "lines",
         "name": "North Korea",
         "showlegend": true,
         "type": "scattergl",
         "x": [
          1990,
          1991,
          1992,
          1993,
          1994,
          1995,
          1996,
          1997,
          1998,
          1999,
          2000,
          2001,
          2002,
          2003,
          2004,
          2005,
          2006,
          2007,
          2008,
          2009,
          2010,
          2011,
          2012,
          2013,
          2014,
          2015,
          2016,
          2017,
          2018,
          2019
         ],
         "xaxis": "x",
         "y": [
          9602,
          9115,
          8597,
          8071,
          7432,
          6801,
          6188,
          5645,
          5195,
          4723,
          4255,
          3793,
          3411,
          3078,
          2772,
          2484,
          2215,
          1973,
          1896,
          1695,
          1521,
          1368,
          1227,
          1098,
          991,
          891,
          798,
          710,
          633,
          567
         ],
         "yaxis": "y"
        },
        {
         "hovertemplate": "Country=North Macedonia<br>Year=%{x}<br>Lower respiratory infections=%{y}<extra></extra>",
         "legendgroup": "North Macedonia",
         "line": {
          "color": "#ab63fa",
          "dash": "solid"
         },
         "marker": {
          "symbol": "circle"
         },
         "mode": "lines",
         "name": "North Macedonia",
         "showlegend": true,
         "type": "scattergl",
         "x": [
          1990,
          1991,
          1992,
          1993,
          1994,
          1995,
          1996,
          1997,
          1998,
          1999,
          2000,
          2001,
          2002,
          2003,
          2004,
          2005,
          2006,
          2007,
          2008,
          2009,
          2010,
          2011,
          2012,
          2013,
          2014,
          2015,
          2016,
          2017,
          2018,
          2019
         ],
         "xaxis": "x",
         "y": [
          197,
          162,
          151,
          115,
          106,
          87,
          62,
          48,
          48,
          39,
          33,
          28,
          23,
          25,
          22,
          17,
          19,
          16,
          16,
          17,
          13,
          13,
          16,
          16,
          15,
          14,
          18,
          14,
          12,
          10
         ],
         "yaxis": "y"
        },
        {
         "hovertemplate": "Country=Northern Ireland<br>Year=%{x}<br>Lower respiratory infections=%{y}<extra></extra>",
         "legendgroup": "Northern Ireland",
         "line": {
          "color": "#FFA15A",
          "dash": "solid"
         },
         "marker": {
          "symbol": "circle"
         },
         "mode": "lines",
         "name": "Northern Ireland",
         "showlegend": true,
         "type": "scattergl",
         "x": [
          1990,
          1991,
          1992,
          1993,
          1994,
          1995,
          1996,
          1997,
          1998,
          1999,
          2000,
          2001,
          2002,
          2003,
          2004,
          2005,
          2006,
          2007,
          2008,
          2009,
          2010,
          2011,
          2012,
          2013,
          2014,
          2015,
          2016,
          2017,
          2018,
          2019
         ],
         "xaxis": "x",
         "y": [
          11,
          10,
          9,
          10,
          9,
          9,
          8,
          8,
          8,
          7,
          6,
          5,
          4,
          4,
          4,
          4,
          4,
          4,
          4,
          4,
          4,
          3,
          3,
          3,
          3,
          3,
          3,
          3,
          3,
          3
         ],
         "yaxis": "y"
        },
        {
         "hovertemplate": "Country=Northern Mariana Islands<br>Year=%{x}<br>Lower respiratory infections=%{y}<extra></extra>",
         "legendgroup": "Northern Mariana Islands",
         "line": {
          "color": "#19d3f3",
          "dash": "solid"
         },
         "marker": {
          "symbol": "circle"
         },
         "mode": "lines",
         "name": "Northern Mariana Islands",
         "showlegend": true,
         "type": "scattergl",
         "x": [
          1990,
          1991,
          1992,
          1993,
          1994,
          1995,
          1996,
          1997,
          1998,
          1999,
          2000,
          2001,
          2002,
          2003,
          2004,
          2005,
          2006,
          2007,
          2008,
          2009,
          2010,
          2011,
          2012,
          2013,
          2014,
          2015,
          2016,
          2017,
          2018,
          2019
         ],
         "xaxis": "x",
         "y": [
          2,
          2,
          1,
          1,
          1,
          1,
          1,
          1,
          2,
          2,
          2,
          2,
          2,
          1,
          1,
          1,
          1,
          1,
          1,
          1,
          1,
          1,
          1,
          1,
          1,
          1,
          1,
          1,
          1,
          0
         ],
         "yaxis": "y"
        },
        {
         "hovertemplate": "Country=Norway<br>Year=%{x}<br>Lower respiratory infections=%{y}<extra></extra>",
         "legendgroup": "Norway",
         "line": {
          "color": "#FF6692",
          "dash": "solid"
         },
         "marker": {
          "symbol": "circle"
         },
         "mode": "lines",
         "name": "Norway",
         "showlegend": true,
         "type": "scattergl",
         "x": [
          1990,
          1991,
          1992,
          1993,
          1994,
          1995,
          1996,
          1997,
          1998,
          1999,
          2000,
          2001,
          2002,
          2003,
          2004,
          2005,
          2006,
          2007,
          2008,
          2009,
          2010,
          2011,
          2012,
          2013,
          2014,
          2015,
          2016,
          2017,
          2018,
          2019
         ],
         "xaxis": "x",
         "y": [
          11,
          10,
          9,
          8,
          7,
          6,
          5,
          5,
          5,
          5,
          4,
          4,
          4,
          3,
          3,
          3,
          3,
          3,
          3,
          3,
          2,
          2,
          2,
          2,
          2,
          2,
          2,
          2,
          2,
          2
         ],
         "yaxis": "y"
        },
        {
         "hovertemplate": "Country=Oman<br>Year=%{x}<br>Lower respiratory infections=%{y}<extra></extra>",
         "legendgroup": "Oman",
         "line": {
          "color": "#B6E880",
          "dash": "solid"
         },
         "marker": {
          "symbol": "circle"
         },
         "mode": "lines",
         "name": "Oman",
         "showlegend": true,
         "type": "scattergl",
         "x": [
          1990,
          1991,
          1992,
          1993,
          1994,
          1995,
          1996,
          1997,
          1998,
          1999,
          2000,
          2001,
          2002,
          2003,
          2004,
          2005,
          2006,
          2007,
          2008,
          2009,
          2010,
          2011,
          2012,
          2013,
          2014,
          2015,
          2016,
          2017,
          2018,
          2019
         ],
         "xaxis": "x",
         "y": [
          186,
          168,
          143,
          127,
          114,
          107,
          93,
          81,
          72,
          63,
          54,
          48,
          42,
          38,
          33,
          30,
          29,
          30,
          33,
          36,
          37,
          40,
          42,
          44,
          45,
          47,
          49,
          45,
          41,
          37
         ],
         "yaxis": "y"
        },
        {
         "hovertemplate": "Country=Pakistan<br>Year=%{x}<br>Lower respiratory infections=%{y}<extra></extra>",
         "legendgroup": "Pakistan",
         "line": {
          "color": "#FF97FF",
          "dash": "solid"
         },
         "marker": {
          "symbol": "circle"
         },
         "mode": "lines",
         "name": "Pakistan",
         "showlegend": true,
         "type": "scattergl",
         "x": [
          1990,
          1991,
          1992,
          1993,
          1994,
          1995,
          1996,
          1997,
          1998,
          1999,
          2000,
          2001,
          2002,
          2003,
          2004,
          2005,
          2006,
          2007,
          2008,
          2009,
          2010,
          2011,
          2012,
          2013,
          2014,
          2015,
          2016,
          2017,
          2018,
          2019
         ],
         "xaxis": "x",
         "y": [
          67871,
          68523,
          68945,
          69637,
          70896,
          71284,
          70320,
          70232,
          69706,
          69915,
          69247,
          67962,
          67472,
          66584,
          65358,
          62901,
          61461,
          58829,
          61298,
          61603,
          60553,
          59301,
          58551,
          58003,
          57606,
          56640,
          55964,
          53514,
          48691,
          46646
         ],
         "yaxis": "y"
        },
        {
         "hovertemplate": "Country=Palau<br>Year=%{x}<br>Lower respiratory infections=%{y}<extra></extra>",
         "legendgroup": "Palau",
         "line": {
          "color": "#FECB52",
          "dash": "solid"
         },
         "marker": {
          "symbol": "circle"
         },
         "mode": "lines",
         "name": "Palau",
         "showlegend": true,
         "type": "scattergl",
         "x": [
          1990,
          1991,
          1992,
          1993,
          1994,
          1995,
          1996,
          1997,
          1998,
          1999,
          2000,
          2001,
          2002,
          2003,
          2004,
          2005,
          2006,
          2007,
          2008,
          2009,
          2010,
          2011,
          2012,
          2013,
          2014,
          2015,
          2016,
          2017,
          2018,
          2019
         ],
         "xaxis": "x",
         "y": [
          4,
          4,
          4,
          4,
          4,
          3,
          3,
          3,
          3,
          3,
          3,
          3,
          2,
          2,
          2,
          2,
          2,
          2,
          2,
          2,
          2,
          2,
          2,
          1,
          1,
          1,
          1,
          1,
          1,
          1
         ],
         "yaxis": "y"
        },
        {
         "hovertemplate": "Country=Palestine<br>Year=%{x}<br>Lower respiratory infections=%{y}<extra></extra>",
         "legendgroup": "Palestine",
         "line": {
          "color": "#636efa",
          "dash": "solid"
         },
         "marker": {
          "symbol": "circle"
         },
         "mode": "lines",
         "name": "Palestine",
         "showlegend": true,
         "type": "scattergl",
         "x": [
          1990,
          1991,
          1992,
          1993,
          1994,
          1995,
          1996,
          1997,
          1998,
          1999,
          2000,
          2001,
          2002,
          2003,
          2004,
          2005,
          2006,
          2007,
          2008,
          2009,
          2010,
          2011,
          2012,
          2013,
          2014,
          2015,
          2016,
          2017,
          2018,
          2019
         ],
         "xaxis": "x",
         "y": [
          225,
          222,
          218,
          215,
          208,
          203,
          201,
          200,
          195,
          190,
          187,
          183,
          181,
          178,
          176,
          177,
          170,
          163,
          154,
          139,
          123,
          107,
          94,
          84,
          76,
          70,
          64,
          57,
          53,
          50
         ],
         "yaxis": "y"
        },
        {
         "hovertemplate": "Country=Panama<br>Year=%{x}<br>Lower respiratory infections=%{y}<extra></extra>",
         "legendgroup": "Panama",
         "line": {
          "color": "#EF553B",
          "dash": "solid"
         },
         "marker": {
          "symbol": "circle"
         },
         "mode": "lines",
         "name": "Panama",
         "showlegend": true,
         "type": "scattergl",
         "x": [
          1990,
          1991,
          1992,
          1993,
          1994,
          1995,
          1996,
          1997,
          1998,
          1999,
          2000,
          2001,
          2002,
          2003,
          2004,
          2005,
          2006,
          2007,
          2008,
          2009,
          2010,
          2011,
          2012,
          2013,
          2014,
          2015,
          2016,
          2017,
          2018,
          2019
         ],
         "xaxis": "x",
         "y": [
          128,
          128,
          129,
          131,
          132,
          134,
          134,
          136,
          140,
          140,
          136,
          133,
          129,
          133,
          140,
          151,
          157,
          166,
          169,
          168,
          176,
          178,
          181,
          180,
          172,
          167,
          161,
          152,
          147,
          141
         ],
         "yaxis": "y"
        },
        {
         "hovertemplate": "Country=Papua New Guinea<br>Year=%{x}<br>Lower respiratory infections=%{y}<extra></extra>",
         "legendgroup": "Papua New Guinea",
         "line": {
          "color": "#00cc96",
          "dash": "solid"
         },
         "marker": {
          "symbol": "circle"
         },
         "mode": "lines",
         "name": "Papua New Guinea",
         "showlegend": true,
         "type": "scattergl",
         "x": [
          1990,
          1991,
          1992,
          1993,
          1994,
          1995,
          1996,
          1997,
          1998,
          1999,
          2000,
          2001,
          2002,
          2003,
          2004,
          2005,
          2006,
          2007,
          2008,
          2009,
          2010,
          2011,
          2012,
          2013,
          2014,
          2015,
          2016,
          2017,
          2018,
          2019
         ],
         "xaxis": "x",
         "y": [
          3636,
          3687,
          3733,
          3741,
          3729,
          3731,
          3767,
          3791,
          4007,
          4091,
          4172,
          4251,
          4323,
          4371,
          4523,
          4790,
          5001,
          5065,
          5078,
          5026,
          5043,
          5009,
          5001,
          5001,
          4951,
          4849,
          4897,
          4884,
          4834,
          4798
         ],
         "yaxis": "y"
        },
        {
         "hovertemplate": "Country=Paraguay<br>Year=%{x}<br>Lower respiratory infections=%{y}<extra></extra>",
         "legendgroup": "Paraguay",
         "line": {
          "color": "#ab63fa",
          "dash": "solid"
         },
         "marker": {
          "symbol": "circle"
         },
         "mode": "lines",
         "name": "Paraguay",
         "showlegend": true,
         "type": "scattergl",
         "x": [
          1990,
          1991,
          1992,
          1993,
          1994,
          1995,
          1996,
          1997,
          1998,
          1999,
          2000,
          2001,
          2002,
          2003,
          2004,
          2005,
          2006,
          2007,
          2008,
          2009,
          2010,
          2011,
          2012,
          2013,
          2014,
          2015,
          2016,
          2017,
          2018,
          2019
         ],
         "xaxis": "x",
         "y": [
          540,
          520,
          523,
          512,
          496,
          498,
          488,
          463,
          438,
          414,
          397,
          390,
          388,
          383,
          363,
          327,
          301,
          278,
          257,
          243,
          233,
          229,
          226,
          224,
          210,
          174,
          160,
          158,
          151,
          143
         ],
         "yaxis": "y"
        },
        {
         "hovertemplate": "Country=Peru<br>Year=%{x}<br>Lower respiratory infections=%{y}<extra></extra>",
         "legendgroup": "Peru",
         "line": {
          "color": "#FFA15A",
          "dash": "solid"
         },
         "marker": {
          "symbol": "circle"
         },
         "mode": "lines",
         "name": "Peru",
         "showlegend": true,
         "type": "scattergl",
         "x": [
          1990,
          1991,
          1992,
          1993,
          1994,
          1995,
          1996,
          1997,
          1998,
          1999,
          2000,
          2001,
          2002,
          2003,
          2004,
          2005,
          2006,
          2007,
          2008,
          2009,
          2010,
          2011,
          2012,
          2013,
          2014,
          2015,
          2016,
          2017,
          2018,
          2019
         ],
         "xaxis": "x",
         "y": [
          11973,
          11216,
          10375,
          9221,
          8184,
          7435,
          6843,
          6335,
          5892,
          5500,
          5078,
          4505,
          4179,
          3910,
          3592,
          3332,
          3129,
          2875,
          2667,
          2430,
          2161,
          1945,
          1766,
          1698,
          1618,
          1496,
          1442,
          1299,
          1206,
          1115
         ],
         "yaxis": "y"
        },
        {
         "hovertemplate": "Country=Philippines<br>Year=%{x}<br>Lower respiratory infections=%{y}<extra></extra>",
         "legendgroup": "Philippines",
         "line": {
          "color": "#19d3f3",
          "dash": "solid"
         },
         "marker": {
          "symbol": "circle"
         },
         "mode": "lines",
         "name": "Philippines",
         "showlegend": true,
         "type": "scattergl",
         "x": [
          1990,
          1991,
          1992,
          1993,
          1994,
          1995,
          1996,
          1997,
          1998,
          1999,
          2000,
          2001,
          2002,
          2003,
          2004,
          2005,
          2006,
          2007,
          2008,
          2009,
          2010,
          2011,
          2012,
          2013,
          2014,
          2015,
          2016,
          2017,
          2018,
          2019
         ],
         "xaxis": "x",
         "y": [
          25094,
          23854,
          22854,
          22186,
          21200,
          20417,
          19517,
          18794,
          18155,
          19173,
          18870,
          18178,
          17305,
          16213,
          14333,
          14923,
          14592,
          14192,
          14095,
          13760,
          12978,
          12758,
          12790,
          12388,
          12075,
          12069,
          11677,
          11172,
          10174,
          9617
         ],
         "yaxis": "y"
        },
        {
         "hovertemplate": "Country=Poland<br>Year=%{x}<br>Lower respiratory infections=%{y}<extra></extra>",
         "legendgroup": "Poland",
         "line": {
          "color": "#FF6692",
          "dash": "solid"
         },
         "marker": {
          "symbol": "circle"
         },
         "mode": "lines",
         "name": "Poland",
         "showlegend": true,
         "type": "scattergl",
         "x": [
          1990,
          1991,
          1992,
          1993,
          1994,
          1995,
          1996,
          1997,
          1998,
          1999,
          2000,
          2001,
          2002,
          2003,
          2004,
          2005,
          2006,
          2007,
          2008,
          2009,
          2010,
          2011,
          2012,
          2013,
          2014,
          2015,
          2016,
          2017,
          2018,
          2019
         ],
         "xaxis": "x",
         "y": [
          720,
          632,
          552,
          463,
          487,
          393,
          345,
          277,
          246,
          226,
          197,
          181,
          170,
          159,
          154,
          150,
          145,
          146,
          146,
          140,
          126,
          113,
          109,
          106,
          97,
          87,
          86,
          78,
          72,
          65
         ],
         "yaxis": "y"
        },
        {
         "hovertemplate": "Country=Portugal<br>Year=%{x}<br>Lower respiratory infections=%{y}<extra></extra>",
         "legendgroup": "Portugal",
         "line": {
          "color": "#B6E880",
          "dash": "solid"
         },
         "marker": {
          "symbol": "circle"
         },
         "mode": "lines",
         "name": "Portugal",
         "showlegend": true,
         "type": "scattergl",
         "x": [
          1990,
          1991,
          1992,
          1993,
          1994,
          1995,
          1996,
          1997,
          1998,
          1999,
          2000,
          2001,
          2002,
          2003,
          2004,
          2005,
          2006,
          2007,
          2008,
          2009,
          2010,
          2011,
          2012,
          2013,
          2014,
          2015,
          2016,
          2017,
          2018,
          2019
         ],
         "xaxis": "x",
         "y": [
          121,
          112,
          97,
          86,
          73,
          62,
          59,
          56,
          53,
          50,
          46,
          41,
          39,
          33,
          30,
          27,
          25,
          22,
          21,
          21,
          16,
          17,
          15,
          13,
          13,
          13,
          14,
          11,
          10,
          9
         ],
         "yaxis": "y"
        },
        {
         "hovertemplate": "Country=Puerto Rico<br>Year=%{x}<br>Lower respiratory infections=%{y}<extra></extra>",
         "legendgroup": "Puerto Rico",
         "line": {
          "color": "#FF97FF",
          "dash": "solid"
         },
         "marker": {
          "symbol": "circle"
         },
         "mode": "lines",
         "name": "Puerto Rico",
         "showlegend": true,
         "type": "scattergl",
         "x": [
          1990,
          1991,
          1992,
          1993,
          1994,
          1995,
          1996,
          1997,
          1998,
          1999,
          2000,
          2001,
          2002,
          2003,
          2004,
          2005,
          2006,
          2007,
          2008,
          2009,
          2010,
          2011,
          2012,
          2013,
          2014,
          2015,
          2016,
          2017,
          2018,
          2019
         ],
         "xaxis": "x",
         "y": [
          60,
          57,
          57,
          56,
          53,
          56,
          50,
          52,
          47,
          45,
          41,
          36,
          34,
          31,
          27,
          27,
          25,
          23,
          21,
          20,
          18,
          18,
          17,
          14,
          12,
          10,
          10,
          9,
          9,
          9
         ],
         "yaxis": "y"
        },
        {
         "hovertemplate": "Country=Qatar<br>Year=%{x}<br>Lower respiratory infections=%{y}<extra></extra>",
         "legendgroup": "Qatar",
         "line": {
          "color": "#FECB52",
          "dash": "solid"
         },
         "marker": {
          "symbol": "circle"
         },
         "mode": "lines",
         "name": "Qatar",
         "showlegend": true,
         "type": "scattergl",
         "x": [
          1990,
          1991,
          1992,
          1993,
          1994,
          1995,
          1996,
          1997,
          1998,
          1999,
          2000,
          2001,
          2002,
          2003,
          2004,
          2005,
          2006,
          2007,
          2008,
          2009,
          2010,
          2011,
          2012,
          2013,
          2014,
          2015,
          2016,
          2017,
          2018,
          2019
         ],
         "xaxis": "x",
         "y": [
          9,
          9,
          8,
          8,
          8,
          7,
          7,
          7,
          6,
          6,
          6,
          6,
          5,
          5,
          5,
          5,
          5,
          5,
          6,
          6,
          6,
          7,
          7,
          7,
          7,
          6,
          6,
          6,
          5,
          5
         ],
         "yaxis": "y"
        },
        {
         "hovertemplate": "Country=Romania<br>Year=%{x}<br>Lower respiratory infections=%{y}<extra></extra>",
         "legendgroup": "Romania",
         "line": {
          "color": "#636efa",
          "dash": "solid"
         },
         "marker": {
          "symbol": "circle"
         },
         "mode": "lines",
         "name": "Romania",
         "showlegend": true,
         "type": "scattergl",
         "x": [
          1990,
          1991,
          1992,
          1993,
          1994,
          1995,
          1996,
          1997,
          1998,
          1999,
          2000,
          2001,
          2002,
          2003,
          2004,
          2005,
          2006,
          2007,
          2008,
          2009,
          2010,
          2011,
          2012,
          2013,
          2014,
          2015,
          2016,
          2017,
          2018,
          2019
         ],
         "xaxis": "x",
         "y": [
          3988,
          2840,
          2595,
          2568,
          2465,
          2121,
          2169,
          2130,
          1948,
          1751,
          1685,
          1524,
          1349,
          1263,
          1264,
          1142,
          1044,
          891,
          836,
          774,
          714,
          648,
          598,
          541,
          519,
          477,
          434,
          412,
          392,
          364
         ],
         "yaxis": "y"
        },
        {
         "hovertemplate": "Country=Russia<br>Year=%{x}<br>Lower respiratory infections=%{y}<extra></extra>",
         "legendgroup": "Russia",
         "line": {
          "color": "#EF553B",
          "dash": "solid"
         },
         "marker": {
          "symbol": "circle"
         },
         "mode": "lines",
         "name": "Russia",
         "showlegend": true,
         "type": "scattergl",
         "x": [
          1990,
          1991,
          1992,
          1993,
          1994,
          1995,
          1996,
          1997,
          1998,
          1999,
          2000,
          2001,
          2002,
          2003,
          2004,
          2005,
          2006,
          2007,
          2008,
          2009,
          2010,
          2011,
          2012,
          2013,
          2014,
          2015,
          2016,
          2017,
          2018,
          2019
         ],
         "xaxis": "x",
         "y": [
          6490,
          6009,
          5485,
          5488,
          5067,
          4729,
          4193,
          3973,
          3712,
          3631,
          3377,
          3326,
          3086,
          3000,
          2708,
          2481,
          2363,
          2250,
          2062,
          1951,
          1760,
          1891,
          2198,
          2058,
          1893,
          1549,
          1382,
          1126,
          1123,
          1056
         ],
         "yaxis": "y"
        },
        {
         "hovertemplate": "Country=Rwanda<br>Year=%{x}<br>Lower respiratory infections=%{y}<extra></extra>",
         "legendgroup": "Rwanda",
         "line": {
          "color": "#00cc96",
          "dash": "solid"
         },
         "marker": {
          "symbol": "circle"
         },
         "mode": "lines",
         "name": "Rwanda",
         "showlegend": true,
         "type": "scattergl",
         "x": [
          1990,
          1991,
          1992,
          1993,
          1994,
          1995,
          1996,
          1997,
          1998,
          1999,
          2000,
          2001,
          2002,
          2003,
          2004,
          2005,
          2006,
          2007,
          2008,
          2009,
          2010,
          2011,
          2012,
          2013,
          2014,
          2015,
          2016,
          2017,
          2018,
          2019
         ],
         "xaxis": "x",
         "y": [
          9051,
          9111,
          9222,
          8350,
          7320,
          7075,
          7041,
          7201,
          7346,
          7110,
          6941,
          6694,
          6524,
          6385,
          6656,
          6433,
          5942,
          5574,
          5114,
          4188,
          3970,
          3673,
          3473,
          2860,
          2879,
          2775,
          2571,
          2329,
          2231,
          2076
         ],
         "yaxis": "y"
        },
        {
         "hovertemplate": "Country=Saint Kitts and Nevis<br>Year=%{x}<br>Lower respiratory infections=%{y}<extra></extra>",
         "legendgroup": "Saint Kitts and Nevis",
         "line": {
          "color": "#ab63fa",
          "dash": "solid"
         },
         "marker": {
          "symbol": "circle"
         },
         "mode": "lines",
         "name": "Saint Kitts and Nevis",
         "showlegend": true,
         "type": "scattergl",
         "x": [
          1990,
          1991,
          1992,
          1993,
          1994,
          1995,
          1996,
          1997,
          1998,
          1999,
          2000,
          2001,
          2002,
          2003,
          2004,
          2005,
          2006,
          2007,
          2008,
          2009,
          2010,
          2011,
          2012,
          2013,
          2014,
          2015,
          2016,
          2017,
          2018,
          2019
         ],
         "xaxis": "x",
         "y": [
          2,
          2,
          2,
          2,
          2,
          2,
          2,
          2,
          2,
          2,
          2,
          2,
          1,
          1,
          1,
          1,
          1,
          1,
          1,
          1,
          1,
          1,
          1,
          1,
          1,
          1,
          1,
          1,
          1,
          1
         ],
         "yaxis": "y"
        },
        {
         "hovertemplate": "Country=Saint Lucia<br>Year=%{x}<br>Lower respiratory infections=%{y}<extra></extra>",
         "legendgroup": "Saint Lucia",
         "line": {
          "color": "#FFA15A",
          "dash": "solid"
         },
         "marker": {
          "symbol": "circle"
         },
         "mode": "lines",
         "name": "Saint Lucia",
         "showlegend": true,
         "type": "scattergl",
         "x": [
          1990,
          1991,
          1992,
          1993,
          1994,
          1995,
          1996,
          1997,
          1998,
          1999,
          2000,
          2001,
          2002,
          2003,
          2004,
          2005,
          2006,
          2007,
          2008,
          2009,
          2010,
          2011,
          2012,
          2013,
          2014,
          2015,
          2016,
          2017,
          2018,
          2019
         ],
         "xaxis": "x",
         "y": [
          6,
          6,
          6,
          5,
          5,
          5,
          5,
          4,
          4,
          4,
          4,
          4,
          4,
          4,
          3,
          3,
          3,
          3,
          3,
          3,
          2,
          2,
          2,
          2,
          2,
          2,
          2,
          2,
          2,
          1
         ],
         "yaxis": "y"
        },
        {
         "hovertemplate": "Country=Saint Vincent and the Grenadines<br>Year=%{x}<br>Lower respiratory infections=%{y}<extra></extra>",
         "legendgroup": "Saint Vincent and the Grenadines",
         "line": {
          "color": "#19d3f3",
          "dash": "solid"
         },
         "marker": {
          "symbol": "circle"
         },
         "mode": "lines",
         "name": "Saint Vincent and the Grenadines",
         "showlegend": true,
         "type": "scattergl",
         "x": [
          1990,
          1991,
          1992,
          1993,
          1994,
          1995,
          1996,
          1997,
          1998,
          1999,
          2000,
          2001,
          2002,
          2003,
          2004,
          2005,
          2006,
          2007,
          2008,
          2009,
          2010,
          2011,
          2012,
          2013,
          2014,
          2015,
          2016,
          2017,
          2018,
          2019
         ],
         "xaxis": "x",
         "y": [
          6,
          6,
          6,
          6,
          5,
          5,
          5,
          5,
          5,
          4,
          4,
          4,
          4,
          4,
          3,
          3,
          3,
          3,
          3,
          3,
          2,
          2,
          2,
          2,
          2,
          2,
          2,
          2,
          2,
          2
         ],
         "yaxis": "y"
        },
        {
         "hovertemplate": "Country=Samoa<br>Year=%{x}<br>Lower respiratory infections=%{y}<extra></extra>",
         "legendgroup": "Samoa",
         "line": {
          "color": "#FF6692",
          "dash": "solid"
         },
         "marker": {
          "symbol": "circle"
         },
         "mode": "lines",
         "name": "Samoa",
         "showlegend": true,
         "type": "scattergl",
         "x": [
          1990,
          1991,
          1992,
          1993,
          1994,
          1995,
          1996,
          1997,
          1998,
          1999,
          2000,
          2001,
          2002,
          2003,
          2004,
          2005,
          2006,
          2007,
          2008,
          2009,
          2010,
          2011,
          2012,
          2013,
          2014,
          2015,
          2016,
          2017,
          2018,
          2019
         ],
         "xaxis": "x",
         "y": [
          21,
          19,
          17,
          16,
          14,
          13,
          12,
          11,
          10,
          10,
          10,
          9,
          9,
          8,
          8,
          8,
          8,
          8,
          7,
          7,
          7,
          7,
          7,
          7,
          7,
          7,
          7,
          6,
          6,
          5
         ],
         "yaxis": "y"
        },
        {
         "hovertemplate": "Country=San Marino<br>Year=%{x}<br>Lower respiratory infections=%{y}<extra></extra>",
         "legendgroup": "San Marino",
         "line": {
          "color": "#B6E880",
          "dash": "solid"
         },
         "marker": {
          "symbol": "circle"
         },
         "mode": "lines",
         "name": "San Marino",
         "showlegend": true,
         "type": "scattergl",
         "x": [
          1990,
          1991,
          1992,
          1993,
          1994,
          1995,
          1996,
          1997,
          1998,
          1999,
          2000,
          2001,
          2002,
          2003,
          2004,
          2005,
          2006,
          2007,
          2008,
          2009,
          2010,
          2011,
          2012,
          2013,
          2014,
          2015,
          2016,
          2017,
          2018,
          2019
         ],
         "xaxis": "x",
         "y": [
          0,
          0,
          0,
          0,
          0,
          0,
          0,
          0,
          0,
          0,
          0,
          0,
          0,
          0,
          0,
          0,
          0,
          0,
          0,
          0,
          0,
          0,
          0,
          0,
          0,
          0,
          0,
          0,
          0,
          0
         ],
         "yaxis": "y"
        },
        {
         "hovertemplate": "Country=Sao Tome and Principe<br>Year=%{x}<br>Lower respiratory infections=%{y}<extra></extra>",
         "legendgroup": "Sao Tome and Principe",
         "line": {
          "color": "#FF97FF",
          "dash": "solid"
         },
         "marker": {
          "symbol": "circle"
         },
         "mode": "lines",
         "name": "Sao Tome and Principe",
         "showlegend": true,
         "type": "scattergl",
         "x": [
          1990,
          1991,
          1992,
          1993,
          1994,
          1995,
          1996,
          1997,
          1998,
          1999,
          2000,
          2001,
          2002,
          2003,
          2004,
          2005,
          2006,
          2007,
          2008,
          2009,
          2010,
          2011,
          2012,
          2013,
          2014,
          2015,
          2016,
          2017,
          2018,
          2019
         ],
         "xaxis": "x",
         "y": [
          85,
          84,
          83,
          83,
          82,
          79,
          75,
          69,
          63,
          59,
          39,
          34,
          42,
          27,
          38,
          25,
          32,
          33,
          29,
          27,
          29,
          22,
          19,
          20,
          24,
          22,
          19,
          18,
          16,
          15
         ],
         "yaxis": "y"
        },
        {
         "hovertemplate": "Country=Saudi Arabia<br>Year=%{x}<br>Lower respiratory infections=%{y}<extra></extra>",
         "legendgroup": "Saudi Arabia",
         "line": {
          "color": "#FECB52",
          "dash": "solid"
         },
         "marker": {
          "symbol": "circle"
         },
         "mode": "lines",
         "name": "Saudi Arabia",
         "showlegend": true,
         "type": "scattergl",
         "x": [
          1990,
          1991,
          1992,
          1993,
          1994,
          1995,
          1996,
          1997,
          1998,
          1999,
          2000,
          2001,
          2002,
          2003,
          2004,
          2005,
          2006,
          2007,
          2008,
          2009,
          2010,
          2011,
          2012,
          2013,
          2014,
          2015,
          2016,
          2017,
          2018,
          2019
         ],
         "xaxis": "x",
         "y": [
          676,
          652,
          628,
          604,
          570,
          545,
          490,
          444,
          404,
          371,
          335,
          301,
          271,
          247,
          224,
          202,
          182,
          164,
          149,
          132,
          119,
          105,
          94,
          83,
          73,
          65,
          58,
          50,
          44,
          39
         ],
         "yaxis": "y"
        },
        {
         "hovertemplate": "Country=Scotland<br>Year=%{x}<br>Lower respiratory infections=%{y}<extra></extra>",
         "legendgroup": "Scotland",
         "line": {
          "color": "#636efa",
          "dash": "solid"
         },
         "marker": {
          "symbol": "circle"
         },
         "mode": "lines",
         "name": "Scotland",
         "showlegend": true,
         "type": "scattergl",
         "x": [
          1990,
          1991,
          1992,
          1993,
          1994,
          1995,
          1996,
          1997,
          1998,
          1999,
          2000,
          2001,
          2002,
          2003,
          2004,
          2005,
          2006,
          2007,
          2008,
          2009,
          2010,
          2011,
          2012,
          2013,
          2014,
          2015,
          2016,
          2017,
          2018,
          2019
         ],
         "xaxis": "x",
         "y": [
          21,
          20,
          19,
          18,
          17,
          15,
          15,
          14,
          13,
          12,
          12,
          11,
          10,
          10,
          9,
          9,
          9,
          9,
          8,
          8,
          7,
          7,
          7,
          6,
          6,
          6,
          6,
          5,
          5,
          5
         ],
         "yaxis": "y"
        },
        {
         "hovertemplate": "Country=Senegal<br>Year=%{x}<br>Lower respiratory infections=%{y}<extra></extra>",
         "legendgroup": "Senegal",
         "line": {
          "color": "#EF553B",
          "dash": "solid"
         },
         "marker": {
          "symbol": "circle"
         },
         "mode": "lines",
         "name": "Senegal",
         "showlegend": true,
         "type": "scattergl",
         "x": [
          1990,
          1991,
          1992,
          1993,
          1994,
          1995,
          1996,
          1997,
          1998,
          1999,
          2000,
          2001,
          2002,
          2003,
          2004,
          2005,
          2006,
          2007,
          2008,
          2009,
          2010,
          2011,
          2012,
          2013,
          2014,
          2015,
          2016,
          2017,
          2018,
          2019
         ],
         "xaxis": "x",
         "y": [
          6005,
          5886,
          5738,
          5666,
          5626,
          5432,
          5256,
          5080,
          5092,
          5131,
          4875,
          5864,
          5665,
          5126,
          5485,
          5274,
          4930,
          4731,
          4541,
          4354,
          3708,
          3536,
          3214,
          3092,
          3331,
          3226,
          3175,
          2955,
          2580,
          2359
         ],
         "yaxis": "y"
        },
        {
         "hovertemplate": "Country=Serbia<br>Year=%{x}<br>Lower respiratory infections=%{y}<extra></extra>",
         "legendgroup": "Serbia",
         "line": {
          "color": "#00cc96",
          "dash": "solid"
         },
         "marker": {
          "symbol": "circle"
         },
         "mode": "lines",
         "name": "Serbia",
         "showlegend": true,
         "type": "scattergl",
         "x": [
          1990,
          1991,
          1992,
          1993,
          1994,
          1995,
          1996,
          1997,
          1998,
          1999,
          2000,
          2001,
          2002,
          2003,
          2004,
          2005,
          2006,
          2007,
          2008,
          2009,
          2010,
          2011,
          2012,
          2013,
          2014,
          2015,
          2016,
          2017,
          2018,
          2019
         ],
         "xaxis": "x",
         "y": [
          331,
          240,
          239,
          232,
          261,
          220,
          189,
          161,
          133,
          91,
          84,
          88,
          86,
          87,
          76,
          62,
          51,
          40,
          24,
          29,
          27,
          30,
          15,
          25,
          22,
          19,
          18,
          15,
          14,
          13
         ],
         "yaxis": "y"
        },
        {
         "hovertemplate": "Country=Seychelles<br>Year=%{x}<br>Lower respiratory infections=%{y}<extra></extra>",
         "legendgroup": "Seychelles",
         "line": {
          "color": "#ab63fa",
          "dash": "solid"
         },
         "marker": {
          "symbol": "circle"
         },
         "mode": "lines",
         "name": "Seychelles",
         "showlegend": true,
         "type": "scattergl",
         "x": [
          1990,
          1991,
          1992,
          1993,
          1994,
          1995,
          1996,
          1997,
          1998,
          1999,
          2000,
          2001,
          2002,
          2003,
          2004,
          2005,
          2006,
          2007,
          2008,
          2009,
          2010,
          2011,
          2012,
          2013,
          2014,
          2015,
          2016,
          2017,
          2018,
          2019
         ],
         "xaxis": "x",
         "y": [
          2,
          2,
          2,
          2,
          2,
          2,
          2,
          2,
          2,
          2,
          2,
          2,
          2,
          2,
          2,
          2,
          2,
          2,
          2,
          2,
          2,
          2,
          2,
          3,
          2,
          2,
          2,
          2,
          2,
          2
         ],
         "yaxis": "y"
        },
        {
         "hovertemplate": "Country=Sierra Leone<br>Year=%{x}<br>Lower respiratory infections=%{y}<extra></extra>",
         "legendgroup": "Sierra Leone",
         "line": {
          "color": "#FFA15A",
          "dash": "solid"
         },
         "marker": {
          "symbol": "circle"
         },
         "mode": "lines",
         "name": "Sierra Leone",
         "showlegend": true,
         "type": "scattergl",
         "x": [
          1990,
          1991,
          1992,
          1993,
          1994,
          1995,
          1996,
          1997,
          1998,
          1999,
          2000,
          2001,
          2002,
          2003,
          2004,
          2005,
          2006,
          2007,
          2008,
          2009,
          2010,
          2011,
          2012,
          2013,
          2014,
          2015,
          2016,
          2017,
          2018,
          2019
         ],
         "xaxis": "x",
         "y": [
          6875,
          6784,
          6652,
          6596,
          6532,
          6464,
          6377,
          6294,
          6289,
          6370,
          6578,
          6683,
          6746,
          6735,
          6936,
          6952,
          6907,
          6743,
          6409,
          6160,
          6115,
          5897,
          5639,
          5414,
          5228,
          4938,
          4703,
          4534,
          4376,
          4200
         ],
         "yaxis": "y"
        },
        {
         "hovertemplate": "Country=Singapore<br>Year=%{x}<br>Lower respiratory infections=%{y}<extra></extra>",
         "legendgroup": "Singapore",
         "line": {
          "color": "#19d3f3",
          "dash": "solid"
         },
         "marker": {
          "symbol": "circle"
         },
         "mode": "lines",
         "name": "Singapore",
         "showlegend": true,
         "type": "scattergl",
         "x": [
          1990,
          1991,
          1992,
          1993,
          1994,
          1995,
          1996,
          1997,
          1998,
          1999,
          2000,
          2001,
          2002,
          2003,
          2004,
          2005,
          2006,
          2007,
          2008,
          2009,
          2010,
          2011,
          2012,
          2013,
          2014,
          2015,
          2016,
          2017,
          2018,
          2019
         ],
         "xaxis": "x",
         "y": [
          45,
          40,
          38,
          37,
          36,
          35,
          33,
          30,
          28,
          23,
          21,
          18,
          18,
          16,
          15,
          16,
          16,
          16,
          16,
          17,
          16,
          16,
          16,
          15,
          13,
          13,
          12,
          12,
          11,
          10
         ],
         "yaxis": "y"
        },
        {
         "hovertemplate": "Country=Slovakia<br>Year=%{x}<br>Lower respiratory infections=%{y}<extra></extra>",
         "legendgroup": "Slovakia",
         "line": {
          "color": "#FF6692",
          "dash": "solid"
         },
         "marker": {
          "symbol": "circle"
         },
         "mode": "lines",
         "name": "Slovakia",
         "showlegend": true,
         "type": "scattergl",
         "x": [
          1990,
          1991,
          1992,
          1993,
          1994,
          1995,
          1996,
          1997,
          1998,
          1999,
          2000,
          2001,
          2002,
          2003,
          2004,
          2005,
          2006,
          2007,
          2008,
          2009,
          2010,
          2011,
          2012,
          2013,
          2014,
          2015,
          2016,
          2017,
          2018,
          2019
         ],
         "xaxis": "x",
         "y": [
          172,
          177,
          158,
          133,
          119,
          105,
          95,
          82,
          76,
          67,
          61,
          48,
          49,
          53,
          51,
          49,
          45,
          42,
          41,
          41,
          38,
          34,
          34,
          32,
          32,
          31,
          31,
          28,
          27,
          25
         ],
         "yaxis": "y"
        },
        {
         "hovertemplate": "Country=Slovenia<br>Year=%{x}<br>Lower respiratory infections=%{y}<extra></extra>",
         "legendgroup": "Slovenia",
         "line": {
          "color": "#B6E880",
          "dash": "solid"
         },
         "marker": {
          "symbol": "circle"
         },
         "mode": "lines",
         "name": "Slovenia",
         "showlegend": true,
         "type": "scattergl",
         "x": [
          1990,
          1991,
          1992,
          1993,
          1994,
          1995,
          1996,
          1997,
          1998,
          1999,
          2000,
          2001,
          2002,
          2003,
          2004,
          2005,
          2006,
          2007,
          2008,
          2009,
          2010,
          2011,
          2012,
          2013,
          2014,
          2015,
          2016,
          2017,
          2018,
          2019
         ],
         "xaxis": "x",
         "y": [
          11,
          9,
          8,
          7,
          7,
          6,
          5,
          5,
          4,
          4,
          4,
          3,
          3,
          3,
          3,
          3,
          3,
          2,
          2,
          2,
          2,
          2,
          2,
          2,
          1,
          1,
          1,
          1,
          1,
          1
         ],
         "yaxis": "y"
        },
        {
         "hovertemplate": "Country=Solomon Islands<br>Year=%{x}<br>Lower respiratory infections=%{y}<extra></extra>",
         "legendgroup": "Solomon Islands",
         "line": {
          "color": "#FF97FF",
          "dash": "solid"
         },
         "marker": {
          "symbol": "circle"
         },
         "mode": "lines",
         "name": "Solomon Islands",
         "showlegend": true,
         "type": "scattergl",
         "x": [
          1990,
          1991,
          1992,
          1993,
          1994,
          1995,
          1996,
          1997,
          1998,
          1999,
          2000,
          2001,
          2002,
          2003,
          2004,
          2005,
          2006,
          2007,
          2008,
          2009,
          2010,
          2011,
          2012,
          2013,
          2014,
          2015,
          2016,
          2017,
          2018,
          2019
         ],
         "xaxis": "x",
         "y": [
          157,
          159,
          159,
          159,
          158,
          156,
          155,
          155,
          170,
          175,
          177,
          177,
          177,
          170,
          162,
          162,
          159,
          161,
          154,
          146,
          143,
          136,
          126,
          122,
          115,
          114,
          108,
          101,
          96,
          92
         ],
         "yaxis": "y"
        },
        {
         "hovertemplate": "Country=Somalia<br>Year=%{x}<br>Lower respiratory infections=%{y}<extra></extra>",
         "legendgroup": "Somalia",
         "line": {
          "color": "#FECB52",
          "dash": "solid"
         },
         "marker": {
          "symbol": "circle"
         },
         "mode": "lines",
         "name": "Somalia",
         "showlegend": true,
         "type": "scattergl",
         "x": [
          1990,
          1991,
          1992,
          1993,
          1994,
          1995,
          1996,
          1997,
          1998,
          1999,
          2000,
          2001,
          2002,
          2003,
          2004,
          2005,
          2006,
          2007,
          2008,
          2009,
          2010,
          2011,
          2012,
          2013,
          2014,
          2015,
          2016,
          2017,
          2018,
          2019
         ],
         "xaxis": "x",
         "y": [
          11486,
          11089,
          11268,
          11835,
          12346,
          12753,
          13032,
          13303,
          13460,
          13660,
          13785,
          13788,
          13829,
          13722,
          13641,
          13494,
          13691,
          14422,
          15446,
          15709,
          15931,
          15775,
          15581,
          15274,
          14818,
          14293,
          14301,
          13792,
          13934,
          14168
         ],
         "yaxis": "y"
        },
        {
         "hovertemplate": "Country=South Africa<br>Year=%{x}<br>Lower respiratory infections=%{y}<extra></extra>",
         "legendgroup": "South Africa",
         "line": {
          "color": "#636efa",
          "dash": "solid"
         },
         "marker": {
          "symbol": "circle"
         },
         "mode": "lines",
         "name": "South Africa",
         "showlegend": true,
         "type": "scattergl",
         "x": [
          1990,
          1991,
          1992,
          1993,
          1994,
          1995,
          1996,
          1997,
          1998,
          1999,
          2000,
          2001,
          2002,
          2003,
          2004,
          2005,
          2006,
          2007,
          2008,
          2009,
          2010,
          2011,
          2012,
          2013,
          2014,
          2015,
          2016,
          2017,
          2018,
          2019
         ],
         "xaxis": "x",
         "y": [
          13006,
          12298,
          11623,
          10933,
          10334,
          9759,
          9287,
          9011,
          9033,
          8953,
          9009,
          9075,
          9211,
          9298,
          9417,
          9468,
          9229,
          8756,
          8183,
          7254,
          6405,
          5948,
          5737,
          5504,
          5259,
          4943,
          4634,
          4371,
          4135,
          3952
         ],
         "yaxis": "y"
        },
        {
         "hovertemplate": "Country=South Korea<br>Year=%{x}<br>Lower respiratory infections=%{y}<extra></extra>",
         "legendgroup": "South Korea",
         "line": {
          "color": "#EF553B",
          "dash": "solid"
         },
         "marker": {
          "symbol": "circle"
         },
         "mode": "lines",
         "name": "South Korea",
         "showlegend": true,
         "type": "scattergl",
         "x": [
          1990,
          1991,
          1992,
          1993,
          1994,
          1995,
          1996,
          1997,
          1998,
          1999,
          2000,
          2001,
          2002,
          2003,
          2004,
          2005,
          2006,
          2007,
          2008,
          2009,
          2010,
          2011,
          2012,
          2013,
          2014,
          2015,
          2016,
          2017,
          2018,
          2019
         ],
         "xaxis": "x",
         "y": [
          544,
          443,
          373,
          314,
          269,
          231,
          203,
          178,
          157,
          137,
          134,
          131,
          120,
          107,
          91,
          76,
          67,
          61,
          54,
          48,
          46,
          43,
          40,
          37,
          34,
          32,
          30,
          28,
          27,
          26
         ],
         "yaxis": "y"
        },
        {
         "hovertemplate": "Country=South Sudan<br>Year=%{x}<br>Lower respiratory infections=%{y}<extra></extra>",
         "legendgroup": "South Sudan",
         "line": {
          "color": "#00cc96",
          "dash": "solid"
         },
         "marker": {
          "symbol": "circle"
         },
         "mode": "lines",
         "name": "South Sudan",
         "showlegend": true,
         "type": "scattergl",
         "x": [
          1990,
          1991,
          1992,
          1993,
          1994,
          1995,
          1996,
          1997,
          1998,
          1999,
          2000,
          2001,
          2002,
          2003,
          2004,
          2005,
          2006,
          2007,
          2008,
          2009,
          2010,
          2011,
          2012,
          2013,
          2014,
          2015,
          2016,
          2017,
          2018,
          2019
         ],
         "xaxis": "x",
         "y": [
          8910,
          8900,
          9010,
          9100,
          9103,
          9203,
          9033,
          8821,
          8594,
          8332,
          8132,
          7896,
          7740,
          7591,
          7575,
          7805,
          7974,
          8121,
          8285,
          8314,
          8133,
          8033,
          7935,
          7926,
          7688,
          7259,
          6622,
          5926,
          5581,
          5373
         ],
         "yaxis": "y"
        },
        {
         "hovertemplate": "Country=Spain<br>Year=%{x}<br>Lower respiratory infections=%{y}<extra></extra>",
         "legendgroup": "Spain",
         "line": {
          "color": "#ab63fa",
          "dash": "solid"
         },
         "marker": {
          "symbol": "circle"
         },
         "mode": "lines",
         "name": "Spain",
         "showlegend": true,
         "type": "scattergl",
         "x": [
          1990,
          1991,
          1992,
          1993,
          1994,
          1995,
          1996,
          1997,
          1998,
          1999,
          2000,
          2001,
          2002,
          2003,
          2004,
          2005,
          2006,
          2007,
          2008,
          2009,
          2010,
          2011,
          2012,
          2013,
          2014,
          2015,
          2016,
          2017,
          2018,
          2019
         ],
         "xaxis": "x",
         "y": [
          134,
          114,
          103,
          90,
          75,
          64,
          60,
          55,
          50,
          45,
          46,
          43,
          48,
          50,
          49,
          49,
          49,
          50,
          49,
          46,
          43,
          40,
          36,
          30,
          31,
          29,
          27,
          25,
          24,
          22
         ],
         "yaxis": "y"
        },
        {
         "hovertemplate": "Country=Sri Lanka<br>Year=%{x}<br>Lower respiratory infections=%{y}<extra></extra>",
         "legendgroup": "Sri Lanka",
         "line": {
          "color": "#FFA15A",
          "dash": "solid"
         },
         "marker": {
          "symbol": "circle"
         },
         "mode": "lines",
         "name": "Sri Lanka",
         "showlegend": true,
         "type": "scattergl",
         "x": [
          1990,
          1991,
          1992,
          1993,
          1994,
          1995,
          1996,
          1997,
          1998,
          1999,
          2000,
          2001,
          2002,
          2003,
          2004,
          2005,
          2006,
          2007,
          2008,
          2009,
          2010,
          2011,
          2012,
          2013,
          2014,
          2015,
          2016,
          2017,
          2018,
          2019
         ],
         "xaxis": "x",
         "y": [
          736,
          621,
          591,
          450,
          448,
          402,
          445,
          434,
          347,
          322,
          327,
          321,
          293,
          297,
          304,
          515,
          327,
          268,
          273,
          290,
          279,
          257,
          238,
          225,
          211,
          180,
          162,
          145,
          130,
          118
         ],
         "yaxis": "y"
        },
        {
         "hovertemplate": "Country=Sudan<br>Year=%{x}<br>Lower respiratory infections=%{y}<extra></extra>",
         "legendgroup": "Sudan",
         "line": {
          "color": "#19d3f3",
          "dash": "solid"
         },
         "marker": {
          "symbol": "circle"
         },
         "mode": "lines",
         "name": "Sudan",
         "showlegend": true,
         "type": "scattergl",
         "x": [
          1990,
          1991,
          1992,
          1993,
          1994,
          1995,
          1996,
          1997,
          1998,
          1999,
          2000,
          2001,
          2002,
          2003,
          2004,
          2005,
          2006,
          2007,
          2008,
          2009,
          2010,
          2011,
          2012,
          2013,
          2014,
          2015,
          2016,
          2017,
          2018,
          2019
         ],
         "xaxis": "x",
         "y": [
          14802,
          14498,
          14288,
          13997,
          13673,
          13213,
          12698,
          12244,
          11794,
          11239,
          10862,
          10328,
          9798,
          9159,
          8672,
          8797,
          8519,
          8057,
          7565,
          7048,
          6382,
          5802,
          5431,
          4913,
          4760,
          4331,
          3947,
          3546,
          3199,
          2912
         ],
         "yaxis": "y"
        },
        {
         "hovertemplate": "Country=Suriname<br>Year=%{x}<br>Lower respiratory infections=%{y}<extra></extra>",
         "legendgroup": "Suriname",
         "line": {
          "color": "#FF6692",
          "dash": "solid"
         },
         "marker": {
          "symbol": "circle"
         },
         "mode": "lines",
         "name": "Suriname",
         "showlegend": true,
         "type": "scattergl",
         "x": [
          1990,
          1991,
          1992,
          1993,
          1994,
          1995,
          1996,
          1997,
          1998,
          1999,
          2000,
          2001,
          2002,
          2003,
          2004,
          2005,
          2006,
          2007,
          2008,
          2009,
          2010,
          2011,
          2012,
          2013,
          2014,
          2015,
          2016,
          2017,
          2018,
          2019
         ],
         "xaxis": "x",
         "y": [
          33,
          32,
          31,
          30,
          29,
          29,
          29,
          30,
          31,
          32,
          30,
          30,
          30,
          30,
          29,
          28,
          28,
          27,
          26,
          24,
          23,
          22,
          21,
          20,
          19,
          18,
          17,
          16,
          15,
          15
         ],
         "yaxis": "y"
        },
        {
         "hovertemplate": "Country=Sweden<br>Year=%{x}<br>Lower respiratory infections=%{y}<extra></extra>",
         "legendgroup": "Sweden",
         "line": {
          "color": "#B6E880",
          "dash": "solid"
         },
         "marker": {
          "symbol": "circle"
         },
         "mode": "lines",
         "name": "Sweden",
         "showlegend": true,
         "type": "scattergl",
         "x": [
          1990,
          1991,
          1992,
          1993,
          1994,
          1995,
          1996,
          1997,
          1998,
          1999,
          2000,
          2001,
          2002,
          2003,
          2004,
          2005,
          2006,
          2007,
          2008,
          2009,
          2010,
          2011,
          2012,
          2013,
          2014,
          2015,
          2016,
          2017,
          2018,
          2019
         ],
         "xaxis": "x",
         "y": [
          23,
          24,
          21,
          18,
          15,
          13,
          12,
          10,
          9,
          8,
          8,
          8,
          8,
          8,
          8,
          7,
          7,
          7,
          6,
          7,
          7,
          6,
          7,
          7,
          6,
          6,
          6,
          6,
          6,
          5
         ],
         "yaxis": "y"
        },
        {
         "hovertemplate": "Country=Switzerland<br>Year=%{x}<br>Lower respiratory infections=%{y}<extra></extra>",
         "legendgroup": "Switzerland",
         "line": {
          "color": "#FF97FF",
          "dash": "solid"
         },
         "marker": {
          "symbol": "circle"
         },
         "mode": "lines",
         "name": "Switzerland",
         "showlegend": true,
         "type": "scattergl",
         "x": [
          1990,
          1991,
          1992,
          1993,
          1994,
          1995,
          1996,
          1997,
          1998,
          1999,
          2000,
          2001,
          2002,
          2003,
          2004,
          2005,
          2006,
          2007,
          2008,
          2009,
          2010,
          2011,
          2012,
          2013,
          2014,
          2015,
          2016,
          2017,
          2018,
          2019
         ],
         "xaxis": "x",
         "y": [
          29,
          27,
          24,
          20,
          17,
          14,
          12,
          11,
          11,
          10,
          10,
          9,
          9,
          8,
          7,
          7,
          7,
          6,
          6,
          6,
          6,
          5,
          5,
          5,
          5,
          6,
          5,
          5,
          5,
          5
         ],
         "yaxis": "y"
        },
        {
         "hovertemplate": "Country=Syria<br>Year=%{x}<br>Lower respiratory infections=%{y}<extra></extra>",
         "legendgroup": "Syria",
         "line": {
          "color": "#FECB52",
          "dash": "solid"
         },
         "marker": {
          "symbol": "circle"
         },
         "mode": "lines",
         "name": "Syria",
         "showlegend": true,
         "type": "scattergl",
         "x": [
          1990,
          1991,
          1992,
          1993,
          1994,
          1995,
          1996,
          1997,
          1998,
          1999,
          2000,
          2001,
          2002,
          2003,
          2004,
          2005,
          2006,
          2007,
          2008,
          2009,
          2010,
          2011,
          2012,
          2013,
          2014,
          2015,
          2016,
          2017,
          2018,
          2019
         ],
         "xaxis": "x",
         "y": [
          2548,
          2416,
          2231,
          2077,
          1910,
          1720,
          1506,
          1311,
          1119,
          938,
          791,
          709,
          647,
          510,
          506,
          538,
          601,
          650,
          819,
          823,
          842,
          882,
          833,
          729,
          635,
          536,
          448,
          368,
          311,
          270
         ],
         "yaxis": "y"
        },
        {
         "hovertemplate": "Country=Taiwan<br>Year=%{x}<br>Lower respiratory infections=%{y}<extra></extra>",
         "legendgroup": "Taiwan",
         "line": {
          "color": "#636efa",
          "dash": "solid"
         },
         "marker": {
          "symbol": "circle"
         },
         "mode": "lines",
         "name": "Taiwan",
         "showlegend": true,
         "type": "scattergl",
         "x": [
          1990,
          1991,
          1992,
          1993,
          1994,
          1995,
          1996,
          1997,
          1998,
          1999,
          2000,
          2001,
          2002,
          2003,
          2004,
          2005,
          2006,
          2007,
          2008,
          2009,
          2010,
          2011,
          2012,
          2013,
          2014,
          2015,
          2016,
          2017,
          2018,
          2019
         ],
         "xaxis": "x",
         "y": [
          210,
          175,
          156,
          131,
          114,
          119,
          108,
          103,
          88,
          76,
          77,
          69,
          64,
          57,
          59,
          54,
          50,
          50,
          54,
          48,
          45,
          54,
          55,
          48,
          49,
          52,
          49,
          44,
          40,
          37
         ],
         "yaxis": "y"
        },
        {
         "hovertemplate": "Country=Tajikistan<br>Year=%{x}<br>Lower respiratory infections=%{y}<extra></extra>",
         "legendgroup": "Tajikistan",
         "line": {
          "color": "#EF553B",
          "dash": "solid"
         },
         "marker": {
          "symbol": "circle"
         },
         "mode": "lines",
         "name": "Tajikistan",
         "showlegend": true,
         "type": "scattergl",
         "x": [
          1990,
          1991,
          1992,
          1993,
          1994,
          1995,
          1996,
          1997,
          1998,
          1999,
          2000,
          2001,
          2002,
          2003,
          2004,
          2005,
          2006,
          2007,
          2008,
          2009,
          2010,
          2011,
          2012,
          2013,
          2014,
          2015,
          2016,
          2017,
          2018,
          2019
         ],
         "xaxis": "x",
         "y": [
          6895,
          6547,
          6111,
          5870,
          6072,
          5841,
          5479,
          5165,
          4813,
          4491,
          4113,
          3894,
          3702,
          3515,
          3349,
          3140,
          3063,
          2956,
          2852,
          2777,
          2680,
          2612,
          2564,
          2520,
          2479,
          2377,
          2239,
          2162,
          2050,
          1965
         ],
         "yaxis": "y"
        },
        {
         "hovertemplate": "Country=Tanzania<br>Year=%{x}<br>Lower respiratory infections=%{y}<extra></extra>",
         "legendgroup": "Tanzania",
         "line": {
          "color": "#00cc96",
          "dash": "solid"
         },
         "marker": {
          "symbol": "circle"
         },
         "mode": "lines",
         "name": "Tanzania",
         "showlegend": true,
         "type": "scattergl",
         "x": [
          1990,
          1991,
          1992,
          1993,
          1994,
          1995,
          1996,
          1997,
          1998,
          1999,
          2000,
          2001,
          2002,
          2003,
          2004,
          2005,
          2006,
          2007,
          2008,
          2009,
          2010,
          2011,
          2012,
          2013,
          2014,
          2015,
          2016,
          2017,
          2018,
          2019
         ],
         "xaxis": "x",
         "y": [
          34828,
          34426,
          34293,
          34222,
          34088,
          33684,
          33362,
          32865,
          32123,
          31135,
          29695,
          28502,
          28120,
          28082,
          27421,
          26158,
          26160,
          25906,
          25033,
          25484,
          24795,
          24276,
          24363,
          23418,
          21660,
          22271,
          21266,
          19818,
          18232,
          16979
         ],
         "yaxis": "y"
        },
        {
         "hovertemplate": "Country=Thailand<br>Year=%{x}<br>Lower respiratory infections=%{y}<extra></extra>",
         "legendgroup": "Thailand",
         "line": {
          "color": "#ab63fa",
          "dash": "solid"
         },
         "marker": {
          "symbol": "circle"
         },
         "mode": "lines",
         "name": "Thailand",
         "showlegend": true,
         "type": "scattergl",
         "x": [
          1990,
          1991,
          1992,
          1993,
          1994,
          1995,
          1996,
          1997,
          1998,
          1999,
          2000,
          2001,
          2002,
          2003,
          2004,
          2005,
          2006,
          2007,
          2008,
          2009,
          2010,
          2011,
          2012,
          2013,
          2014,
          2015,
          2016,
          2017,
          2018,
          2019
         ],
         "xaxis": "x",
         "y": [
          4066,
          3697,
          3378,
          3128,
          2899,
          2664,
          2453,
          2254,
          2168,
          2036,
          1914,
          1755,
          1596,
          1450,
          1296,
          1156,
          1046,
          960,
          891,
          796,
          678,
          611,
          594,
          548,
          539,
          528,
          533,
          454,
          408,
          370
         ],
         "yaxis": "y"
        },
        {
         "hovertemplate": "Country=Timor<br>Year=%{x}<br>Lower respiratory infections=%{y}<extra></extra>",
         "legendgroup": "Timor",
         "line": {
          "color": "#FFA15A",
          "dash": "solid"
         },
         "marker": {
          "symbol": "circle"
         },
         "mode": "lines",
         "name": "Timor",
         "showlegend": true,
         "type": "scattergl",
         "x": [
          1990,
          1991,
          1992,
          1993,
          1994,
          1995,
          1996,
          1997,
          1998,
          1999,
          2000,
          2001,
          2002,
          2003,
          2004,
          2005,
          2006,
          2007,
          2008,
          2009,
          2010,
          2011,
          2012,
          2013,
          2014,
          2015,
          2016,
          2017,
          2018,
          2019
         ],
         "xaxis": "x",
         "y": [
          1264,
          1241,
          1218,
          1179,
          1120,
          1057,
          987,
          910,
          851,
          804,
          744,
          686,
          639,
          607,
          559,
          510,
          441,
          404,
          355,
          329,
          306,
          292,
          283,
          266,
          259,
          256,
          254,
          238,
          228,
          222
         ],
         "yaxis": "y"
        },
        {
         "hovertemplate": "Country=Togo<br>Year=%{x}<br>Lower respiratory infections=%{y}<extra></extra>",
         "legendgroup": "Togo",
         "line": {
          "color": "#19d3f3",
          "dash": "solid"
         },
         "marker": {
          "symbol": "circle"
         },
         "mode": "lines",
         "name": "Togo",
         "showlegend": true,
         "type": "scattergl",
         "x": [
          1990,
          1991,
          1992,
          1993,
          1994,
          1995,
          1996,
          1997,
          1998,
          1999,
          2000,
          2001,
          2002,
          2003,
          2004,
          2005,
          2006,
          2007,
          2008,
          2009,
          2010,
          2011,
          2012,
          2013,
          2014,
          2015,
          2016,
          2017,
          2018,
          2019
         ],
         "xaxis": "x",
         "y": [
          2600,
          2627,
          2669,
          2752,
          2801,
          2818,
          2788,
          2727,
          2694,
          2655,
          2625,
          2567,
          2604,
          2499,
          2400,
          2338,
          2307,
          2254,
          2260,
          2279,
          2227,
          2178,
          2071,
          1953,
          1877,
          1792,
          1708,
          1600,
          1466,
          1386
         ],
         "yaxis": "y"
        },
        {
         "hovertemplate": "Country=Tokelau<br>Year=%{x}<br>Lower respiratory infections=%{y}<extra></extra>",
         "legendgroup": "Tokelau",
         "line": {
          "color": "#FF6692",
          "dash": "solid"
         },
         "marker": {
          "symbol": "circle"
         },
         "mode": "lines",
         "name": "Tokelau",
         "showlegend": true,
         "type": "scattergl",
         "x": [
          1990,
          1991,
          1992,
          1993,
          1994,
          1995,
          1996,
          1997,
          1998,
          1999,
          2000,
          2001,
          2002,
          2003,
          2004,
          2005,
          2006,
          2007,
          2008,
          2009,
          2010,
          2011,
          2012,
          2013,
          2014,
          2015,
          2016,
          2017,
          2018,
          2019
         ],
         "xaxis": "x",
         "y": [
          0,
          0,
          0,
          0,
          0,
          0,
          0,
          0,
          0,
          0,
          0,
          0,
          0,
          0,
          0,
          0,
          0,
          0,
          0,
          0,
          0,
          0,
          0,
          0,
          0,
          0,
          0,
          0,
          0,
          0
         ],
         "yaxis": "y"
        },
        {
         "hovertemplate": "Country=Tonga<br>Year=%{x}<br>Lower respiratory infections=%{y}<extra></extra>",
         "legendgroup": "Tonga",
         "line": {
          "color": "#B6E880",
          "dash": "solid"
         },
         "marker": {
          "symbol": "circle"
         },
         "mode": "lines",
         "name": "Tonga",
         "showlegend": true,
         "type": "scattergl",
         "x": [
          1990,
          1991,
          1992,
          1993,
          1994,
          1995,
          1996,
          1997,
          1998,
          1999,
          2000,
          2001,
          2002,
          2003,
          2004,
          2005,
          2006,
          2007,
          2008,
          2009,
          2010,
          2011,
          2012,
          2013,
          2014,
          2015,
          2016,
          2017,
          2018,
          2019
         ],
         "xaxis": "x",
         "y": [
          9,
          8,
          8,
          8,
          8,
          8,
          8,
          8,
          8,
          8,
          8,
          8,
          8,
          7,
          7,
          7,
          7,
          7,
          6,
          6,
          6,
          5,
          5,
          5,
          4,
          4,
          4,
          4,
          3,
          3
         ],
         "yaxis": "y"
        },
        {
         "hovertemplate": "Country=Trinidad and Tobago<br>Year=%{x}<br>Lower respiratory infections=%{y}<extra></extra>",
         "legendgroup": "Trinidad and Tobago",
         "line": {
          "color": "#FF97FF",
          "dash": "solid"
         },
         "marker": {
          "symbol": "circle"
         },
         "mode": "lines",
         "name": "Trinidad and Tobago",
         "showlegend": true,
         "type": "scattergl",
         "x": [
          1990,
          1991,
          1992,
          1993,
          1994,
          1995,
          1996,
          1997,
          1998,
          1999,
          2000,
          2001,
          2002,
          2003,
          2004,
          2005,
          2006,
          2007,
          2008,
          2009,
          2010,
          2011,
          2012,
          2013,
          2014,
          2015,
          2016,
          2017,
          2018,
          2019
         ],
         "xaxis": "x",
         "y": [
          53,
          49,
          45,
          41,
          39,
          37,
          35,
          33,
          31,
          30,
          26,
          24,
          25,
          25,
          24,
          23,
          22,
          21,
          21,
          20,
          19,
          18,
          17,
          16,
          16,
          15,
          14,
          13,
          13,
          12
         ],
         "yaxis": "y"
        },
        {
         "hovertemplate": "Country=Tunisia<br>Year=%{x}<br>Lower respiratory infections=%{y}<extra></extra>",
         "legendgroup": "Tunisia",
         "line": {
          "color": "#FECB52",
          "dash": "solid"
         },
         "marker": {
          "symbol": "circle"
         },
         "mode": "lines",
         "name": "Tunisia",
         "showlegend": true,
         "type": "scattergl",
         "x": [
          1990,
          1991,
          1992,
          1993,
          1994,
          1995,
          1996,
          1997,
          1998,
          1999,
          2000,
          2001,
          2002,
          2003,
          2004,
          2005,
          2006,
          2007,
          2008,
          2009,
          2010,
          2011,
          2012,
          2013,
          2014,
          2015,
          2016,
          2017,
          2018,
          2019
         ],
         "xaxis": "x",
         "y": [
          1544,
          1408,
          1284,
          1165,
          1041,
          919,
          800,
          697,
          603,
          547,
          496,
          451,
          411,
          374,
          334,
          308,
          288,
          268,
          253,
          240,
          232,
          217,
          193,
          175,
          158,
          143,
          128,
          115,
          103,
          92
         ],
         "yaxis": "y"
        },
        {
         "hovertemplate": "Country=Turkey<br>Year=%{x}<br>Lower respiratory infections=%{y}<extra></extra>",
         "legendgroup": "Turkey",
         "line": {
          "color": "#636efa",
          "dash": "solid"
         },
         "marker": {
          "symbol": "circle"
         },
         "mode": "lines",
         "name": "Turkey",
         "showlegend": true,
         "type": "scattergl",
         "x": [
          1990,
          1991,
          1992,
          1993,
          1994,
          1995,
          1996,
          1997,
          1998,
          1999,
          2000,
          2001,
          2002,
          2003,
          2004,
          2005,
          2006,
          2007,
          2008,
          2009,
          2010,
          2011,
          2012,
          2013,
          2014,
          2015,
          2016,
          2017,
          2018,
          2019
         ],
         "xaxis": "x",
         "y": [
          25763,
          23481,
          21612,
          19947,
          18785,
          17689,
          16134,
          14681,
          13127,
          11612,
          10025,
          8460,
          6924,
          5230,
          3904,
          2984,
          2358,
          1923,
          1589,
          1389,
          1228,
          1045,
          944,
          900,
          864,
          815,
          774,
          702,
          646,
          597
         ],
         "yaxis": "y"
        },
        {
         "hovertemplate": "Country=Turkmenistan<br>Year=%{x}<br>Lower respiratory infections=%{y}<extra></extra>",
         "legendgroup": "Turkmenistan",
         "line": {
          "color": "#EF553B",
          "dash": "solid"
         },
         "marker": {
          "symbol": "circle"
         },
         "mode": "lines",
         "name": "Turkmenistan",
         "showlegend": true,
         "type": "scattergl",
         "x": [
          1990,
          1991,
          1992,
          1993,
          1994,
          1995,
          1996,
          1997,
          1998,
          1999,
          2000,
          2001,
          2002,
          2003,
          2004,
          2005,
          2006,
          2007,
          2008,
          2009,
          2010,
          2011,
          2012,
          2013,
          2014,
          2015,
          2016,
          2017,
          2018,
          2019
         ],
         "xaxis": "x",
         "y": [
          4525,
          4354,
          4211,
          4021,
          3876,
          3664,
          3442,
          3279,
          3057,
          2748,
          2586,
          2424,
          2225,
          2090,
          1954,
          1833,
          1739,
          1670,
          1616,
          1532,
          1438,
          1377,
          1311,
          1263,
          1197,
          1123,
          1055,
          989,
          930,
          875
         ],
         "yaxis": "y"
        },
        {
         "hovertemplate": "Country=Tuvalu<br>Year=%{x}<br>Lower respiratory infections=%{y}<extra></extra>",
         "legendgroup": "Tuvalu",
         "line": {
          "color": "#00cc96",
          "dash": "solid"
         },
         "marker": {
          "symbol": "circle"
         },
         "mode": "lines",
         "name": "Tuvalu",
         "showlegend": true,
         "type": "scattergl",
         "x": [
          1990,
          1991,
          1992,
          1993,
          1994,
          1995,
          1996,
          1997,
          1998,
          1999,
          2000,
          2001,
          2002,
          2003,
          2004,
          2005,
          2006,
          2007,
          2008,
          2009,
          2010,
          2011,
          2012,
          2013,
          2014,
          2015,
          2016,
          2017,
          2018,
          2019
         ],
         "xaxis": "x",
         "y": [
          5,
          5,
          4,
          4,
          4,
          3,
          3,
          3,
          2,
          2,
          2,
          2,
          2,
          1,
          1,
          1,
          1,
          1,
          1,
          1,
          1,
          1,
          1,
          1,
          1,
          1,
          0,
          0,
          0,
          0
         ],
         "yaxis": "y"
        },
        {
         "hovertemplate": "Country=Uganda<br>Year=%{x}<br>Lower respiratory infections=%{y}<extra></extra>",
         "legendgroup": "Uganda",
         "line": {
          "color": "#ab63fa",
          "dash": "solid"
         },
         "marker": {
          "symbol": "circle"
         },
         "mode": "lines",
         "name": "Uganda",
         "showlegend": true,
         "type": "scattergl",
         "x": [
          1990,
          1991,
          1992,
          1993,
          1994,
          1995,
          1996,
          1997,
          1998,
          1999,
          2000,
          2001,
          2002,
          2003,
          2004,
          2005,
          2006,
          2007,
          2008,
          2009,
          2010,
          2011,
          2012,
          2013,
          2014,
          2015,
          2016,
          2017,
          2018,
          2019
         ],
         "xaxis": "x",
         "y": [
          11977,
          12398,
          12681,
          12960,
          12949,
          12983,
          13056,
          13190,
          13288,
          13144,
          12943,
          12903,
          12587,
          12091,
          12410,
          12269,
          11878,
          11401,
          10768,
          10271,
          10381,
          10236,
          10174,
          10870,
          11158,
          10264,
          10091,
          8271,
          7649,
          6886
         ],
         "yaxis": "y"
        },
        {
         "hovertemplate": "Country=Ukraine<br>Year=%{x}<br>Lower respiratory infections=%{y}<extra></extra>",
         "legendgroup": "Ukraine",
         "line": {
          "color": "#FFA15A",
          "dash": "solid"
         },
         "marker": {
          "symbol": "circle"
         },
         "mode": "lines",
         "name": "Ukraine",
         "showlegend": true,
         "type": "scattergl",
         "x": [
          1990,
          1991,
          1992,
          1993,
          1994,
          1995,
          1996,
          1997,
          1998,
          1999,
          2000,
          2001,
          2002,
          2003,
          2004,
          2005,
          2006,
          2007,
          2008,
          2009,
          2010,
          2011,
          2012,
          2013,
          2014,
          2015,
          2016,
          2017,
          2018,
          2019
         ],
         "xaxis": "x",
         "y": [
          975,
          843,
          750,
          718,
          704,
          652,
          586,
          537,
          494,
          464,
          420,
          378,
          325,
          299,
          291,
          267,
          264,
          272,
          258,
          234,
          225,
          222,
          208,
          206,
          204,
          263,
          256,
          208,
          190,
          173
         ],
         "yaxis": "y"
        },
        {
         "hovertemplate": "Country=United Arab Emirates<br>Year=%{x}<br>Lower respiratory infections=%{y}<extra></extra>",
         "legendgroup": "United Arab Emirates",
         "line": {
          "color": "#19d3f3",
          "dash": "solid"
         },
         "marker": {
          "symbol": "circle"
         },
         "mode": "lines",
         "name": "United Arab Emirates",
         "showlegend": true,
         "type": "scattergl",
         "x": [
          1990,
          1991,
          1992,
          1993,
          1994,
          1995,
          1996,
          1997,
          1998,
          1999,
          2000,
          2001,
          2002,
          2003,
          2004,
          2005,
          2006,
          2007,
          2008,
          2009,
          2010,
          2011,
          2012,
          2013,
          2014,
          2015,
          2016,
          2017,
          2018,
          2019
         ],
         "xaxis": "x",
         "y": [
          36,
          32,
          28,
          25,
          21,
          18,
          16,
          15,
          15,
          16,
          16,
          16,
          16,
          16,
          15,
          14,
          13,
          12,
          12,
          12,
          12,
          12,
          11,
          10,
          9,
          8,
          8,
          7,
          6,
          5
         ],
         "yaxis": "y"
        },
        {
         "hovertemplate": "Country=United Kingdom<br>Year=%{x}<br>Lower respiratory infections=%{y}<extra></extra>",
         "legendgroup": "United Kingdom",
         "line": {
          "color": "#FF6692",
          "dash": "solid"
         },
         "marker": {
          "symbol": "circle"
         },
         "mode": "lines",
         "name": "United Kingdom",
         "showlegend": true,
         "type": "scattergl",
         "x": [
          1990,
          1991,
          1992,
          1993,
          1994,
          1995,
          1996,
          1997,
          1998,
          1999,
          2000,
          2001,
          2002,
          2003,
          2004,
          2005,
          2006,
          2007,
          2008,
          2009,
          2010,
          2011,
          2012,
          2013,
          2014,
          2015,
          2016,
          2017,
          2018,
          2019
         ],
         "xaxis": "x",
         "y": [
          308,
          280,
          245,
          237,
          226,
          219,
          219,
          213,
          208,
          200,
          182,
          162,
          149,
          150,
          143,
          143,
          144,
          143,
          142,
          136,
          131,
          129,
          122,
          114,
          112,
          111,
          110,
          106,
          102,
          99
         ],
         "yaxis": "y"
        },
        {
         "hovertemplate": "Country=United States<br>Year=%{x}<br>Lower respiratory infections=%{y}<extra></extra>",
         "legendgroup": "United States",
         "line": {
          "color": "#B6E880",
          "dash": "solid"
         },
         "marker": {
          "symbol": "circle"
         },
         "mode": "lines",
         "name": "United States",
         "showlegend": true,
         "type": "scattergl",
         "x": [
          1990,
          1991,
          1992,
          1993,
          1994,
          1995,
          1996,
          1997,
          1998,
          1999,
          2000,
          2001,
          2002,
          2003,
          2004,
          2005,
          2006,
          2007,
          2008,
          2009,
          2010,
          2011,
          2012,
          2013,
          2014,
          2015,
          2016,
          2017,
          2018,
          2019
         ],
         "xaxis": "x",
         "y": [
          1396,
          1341,
          1260,
          1207,
          1142,
          1061,
          1010,
          976,
          951,
          900,
          865,
          842,
          835,
          841,
          819,
          817,
          815,
          808,
          774,
          727,
          664,
          641,
          620,
          611,
          607,
          608,
          601,
          579,
          553,
          538
         ],
         "yaxis": "y"
        },
        {
         "hovertemplate": "Country=United States Virgin Islands<br>Year=%{x}<br>Lower respiratory infections=%{y}<extra></extra>",
         "legendgroup": "United States Virgin Islands",
         "line": {
          "color": "#FF97FF",
          "dash": "solid"
         },
         "marker": {
          "symbol": "circle"
         },
         "mode": "lines",
         "name": "United States Virgin Islands",
         "showlegend": true,
         "type": "scattergl",
         "x": [
          1990,
          1991,
          1992,
          1993,
          1994,
          1995,
          1996,
          1997,
          1998,
          1999,
          2000,
          2001,
          2002,
          2003,
          2004,
          2005,
          2006,
          2007,
          2008,
          2009,
          2010,
          2011,
          2012,
          2013,
          2014,
          2015,
          2016,
          2017,
          2018,
          2019
         ],
         "xaxis": "x",
         "y": [
          2,
          1,
          1,
          1,
          1,
          1,
          1,
          1,
          1,
          1,
          1,
          1,
          1,
          1,
          1,
          1,
          1,
          1,
          1,
          0,
          0,
          0,
          0,
          0,
          0,
          0,
          0,
          0,
          0,
          0
         ],
         "yaxis": "y"
        },
        {
         "hovertemplate": "Country=Uruguay<br>Year=%{x}<br>Lower respiratory infections=%{y}<extra></extra>",
         "legendgroup": "Uruguay",
         "line": {
          "color": "#FECB52",
          "dash": "solid"
         },
         "marker": {
          "symbol": "circle"
         },
         "mode": "lines",
         "name": "Uruguay",
         "showlegend": true,
         "type": "scattergl",
         "x": [
          1990,
          1991,
          1992,
          1993,
          1994,
          1995,
          1996,
          1997,
          1998,
          1999,
          2000,
          2001,
          2002,
          2003,
          2004,
          2005,
          2006,
          2007,
          2008,
          2009,
          2010,
          2011,
          2012,
          2013,
          2014,
          2015,
          2016,
          2017,
          2018,
          2019
         ],
         "xaxis": "x",
         "y": [
          88,
          81,
          84,
          91,
          89,
          92,
          92,
          88,
          85,
          77,
          72,
          70,
          68,
          73,
          64,
          56,
          51,
          52,
          47,
          43,
          42,
          40,
          36,
          33,
          29,
          27,
          28,
          27,
          25,
          24
         ],
         "yaxis": "y"
        },
        {
         "hovertemplate": "Country=Uzbekistan<br>Year=%{x}<br>Lower respiratory infections=%{y}<extra></extra>",
         "legendgroup": "Uzbekistan",
         "line": {
          "color": "#636efa",
          "dash": "solid"
         },
         "marker": {
          "symbol": "circle"
         },
         "mode": "lines",
         "name": "Uzbekistan",
         "showlegend": true,
         "type": "scattergl",
         "x": [
          1990,
          1991,
          1992,
          1993,
          1994,
          1995,
          1996,
          1997,
          1998,
          1999,
          2000,
          2001,
          2002,
          2003,
          2004,
          2005,
          2006,
          2007,
          2008,
          2009,
          2010,
          2011,
          2012,
          2013,
          2014,
          2015,
          2016,
          2017,
          2018,
          2019
         ],
         "xaxis": "x",
         "y": [
          16320,
          16152,
          16271,
          16445,
          16519,
          16606,
          16331,
          15735,
          15183,
          14353,
          13494,
          12763,
          12212,
          11874,
          11773,
          11594,
          11291,
          10990,
          10673,
          10297,
          9910,
          9591,
          9240,
          8878,
          8508,
          8196,
          7757,
          7271,
          6855,
          6475
         ],
         "yaxis": "y"
        },
        {
         "hovertemplate": "Country=Vanuatu<br>Year=%{x}<br>Lower respiratory infections=%{y}<extra></extra>",
         "legendgroup": "Vanuatu",
         "line": {
          "color": "#EF553B",
          "dash": "solid"
         },
         "marker": {
          "symbol": "circle"
         },
         "mode": "lines",
         "name": "Vanuatu",
         "showlegend": true,
         "type": "scattergl",
         "x": [
          1990,
          1991,
          1992,
          1993,
          1994,
          1995,
          1996,
          1997,
          1998,
          1999,
          2000,
          2001,
          2002,
          2003,
          2004,
          2005,
          2006,
          2007,
          2008,
          2009,
          2010,
          2011,
          2012,
          2013,
          2014,
          2015,
          2016,
          2017,
          2018,
          2019
         ],
         "xaxis": "x",
         "y": [
          33,
          32,
          32,
          33,
          33,
          33,
          34,
          34,
          34,
          38,
          39,
          40,
          41,
          41,
          40,
          41,
          40,
          43,
          43,
          42,
          41,
          39,
          36,
          35,
          34,
          32,
          33,
          32,
          31,
          29
         ],
         "yaxis": "y"
        },
        {
         "hovertemplate": "Country=Venezuela<br>Year=%{x}<br>Lower respiratory infections=%{y}<extra></extra>",
         "legendgroup": "Venezuela",
         "line": {
          "color": "#00cc96",
          "dash": "solid"
         },
         "marker": {
          "symbol": "circle"
         },
         "mode": "lines",
         "name": "Venezuela",
         "showlegend": true,
         "type": "scattergl",
         "x": [
          1990,
          1991,
          1992,
          1993,
          1994,
          1995,
          1996,
          1997,
          1998,
          1999,
          2000,
          2001,
          2002,
          2003,
          2004,
          2005,
          2006,
          2007,
          2008,
          2009,
          2010,
          2011,
          2012,
          2013,
          2014,
          2015,
          2016,
          2017,
          2018,
          2019
         ],
         "xaxis": "x",
         "y": [
          1717,
          1329,
          1366,
          1435,
          1532,
          1508,
          1383,
          1269,
          1238,
          1107,
          1033,
          1059,
          1058,
          1280,
          1100,
          1011,
          969,
          1023,
          1035,
          1074,
          1082,
          1062,
          1057,
          1031,
          977,
          903,
          844,
          773,
          710,
          673
         ],
         "yaxis": "y"
        },
        {
         "hovertemplate": "Country=Vietnam<br>Year=%{x}<br>Lower respiratory infections=%{y}<extra></extra>",
         "legendgroup": "Vietnam",
         "line": {
          "color": "#ab63fa",
          "dash": "solid"
         },
         "marker": {
          "symbol": "circle"
         },
         "mode": "lines",
         "name": "Vietnam",
         "showlegend": true,
         "type": "scattergl",
         "x": [
          1990,
          1991,
          1992,
          1993,
          1994,
          1995,
          1996,
          1997,
          1998,
          1999,
          2000,
          2001,
          2002,
          2003,
          2004,
          2005,
          2006,
          2007,
          2008,
          2009,
          2010,
          2011,
          2012,
          2013,
          2014,
          2015,
          2016,
          2017,
          2018,
          2019
         ],
         "xaxis": "x",
         "y": [
          15370,
          14470,
          13489,
          12457,
          11366,
          10330,
          9403,
          8607,
          7948,
          7419,
          7039,
          6734,
          6497,
          6562,
          6607,
          6440,
          6155,
          5848,
          5598,
          5308,
          5079,
          4759,
          4434,
          4126,
          3732,
          3493,
          3187,
          2891,
          2616,
          2356
         ],
         "yaxis": "y"
        },
        {
         "hovertemplate": "Country=Wales<br>Year=%{x}<br>Lower respiratory infections=%{y}<extra></extra>",
         "legendgroup": "Wales",
         "line": {
          "color": "#FFA15A",
          "dash": "solid"
         },
         "marker": {
          "symbol": "circle"
         },
         "mode": "lines",
         "name": "Wales",
         "showlegend": true,
         "type": "scattergl",
         "x": [
          1990,
          1991,
          1992,
          1993,
          1994,
          1995,
          1996,
          1997,
          1998,
          1999,
          2000,
          2001,
          2002,
          2003,
          2004,
          2005,
          2006,
          2007,
          2008,
          2009,
          2010,
          2011,
          2012,
          2013,
          2014,
          2015,
          2016,
          2017,
          2018,
          2019
         ],
         "xaxis": "x",
         "y": [
          12,
          12,
          11,
          11,
          11,
          11,
          11,
          10,
          10,
          9,
          8,
          7,
          6,
          6,
          6,
          5,
          5,
          5,
          5,
          5,
          5,
          5,
          5,
          4,
          4,
          4,
          4,
          4,
          3,
          3
         ],
         "yaxis": "y"
        },
        {
         "hovertemplate": "Country=Yemen<br>Year=%{x}<br>Lower respiratory infections=%{y}<extra></extra>",
         "legendgroup": "Yemen",
         "line": {
          "color": "#19d3f3",
          "dash": "solid"
         },
         "marker": {
          "symbol": "circle"
         },
         "mode": "lines",
         "name": "Yemen",
         "showlegend": true,
         "type": "scattergl",
         "x": [
          1990,
          1991,
          1992,
          1993,
          1994,
          1995,
          1996,
          1997,
          1998,
          1999,
          2000,
          2001,
          2002,
          2003,
          2004,
          2005,
          2006,
          2007,
          2008,
          2009,
          2010,
          2011,
          2012,
          2013,
          2014,
          2015,
          2016,
          2017,
          2018,
          2019
         ],
         "xaxis": "x",
         "y": [
          10314,
          10097,
          9855,
          9608,
          9343,
          8922,
          8562,
          8260,
          7896,
          7525,
          7174,
          6819,
          6759,
          6565,
          6305,
          5926,
          5601,
          5634,
          5463,
          5214,
          4891,
          4526,
          4190,
          4016,
          3792,
          3651,
          3479,
          3276,
          3047,
          2887
         ],
         "yaxis": "y"
        },
        {
         "hovertemplate": "Country=Zambia<br>Year=%{x}<br>Lower respiratory infections=%{y}<extra></extra>",
         "legendgroup": "Zambia",
         "line": {
          "color": "#FF6692",
          "dash": "solid"
         },
         "marker": {
          "symbol": "circle"
         },
         "mode": "lines",
         "name": "Zambia",
         "showlegend": true,
         "type": "scattergl",
         "x": [
          1990,
          1991,
          1992,
          1993,
          1994,
          1995,
          1996,
          1997,
          1998,
          1999,
          2000,
          2001,
          2002,
          2003,
          2004,
          2005,
          2006,
          2007,
          2008,
          2009,
          2010,
          2011,
          2012,
          2013,
          2014,
          2015,
          2016,
          2017,
          2018,
          2019
         ],
         "xaxis": "x",
         "y": [
          11299,
          11262,
          11253,
          11160,
          10947,
          10620,
          10126,
          9581,
          9125,
          8686,
          8411,
          8032,
          7680,
          7547,
          7719,
          7725,
          7726,
          7561,
          7469,
          7048,
          6674,
          6342,
          5880,
          5554,
          5099,
          4688,
          4326,
          4065,
          3737,
          3559
         ],
         "yaxis": "y"
        },
        {
         "hovertemplate": "Country=Zimbabwe<br>Year=%{x}<br>Lower respiratory infections=%{y}<extra></extra>",
         "legendgroup": "Zimbabwe",
         "line": {
          "color": "#B6E880",
          "dash": "solid"
         },
         "marker": {
          "symbol": "circle"
         },
         "mode": "lines",
         "name": "Zimbabwe",
         "showlegend": true,
         "type": "scattergl",
         "x": [
          1990,
          1991,
          1992,
          1993,
          1994,
          1995,
          1996,
          1997,
          1998,
          1999,
          2000,
          2001,
          2002,
          2003,
          2004,
          2005,
          2006,
          2007,
          2008,
          2009,
          2010,
          2011,
          2012,
          2013,
          2014,
          2015,
          2016,
          2017,
          2018,
          2019
         ],
         "xaxis": "x",
         "y": [
          4234,
          3981,
          3812,
          3502,
          3421,
          3153,
          2916,
          2869,
          2905,
          3189,
          3349,
          3492,
          3675,
          3839,
          3924,
          4164,
          4407,
          4571,
          4990,
          5057,
          5185,
          5536,
          5481,
          5206,
          5091,
          5070,
          5023,
          4865,
          4675,
          4590
         ],
         "yaxis": "y"
        }
       ],
       "layout": {
        "legend": {
         "title": {
          "text": "Country"
         },
         "tracegroupgap": 0
        },
        "template": {
         "data": {
          "bar": [
           {
            "error_x": {
             "color": "#2a3f5f"
            },
            "error_y": {
             "color": "#2a3f5f"
            },
            "marker": {
             "line": {
              "color": "#E5ECF6",
              "width": 0.5
             },
             "pattern": {
              "fillmode": "overlay",
              "size": 10,
              "solidity": 0.2
             }
            },
            "type": "bar"
           }
          ],
          "barpolar": [
           {
            "marker": {
             "line": {
              "color": "#E5ECF6",
              "width": 0.5
             },
             "pattern": {
              "fillmode": "overlay",
              "size": 10,
              "solidity": 0.2
             }
            },
            "type": "barpolar"
           }
          ],
          "carpet": [
           {
            "aaxis": {
             "endlinecolor": "#2a3f5f",
             "gridcolor": "white",
             "linecolor": "white",
             "minorgridcolor": "white",
             "startlinecolor": "#2a3f5f"
            },
            "baxis": {
             "endlinecolor": "#2a3f5f",
             "gridcolor": "white",
             "linecolor": "white",
             "minorgridcolor": "white",
             "startlinecolor": "#2a3f5f"
            },
            "type": "carpet"
           }
          ],
          "choropleth": [
           {
            "colorbar": {
             "outlinewidth": 0,
             "ticks": ""
            },
            "type": "choropleth"
           }
          ],
          "contour": [
           {
            "colorbar": {
             "outlinewidth": 0,
             "ticks": ""
            },
            "colorscale": [
             [
              0,
              "#0d0887"
             ],
             [
              0.1111111111111111,
              "#46039f"
             ],
             [
              0.2222222222222222,
              "#7201a8"
             ],
             [
              0.3333333333333333,
              "#9c179e"
             ],
             [
              0.4444444444444444,
              "#bd3786"
             ],
             [
              0.5555555555555556,
              "#d8576b"
             ],
             [
              0.6666666666666666,
              "#ed7953"
             ],
             [
              0.7777777777777778,
              "#fb9f3a"
             ],
             [
              0.8888888888888888,
              "#fdca26"
             ],
             [
              1,
              "#f0f921"
             ]
            ],
            "type": "contour"
           }
          ],
          "contourcarpet": [
           {
            "colorbar": {
             "outlinewidth": 0,
             "ticks": ""
            },
            "type": "contourcarpet"
           }
          ],
          "heatmap": [
           {
            "colorbar": {
             "outlinewidth": 0,
             "ticks": ""
            },
            "colorscale": [
             [
              0,
              "#0d0887"
             ],
             [
              0.1111111111111111,
              "#46039f"
             ],
             [
              0.2222222222222222,
              "#7201a8"
             ],
             [
              0.3333333333333333,
              "#9c179e"
             ],
             [
              0.4444444444444444,
              "#bd3786"
             ],
             [
              0.5555555555555556,
              "#d8576b"
             ],
             [
              0.6666666666666666,
              "#ed7953"
             ],
             [
              0.7777777777777778,
              "#fb9f3a"
             ],
             [
              0.8888888888888888,
              "#fdca26"
             ],
             [
              1,
              "#f0f921"
             ]
            ],
            "type": "heatmap"
           }
          ],
          "heatmapgl": [
           {
            "colorbar": {
             "outlinewidth": 0,
             "ticks": ""
            },
            "colorscale": [
             [
              0,
              "#0d0887"
             ],
             [
              0.1111111111111111,
              "#46039f"
             ],
             [
              0.2222222222222222,
              "#7201a8"
             ],
             [
              0.3333333333333333,
              "#9c179e"
             ],
             [
              0.4444444444444444,
              "#bd3786"
             ],
             [
              0.5555555555555556,
              "#d8576b"
             ],
             [
              0.6666666666666666,
              "#ed7953"
             ],
             [
              0.7777777777777778,
              "#fb9f3a"
             ],
             [
              0.8888888888888888,
              "#fdca26"
             ],
             [
              1,
              "#f0f921"
             ]
            ],
            "type": "heatmapgl"
           }
          ],
          "histogram": [
           {
            "marker": {
             "pattern": {
              "fillmode": "overlay",
              "size": 10,
              "solidity": 0.2
             }
            },
            "type": "histogram"
           }
          ],
          "histogram2d": [
           {
            "colorbar": {
             "outlinewidth": 0,
             "ticks": ""
            },
            "colorscale": [
             [
              0,
              "#0d0887"
             ],
             [
              0.1111111111111111,
              "#46039f"
             ],
             [
              0.2222222222222222,
              "#7201a8"
             ],
             [
              0.3333333333333333,
              "#9c179e"
             ],
             [
              0.4444444444444444,
              "#bd3786"
             ],
             [
              0.5555555555555556,
              "#d8576b"
             ],
             [
              0.6666666666666666,
              "#ed7953"
             ],
             [
              0.7777777777777778,
              "#fb9f3a"
             ],
             [
              0.8888888888888888,
              "#fdca26"
             ],
             [
              1,
              "#f0f921"
             ]
            ],
            "type": "histogram2d"
           }
          ],
          "histogram2dcontour": [
           {
            "colorbar": {
             "outlinewidth": 0,
             "ticks": ""
            },
            "colorscale": [
             [
              0,
              "#0d0887"
             ],
             [
              0.1111111111111111,
              "#46039f"
             ],
             [
              0.2222222222222222,
              "#7201a8"
             ],
             [
              0.3333333333333333,
              "#9c179e"
             ],
             [
              0.4444444444444444,
              "#bd3786"
             ],
             [
              0.5555555555555556,
              "#d8576b"
             ],
             [
              0.6666666666666666,
              "#ed7953"
             ],
             [
              0.7777777777777778,
              "#fb9f3a"
             ],
             [
              0.8888888888888888,
              "#fdca26"
             ],
             [
              1,
              "#f0f921"
             ]
            ],
            "type": "histogram2dcontour"
           }
          ],
          "mesh3d": [
           {
            "colorbar": {
             "outlinewidth": 0,
             "ticks": ""
            },
            "type": "mesh3d"
           }
          ],
          "parcoords": [
           {
            "line": {
             "colorbar": {
              "outlinewidth": 0,
              "ticks": ""
             }
            },
            "type": "parcoords"
           }
          ],
          "pie": [
           {
            "automargin": true,
            "type": "pie"
           }
          ],
          "scatter": [
           {
            "fillpattern": {
             "fillmode": "overlay",
             "size": 10,
             "solidity": 0.2
            },
            "type": "scatter"
           }
          ],
          "scatter3d": [
           {
            "line": {
             "colorbar": {
              "outlinewidth": 0,
              "ticks": ""
             }
            },
            "marker": {
             "colorbar": {
              "outlinewidth": 0,
              "ticks": ""
             }
            },
            "type": "scatter3d"
           }
          ],
          "scattercarpet": [
           {
            "marker": {
             "colorbar": {
              "outlinewidth": 0,
              "ticks": ""
             }
            },
            "type": "scattercarpet"
           }
          ],
          "scattergeo": [
           {
            "marker": {
             "colorbar": {
              "outlinewidth": 0,
              "ticks": ""
             }
            },
            "type": "scattergeo"
           }
          ],
          "scattergl": [
           {
            "marker": {
             "colorbar": {
              "outlinewidth": 0,
              "ticks": ""
             }
            },
            "type": "scattergl"
           }
          ],
          "scattermapbox": [
           {
            "marker": {
             "colorbar": {
              "outlinewidth": 0,
              "ticks": ""
             }
            },
            "type": "scattermapbox"
           }
          ],
          "scatterpolar": [
           {
            "marker": {
             "colorbar": {
              "outlinewidth": 0,
              "ticks": ""
             }
            },
            "type": "scatterpolar"
           }
          ],
          "scatterpolargl": [
           {
            "marker": {
             "colorbar": {
              "outlinewidth": 0,
              "ticks": ""
             }
            },
            "type": "scatterpolargl"
           }
          ],
          "scatterternary": [
           {
            "marker": {
             "colorbar": {
              "outlinewidth": 0,
              "ticks": ""
             }
            },
            "type": "scatterternary"
           }
          ],
          "surface": [
           {
            "colorbar": {
             "outlinewidth": 0,
             "ticks": ""
            },
            "colorscale": [
             [
              0,
              "#0d0887"
             ],
             [
              0.1111111111111111,
              "#46039f"
             ],
             [
              0.2222222222222222,
              "#7201a8"
             ],
             [
              0.3333333333333333,
              "#9c179e"
             ],
             [
              0.4444444444444444,
              "#bd3786"
             ],
             [
              0.5555555555555556,
              "#d8576b"
             ],
             [
              0.6666666666666666,
              "#ed7953"
             ],
             [
              0.7777777777777778,
              "#fb9f3a"
             ],
             [
              0.8888888888888888,
              "#fdca26"
             ],
             [
              1,
              "#f0f921"
             ]
            ],
            "type": "surface"
           }
          ],
          "table": [
           {
            "cells": {
             "fill": {
              "color": "#EBF0F8"
             },
             "line": {
              "color": "white"
             }
            },
            "header": {
             "fill": {
              "color": "#C8D4E3"
             },
             "line": {
              "color": "white"
             }
            },
            "type": "table"
           }
          ]
         },
         "layout": {
          "annotationdefaults": {
           "arrowcolor": "#2a3f5f",
           "arrowhead": 0,
           "arrowwidth": 1
          },
          "autotypenumbers": "strict",
          "coloraxis": {
           "colorbar": {
            "outlinewidth": 0,
            "ticks": ""
           }
          },
          "colorscale": {
           "diverging": [
            [
             0,
             "#8e0152"
            ],
            [
             0.1,
             "#c51b7d"
            ],
            [
             0.2,
             "#de77ae"
            ],
            [
             0.3,
             "#f1b6da"
            ],
            [
             0.4,
             "#fde0ef"
            ],
            [
             0.5,
             "#f7f7f7"
            ],
            [
             0.6,
             "#e6f5d0"
            ],
            [
             0.7,
             "#b8e186"
            ],
            [
             0.8,
             "#7fbc41"
            ],
            [
             0.9,
             "#4d9221"
            ],
            [
             1,
             "#276419"
            ]
           ],
           "sequential": [
            [
             0,
             "#0d0887"
            ],
            [
             0.1111111111111111,
             "#46039f"
            ],
            [
             0.2222222222222222,
             "#7201a8"
            ],
            [
             0.3333333333333333,
             "#9c179e"
            ],
            [
             0.4444444444444444,
             "#bd3786"
            ],
            [
             0.5555555555555556,
             "#d8576b"
            ],
            [
             0.6666666666666666,
             "#ed7953"
            ],
            [
             0.7777777777777778,
             "#fb9f3a"
            ],
            [
             0.8888888888888888,
             "#fdca26"
            ],
            [
             1,
             "#f0f921"
            ]
           ],
           "sequentialminus": [
            [
             0,
             "#0d0887"
            ],
            [
             0.1111111111111111,
             "#46039f"
            ],
            [
             0.2222222222222222,
             "#7201a8"
            ],
            [
             0.3333333333333333,
             "#9c179e"
            ],
            [
             0.4444444444444444,
             "#bd3786"
            ],
            [
             0.5555555555555556,
             "#d8576b"
            ],
            [
             0.6666666666666666,
             "#ed7953"
            ],
            [
             0.7777777777777778,
             "#fb9f3a"
            ],
            [
             0.8888888888888888,
             "#fdca26"
            ],
            [
             1,
             "#f0f921"
            ]
           ]
          },
          "colorway": [
           "#636efa",
           "#EF553B",
           "#00cc96",
           "#ab63fa",
           "#FFA15A",
           "#19d3f3",
           "#FF6692",
           "#B6E880",
           "#FF97FF",
           "#FECB52"
          ],
          "font": {
           "color": "#2a3f5f"
          },
          "geo": {
           "bgcolor": "white",
           "lakecolor": "white",
           "landcolor": "#E5ECF6",
           "showlakes": true,
           "showland": true,
           "subunitcolor": "white"
          },
          "hoverlabel": {
           "align": "left"
          },
          "hovermode": "closest",
          "mapbox": {
           "style": "light"
          },
          "paper_bgcolor": "white",
          "plot_bgcolor": "#E5ECF6",
          "polar": {
           "angularaxis": {
            "gridcolor": "white",
            "linecolor": "white",
            "ticks": ""
           },
           "bgcolor": "#E5ECF6",
           "radialaxis": {
            "gridcolor": "white",
            "linecolor": "white",
            "ticks": ""
           }
          },
          "scene": {
           "xaxis": {
            "backgroundcolor": "#E5ECF6",
            "gridcolor": "white",
            "gridwidth": 2,
            "linecolor": "white",
            "showbackground": true,
            "ticks": "",
            "zerolinecolor": "white"
           },
           "yaxis": {
            "backgroundcolor": "#E5ECF6",
            "gridcolor": "white",
            "gridwidth": 2,
            "linecolor": "white",
            "showbackground": true,
            "ticks": "",
            "zerolinecolor": "white"
           },
           "zaxis": {
            "backgroundcolor": "#E5ECF6",
            "gridcolor": "white",
            "gridwidth": 2,
            "linecolor": "white",
            "showbackground": true,
            "ticks": "",
            "zerolinecolor": "white"
           }
          },
          "shapedefaults": {
           "line": {
            "color": "#2a3f5f"
           }
          },
          "ternary": {
           "aaxis": {
            "gridcolor": "white",
            "linecolor": "white",
            "ticks": ""
           },
           "baxis": {
            "gridcolor": "white",
            "linecolor": "white",
            "ticks": ""
           },
           "bgcolor": "#E5ECF6",
           "caxis": {
            "gridcolor": "white",
            "linecolor": "white",
            "ticks": ""
           }
          },
          "title": {
           "x": 0.05
          },
          "xaxis": {
           "automargin": true,
           "gridcolor": "white",
           "linecolor": "white",
           "ticks": "",
           "title": {
            "standoff": 15
           },
           "zerolinecolor": "white",
           "zerolinewidth": 2
          },
          "yaxis": {
           "automargin": true,
           "gridcolor": "white",
           "linecolor": "white",
           "ticks": "",
           "title": {
            "standoff": 15
           },
           "zerolinecolor": "white",
           "zerolinewidth": 2
          }
         }
        },
        "title": {
         "text": "Country wise deaths in children due to pneumonia"
        },
        "xaxis": {
         "anchor": "y",
         "domain": [
          0,
          1
         ],
         "title": {
          "text": "Year"
         }
        },
        "yaxis": {
         "anchor": "x",
         "domain": [
          0,
          1
         ],
         "title": {
          "text": "Lower respiratory infections"
         }
        }
       }
      }
     },
     "metadata": {},
     "output_type": "display_data"
    }
   ],
   "source": [
    "fig = px.line(data1, x=\"Year\", y=\"Lower respiratory infections\", color='Country',title=\"Country wise deaths in children due to pneumonia\")\n",
    "fig.show()"
   ]
  },
  {
   "cell_type": "code",
   "execution_count": 19,
   "id": "f50dbf1c",
   "metadata": {
    "execution": {
     "iopub.execute_input": "2023-05-22T14:06:18.143240Z",
     "iopub.status.busy": "2023-05-22T14:06:18.142388Z",
     "iopub.status.idle": "2023-05-22T14:06:18.168182Z",
     "shell.execute_reply": "2023-05-22T14:06:18.166691Z"
    },
    "papermill": {
     "duration": 0.05282,
     "end_time": "2023-05-22T14:06:18.170449",
     "exception": false,
     "start_time": "2023-05-22T14:06:18.117629",
     "status": "completed"
    },
    "tags": []
   },
   "outputs": [
    {
     "data": {
      "text/html": [
       "<div>\n",
       "<style scoped>\n",
       "    .dataframe tbody tr th:only-of-type {\n",
       "        vertical-align: middle;\n",
       "    }\n",
       "\n",
       "    .dataframe tbody tr th {\n",
       "        vertical-align: top;\n",
       "    }\n",
       "\n",
       "    .dataframe thead th {\n",
       "        text-align: right;\n",
       "    }\n",
       "</style>\n",
       "<table border=\"1\" class=\"dataframe\">\n",
       "  <thead>\n",
       "    <tr style=\"text-align: right;\">\n",
       "      <th></th>\n",
       "      <th>Country</th>\n",
       "      <th>Code</th>\n",
       "      <th>Year</th>\n",
       "      <th>Malaria</th>\n",
       "      <th>HIV/AIDS</th>\n",
       "      <th>Meningitis</th>\n",
       "      <th>Nutritional Deficiencies</th>\n",
       "      <th>Other neonatal disorders</th>\n",
       "      <th>Whooping Cough</th>\n",
       "      <th>Lower respiratory infections</th>\n",
       "      <th>Congenital birth</th>\n",
       "      <th>Measles</th>\n",
       "      <th>Neonatal sepsis and other neonatal infections</th>\n",
       "      <th>eonatal encephalopathy due to birth asphyxia and trauma</th>\n",
       "      <th>Drowning</th>\n",
       "      <th>Tuberculosis</th>\n",
       "      <th>Neonatal preterm birth</th>\n",
       "      <th>Diarrheal diseases</th>\n",
       "      <th>Neoplasms</th>\n",
       "      <th>Syphilis</th>\n",
       "    </tr>\n",
       "  </thead>\n",
       "  <tbody>\n",
       "    <tr>\n",
       "      <th>2639</th>\n",
       "      <td>Iceland</td>\n",
       "      <td>ISL</td>\n",
       "      <td>2019</td>\n",
       "      <td>0</td>\n",
       "      <td>0</td>\n",
       "      <td>0</td>\n",
       "      <td>0</td>\n",
       "      <td>1</td>\n",
       "      <td>0</td>\n",
       "      <td>0</td>\n",
       "      <td>3</td>\n",
       "      <td>0</td>\n",
       "      <td>0</td>\n",
       "      <td>1</td>\n",
       "      <td>0</td>\n",
       "      <td>0</td>\n",
       "      <td>2</td>\n",
       "      <td>0</td>\n",
       "      <td>1</td>\n",
       "      <td>0</td>\n",
       "    </tr>\n",
       "    <tr>\n",
       "      <th>6209</th>\n",
       "      <td>Tuvalu</td>\n",
       "      <td>TUV</td>\n",
       "      <td>2019</td>\n",
       "      <td>0</td>\n",
       "      <td>0</td>\n",
       "      <td>0</td>\n",
       "      <td>0</td>\n",
       "      <td>0</td>\n",
       "      <td>0</td>\n",
       "      <td>0</td>\n",
       "      <td>0</td>\n",
       "      <td>0</td>\n",
       "      <td>0</td>\n",
       "      <td>0</td>\n",
       "      <td>0</td>\n",
       "      <td>0</td>\n",
       "      <td>1</td>\n",
       "      <td>0</td>\n",
       "      <td>0</td>\n",
       "      <td>0</td>\n",
       "    </tr>\n",
       "    <tr>\n",
       "      <th>179</th>\n",
       "      <td>Andorra</td>\n",
       "      <td>AND</td>\n",
       "      <td>2019</td>\n",
       "      <td>0</td>\n",
       "      <td>0</td>\n",
       "      <td>0</td>\n",
       "      <td>0</td>\n",
       "      <td>0</td>\n",
       "      <td>0</td>\n",
       "      <td>0</td>\n",
       "      <td>0</td>\n",
       "      <td>0</td>\n",
       "      <td>0</td>\n",
       "      <td>0</td>\n",
       "      <td>0</td>\n",
       "      <td>0</td>\n",
       "      <td>0</td>\n",
       "      <td>0</td>\n",
       "      <td>0</td>\n",
       "      <td>0</td>\n",
       "    </tr>\n",
       "    <tr>\n",
       "      <th>3359</th>\n",
       "      <td>Luxembourg</td>\n",
       "      <td>LUX</td>\n",
       "      <td>2019</td>\n",
       "      <td>0</td>\n",
       "      <td>0</td>\n",
       "      <td>0</td>\n",
       "      <td>0</td>\n",
       "      <td>3</td>\n",
       "      <td>0</td>\n",
       "      <td>0</td>\n",
       "      <td>3</td>\n",
       "      <td>0</td>\n",
       "      <td>0</td>\n",
       "      <td>2</td>\n",
       "      <td>0</td>\n",
       "      <td>0</td>\n",
       "      <td>2</td>\n",
       "      <td>0</td>\n",
       "      <td>1</td>\n",
       "      <td>0</td>\n",
       "    </tr>\n",
       "    <tr>\n",
       "      <th>659</th>\n",
       "      <td>Bermuda</td>\n",
       "      <td>BMU</td>\n",
       "      <td>2019</td>\n",
       "      <td>0</td>\n",
       "      <td>0</td>\n",
       "      <td>0</td>\n",
       "      <td>0</td>\n",
       "      <td>0</td>\n",
       "      <td>0</td>\n",
       "      <td>0</td>\n",
       "      <td>0</td>\n",
       "      <td>0</td>\n",
       "      <td>0</td>\n",
       "      <td>0</td>\n",
       "      <td>0</td>\n",
       "      <td>0</td>\n",
       "      <td>0</td>\n",
       "      <td>0</td>\n",
       "      <td>0</td>\n",
       "      <td>0</td>\n",
       "    </tr>\n",
       "    <tr>\n",
       "      <th>...</th>\n",
       "      <td>...</td>\n",
       "      <td>...</td>\n",
       "      <td>...</td>\n",
       "      <td>...</td>\n",
       "      <td>...</td>\n",
       "      <td>...</td>\n",
       "      <td>...</td>\n",
       "      <td>...</td>\n",
       "      <td>...</td>\n",
       "      <td>...</td>\n",
       "      <td>...</td>\n",
       "      <td>...</td>\n",
       "      <td>...</td>\n",
       "      <td>...</td>\n",
       "      <td>...</td>\n",
       "      <td>...</td>\n",
       "      <td>...</td>\n",
       "      <td>...</td>\n",
       "      <td>...</td>\n",
       "      <td>...</td>\n",
       "    </tr>\n",
       "    <tr>\n",
       "      <th>4139</th>\n",
       "      <td>Niger</td>\n",
       "      <td>NER</td>\n",
       "      <td>2019</td>\n",
       "      <td>16565</td>\n",
       "      <td>75</td>\n",
       "      <td>6254</td>\n",
       "      <td>2171</td>\n",
       "      <td>2614</td>\n",
       "      <td>2731</td>\n",
       "      <td>17390</td>\n",
       "      <td>6313</td>\n",
       "      <td>9654</td>\n",
       "      <td>4409</td>\n",
       "      <td>7401</td>\n",
       "      <td>613</td>\n",
       "      <td>1284</td>\n",
       "      <td>7790</td>\n",
       "      <td>22975</td>\n",
       "      <td>408</td>\n",
       "      <td>185</td>\n",
       "    </tr>\n",
       "    <tr>\n",
       "      <th>1949</th>\n",
       "      <td>Ethiopia</td>\n",
       "      <td>ETH</td>\n",
       "      <td>2019</td>\n",
       "      <td>11315</td>\n",
       "      <td>3356</td>\n",
       "      <td>4211</td>\n",
       "      <td>4907</td>\n",
       "      <td>11233</td>\n",
       "      <td>7189</td>\n",
       "      <td>19592</td>\n",
       "      <td>13393</td>\n",
       "      <td>2095</td>\n",
       "      <td>13913</td>\n",
       "      <td>35415</td>\n",
       "      <td>699</td>\n",
       "      <td>1561</td>\n",
       "      <td>16003</td>\n",
       "      <td>25139</td>\n",
       "      <td>2813</td>\n",
       "      <td>4194</td>\n",
       "    </tr>\n",
       "    <tr>\n",
       "      <th>4469</th>\n",
       "      <td>Pakistan</td>\n",
       "      <td>PAK</td>\n",
       "      <td>2019</td>\n",
       "      <td>529</td>\n",
       "      <td>629</td>\n",
       "      <td>10635</td>\n",
       "      <td>7515</td>\n",
       "      <td>57418</td>\n",
       "      <td>5804</td>\n",
       "      <td>46646</td>\n",
       "      <td>20559</td>\n",
       "      <td>2277</td>\n",
       "      <td>11569</td>\n",
       "      <td>104656</td>\n",
       "      <td>1160</td>\n",
       "      <td>5014</td>\n",
       "      <td>59400</td>\n",
       "      <td>32379</td>\n",
       "      <td>3456</td>\n",
       "      <td>4649</td>\n",
       "    </tr>\n",
       "    <tr>\n",
       "      <th>2669</th>\n",
       "      <td>India</td>\n",
       "      <td>IND</td>\n",
       "      <td>2019</td>\n",
       "      <td>9702</td>\n",
       "      <td>1829</td>\n",
       "      <td>10318</td>\n",
       "      <td>10439</td>\n",
       "      <td>131782</td>\n",
       "      <td>15774</td>\n",
       "      <td>128512</td>\n",
       "      <td>66595</td>\n",
       "      <td>4064</td>\n",
       "      <td>36933</td>\n",
       "      <td>83958</td>\n",
       "      <td>7676</td>\n",
       "      <td>5033</td>\n",
       "      <td>165604</td>\n",
       "      <td>55310</td>\n",
       "      <td>4884</td>\n",
       "      <td>6782</td>\n",
       "    </tr>\n",
       "    <tr>\n",
       "      <th>4169</th>\n",
       "      <td>Nigeria</td>\n",
       "      <td>NGA</td>\n",
       "      <td>2019</td>\n",
       "      <td>95636</td>\n",
       "      <td>6350</td>\n",
       "      <td>32689</td>\n",
       "      <td>4534</td>\n",
       "      <td>13365</td>\n",
       "      <td>17905</td>\n",
       "      <td>129444</td>\n",
       "      <td>49866</td>\n",
       "      <td>6076</td>\n",
       "      <td>27202</td>\n",
       "      <td>75905</td>\n",
       "      <td>2016</td>\n",
       "      <td>7218</td>\n",
       "      <td>76404</td>\n",
       "      <td>132555</td>\n",
       "      <td>2895</td>\n",
       "      <td>8716</td>\n",
       "    </tr>\n",
       "  </tbody>\n",
       "</table>\n",
       "<p>208 rows × 20 columns</p>\n",
       "</div>"
      ],
      "text/plain": [
       "         Country Code  Year  Malaria  HIV/AIDS  Meningitis  \\\n",
       "2639     Iceland  ISL  2019        0         0           0   \n",
       "6209      Tuvalu  TUV  2019        0         0           0   \n",
       "179      Andorra  AND  2019        0         0           0   \n",
       "3359  Luxembourg  LUX  2019        0         0           0   \n",
       "659      Bermuda  BMU  2019        0         0           0   \n",
       "...          ...  ...   ...      ...       ...         ...   \n",
       "4139       Niger  NER  2019    16565        75        6254   \n",
       "1949    Ethiopia  ETH  2019    11315      3356        4211   \n",
       "4469    Pakistan  PAK  2019      529       629       10635   \n",
       "2669       India  IND  2019     9702      1829       10318   \n",
       "4169     Nigeria  NGA  2019    95636      6350       32689   \n",
       "\n",
       "      Nutritional Deficiencies  Other neonatal disorders  Whooping Cough  \\\n",
       "2639                         0                         1               0   \n",
       "6209                         0                         0               0   \n",
       "179                          0                         0               0   \n",
       "3359                         0                         3               0   \n",
       "659                          0                         0               0   \n",
       "...                        ...                       ...             ...   \n",
       "4139                      2171                      2614            2731   \n",
       "1949                      4907                     11233            7189   \n",
       "4469                      7515                     57418            5804   \n",
       "2669                     10439                    131782           15774   \n",
       "4169                      4534                     13365           17905   \n",
       "\n",
       "      Lower respiratory infections  Congenital birth  Measles  \\\n",
       "2639                             0                 3        0   \n",
       "6209                             0                 0        0   \n",
       "179                              0                 0        0   \n",
       "3359                             0                 3        0   \n",
       "659                              0                 0        0   \n",
       "...                            ...               ...      ...   \n",
       "4139                         17390              6313     9654   \n",
       "1949                         19592             13393     2095   \n",
       "4469                         46646             20559     2277   \n",
       "2669                        128512             66595     4064   \n",
       "4169                        129444             49866     6076   \n",
       "\n",
       "      Neonatal sepsis and other neonatal infections  \\\n",
       "2639                                              0   \n",
       "6209                                              0   \n",
       "179                                               0   \n",
       "3359                                              0   \n",
       "659                                               0   \n",
       "...                                             ...   \n",
       "4139                                           4409   \n",
       "1949                                          13913   \n",
       "4469                                          11569   \n",
       "2669                                          36933   \n",
       "4169                                          27202   \n",
       "\n",
       "      eonatal encephalopathy due to birth asphyxia and trauma  Drowning  \\\n",
       "2639                                                  1               0   \n",
       "6209                                                  0               0   \n",
       "179                                                   0               0   \n",
       "3359                                                  2               0   \n",
       "659                                                   0               0   \n",
       "...                                                 ...             ...   \n",
       "4139                                               7401             613   \n",
       "1949                                              35415             699   \n",
       "4469                                             104656            1160   \n",
       "2669                                              83958            7676   \n",
       "4169                                              75905            2016   \n",
       "\n",
       "      Tuberculosis  Neonatal preterm birth  Diarrheal diseases  Neoplasms  \\\n",
       "2639             0                       2                   0          1   \n",
       "6209             0                       1                   0          0   \n",
       "179              0                       0                   0          0   \n",
       "3359             0                       2                   0          1   \n",
       "659              0                       0                   0          0   \n",
       "...            ...                     ...                 ...        ...   \n",
       "4139          1284                    7790               22975        408   \n",
       "1949          1561                   16003               25139       2813   \n",
       "4469          5014                   59400               32379       3456   \n",
       "2669          5033                  165604               55310       4884   \n",
       "4169          7218                   76404              132555       2895   \n",
       "\n",
       "      Syphilis  \n",
       "2639         0  \n",
       "6209         0  \n",
       "179          0  \n",
       "3359         0  \n",
       "659          0  \n",
       "...        ...  \n",
       "4139       185  \n",
       "1949      4194  \n",
       "4469      4649  \n",
       "2669      6782  \n",
       "4169      8716  \n",
       "\n",
       "[208 rows x 20 columns]"
      ]
     },
     "execution_count": 19,
     "metadata": {},
     "output_type": "execute_result"
    }
   ],
   "source": [
    "data1_country=data1[(data1['Year'] == 2019)]\n",
    "data1_country.sort_values(by=\"Lower respiratory infections\")"
   ]
  },
  {
   "cell_type": "code",
   "execution_count": 20,
   "id": "57c1b8db",
   "metadata": {
    "execution": {
     "iopub.execute_input": "2023-05-22T14:06:18.221542Z",
     "iopub.status.busy": "2023-05-22T14:06:18.221055Z",
     "iopub.status.idle": "2023-05-22T14:06:18.297424Z",
     "shell.execute_reply": "2023-05-22T14:06:18.296321Z"
    },
    "papermill": {
     "duration": 0.105406,
     "end_time": "2023-05-22T14:06:18.299864",
     "exception": false,
     "start_time": "2023-05-22T14:06:18.194458",
     "status": "completed"
    },
    "tags": []
   },
   "outputs": [
    {
     "data": {
      "application/vnd.plotly.v1+json": {
       "config": {
        "plotlyServerURL": "https://plot.ly"
       },
       "data": [
        {
         "alignmentgroup": "True",
         "hovertemplate": "Country=%{x}<br>Lower respiratory infections=%{y}<extra></extra>",
         "legendgroup": "",
         "marker": {
          "color": "#636efa",
          "pattern": {
           "shape": ""
          }
         },
         "name": "",
         "offsetgroup": "",
         "orientation": "v",
         "showlegend": false,
         "textposition": "auto",
         "type": "bar",
         "x": [
          "Afghanistan",
          "Albania",
          "Algeria",
          "American Samoa",
          "Andorra",
          "Angola",
          "Antigua and Barbuda",
          "Argentina",
          "Armenia",
          "Australia",
          "Austria",
          "Azerbaijan",
          "Bahamas",
          "Bahrain",
          "Bangladesh",
          "Barbados",
          "Belarus",
          "Belgium",
          "Belize",
          "Benin",
          "Bermuda",
          "Bhutan",
          "Bolivia",
          "Bosnia and Herzegovina",
          "Botswana",
          "Brazil",
          "Brunei",
          "Bulgaria",
          "Burkina Faso",
          "Burundi",
          "Cambodia",
          "Cameroon",
          "Canada",
          "Cape Verde",
          "Central African Republic",
          "Chad",
          "Chile",
          "China",
          "Colombia",
          "Comoros",
          "Congo",
          "Cook Islands",
          "Costa Rica",
          "Cote d'Ivoire",
          "Croatia",
          "Cuba",
          "Cyprus",
          "Czechia",
          "Democratic Republic of Congo",
          "Denmark",
          "Djibouti",
          "Dominica",
          "Dominican Republic",
          "Ecuador",
          "Egypt",
          "El Salvador",
          "England",
          "Equatorial Guinea",
          "Eritrea",
          "Estonia",
          "Eswatini",
          "Ethiopia",
          "Fiji",
          "Finland",
          "France",
          "Gabon",
          "Gambia",
          "Georgia",
          "Germany",
          "Ghana",
          "Greece",
          "Greenland",
          "Grenada",
          "Guam",
          "Guatemala",
          "Guinea",
          "Guinea-Bissau",
          "Guyana",
          "Haiti",
          "Honduras",
          "Hungary",
          "Iceland",
          "India",
          "Indonesia",
          "Iran",
          "Iraq",
          "Ireland",
          "Israel",
          "Italy",
          "Jamaica",
          "Japan",
          "Jordan",
          "Kazakhstan",
          "Kenya",
          "Kiribati",
          "Kuwait",
          "Kyrgyzstan",
          "Laos",
          "Latvia",
          "Lebanon",
          "Lesotho",
          "Liberia",
          "Libya",
          "Lithuania",
          "Luxembourg",
          "Madagascar",
          "Malawi",
          "Malaysia",
          "Maldives",
          "Mali",
          "Malta",
          "Marshall Islands",
          "Mauritania",
          "Mauritius",
          "Mexico",
          "Micronesia (country)",
          "Moldova",
          "Monaco",
          "Mongolia",
          "Montenegro",
          "Morocco",
          "Mozambique",
          "Myanmar",
          "Namibia",
          "Nauru",
          "Nepal",
          "Netherlands",
          "New Zealand",
          "Nicaragua",
          "Niger",
          "Nigeria",
          "Niue",
          "North Korea",
          "North Macedonia",
          "Northern Ireland",
          "Northern Mariana Islands",
          "Norway",
          "Oman",
          "Pakistan",
          "Palau",
          "Palestine",
          "Panama",
          "Papua New Guinea",
          "Paraguay",
          "Peru",
          "Philippines",
          "Poland",
          "Portugal",
          "Puerto Rico",
          "Qatar",
          "Romania",
          "Russia",
          "Rwanda",
          "Saint Kitts and Nevis",
          "Saint Lucia",
          "Saint Vincent and the Grenadines",
          "Samoa",
          "San Marino",
          "Sao Tome and Principe",
          "Saudi Arabia",
          "Scotland",
          "Senegal",
          "Serbia",
          "Seychelles",
          "Sierra Leone",
          "Singapore",
          "Slovakia",
          "Slovenia",
          "Solomon Islands",
          "Somalia",
          "South Africa",
          "South Korea",
          "South Sudan",
          "Spain",
          "Sri Lanka",
          "Sudan",
          "Suriname",
          "Sweden",
          "Switzerland",
          "Syria",
          "Taiwan",
          "Tajikistan",
          "Tanzania",
          "Thailand",
          "Timor",
          "Togo",
          "Tokelau",
          "Tonga",
          "Trinidad and Tobago",
          "Tunisia",
          "Turkey",
          "Turkmenistan",
          "Tuvalu",
          "Uganda",
          "Ukraine",
          "United Arab Emirates",
          "United Kingdom",
          "United States",
          "United States Virgin Islands",
          "Uruguay",
          "Uzbekistan",
          "Vanuatu",
          "Venezuela",
          "Vietnam",
          "Wales",
          "Yemen",
          "Zambia",
          "Zimbabwe"
         ],
         "xaxis": "x",
         "y": [
          13770,
          65,
          766,
          1,
          0,
          5577,
          1,
          450,
          97,
          28,
          4,
          1316,
          4,
          2,
          12316,
          2,
          25,
          8,
          12,
          5196,
          0,
          49,
          1581,
          4,
          288,
          4885,
          4,
          66,
          16513,
          2519,
          3347,
          7792,
          31,
          15,
          3270,
          13750,
          58,
          14749,
          986,
          122,
          333,
          0,
          28,
          8922,
          3,
          48,
          1,
          13,
          14046,
          3,
          243,
          2,
          277,
          634,
          6247,
          120,
          88,
          73,
          1372,
          3,
          237,
          19592,
          46,
          1,
          31,
          78,
          289,
          37,
          34,
          3601,
          12,
          0,
          2,
          4,
          2401,
          7290,
          298,
          26,
          3183,
          239,
          16,
          0,
          128512,
          9016,
          579,
          1017,
          3,
          13,
          23,
          19,
          113,
          304,
          565,
          6307,
          7,
          31,
          410,
          1516,
          5,
          40,
          528,
          563,
          47,
          8,
          0,
          5732,
          4104,
          194,
          4,
          11744,
          1,
          4,
          467,
          8,
          2716,
          4,
          66,
          0,
          286,
          1,
          951,
          7372,
          6606,
          262,
          1,
          3441,
          9,
          8,
          329,
          17390,
          129444,
          0,
          567,
          10,
          3,
          0,
          2,
          37,
          46646,
          1,
          50,
          141,
          4798,
          143,
          1115,
          9617,
          65,
          9,
          9,
          5,
          364,
          1056,
          2076,
          1,
          1,
          2,
          5,
          0,
          15,
          39,
          5,
          2359,
          13,
          2,
          4200,
          10,
          25,
          1,
          92,
          14168,
          3952,
          26,
          5373,
          22,
          118,
          2912,
          15,
          5,
          5,
          270,
          37,
          1965,
          16979,
          370,
          222,
          1386,
          0,
          3,
          12,
          92,
          597,
          875,
          0,
          6886,
          173,
          5,
          99,
          538,
          0,
          24,
          6475,
          29,
          673,
          2356,
          3,
          2887,
          3559,
          4590
         ],
         "yaxis": "y"
        }
       ],
       "layout": {
        "barmode": "relative",
        "legend": {
         "tracegroupgap": 0
        },
        "template": {
         "data": {
          "bar": [
           {
            "error_x": {
             "color": "#2a3f5f"
            },
            "error_y": {
             "color": "#2a3f5f"
            },
            "marker": {
             "line": {
              "color": "#E5ECF6",
              "width": 0.5
             },
             "pattern": {
              "fillmode": "overlay",
              "size": 10,
              "solidity": 0.2
             }
            },
            "type": "bar"
           }
          ],
          "barpolar": [
           {
            "marker": {
             "line": {
              "color": "#E5ECF6",
              "width": 0.5
             },
             "pattern": {
              "fillmode": "overlay",
              "size": 10,
              "solidity": 0.2
             }
            },
            "type": "barpolar"
           }
          ],
          "carpet": [
           {
            "aaxis": {
             "endlinecolor": "#2a3f5f",
             "gridcolor": "white",
             "linecolor": "white",
             "minorgridcolor": "white",
             "startlinecolor": "#2a3f5f"
            },
            "baxis": {
             "endlinecolor": "#2a3f5f",
             "gridcolor": "white",
             "linecolor": "white",
             "minorgridcolor": "white",
             "startlinecolor": "#2a3f5f"
            },
            "type": "carpet"
           }
          ],
          "choropleth": [
           {
            "colorbar": {
             "outlinewidth": 0,
             "ticks": ""
            },
            "type": "choropleth"
           }
          ],
          "contour": [
           {
            "colorbar": {
             "outlinewidth": 0,
             "ticks": ""
            },
            "colorscale": [
             [
              0,
              "#0d0887"
             ],
             [
              0.1111111111111111,
              "#46039f"
             ],
             [
              0.2222222222222222,
              "#7201a8"
             ],
             [
              0.3333333333333333,
              "#9c179e"
             ],
             [
              0.4444444444444444,
              "#bd3786"
             ],
             [
              0.5555555555555556,
              "#d8576b"
             ],
             [
              0.6666666666666666,
              "#ed7953"
             ],
             [
              0.7777777777777778,
              "#fb9f3a"
             ],
             [
              0.8888888888888888,
              "#fdca26"
             ],
             [
              1,
              "#f0f921"
             ]
            ],
            "type": "contour"
           }
          ],
          "contourcarpet": [
           {
            "colorbar": {
             "outlinewidth": 0,
             "ticks": ""
            },
            "type": "contourcarpet"
           }
          ],
          "heatmap": [
           {
            "colorbar": {
             "outlinewidth": 0,
             "ticks": ""
            },
            "colorscale": [
             [
              0,
              "#0d0887"
             ],
             [
              0.1111111111111111,
              "#46039f"
             ],
             [
              0.2222222222222222,
              "#7201a8"
             ],
             [
              0.3333333333333333,
              "#9c179e"
             ],
             [
              0.4444444444444444,
              "#bd3786"
             ],
             [
              0.5555555555555556,
              "#d8576b"
             ],
             [
              0.6666666666666666,
              "#ed7953"
             ],
             [
              0.7777777777777778,
              "#fb9f3a"
             ],
             [
              0.8888888888888888,
              "#fdca26"
             ],
             [
              1,
              "#f0f921"
             ]
            ],
            "type": "heatmap"
           }
          ],
          "heatmapgl": [
           {
            "colorbar": {
             "outlinewidth": 0,
             "ticks": ""
            },
            "colorscale": [
             [
              0,
              "#0d0887"
             ],
             [
              0.1111111111111111,
              "#46039f"
             ],
             [
              0.2222222222222222,
              "#7201a8"
             ],
             [
              0.3333333333333333,
              "#9c179e"
             ],
             [
              0.4444444444444444,
              "#bd3786"
             ],
             [
              0.5555555555555556,
              "#d8576b"
             ],
             [
              0.6666666666666666,
              "#ed7953"
             ],
             [
              0.7777777777777778,
              "#fb9f3a"
             ],
             [
              0.8888888888888888,
              "#fdca26"
             ],
             [
              1,
              "#f0f921"
             ]
            ],
            "type": "heatmapgl"
           }
          ],
          "histogram": [
           {
            "marker": {
             "pattern": {
              "fillmode": "overlay",
              "size": 10,
              "solidity": 0.2
             }
            },
            "type": "histogram"
           }
          ],
          "histogram2d": [
           {
            "colorbar": {
             "outlinewidth": 0,
             "ticks": ""
            },
            "colorscale": [
             [
              0,
              "#0d0887"
             ],
             [
              0.1111111111111111,
              "#46039f"
             ],
             [
              0.2222222222222222,
              "#7201a8"
             ],
             [
              0.3333333333333333,
              "#9c179e"
             ],
             [
              0.4444444444444444,
              "#bd3786"
             ],
             [
              0.5555555555555556,
              "#d8576b"
             ],
             [
              0.6666666666666666,
              "#ed7953"
             ],
             [
              0.7777777777777778,
              "#fb9f3a"
             ],
             [
              0.8888888888888888,
              "#fdca26"
             ],
             [
              1,
              "#f0f921"
             ]
            ],
            "type": "histogram2d"
           }
          ],
          "histogram2dcontour": [
           {
            "colorbar": {
             "outlinewidth": 0,
             "ticks": ""
            },
            "colorscale": [
             [
              0,
              "#0d0887"
             ],
             [
              0.1111111111111111,
              "#46039f"
             ],
             [
              0.2222222222222222,
              "#7201a8"
             ],
             [
              0.3333333333333333,
              "#9c179e"
             ],
             [
              0.4444444444444444,
              "#bd3786"
             ],
             [
              0.5555555555555556,
              "#d8576b"
             ],
             [
              0.6666666666666666,
              "#ed7953"
             ],
             [
              0.7777777777777778,
              "#fb9f3a"
             ],
             [
              0.8888888888888888,
              "#fdca26"
             ],
             [
              1,
              "#f0f921"
             ]
            ],
            "type": "histogram2dcontour"
           }
          ],
          "mesh3d": [
           {
            "colorbar": {
             "outlinewidth": 0,
             "ticks": ""
            },
            "type": "mesh3d"
           }
          ],
          "parcoords": [
           {
            "line": {
             "colorbar": {
              "outlinewidth": 0,
              "ticks": ""
             }
            },
            "type": "parcoords"
           }
          ],
          "pie": [
           {
            "automargin": true,
            "type": "pie"
           }
          ],
          "scatter": [
           {
            "fillpattern": {
             "fillmode": "overlay",
             "size": 10,
             "solidity": 0.2
            },
            "type": "scatter"
           }
          ],
          "scatter3d": [
           {
            "line": {
             "colorbar": {
              "outlinewidth": 0,
              "ticks": ""
             }
            },
            "marker": {
             "colorbar": {
              "outlinewidth": 0,
              "ticks": ""
             }
            },
            "type": "scatter3d"
           }
          ],
          "scattercarpet": [
           {
            "marker": {
             "colorbar": {
              "outlinewidth": 0,
              "ticks": ""
             }
            },
            "type": "scattercarpet"
           }
          ],
          "scattergeo": [
           {
            "marker": {
             "colorbar": {
              "outlinewidth": 0,
              "ticks": ""
             }
            },
            "type": "scattergeo"
           }
          ],
          "scattergl": [
           {
            "marker": {
             "colorbar": {
              "outlinewidth": 0,
              "ticks": ""
             }
            },
            "type": "scattergl"
           }
          ],
          "scattermapbox": [
           {
            "marker": {
             "colorbar": {
              "outlinewidth": 0,
              "ticks": ""
             }
            },
            "type": "scattermapbox"
           }
          ],
          "scatterpolar": [
           {
            "marker": {
             "colorbar": {
              "outlinewidth": 0,
              "ticks": ""
             }
            },
            "type": "scatterpolar"
           }
          ],
          "scatterpolargl": [
           {
            "marker": {
             "colorbar": {
              "outlinewidth": 0,
              "ticks": ""
             }
            },
            "type": "scatterpolargl"
           }
          ],
          "scatterternary": [
           {
            "marker": {
             "colorbar": {
              "outlinewidth": 0,
              "ticks": ""
             }
            },
            "type": "scatterternary"
           }
          ],
          "surface": [
           {
            "colorbar": {
             "outlinewidth": 0,
             "ticks": ""
            },
            "colorscale": [
             [
              0,
              "#0d0887"
             ],
             [
              0.1111111111111111,
              "#46039f"
             ],
             [
              0.2222222222222222,
              "#7201a8"
             ],
             [
              0.3333333333333333,
              "#9c179e"
             ],
             [
              0.4444444444444444,
              "#bd3786"
             ],
             [
              0.5555555555555556,
              "#d8576b"
             ],
             [
              0.6666666666666666,
              "#ed7953"
             ],
             [
              0.7777777777777778,
              "#fb9f3a"
             ],
             [
              0.8888888888888888,
              "#fdca26"
             ],
             [
              1,
              "#f0f921"
             ]
            ],
            "type": "surface"
           }
          ],
          "table": [
           {
            "cells": {
             "fill": {
              "color": "#EBF0F8"
             },
             "line": {
              "color": "white"
             }
            },
            "header": {
             "fill": {
              "color": "#C8D4E3"
             },
             "line": {
              "color": "white"
             }
            },
            "type": "table"
           }
          ]
         },
         "layout": {
          "annotationdefaults": {
           "arrowcolor": "#2a3f5f",
           "arrowhead": 0,
           "arrowwidth": 1
          },
          "autotypenumbers": "strict",
          "coloraxis": {
           "colorbar": {
            "outlinewidth": 0,
            "ticks": ""
           }
          },
          "colorscale": {
           "diverging": [
            [
             0,
             "#8e0152"
            ],
            [
             0.1,
             "#c51b7d"
            ],
            [
             0.2,
             "#de77ae"
            ],
            [
             0.3,
             "#f1b6da"
            ],
            [
             0.4,
             "#fde0ef"
            ],
            [
             0.5,
             "#f7f7f7"
            ],
            [
             0.6,
             "#e6f5d0"
            ],
            [
             0.7,
             "#b8e186"
            ],
            [
             0.8,
             "#7fbc41"
            ],
            [
             0.9,
             "#4d9221"
            ],
            [
             1,
             "#276419"
            ]
           ],
           "sequential": [
            [
             0,
             "#0d0887"
            ],
            [
             0.1111111111111111,
             "#46039f"
            ],
            [
             0.2222222222222222,
             "#7201a8"
            ],
            [
             0.3333333333333333,
             "#9c179e"
            ],
            [
             0.4444444444444444,
             "#bd3786"
            ],
            [
             0.5555555555555556,
             "#d8576b"
            ],
            [
             0.6666666666666666,
             "#ed7953"
            ],
            [
             0.7777777777777778,
             "#fb9f3a"
            ],
            [
             0.8888888888888888,
             "#fdca26"
            ],
            [
             1,
             "#f0f921"
            ]
           ],
           "sequentialminus": [
            [
             0,
             "#0d0887"
            ],
            [
             0.1111111111111111,
             "#46039f"
            ],
            [
             0.2222222222222222,
             "#7201a8"
            ],
            [
             0.3333333333333333,
             "#9c179e"
            ],
            [
             0.4444444444444444,
             "#bd3786"
            ],
            [
             0.5555555555555556,
             "#d8576b"
            ],
            [
             0.6666666666666666,
             "#ed7953"
            ],
            [
             0.7777777777777778,
             "#fb9f3a"
            ],
            [
             0.8888888888888888,
             "#fdca26"
            ],
            [
             1,
             "#f0f921"
            ]
           ]
          },
          "colorway": [
           "#636efa",
           "#EF553B",
           "#00cc96",
           "#ab63fa",
           "#FFA15A",
           "#19d3f3",
           "#FF6692",
           "#B6E880",
           "#FF97FF",
           "#FECB52"
          ],
          "font": {
           "color": "#2a3f5f"
          },
          "geo": {
           "bgcolor": "white",
           "lakecolor": "white",
           "landcolor": "#E5ECF6",
           "showlakes": true,
           "showland": true,
           "subunitcolor": "white"
          },
          "hoverlabel": {
           "align": "left"
          },
          "hovermode": "closest",
          "mapbox": {
           "style": "light"
          },
          "paper_bgcolor": "white",
          "plot_bgcolor": "#E5ECF6",
          "polar": {
           "angularaxis": {
            "gridcolor": "white",
            "linecolor": "white",
            "ticks": ""
           },
           "bgcolor": "#E5ECF6",
           "radialaxis": {
            "gridcolor": "white",
            "linecolor": "white",
            "ticks": ""
           }
          },
          "scene": {
           "xaxis": {
            "backgroundcolor": "#E5ECF6",
            "gridcolor": "white",
            "gridwidth": 2,
            "linecolor": "white",
            "showbackground": true,
            "ticks": "",
            "zerolinecolor": "white"
           },
           "yaxis": {
            "backgroundcolor": "#E5ECF6",
            "gridcolor": "white",
            "gridwidth": 2,
            "linecolor": "white",
            "showbackground": true,
            "ticks": "",
            "zerolinecolor": "white"
           },
           "zaxis": {
            "backgroundcolor": "#E5ECF6",
            "gridcolor": "white",
            "gridwidth": 2,
            "linecolor": "white",
            "showbackground": true,
            "ticks": "",
            "zerolinecolor": "white"
           }
          },
          "shapedefaults": {
           "line": {
            "color": "#2a3f5f"
           }
          },
          "ternary": {
           "aaxis": {
            "gridcolor": "white",
            "linecolor": "white",
            "ticks": ""
           },
           "baxis": {
            "gridcolor": "white",
            "linecolor": "white",
            "ticks": ""
           },
           "bgcolor": "#E5ECF6",
           "caxis": {
            "gridcolor": "white",
            "linecolor": "white",
            "ticks": ""
           }
          },
          "title": {
           "x": 0.05
          },
          "xaxis": {
           "automargin": true,
           "gridcolor": "white",
           "linecolor": "white",
           "ticks": "",
           "title": {
            "standoff": 15
           },
           "zerolinecolor": "white",
           "zerolinewidth": 2
          },
          "yaxis": {
           "automargin": true,
           "gridcolor": "white",
           "linecolor": "white",
           "ticks": "",
           "title": {
            "standoff": 15
           },
           "zerolinecolor": "white",
           "zerolinewidth": 2
          }
         }
        },
        "title": {
         "text": "Country wise deaths due to pneumonia"
        },
        "xaxis": {
         "anchor": "y",
         "domain": [
          0,
          1
         ],
         "title": {
          "text": "Country"
         }
        },
        "yaxis": {
         "anchor": "x",
         "domain": [
          0,
          1
         ],
         "title": {
          "text": "Lower respiratory infections"
         }
        }
       }
      }
     },
     "metadata": {},
     "output_type": "display_data"
    }
   ],
   "source": [
    "fig = px.bar(data1_country, x=\"Country\", y=data1_country[\"Lower respiratory infections\"], title=\"Country wise deaths due to pneumonia\")\n",
    "fig.show()"
   ]
  },
  {
   "cell_type": "code",
   "execution_count": 21,
   "id": "0728b483",
   "metadata": {
    "execution": {
     "iopub.execute_input": "2023-05-22T14:06:18.350628Z",
     "iopub.status.busy": "2023-05-22T14:06:18.349884Z",
     "iopub.status.idle": "2023-05-22T14:06:18.356939Z",
     "shell.execute_reply": "2023-05-22T14:06:18.355809Z"
    },
    "papermill": {
     "duration": 0.035316,
     "end_time": "2023-05-22T14:06:18.359426",
     "exception": false,
     "start_time": "2023-05-22T14:06:18.324110",
     "status": "completed"
    },
    "tags": []
   },
   "outputs": [
    {
     "data": {
      "text/plain": [
       "0.37277133485198866"
      ]
     },
     "execution_count": 21,
     "metadata": {},
     "output_type": "execute_result"
    }
   ],
   "source": [
    "129.44/671.928\n",
    "129.44/347.237"
   ]
  },
  {
   "attachments": {},
   "cell_type": "markdown",
   "id": "57179c1a",
   "metadata": {
    "papermill": {
     "duration": 0.024251,
     "end_time": "2023-05-22T14:06:18.408374",
     "exception": false,
     "start_time": "2023-05-22T14:06:18.384123",
     "status": "completed"
    },
    "tags": []
   },
   "source": [
    "<b>8) Whats my Observation?</b>\n",
    "- Nigeria has highest number of deaths due to Pneumonia followed by India in 2019. The numbers are so close that it is hard to make a difference. \n",
    "- Observing the trend from 1990 to 2019, we can see that China had a steady drop in deaths 1990 to 2003. Nigeria had no improvement from 1990 to 2019 which is surprising since there has been development in the healthcare in all parts of the world over the years. \n",
    "- India forms 19.12% of the total deaths in 2019 and 30.5% of the deaths in world bank lower middle income countries, which is alarming and the country should definitely consider this as a priority. \n",
    "- Nigeria forms 19.26% of the total deaths in 2019 and 37.27% of the deaths in African region."
   ]
  }
 ],
 "metadata": {
  "kernelspec": {
   "display_name": "Python 3",
   "language": "python",
   "name": "python3"
  },
  "language_info": {
   "codemirror_mode": {
    "name": "ipython",
    "version": 3
   },
   "file_extension": ".py",
   "mimetype": "text/x-python",
   "name": "python",
   "nbconvert_exporter": "python",
   "pygments_lexer": "ipython3",
   "version": "3.11.0"
  },
  "papermill": {
   "default_parameters": {},
   "duration": 25.041942,
   "end_time": "2023-05-22T14:06:23.995005",
   "environment_variables": {},
   "exception": null,
   "input_path": "__notebook__.ipynb",
   "output_path": "__notebook__.ipynb",
   "parameters": {},
   "start_time": "2023-05-22T14:05:58.953063",
   "version": "2.4.0"
  }
 },
 "nbformat": 4,
 "nbformat_minor": 5
}
